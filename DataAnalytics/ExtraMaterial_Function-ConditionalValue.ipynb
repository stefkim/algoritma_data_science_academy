{
 "cells": [
  {
   "cell_type": "markdown",
   "metadata": {},
   "source": [
    "# Extra Material (Optional)"
   ]
  },
  {
   "cell_type": "markdown",
   "metadata": {},
   "source": [
    "## Python Function"
   ]
  },
  {
   "cell_type": "markdown",
   "metadata": {},
   "source": [
    "### Understanding Function\n",
    "- Selama dua minggu ini, kita menggunakan *function* dan *method* yang kita dapatkan dari \"library\"/\"package\" `pandas`. Namun, **sebenarnya apakah \"library\" itu?**<br><br>\n",
    "    - Jika Anda mendengar kata \"library\" atau \"perpustakaan\", Anda mungkin akan membayangkan sebuah tempat yang berisi kumpulan pustaka/buku. Nah, idenya kurang lebih sama. Ketika kita meng-*install* sebuah library, sebenarnya kita sedang menginstall sekumpulan pustaka. Bedanya, \"pustaka\" pada package konteksnya adalah sekumpulan *function*/*method* yang nantinya dapat kita gunakan untuk mempermudah kebutuhan kita.<br><br>\n",
    "       \n",
    "- Lalu bagaimana *function* tersebut bisa ada? Dengan dibuat terlebih dahulu oleh si pembuat package! Jadi, sebenarnya Anda pun bisa membuat *function* Anda sendiri. Nah, Anda mungkin sekarang mulai penasaran untuk membuat *function* Anda sendiri, tapi sebelum sampai sana, mari kita bahas terlebih dahulu, **Sebenarnya apakah \"function\" itu?**<br><br>\n",
    "    - Dalam konteks *programming*, *function* adalah serangkaian perintah untuk melakukan proses komputasi. Saat Anda membuat sebuah *function*, Anda perlu membuat nama *function* dan perintah yang Anda inginkan. Nantinya, Anda dapat \"memanggil\" atau menggunakan function tersebut dengan nama *function* yang Anda buat.\n",
    "    \n",
    "    - Mari kita coba bedah salah satu function built-in dari python:"
   ]
  },
  {
   "cell_type": "code",
   "execution_count": 1,
   "metadata": {},
   "outputs": [
    {
     "data": {
      "text/plain": [
       "int"
      ]
     },
     "execution_count": 1,
     "metadata": {},
     "output_type": "execute_result"
    }
   ],
   "source": [
    "type(32)"
   ]
  },
  {
   "cell_type": "markdown",
   "metadata": {},
   "source": [
    "   - `type`: adalah nama functionnya\n",
    "   - Apa yang Anda isi di dalam kurung `()` disebut dengan argumen.\n",
    "   - Function \"menerima\" argumen dan \"mengembalikan\" sebuah output. Output dari function bisa kita sebut sebagai *return value*."
   ]
  },
  {
   "cell_type": "markdown",
   "metadata": {},
   "source": [
    "###  Creating Function in python\n"
   ]
  },
  {
   "cell_type": "markdown",
   "metadata": {},
   "source": [
    "- Katakanlah kita memiliki data suhu ruangan sebagai berikut:"
   ]
  },
  {
   "cell_type": "code",
   "execution_count": 6,
   "metadata": {},
   "outputs": [
    {
     "data": {
      "text/html": [
       "<div>\n",
       "<style scoped>\n",
       "    .dataframe tbody tr th:only-of-type {\n",
       "        vertical-align: middle;\n",
       "    }\n",
       "\n",
       "    .dataframe tbody tr th {\n",
       "        vertical-align: top;\n",
       "    }\n",
       "\n",
       "    .dataframe thead th {\n",
       "        text-align: right;\n",
       "    }\n",
       "</style>\n",
       "<table border=\"1\" class=\"dataframe\">\n",
       "  <thead>\n",
       "    <tr style=\"text-align: right;\">\n",
       "      <th></th>\n",
       "      <th>date</th>\n",
       "      <th>fahr_room1</th>\n",
       "      <th>fahr_room2</th>\n",
       "    </tr>\n",
       "  </thead>\n",
       "  <tbody>\n",
       "    <tr>\n",
       "      <th>0</th>\n",
       "      <td>Jan-01</td>\n",
       "      <td>100</td>\n",
       "      <td>110</td>\n",
       "    </tr>\n",
       "    <tr>\n",
       "      <th>1</th>\n",
       "      <td>Jan-02</td>\n",
       "      <td>101</td>\n",
       "      <td>103</td>\n",
       "    </tr>\n",
       "    <tr>\n",
       "      <th>2</th>\n",
       "      <td>Jan-03</td>\n",
       "      <td>90</td>\n",
       "      <td>92</td>\n",
       "    </tr>\n",
       "    <tr>\n",
       "      <th>3</th>\n",
       "      <td>Jan-04</td>\n",
       "      <td>80</td>\n",
       "      <td>80</td>\n",
       "    </tr>\n",
       "  </tbody>\n",
       "</table>\n",
       "</div>"
      ],
      "text/plain": [
       "     date  fahr_room1  fahr_room2\n",
       "0  Jan-01         100         110\n",
       "1  Jan-02         101         103\n",
       "2  Jan-03          90          92\n",
       "3  Jan-04          80          80"
      ]
     },
     "execution_count": 6,
     "metadata": {},
     "output_type": "execute_result"
    }
   ],
   "source": [
    "import pandas as pd\n",
    "\n",
    "df = pd.DataFrame({\n",
    "    'date':['Jan-01','Jan-02','Jan-03','Jan-04'],\n",
    "    'fahr_room1': [100,101,90,80],\n",
    "    'fahr_room2': [110,103,92,80]})\n",
    "df"
   ]
  },
  {
   "cell_type": "markdown",
   "metadata": {},
   "source": [
    "- Misalkan kita perlu mengkonversi setiap suhu ruangan menjadi celsius:"
   ]
  },
  {
   "cell_type": "code",
   "execution_count": 7,
   "metadata": {},
   "outputs": [
    {
     "data": {
      "text/plain": [
       "0    37.777778\n",
       "1    38.333333\n",
       "2    32.222222\n",
       "3    26.666667\n",
       "Name: fahr_room1, dtype: float64"
      ]
     },
     "execution_count": 7,
     "metadata": {},
     "output_type": "execute_result"
    }
   ],
   "source": [
    "(df['fahr_room1'] - 32) * (5/9)"
   ]
  },
  {
   "cell_type": "markdown",
   "metadata": {},
   "source": [
    "- Bayangkan jika Anda punya data ruangan yang sangat banyak! Akan sangat menyulitkan jika Anda perlu menuliskan formula tersebut berulang-ulang bukan? Solusinya, Anda dapat membuat *function* yang dapat mempermudah pekerjaan Anda."
   ]
  },
  {
   "cell_type": "markdown",
   "metadata": {},
   "source": [
    "- Nah, sekarang, mari kita coba untuk membuat function kita sendiri. Untuk membuat function di python, kita dapat menggunakan keyword `def`:\n",
    "     - Syntax dasar dari `def`:\n",
    "     ```py\n",
    "     def FUN_NAME(PARAM):\n",
    "         PROCESS\n",
    "         return OUTPUT\n",
    "     ```\n",
    "         - `FUN_NAME`: Nama function yang ingin kita buat\n",
    "         - `PARAM`: Parameter dari output yang diinginkan\n",
    "         - `PROCESS`: Apa yang function tersebut akan lakukan\n",
    "         - `RETURN`: Apa yang function tersebut akan hasilkan"
   ]
  },
  {
   "cell_type": "code",
   "execution_count": 8,
   "metadata": {},
   "outputs": [],
   "source": [
    "# contoh 1: ingin membuat fungsi yang dapat mengkonversi satuan suhu Fahrenheit ke Celcius\n",
    "def fahr_to_celsius(temp):\n",
    "    temp = (temp - 32) * (5/9)\n",
    "    return temp"
   ]
  },
  {
   "cell_type": "code",
   "execution_count": 9,
   "metadata": {
    "scrolled": false
   },
   "outputs": [
    {
     "data": {
      "text/html": [
       "<div>\n",
       "<style scoped>\n",
       "    .dataframe tbody tr th:only-of-type {\n",
       "        vertical-align: middle;\n",
       "    }\n",
       "\n",
       "    .dataframe tbody tr th {\n",
       "        vertical-align: top;\n",
       "    }\n",
       "\n",
       "    .dataframe thead th {\n",
       "        text-align: right;\n",
       "    }\n",
       "</style>\n",
       "<table border=\"1\" class=\"dataframe\">\n",
       "  <thead>\n",
       "    <tr style=\"text-align: right;\">\n",
       "      <th></th>\n",
       "      <th>fahr_room1</th>\n",
       "      <th>fahr_room2</th>\n",
       "    </tr>\n",
       "  </thead>\n",
       "  <tbody>\n",
       "    <tr>\n",
       "      <th>0</th>\n",
       "      <td>37.777778</td>\n",
       "      <td>43.333333</td>\n",
       "    </tr>\n",
       "    <tr>\n",
       "      <th>1</th>\n",
       "      <td>38.333333</td>\n",
       "      <td>39.444444</td>\n",
       "    </tr>\n",
       "    <tr>\n",
       "      <th>2</th>\n",
       "      <td>32.222222</td>\n",
       "      <td>33.333333</td>\n",
       "    </tr>\n",
       "    <tr>\n",
       "      <th>3</th>\n",
       "      <td>26.666667</td>\n",
       "      <td>26.666667</td>\n",
       "    </tr>\n",
       "  </tbody>\n",
       "</table>\n",
       "</div>"
      ],
      "text/plain": [
       "   fahr_room1  fahr_room2\n",
       "0   37.777778   43.333333\n",
       "1   38.333333   39.444444\n",
       "2   32.222222   33.333333\n",
       "3   26.666667   26.666667"
      ]
     },
     "execution_count": 9,
     "metadata": {},
     "output_type": "execute_result"
    }
   ],
   "source": [
    "# menggunakan function yang dibuat ke dalam dataframe\n",
    "\n",
    "#cara1: fahr_to_celsius(df[['fahr_room1', 'fahr_room2']]) \n",
    "#cara2: fahr_to_celsius(df.iloc[:, 1:]) \n",
    "\n",
    "#cara3:\n",
    "df.iloc[:, 1:].apply(fahr_to_celsius)"
   ]
  },
  {
   "cell_type": "markdown",
   "metadata": {},
   "source": [
    "- Untuk membuat *function* menggunakan `def`, syarat mutlaknya, kita harus menentukan nama *function* dan membuatnya sesuai struktur diatas.\n",
    "\n",
    "\n",
    "- Tujuan menamakan *function* disini, sekali lagi, supaya Anda dapat menggunakan *function* tersebut berulang-ulang.\n",
    "\n",
    "\n",
    "- Namun, terkadang kebutuhan kita tidak perlu sampai \"semegah\" itu. Kita hanya memerlukan *function* sekali pakai! Anda bisa bayangkan penggunaannya seperti saat Anda menggunakan masker. Jika Anda memiliki masker kain, Anda dapat terus menyimpan masker tersebut untuk Anda gunakan berulang-ulang. Sementara dengan masker sekali pakai, Anda hanya dapat menggunakannya sekali dan harus membuang masker tersebut setelahnya. \n",
    "\n",
    "\n",
    "- Sama halnya dengan masker, Anda juga dapat membuat *function* \"sekali pakai\" dengan menggunakan kombinasi `apply` dan `lambda`.\n",
    "\n",
    "\n",
    "- `lambda` sering disebut *anonymous function* karena Anda tidak perlu menentukan nama *function* saat penggunaannya. Pembuatannya pun lebih sederhana.\n",
    "\n",
    "\n",
    "- Sementara itu, `apply` digunakan supaya kita bisa \"menempelkan\" *function* yang sudah kita buat dengan lambda ke DataFrame kita."
   ]
  },
  {
   "cell_type": "code",
   "execution_count": 10,
   "metadata": {},
   "outputs": [
    {
     "data": {
      "text/html": [
       "<div>\n",
       "<style scoped>\n",
       "    .dataframe tbody tr th:only-of-type {\n",
       "        vertical-align: middle;\n",
       "    }\n",
       "\n",
       "    .dataframe tbody tr th {\n",
       "        vertical-align: top;\n",
       "    }\n",
       "\n",
       "    .dataframe thead th {\n",
       "        text-align: right;\n",
       "    }\n",
       "</style>\n",
       "<table border=\"1\" class=\"dataframe\">\n",
       "  <thead>\n",
       "    <tr style=\"text-align: right;\">\n",
       "      <th></th>\n",
       "      <th>fahr_room1</th>\n",
       "      <th>fahr_room2</th>\n",
       "    </tr>\n",
       "  </thead>\n",
       "  <tbody>\n",
       "    <tr>\n",
       "      <th>0</th>\n",
       "      <td>37.777778</td>\n",
       "      <td>43.333333</td>\n",
       "    </tr>\n",
       "    <tr>\n",
       "      <th>1</th>\n",
       "      <td>38.333333</td>\n",
       "      <td>39.444444</td>\n",
       "    </tr>\n",
       "    <tr>\n",
       "      <th>2</th>\n",
       "      <td>32.222222</td>\n",
       "      <td>33.333333</td>\n",
       "    </tr>\n",
       "    <tr>\n",
       "      <th>3</th>\n",
       "      <td>26.666667</td>\n",
       "      <td>26.666667</td>\n",
       "    </tr>\n",
       "  </tbody>\n",
       "</table>\n",
       "</div>"
      ],
      "text/plain": [
       "   fahr_room1  fahr_room2\n",
       "0   37.777778   43.333333\n",
       "1   38.333333   39.444444\n",
       "2   32.222222   33.333333\n",
       "3   26.666667   26.666667"
      ]
     },
     "execution_count": 10,
     "metadata": {},
     "output_type": "execute_result"
    }
   ],
   "source": [
    "df.iloc[:, 1:].apply(fahr_to_celsius)"
   ]
  },
  {
   "cell_type": "code",
   "execution_count": 11,
   "metadata": {
    "scrolled": true
   },
   "outputs": [
    {
     "data": {
      "text/html": [
       "<div>\n",
       "<style scoped>\n",
       "    .dataframe tbody tr th:only-of-type {\n",
       "        vertical-align: middle;\n",
       "    }\n",
       "\n",
       "    .dataframe tbody tr th {\n",
       "        vertical-align: top;\n",
       "    }\n",
       "\n",
       "    .dataframe thead th {\n",
       "        text-align: right;\n",
       "    }\n",
       "</style>\n",
       "<table border=\"1\" class=\"dataframe\">\n",
       "  <thead>\n",
       "    <tr style=\"text-align: right;\">\n",
       "      <th></th>\n",
       "      <th>fahr_room1</th>\n",
       "      <th>fahr_room2</th>\n",
       "    </tr>\n",
       "  </thead>\n",
       "  <tbody>\n",
       "    <tr>\n",
       "      <th>0</th>\n",
       "      <td>37.777778</td>\n",
       "      <td>43.333333</td>\n",
       "    </tr>\n",
       "    <tr>\n",
       "      <th>1</th>\n",
       "      <td>38.333333</td>\n",
       "      <td>39.444444</td>\n",
       "    </tr>\n",
       "    <tr>\n",
       "      <th>2</th>\n",
       "      <td>32.222222</td>\n",
       "      <td>33.333333</td>\n",
       "    </tr>\n",
       "    <tr>\n",
       "      <th>3</th>\n",
       "      <td>26.666667</td>\n",
       "      <td>26.666667</td>\n",
       "    </tr>\n",
       "  </tbody>\n",
       "</table>\n",
       "</div>"
      ],
      "text/plain": [
       "   fahr_room1  fahr_room2\n",
       "0   37.777778   43.333333\n",
       "1   38.333333   39.444444\n",
       "2   32.222222   33.333333\n",
       "3   26.666667   26.666667"
      ]
     },
     "execution_count": 11,
     "metadata": {},
     "output_type": "execute_result"
    }
   ],
   "source": [
    "df.iloc[:, 1:].apply(lambda x: (x - 32) * (5/9))"
   ]
  },
  {
   "cell_type": "markdown",
   "metadata": {},
   "source": [
    "### Challenge 1\n",
    "\n",
    "- Isilah kerangka berikut (`____`) untuk membuat sebuah *function* yang dapat memberitahu umur anda dalam satuan hari berdasarkan tanggal lahir seperti berikut:\n",
    "\n",
    "![](assets/challenge1.png)"
   ]
  },
  {
   "cell_type": "code",
   "execution_count": 12,
   "metadata": {},
   "outputs": [],
   "source": [
    "def days_old(year, month, day):\n",
    "    import datetime as dt\n",
    "  \n",
    "    today = dt.date.today()\n",
    "    born_date = dt.date(year, month, day)\n",
    "    \n",
    "    x = (today-born_date).days\n",
    "    \n",
    "    print(f\"You're {x} days old!\")"
   ]
  },
  {
   "cell_type": "code",
   "execution_count": 13,
   "metadata": {
    "scrolled": true
   },
   "outputs": [
    {
     "name": "stdout",
     "output_type": "stream",
     "text": [
      "You're 10253 days old!\n"
     ]
    }
   ],
   "source": [
    "# use the function\n",
    "days_old(year = 1993, month = 1, day = 24)"
   ]
  },
  {
   "cell_type": "markdown",
   "metadata": {},
   "source": [
    "---"
   ]
  },
  {
   "cell_type": "markdown",
   "metadata": {},
   "source": [
    "*Reference Answer*:\n",
    "\n",
    "```py\n",
    "def days_old(year, month, day):\n",
    "    import datetime\n",
    "  \n",
    "    today = datetime.date.today()\n",
    "    born_date = datetime.date(year, month, day)\n",
    "    \n",
    "    print(f\"You're {(today - born_date).days} days old!\")\n",
    "    \n",
    "days_old(1993,1,24)\n",
    "```"
   ]
  },
  {
   "cell_type": "markdown",
   "metadata": {},
   "source": [
    "## Conditional Value\n",
    "\n",
    "### `def` with if condition"
   ]
  },
  {
   "cell_type": "markdown",
   "metadata": {},
   "source": [
    "- Perhatikan data review dari sebuah e-commerce berikut:"
   ]
  },
  {
   "cell_type": "code",
   "execution_count": 14,
   "metadata": {
    "scrolled": true
   },
   "outputs": [
    {
     "data": {
      "text/html": [
       "<div>\n",
       "<style scoped>\n",
       "    .dataframe tbody tr th:only-of-type {\n",
       "        vertical-align: middle;\n",
       "    }\n",
       "\n",
       "    .dataframe tbody tr th {\n",
       "        vertical-align: top;\n",
       "    }\n",
       "\n",
       "    .dataframe thead th {\n",
       "        text-align: right;\n",
       "    }\n",
       "</style>\n",
       "<table border=\"1\" class=\"dataframe\">\n",
       "  <thead>\n",
       "    <tr style=\"text-align: right;\">\n",
       "      <th></th>\n",
       "      <th>review_date</th>\n",
       "      <th>review_hour</th>\n",
       "      <th>review_text</th>\n",
       "    </tr>\n",
       "  </thead>\n",
       "  <tbody>\n",
       "    <tr>\n",
       "      <th>0</th>\n",
       "      <td>2017-03-30 06:00:00</td>\n",
       "      <td>6</td>\n",
       "      <td>Absolutely wonderful - silky and sexy and comf...</td>\n",
       "    </tr>\n",
       "    <tr>\n",
       "      <th>1</th>\n",
       "      <td>2017-03-10 22:00:00</td>\n",
       "      <td>22</td>\n",
       "      <td>Love this dress!  it's sooo pretty.  i happene...</td>\n",
       "    </tr>\n",
       "    <tr>\n",
       "      <th>2</th>\n",
       "      <td>2017-03-04 10:00:00</td>\n",
       "      <td>10</td>\n",
       "      <td>I had such high hopes for this dress and reall...</td>\n",
       "    </tr>\n",
       "    <tr>\n",
       "      <th>3</th>\n",
       "      <td>2017-03-03 14:00:00</td>\n",
       "      <td>14</td>\n",
       "      <td>I love, love, love this jumpsuit. it's fun, fl...</td>\n",
       "    </tr>\n",
       "    <tr>\n",
       "      <th>4</th>\n",
       "      <td>2017-12-14 06:00:00</td>\n",
       "      <td>6</td>\n",
       "      <td>This shirt is very flattering to all due to th...</td>\n",
       "    </tr>\n",
       "  </tbody>\n",
       "</table>\n",
       "</div>"
      ],
      "text/plain": [
       "          review_date  review_hour  \\\n",
       "0 2017-03-30 06:00:00            6   \n",
       "1 2017-03-10 22:00:00           22   \n",
       "2 2017-03-04 10:00:00           10   \n",
       "3 2017-03-03 14:00:00           14   \n",
       "4 2017-12-14 06:00:00            6   \n",
       "\n",
       "                                         review_text  \n",
       "0  Absolutely wonderful - silky and sexy and comf...  \n",
       "1  Love this dress!  it's sooo pretty.  i happene...  \n",
       "2  I had such high hopes for this dress and reall...  \n",
       "3  I love, love, love this jumpsuit. it's fun, fl...  \n",
       "4  This shirt is very flattering to all due to th...  "
      ]
     },
     "execution_count": 14,
     "metadata": {},
     "output_type": "execute_result"
    }
   ],
   "source": [
    "import pandas as pd\n",
    "\n",
    "reviews = pd.read_csv('data_input/clothing_reviews.csv', parse_dates=['review_date'])\n",
    "reviews['review_hour'] = reviews['review_date'].dt.hour\n",
    "reviews = reviews[['review_date','review_hour', 'review_text']]\n",
    "\n",
    "reviews.head()"
   ]
  },
  {
   "cell_type": "markdown",
   "metadata": {},
   "source": [
    "- Katakanlah, kita ingin mengelompokan jam review customer menjadi beberapa kelompok waktu. Pada proses analisis data, pengelompokan seperti ini adalah *task* yang sering kali ditemukan. Karena bisa dibilang, sering kali kebutuhan analisis itu untuk menggenalisir data, supaya pola yang bisa kita tangkap menjadi lebih bermakna.\n",
    "\n",
    "\n",
    "- Salah satu cara yang bisa kita lakukan adalah dengan membuat *function* yang dapat memberikan *return value* berdasarkan kondisi tertentu:"
   ]
  },
  {
   "cell_type": "markdown",
   "metadata": {},
   "source": [
    "<img src=\"assets/ifelse.png\" style=\"float: left;\" width=\"450\"/>"
   ]
  },
  {
   "cell_type": "markdown",
   "metadata": {},
   "source": [
    "- Untuk menggabungkan kegunaan *function* dan *if else condition*:\n",
    "  ```py\n",
    "  def FUN_NAME(PARAM):\n",
    "      if CONDITION1:\n",
    "          return OUTPUT_FOR_CONDITION1\n",
    "      elif CONDITION2:\n",
    "          return OUTPUT_FOR_CONDITION2\n",
    "      else:\n",
    "          return OUTPUT\n",
    "  ```\n",
    "     - `FUN_NAME`: Nama function yang ingin kita buat\n",
    "     - `PARAM`: Parameter dari output yang diinginkan\n",
    "     <br><br>\n",
    "     - `CONDITION1`: Kondisi (pertama) yang harus dipenuhi\n",
    "     - `OUTPUT_FOR_CONDITION1`: Output jika kondisi pertama terpenuhi\n",
    "     - `CONDITION2`: Kondisi (kedua) yang harus dipenuhi\n",
    "     - `OUTPUT_FOR_CONDITION1`: Output jika kondisi kedua terpenuhi\n",
    "     - `OUTPUT`: Output jika kedua kondisi tidak terpenuhi"
   ]
  },
  {
   "cell_type": "code",
   "execution_count": 15,
   "metadata": {},
   "outputs": [
    {
     "data": {
      "text/html": [
       "<div>\n",
       "<style scoped>\n",
       "    .dataframe tbody tr th:only-of-type {\n",
       "        vertical-align: middle;\n",
       "    }\n",
       "\n",
       "    .dataframe tbody tr th {\n",
       "        vertical-align: top;\n",
       "    }\n",
       "\n",
       "    .dataframe thead th {\n",
       "        text-align: right;\n",
       "    }\n",
       "</style>\n",
       "<table border=\"1\" class=\"dataframe\">\n",
       "  <thead>\n",
       "    <tr style=\"text-align: right;\">\n",
       "      <th></th>\n",
       "      <th>review_date</th>\n",
       "      <th>review_hour</th>\n",
       "      <th>review_text</th>\n",
       "      <th>review_hour_group</th>\n",
       "    </tr>\n",
       "  </thead>\n",
       "  <tbody>\n",
       "    <tr>\n",
       "      <th>0</th>\n",
       "      <td>2017-03-30 06:00:00</td>\n",
       "      <td>6</td>\n",
       "      <td>Absolutely wonderful - silky and sexy and comf...</td>\n",
       "      <td>12am to 7am</td>\n",
       "    </tr>\n",
       "    <tr>\n",
       "      <th>1</th>\n",
       "      <td>2017-03-10 22:00:00</td>\n",
       "      <td>22</td>\n",
       "      <td>Love this dress!  it's sooo pretty.  i happene...</td>\n",
       "      <td>4pm and 11pm</td>\n",
       "    </tr>\n",
       "    <tr>\n",
       "      <th>2</th>\n",
       "      <td>2017-03-04 10:00:00</td>\n",
       "      <td>10</td>\n",
       "      <td>I had such high hopes for this dress and reall...</td>\n",
       "      <td>12am to 7am</td>\n",
       "    </tr>\n",
       "    <tr>\n",
       "      <th>3</th>\n",
       "      <td>2017-03-03 14:00:00</td>\n",
       "      <td>14</td>\n",
       "      <td>I love, love, love this jumpsuit. it's fun, fl...</td>\n",
       "      <td>8am to 3pm</td>\n",
       "    </tr>\n",
       "    <tr>\n",
       "      <th>4</th>\n",
       "      <td>2017-12-14 06:00:00</td>\n",
       "      <td>6</td>\n",
       "      <td>This shirt is very flattering to all due to th...</td>\n",
       "      <td>12am to 7am</td>\n",
       "    </tr>\n",
       "  </tbody>\n",
       "</table>\n",
       "</div>"
      ],
      "text/plain": [
       "          review_date  review_hour  \\\n",
       "0 2017-03-30 06:00:00            6   \n",
       "1 2017-03-10 22:00:00           22   \n",
       "2 2017-03-04 10:00:00           10   \n",
       "3 2017-03-03 14:00:00           14   \n",
       "4 2017-12-14 06:00:00            6   \n",
       "\n",
       "                                         review_text review_hour_group  \n",
       "0  Absolutely wonderful - silky and sexy and comf...       12am to 7am  \n",
       "1  Love this dress!  it's sooo pretty.  i happene...      4pm and 11pm  \n",
       "2  I had such high hopes for this dress and reall...       12am to 7am  \n",
       "3  I love, love, love this jumpsuit. it's fun, fl...        8am to 3pm  \n",
       "4  This shirt is very flattering to all due to th...       12am to 7am  "
      ]
     },
     "execution_count": 15,
     "metadata": {},
     "output_type": "execute_result"
    }
   ],
   "source": [
    "# create function for transforming value based on condition\n",
    "def hour_grouping(x):\n",
    "    if x >= 6 and x <= 12:\n",
    "        return \"12am to 7am\"\n",
    "    elif x >= 8 and x <= 15:\n",
    "        return \"8am to 3pm\"\n",
    "    else:\n",
    "        return \"4pm and 11pm\"\n",
    "\n",
    "# apply function to create new column\n",
    "reviews['review_hour_group'] = reviews['review_hour'].apply(hour_grouping)\n",
    "\n",
    "reviews.head()"
   ]
  },
  {
   "cell_type": "markdown",
   "metadata": {},
   "source": [
    "- Anda pun bisa menyesuaikan jumlah kondisi sesuai dengan kebutuhan Anda!"
   ]
  },
  {
   "cell_type": "code",
   "execution_count": 16,
   "metadata": {
    "scrolled": true
   },
   "outputs": [
    {
     "data": {
      "text/html": [
       "<div>\n",
       "<style scoped>\n",
       "    .dataframe tbody tr th:only-of-type {\n",
       "        vertical-align: middle;\n",
       "    }\n",
       "\n",
       "    .dataframe tbody tr th {\n",
       "        vertical-align: top;\n",
       "    }\n",
       "\n",
       "    .dataframe thead th {\n",
       "        text-align: right;\n",
       "    }\n",
       "</style>\n",
       "<table border=\"1\" class=\"dataframe\">\n",
       "  <thead>\n",
       "    <tr style=\"text-align: right;\">\n",
       "      <th></th>\n",
       "      <th>review_date</th>\n",
       "      <th>review_hour</th>\n",
       "      <th>review_text</th>\n",
       "      <th>review_hour_group</th>\n",
       "      <th>review_hour_group2</th>\n",
       "    </tr>\n",
       "  </thead>\n",
       "  <tbody>\n",
       "    <tr>\n",
       "      <th>0</th>\n",
       "      <td>2017-03-30 06:00:00</td>\n",
       "      <td>6</td>\n",
       "      <td>Absolutely wonderful - silky and sexy and comf...</td>\n",
       "      <td>12am to 7am</td>\n",
       "      <td>Morning</td>\n",
       "    </tr>\n",
       "    <tr>\n",
       "      <th>1</th>\n",
       "      <td>2017-03-10 22:00:00</td>\n",
       "      <td>22</td>\n",
       "      <td>Love this dress!  it's sooo pretty.  i happene...</td>\n",
       "      <td>4pm and 11pm</td>\n",
       "      <td>Night</td>\n",
       "    </tr>\n",
       "    <tr>\n",
       "      <th>2</th>\n",
       "      <td>2017-03-04 10:00:00</td>\n",
       "      <td>10</td>\n",
       "      <td>I had such high hopes for this dress and reall...</td>\n",
       "      <td>12am to 7am</td>\n",
       "      <td>Morning</td>\n",
       "    </tr>\n",
       "    <tr>\n",
       "      <th>3</th>\n",
       "      <td>2017-03-03 14:00:00</td>\n",
       "      <td>14</td>\n",
       "      <td>I love, love, love this jumpsuit. it's fun, fl...</td>\n",
       "      <td>8am to 3pm</td>\n",
       "      <td>Afternoon</td>\n",
       "    </tr>\n",
       "    <tr>\n",
       "      <th>4</th>\n",
       "      <td>2017-12-14 06:00:00</td>\n",
       "      <td>6</td>\n",
       "      <td>This shirt is very flattering to all due to th...</td>\n",
       "      <td>12am to 7am</td>\n",
       "      <td>Morning</td>\n",
       "    </tr>\n",
       "  </tbody>\n",
       "</table>\n",
       "</div>"
      ],
      "text/plain": [
       "          review_date  review_hour  \\\n",
       "0 2017-03-30 06:00:00            6   \n",
       "1 2017-03-10 22:00:00           22   \n",
       "2 2017-03-04 10:00:00           10   \n",
       "3 2017-03-03 14:00:00           14   \n",
       "4 2017-12-14 06:00:00            6   \n",
       "\n",
       "                                         review_text review_hour_group  \\\n",
       "0  Absolutely wonderful - silky and sexy and comf...       12am to 7am   \n",
       "1  Love this dress!  it's sooo pretty.  i happene...      4pm and 11pm   \n",
       "2  I had such high hopes for this dress and reall...       12am to 7am   \n",
       "3  I love, love, love this jumpsuit. it's fun, fl...        8am to 3pm   \n",
       "4  This shirt is very flattering to all due to th...       12am to 7am   \n",
       "\n",
       "  review_hour_group2  \n",
       "0            Morning  \n",
       "1              Night  \n",
       "2            Morning  \n",
       "3          Afternoon  \n",
       "4            Morning  "
      ]
     },
     "execution_count": 16,
     "metadata": {},
     "output_type": "execute_result"
    }
   ],
   "source": [
    "def hour_grouping2(x):\n",
    "    if x >= 1 and x <= 5:\n",
    "        return \"Late Night\"\n",
    "    elif x >= 6 and x <= 11:\n",
    "        return \"Morning\"\n",
    "    elif x >= 12 and x <= 17:\n",
    "        return \"Afternoon\"\n",
    "    else:\n",
    "        return \"Night\"\n",
    "\n",
    "# apply function to create new column\n",
    "reviews['review_hour_group2'] = reviews['review_hour'].apply(hour_grouping2)\n",
    "\n",
    "reviews.head()"
   ]
  },
  {
   "cell_type": "markdown",
   "metadata": {},
   "source": [
    "### `lambda` with if condition\n",
    "\n",
    "- Sama halnya dengan tujuan pembuatan *function*, terkadang Anda hanya perlu membuat kondisi sederhana.\n",
    "\n",
    "- Contoh; ingin mengelompokan hari review berdasarkan \"Weekend\" dan \"Weekday\":"
   ]
  },
  {
   "cell_type": "code",
   "execution_count": 17,
   "metadata": {},
   "outputs": [
    {
     "data": {
      "text/plain": [
       "0        Weekday\n",
       "1        Weekday\n",
       "2        Weekend\n",
       "3        Weekday\n",
       "4        Weekday\n",
       "          ...   \n",
       "23481    Weekend\n",
       "23482    Weekend\n",
       "23483    Weekend\n",
       "23484    Weekend\n",
       "23485    Weekend\n",
       "Name: review_day, Length: 23486, dtype: object"
      ]
     },
     "execution_count": 17,
     "metadata": {},
     "output_type": "execute_result"
    }
   ],
   "source": [
    "def day_grouping(x):\n",
    "    if x in ['Saturday', 'Sunday']:\n",
    "        return \"Weekend\"\n",
    "    else:\n",
    "        return \"Weekday\"\n",
    "\n",
    "reviews['review_day'] = reviews['review_date'].dt.day_name()\n",
    "reviews['review_day'].apply(day_grouping)"
   ]
  },
  {
   "cell_type": "markdown",
   "metadata": {},
   "source": [
    "- Maka, cara yang lebih sederhana adalah dengan menggunakan `lambda`:  \n",
    "```py\n",
    "lambda x: OUTPUT_IF_CONDITION_MET if CONDITION1 else OUTPUT_IF_COND_NOT_MET\n",
    "```"
   ]
  },
  {
   "cell_type": "code",
   "execution_count": 18,
   "metadata": {
    "scrolled": true
   },
   "outputs": [
    {
     "data": {
      "text/plain": [
       "0        Weekday\n",
       "1        Weekday\n",
       "2        Weekend\n",
       "3        Weekday\n",
       "4        Weekday\n",
       "          ...   \n",
       "23481    Weekend\n",
       "23482    Weekend\n",
       "23483    Weekend\n",
       "23484    Weekend\n",
       "23485    Weekend\n",
       "Name: review_day, Length: 23486, dtype: object"
      ]
     },
     "execution_count": 18,
     "metadata": {},
     "output_type": "execute_result"
    }
   ],
   "source": [
    "reviews['review_day'].apply(lambda x: \"Weekend\" if x in ['Saturday', 'Sunday'] else 'Weekday')"
   ]
  },
  {
   "cell_type": "markdown",
   "metadata": {},
   "source": [
    "### `np.select`"
   ]
  },
  {
   "cell_type": "markdown",
   "metadata": {},
   "source": [
    "- Kadang untuk orang yang baru mengenal *programming*, konsep \"function\" maupun \"if-else\" sangatlah rumit untuk dipahami.\n",
    "\n",
    "\n",
    "- Namun, tenang saja, memang akan membutuhkan proses yang tidak sebentar untuk terbiasa dengan konsep *programming* tersebut :)\n",
    "\n",
    "\n",
    "- Jika Anda memiliki kebutuhan seperti di atas, namun merasa kurang nyaman dengan pendekatan \"function\" dan \"if-else\", Anda dapat menggunakan fungsi `select` dari library `numpy`:\n",
    "```py\n",
    "np.select(condlist, choicelist, default=0)\n",
    "```\n",
    "    - `condlist`: kondisi yang harus terpenuhi\n",
    "    - `choicelist`: output untuk setiap kondisi yang terpenuhi\n",
    "    - `default`: output jika tidak ada kondisi yang terpenuhi"
   ]
  },
  {
   "cell_type": "markdown",
   "metadata": {},
   "source": [
    "- Contoh penggunaan `np.select` untuk satu kondisi:"
   ]
  },
  {
   "cell_type": "code",
   "execution_count": 19,
   "metadata": {},
   "outputs": [],
   "source": [
    "import numpy as np"
   ]
  },
  {
   "cell_type": "code",
   "execution_count": 20,
   "metadata": {
    "scrolled": true
   },
   "outputs": [
    {
     "data": {
      "text/html": [
       "<div>\n",
       "<style scoped>\n",
       "    .dataframe tbody tr th:only-of-type {\n",
       "        vertical-align: middle;\n",
       "    }\n",
       "\n",
       "    .dataframe tbody tr th {\n",
       "        vertical-align: top;\n",
       "    }\n",
       "\n",
       "    .dataframe thead th {\n",
       "        text-align: right;\n",
       "    }\n",
       "</style>\n",
       "<table border=\"1\" class=\"dataframe\">\n",
       "  <thead>\n",
       "    <tr style=\"text-align: right;\">\n",
       "      <th></th>\n",
       "      <th>review_date</th>\n",
       "      <th>review_hour</th>\n",
       "      <th>review_text</th>\n",
       "      <th>review_hour_group</th>\n",
       "      <th>review_hour_group2</th>\n",
       "      <th>review_day</th>\n",
       "      <th>day_group</th>\n",
       "    </tr>\n",
       "  </thead>\n",
       "  <tbody>\n",
       "    <tr>\n",
       "      <th>0</th>\n",
       "      <td>2017-03-30 06:00:00</td>\n",
       "      <td>6</td>\n",
       "      <td>Absolutely wonderful - silky and sexy and comf...</td>\n",
       "      <td>12am to 7am</td>\n",
       "      <td>Morning</td>\n",
       "      <td>Thursday</td>\n",
       "      <td>Weekday</td>\n",
       "    </tr>\n",
       "    <tr>\n",
       "      <th>1</th>\n",
       "      <td>2017-03-10 22:00:00</td>\n",
       "      <td>22</td>\n",
       "      <td>Love this dress!  it's sooo pretty.  i happene...</td>\n",
       "      <td>4pm and 11pm</td>\n",
       "      <td>Night</td>\n",
       "      <td>Friday</td>\n",
       "      <td>Weekday</td>\n",
       "    </tr>\n",
       "    <tr>\n",
       "      <th>2</th>\n",
       "      <td>2017-03-04 10:00:00</td>\n",
       "      <td>10</td>\n",
       "      <td>I had such high hopes for this dress and reall...</td>\n",
       "      <td>12am to 7am</td>\n",
       "      <td>Morning</td>\n",
       "      <td>Saturday</td>\n",
       "      <td>Weekend</td>\n",
       "    </tr>\n",
       "    <tr>\n",
       "      <th>3</th>\n",
       "      <td>2017-03-03 14:00:00</td>\n",
       "      <td>14</td>\n",
       "      <td>I love, love, love this jumpsuit. it's fun, fl...</td>\n",
       "      <td>8am to 3pm</td>\n",
       "      <td>Afternoon</td>\n",
       "      <td>Friday</td>\n",
       "      <td>Weekday</td>\n",
       "    </tr>\n",
       "    <tr>\n",
       "      <th>4</th>\n",
       "      <td>2017-12-14 06:00:00</td>\n",
       "      <td>6</td>\n",
       "      <td>This shirt is very flattering to all due to th...</td>\n",
       "      <td>12am to 7am</td>\n",
       "      <td>Morning</td>\n",
       "      <td>Thursday</td>\n",
       "      <td>Weekday</td>\n",
       "    </tr>\n",
       "  </tbody>\n",
       "</table>\n",
       "</div>"
      ],
      "text/plain": [
       "          review_date  review_hour  \\\n",
       "0 2017-03-30 06:00:00            6   \n",
       "1 2017-03-10 22:00:00           22   \n",
       "2 2017-03-04 10:00:00           10   \n",
       "3 2017-03-03 14:00:00           14   \n",
       "4 2017-12-14 06:00:00            6   \n",
       "\n",
       "                                         review_text review_hour_group  \\\n",
       "0  Absolutely wonderful - silky and sexy and comf...       12am to 7am   \n",
       "1  Love this dress!  it's sooo pretty.  i happene...      4pm and 11pm   \n",
       "2  I had such high hopes for this dress and reall...       12am to 7am   \n",
       "3  I love, love, love this jumpsuit. it's fun, fl...        8am to 3pm   \n",
       "4  This shirt is very flattering to all due to th...       12am to 7am   \n",
       "\n",
       "  review_hour_group2 review_day day_group  \n",
       "0            Morning   Thursday   Weekday  \n",
       "1              Night     Friday   Weekday  \n",
       "2            Morning   Saturday   Weekend  \n",
       "3          Afternoon     Friday   Weekday  \n",
       "4            Morning   Thursday   Weekday  "
      ]
     },
     "execution_count": 20,
     "metadata": {},
     "output_type": "execute_result"
    }
   ],
   "source": [
    "cond1 = reviews['review_day'].isin([\"Saturday\",\"Sunday\"])\n",
    "choice1 = \"Weekend\"\n",
    "\n",
    "reviews['day_group']= np.select(condlist = [cond1],\n",
    "                                choicelist = [choice1],\n",
    "                                default = \"Weekday\")\n",
    "\n",
    "reviews.head()"
   ]
  },
  {
   "cell_type": "markdown",
   "metadata": {},
   "source": [
    "- Contoh penggunaan `np.select` untuk beberapa kondisi (2 atau lebih):"
   ]
  },
  {
   "cell_type": "code",
   "execution_count": 21,
   "metadata": {
    "scrolled": true
   },
   "outputs": [
    {
     "data": {
      "text/html": [
       "<div>\n",
       "<style scoped>\n",
       "    .dataframe tbody tr th:only-of-type {\n",
       "        vertical-align: middle;\n",
       "    }\n",
       "\n",
       "    .dataframe tbody tr th {\n",
       "        vertical-align: top;\n",
       "    }\n",
       "\n",
       "    .dataframe thead th {\n",
       "        text-align: right;\n",
       "    }\n",
       "</style>\n",
       "<table border=\"1\" class=\"dataframe\">\n",
       "  <thead>\n",
       "    <tr style=\"text-align: right;\">\n",
       "      <th></th>\n",
       "      <th>review_date</th>\n",
       "      <th>review_hour</th>\n",
       "      <th>review_text</th>\n",
       "      <th>review_hour_group</th>\n",
       "      <th>review_hour_group2</th>\n",
       "      <th>review_day</th>\n",
       "      <th>day_group</th>\n",
       "    </tr>\n",
       "  </thead>\n",
       "  <tbody>\n",
       "    <tr>\n",
       "      <th>0</th>\n",
       "      <td>2017-03-30 06:00:00</td>\n",
       "      <td>6</td>\n",
       "      <td>Absolutely wonderful - silky and sexy and comf...</td>\n",
       "      <td>12am to 7am</td>\n",
       "      <td>Morning</td>\n",
       "      <td>Thursday</td>\n",
       "      <td>MidWeek</td>\n",
       "    </tr>\n",
       "    <tr>\n",
       "      <th>1</th>\n",
       "      <td>2017-03-10 22:00:00</td>\n",
       "      <td>22</td>\n",
       "      <td>Love this dress!  it's sooo pretty.  i happene...</td>\n",
       "      <td>4pm and 11pm</td>\n",
       "      <td>Night</td>\n",
       "      <td>Friday</td>\n",
       "      <td>Weekday</td>\n",
       "    </tr>\n",
       "    <tr>\n",
       "      <th>2</th>\n",
       "      <td>2017-03-04 10:00:00</td>\n",
       "      <td>10</td>\n",
       "      <td>I had such high hopes for this dress and reall...</td>\n",
       "      <td>12am to 7am</td>\n",
       "      <td>Morning</td>\n",
       "      <td>Saturday</td>\n",
       "      <td>Weekend</td>\n",
       "    </tr>\n",
       "    <tr>\n",
       "      <th>3</th>\n",
       "      <td>2017-03-03 14:00:00</td>\n",
       "      <td>14</td>\n",
       "      <td>I love, love, love this jumpsuit. it's fun, fl...</td>\n",
       "      <td>8am to 3pm</td>\n",
       "      <td>Afternoon</td>\n",
       "      <td>Friday</td>\n",
       "      <td>Weekday</td>\n",
       "    </tr>\n",
       "    <tr>\n",
       "      <th>4</th>\n",
       "      <td>2017-12-14 06:00:00</td>\n",
       "      <td>6</td>\n",
       "      <td>This shirt is very flattering to all due to th...</td>\n",
       "      <td>12am to 7am</td>\n",
       "      <td>Morning</td>\n",
       "      <td>Thursday</td>\n",
       "      <td>MidWeek</td>\n",
       "    </tr>\n",
       "  </tbody>\n",
       "</table>\n",
       "</div>"
      ],
      "text/plain": [
       "          review_date  review_hour  \\\n",
       "0 2017-03-30 06:00:00            6   \n",
       "1 2017-03-10 22:00:00           22   \n",
       "2 2017-03-04 10:00:00           10   \n",
       "3 2017-03-03 14:00:00           14   \n",
       "4 2017-12-14 06:00:00            6   \n",
       "\n",
       "                                         review_text review_hour_group  \\\n",
       "0  Absolutely wonderful - silky and sexy and comf...       12am to 7am   \n",
       "1  Love this dress!  it's sooo pretty.  i happene...      4pm and 11pm   \n",
       "2  I had such high hopes for this dress and reall...       12am to 7am   \n",
       "3  I love, love, love this jumpsuit. it's fun, fl...        8am to 3pm   \n",
       "4  This shirt is very flattering to all due to th...       12am to 7am   \n",
       "\n",
       "  review_hour_group2 review_day day_group  \n",
       "0            Morning   Thursday   MidWeek  \n",
       "1              Night     Friday   Weekday  \n",
       "2            Morning   Saturday   Weekend  \n",
       "3          Afternoon     Friday   Weekday  \n",
       "4            Morning   Thursday   MidWeek  "
      ]
     },
     "execution_count": 21,
     "metadata": {},
     "output_type": "execute_result"
    }
   ],
   "source": [
    "cond1 = reviews['review_day'].isin([\"Saturday\",\"Sunday\"])\n",
    "choice1 = \"Weekend\"\n",
    "\n",
    "cond2 = reviews['review_day'].isin([\"Wednesday\", \"Thursday\"])\n",
    "choice2 = \"MidWeek\"\n",
    "\n",
    "reviews['day_group'] = np.select([cond1, cond2], [choice1, choice2], default = \"Weekday\")\n",
    "reviews.head()"
   ]
  },
  {
   "cell_type": "markdown",
   "metadata": {},
   "source": [
    "### Challenge 2\n",
    "\n",
    "Anda telah berkenalan dengan banyak sekali cara untuk menghasilkan conditional value (value yang dihasilkan berdasarkan kondisi tertentu). Nah, sekarang coba perhatikan data customer berikut:"
   ]
  },
  {
   "cell_type": "code",
   "execution_count": 31,
   "metadata": {},
   "outputs": [
    {
     "data": {
      "text/html": [
       "<div>\n",
       "<style scoped>\n",
       "    .dataframe tbody tr th:only-of-type {\n",
       "        vertical-align: middle;\n",
       "    }\n",
       "\n",
       "    .dataframe tbody tr th {\n",
       "        vertical-align: top;\n",
       "    }\n",
       "\n",
       "    .dataframe thead th {\n",
       "        text-align: right;\n",
       "    }\n",
       "</style>\n",
       "<table border=\"1\" class=\"dataframe\">\n",
       "  <thead>\n",
       "    <tr style=\"text-align: right;\">\n",
       "      <th></th>\n",
       "      <th>name</th>\n",
       "      <th>age</th>\n",
       "    </tr>\n",
       "  </thead>\n",
       "  <tbody>\n",
       "    <tr>\n",
       "      <th>0</th>\n",
       "      <td>Anita</td>\n",
       "      <td>16</td>\n",
       "    </tr>\n",
       "    <tr>\n",
       "      <th>1</th>\n",
       "      <td>Rose</td>\n",
       "      <td>30</td>\n",
       "    </tr>\n",
       "    <tr>\n",
       "      <th>2</th>\n",
       "      <td>Budi</td>\n",
       "      <td>31</td>\n",
       "    </tr>\n",
       "    <tr>\n",
       "      <th>3</th>\n",
       "      <td>Chandra</td>\n",
       "      <td>45</td>\n",
       "    </tr>\n",
       "    <tr>\n",
       "      <th>4</th>\n",
       "      <td>David</td>\n",
       "      <td>27</td>\n",
       "    </tr>\n",
       "    <tr>\n",
       "      <th>5</th>\n",
       "      <td>Alex</td>\n",
       "      <td>15</td>\n",
       "    </tr>\n",
       "    <tr>\n",
       "      <th>6</th>\n",
       "      <td>Saleh</td>\n",
       "      <td>60</td>\n",
       "    </tr>\n",
       "  </tbody>\n",
       "</table>\n",
       "</div>"
      ],
      "text/plain": [
       "      name  age\n",
       "0    Anita   16\n",
       "1     Rose   30\n",
       "2     Budi   31\n",
       "3  Chandra   45\n",
       "4    David   27\n",
       "5     Alex   15\n",
       "6    Saleh   60"
      ]
     },
     "execution_count": 31,
     "metadata": {},
     "output_type": "execute_result"
    }
   ],
   "source": [
    "customer = pd.DataFrame({\n",
    "    'name': ['Anita', 'Rose', 'Budi', 'Chandra', 'David', 'Alex', 'Saleh'],\n",
    "    'age' : ['16', '30', '31', '45', '27','15', '60']\n",
    "})\n",
    "customer['age'] =  customer['age'].astype('int64')\n",
    "\n",
    "customer"
   ]
  },
  {
   "cell_type": "markdown",
   "metadata": {},
   "source": [
    "Cobalah untuk mengelompokan umur customer tersebut berdasarkan beberapa kelompok umur sebagai berikut:\n",
    "   - Kelompok 1: \"15 - 23\"\n",
    "   - Kelompok 2: \"23 - 45\"\n",
    "   - Kelompok 3: \"45+\""
   ]
  },
  {
   "cell_type": "code",
   "execution_count": 36,
   "metadata": {},
   "outputs": [],
   "source": [
    "def ageGrouping(age):\n",
    "    if(age >= 15 and age <= 23):\n",
    "        return \"Kelompok 1\"\n",
    "    elif(age >= 23 and age <= 45):\n",
    "        return \"Kelompok 2\"\n",
    "    elif(age >= 45):\n",
    "        return \"Kelompok 3\""
   ]
  },
  {
   "cell_type": "code",
   "execution_count": 37,
   "metadata": {},
   "outputs": [
    {
     "data": {
      "text/plain": [
       "0    Kelompok 1\n",
       "1    Kelompok 2\n",
       "2    Kelompok 2\n",
       "3    Kelompok 2\n",
       "4    Kelompok 2\n",
       "5    Kelompok 1\n",
       "6    Kelompok 3\n",
       "Name: age, dtype: object"
      ]
     },
     "execution_count": 37,
     "metadata": {},
     "output_type": "execute_result"
    }
   ],
   "source": [
    "customer['age'].apply(ageGrouping)"
   ]
  }
 ],
 "metadata": {
  "kernelspec": {
   "display_name": "Python 3",
   "language": "python",
   "name": "python3"
  },
  "language_info": {
   "codemirror_mode": {
    "name": "ipython",
    "version": 3
   },
   "file_extension": ".py",
   "mimetype": "text/x-python",
   "name": "python",
   "nbconvert_exporter": "python",
   "pygments_lexer": "ipython3",
   "version": "3.8.5"
  },
  "latex_envs": {
   "LaTeX_envs_menu_present": true,
   "autoclose": false,
   "autocomplete": true,
   "bibliofile": "biblio.bib",
   "cite_by": "key",
   "current_citInitial": 1,
   "eqLabelWithNumbers": false,
   "eqNumInitial": 0,
   "hotkeys": {
    "equation": "Ctrl-E",
    "itemize": "Ctrl-I"
   },
   "labels_anchors": false,
   "latex_user_defs": false,
   "report_style_numbering": false,
   "user_envs_cfg": false
  },
  "toc": {
   "base_numbering": 1,
   "nav_menu": {},
   "number_sections": true,
   "sideBar": true,
   "skip_h1_title": false,
   "title_cell": "Table of Contents",
   "title_sidebar": "Contents",
   "toc_cell": false,
   "toc_position": {},
   "toc_section_display": true,
   "toc_window_display": true
  }
 },
 "nbformat": 4,
 "nbformat_minor": 2
}
