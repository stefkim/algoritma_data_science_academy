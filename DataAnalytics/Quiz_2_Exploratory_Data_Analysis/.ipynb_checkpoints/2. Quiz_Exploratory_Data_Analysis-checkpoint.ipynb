{
 "cells": [
  {
   "cell_type": "markdown",
   "metadata": {},
   "source": [
    "# Quiz: Exploratory Data Analysis"
   ]
  },
  {
   "cell_type": "markdown",
   "metadata": {},
   "source": [
    "Read `online_bl.csv` from  `data_input` folder to answer **question 1-3**. You may find it helpful to use `parse_dates=[__]` while calling the `read_csv()` function. The data are all items listed for sale on the popular e-commerce website bukalapak.com within a specific set of categories. \n",
    "\n",
    "Perform  necessary data preparation steps and use the exploratory data analysis techniques you've acquired to answer the questions.\n",
    "\n",
    "\n",
    "*Gunakan data `online_bl.csv` untuk menjawab pertanyaan berikut. Data yang digunakan adalah daftar barang-barang yang dijual dari situs e-commerce Bukalapak. Lakukan tahapan data preparation dan teknik exploratory data analysis yang telah Anda pelajari untuk menjawab setiap pertanyaan.*\n"
   ]
  },
  {
   "cell_type": "code",
   "execution_count": 2,
   "metadata": {},
   "outputs": [],
   "source": [
    "## Read data & import library\n",
    "import pandas as pd\n",
    "\n",
    "data = pd.read_csv('data_input/online_bl.csv',parse_dates=['time_update'])"
   ]
  },
  {
   "cell_type": "code",
   "execution_count": 3,
   "metadata": {},
   "outputs": [
    {
     "data": {
      "text/html": [
       "<div>\n",
       "<style scoped>\n",
       "    .dataframe tbody tr th:only-of-type {\n",
       "        vertical-align: middle;\n",
       "    }\n",
       "\n",
       "    .dataframe tbody tr th {\n",
       "        vertical-align: top;\n",
       "    }\n",
       "\n",
       "    .dataframe thead th {\n",
       "        text-align: right;\n",
       "    }\n",
       "</style>\n",
       "<table border=\"1\" class=\"dataframe\">\n",
       "  <thead>\n",
       "    <tr style=\"text-align: right;\">\n",
       "      <th></th>\n",
       "      <th>item_link</th>\n",
       "      <th>title</th>\n",
       "      <th>price_original</th>\n",
       "      <th>price_discount</th>\n",
       "      <th>sub_category</th>\n",
       "      <th>time_update</th>\n",
       "      <th>scale</th>\n",
       "    </tr>\n",
       "  </thead>\n",
       "  <tbody>\n",
       "    <tr>\n",
       "      <th>0</th>\n",
       "      <td>https://www.bukalapak.com/p/kesehatan-2359/pro...</td>\n",
       "      <td>Rinso Molto Deterjen Bubuk 1.8 kg</td>\n",
       "      <td>30000.0</td>\n",
       "      <td>NaN</td>\n",
       "      <td>detergent</td>\n",
       "      <td>2018-10-20 01:32:00</td>\n",
       "      <td>1.8 kg</td>\n",
       "    </tr>\n",
       "    <tr>\n",
       "      <th>1</th>\n",
       "      <td>https://www.bukalapak.com/p/rumah-tangga/home-...</td>\n",
       "      <td>Terlaris - DETERGENT RINSO ANTI NODA 1.8 KG 1 ...</td>\n",
       "      <td>49000.0</td>\n",
       "      <td>NaN</td>\n",
       "      <td>detergent</td>\n",
       "      <td>2018-09-20 01:02:00</td>\n",
       "      <td>1.8 kg</td>\n",
       "    </tr>\n",
       "    <tr>\n",
       "      <th>2</th>\n",
       "      <td>https://www.bukalapak.com/p/rumah-tangga/home-...</td>\n",
       "      <td>Good Rinso Molto Purple 1.8 Kg</td>\n",
       "      <td>50000.0</td>\n",
       "      <td>NaN</td>\n",
       "      <td>detergent</td>\n",
       "      <td>2018-10-13 10:46:00</td>\n",
       "      <td>1.8 kg</td>\n",
       "    </tr>\n",
       "    <tr>\n",
       "      <th>3</th>\n",
       "      <td>https://www.bukalapak.com/p/rumah-tangga/home-...</td>\n",
       "      <td>Order Rinso Molto Purple 1.8 Kg</td>\n",
       "      <td>49000.0</td>\n",
       "      <td>NaN</td>\n",
       "      <td>detergent</td>\n",
       "      <td>2018-09-24 15:17:00</td>\n",
       "      <td>1.8 kg</td>\n",
       "    </tr>\n",
       "    <tr>\n",
       "      <th>4</th>\n",
       "      <td>https://www.bukalapak.com/p/rumah-tangga/home-...</td>\n",
       "      <td>Promonya Rinso Molto Purple 1.8 Kg</td>\n",
       "      <td>49000.0</td>\n",
       "      <td>NaN</td>\n",
       "      <td>detergent</td>\n",
       "      <td>2018-09-27 11:16:00</td>\n",
       "      <td>1.8 kg</td>\n",
       "    </tr>\n",
       "  </tbody>\n",
       "</table>\n",
       "</div>"
      ],
      "text/plain": [
       "                                           item_link  \\\n",
       "0  https://www.bukalapak.com/p/kesehatan-2359/pro...   \n",
       "1  https://www.bukalapak.com/p/rumah-tangga/home-...   \n",
       "2  https://www.bukalapak.com/p/rumah-tangga/home-...   \n",
       "3  https://www.bukalapak.com/p/rumah-tangga/home-...   \n",
       "4  https://www.bukalapak.com/p/rumah-tangga/home-...   \n",
       "\n",
       "                                               title  price_original  \\\n",
       "0                  Rinso Molto Deterjen Bubuk 1.8 kg         30000.0   \n",
       "1  Terlaris - DETERGENT RINSO ANTI NODA 1.8 KG 1 ...         49000.0   \n",
       "2                     Good Rinso Molto Purple 1.8 Kg         50000.0   \n",
       "3                    Order Rinso Molto Purple 1.8 Kg         49000.0   \n",
       "4                 Promonya Rinso Molto Purple 1.8 Kg         49000.0   \n",
       "\n",
       "   price_discount sub_category         time_update   scale  \n",
       "0             NaN    detergent 2018-10-20 01:32:00  1.8 kg  \n",
       "1             NaN    detergent 2018-09-20 01:02:00  1.8 kg  \n",
       "2             NaN    detergent 2018-10-13 10:46:00  1.8 kg  \n",
       "3             NaN    detergent 2018-09-24 15:17:00  1.8 kg  \n",
       "4             NaN    detergent 2018-09-27 11:16:00  1.8 kg  "
      ]
     },
     "execution_count": 3,
     "metadata": {},
     "output_type": "execute_result"
    }
   ],
   "source": [
    "data.head()"
   ]
  },
  {
   "cell_type": "code",
   "execution_count": 4,
   "metadata": {},
   "outputs": [
    {
     "name": "stdout",
     "output_type": "stream",
     "text": [
      "<class 'pandas.core.frame.DataFrame'>\n",
      "RangeIndex: 744 entries, 0 to 743\n",
      "Data columns (total 7 columns):\n",
      " #   Column          Non-Null Count  Dtype         \n",
      "---  ------          --------------  -----         \n",
      " 0   item_link       744 non-null    object        \n",
      " 1   title           744 non-null    object        \n",
      " 2   price_original  728 non-null    float64       \n",
      " 3   price_discount  17 non-null     float64       \n",
      " 4   sub_category    744 non-null    object        \n",
      " 5   time_update     744 non-null    datetime64[ns]\n",
      " 6   scale           744 non-null    object        \n",
      "dtypes: datetime64[ns](1), float64(2), object(4)\n",
      "memory usage: 40.8+ KB\n"
     ]
    }
   ],
   "source": [
    "data.info()"
   ]
  },
  {
   "cell_type": "code",
   "execution_count": 5,
   "metadata": {},
   "outputs": [
    {
     "data": {
      "text/plain": [
       "item_link                 object\n",
       "title                     object\n",
       "price_original           float64\n",
       "price_discount           float64\n",
       "sub_category            category\n",
       "time_update       datetime64[ns]\n",
       "scale                   category\n",
       "dtype: object"
      ]
     },
     "execution_count": 5,
     "metadata": {},
     "output_type": "execute_result"
    }
   ],
   "source": [
    "data[['sub_category','scale']] = data[['sub_category','scale']].astype('category')\n",
    "data.dtypes"
   ]
  },
  {
   "cell_type": "markdown",
   "metadata": {},
   "source": [
    "1. How many unique sub categories are there in `online_bl` dataset? Do we have more \"detergent\" listings or \"sugar\" listings within our data?\n",
    "\n",
    "    *Berapa banyak sub kategori (`sub_categories`) unik yang ada dalam kumpulan data `online_bl`? Apakah kita memiliki lebih banyak daftar \"deterjen\" atau \"gula\" pada data tersebut?*\n",
    "\n",
    "    - [ ] 2, with more \"detergent\" than \"sugar\"\n",
    "    - [ ] 2, with \"detergent\" and \"sugar\" having equal listings\n",
    "    - [x] 3, with more \"sugar\" than detergent\n",
    "    - [ ] None of above is correct"
   ]
  },
  {
   "cell_type": "code",
   "execution_count": 6,
   "metadata": {},
   "outputs": [
    {
     "data": {
      "text/plain": [
       "rice         425\n",
       "sugar        213\n",
       "detergent    106\n",
       "Name: sub_category, dtype: int64"
      ]
     },
     "execution_count": 6,
     "metadata": {},
     "output_type": "execute_result"
    }
   ],
   "source": [
    "data['sub_category'].value_counts()"
   ]
  },
  {
   "cell_type": "markdown",
   "metadata": {},
   "source": [
    "2. In which scale do we have our **detergent** stock the most?\n",
    "\n",
    "    *Deterjen yang ada di pasaran memiliki beberapa pilihan ukuran (1kg, 1.8kg, dsb.). Deterjen dengan ukuran berapakah yang paling banyak dijual di situs Bukalapak?* \n",
    "\n",
    "    - [ ] 1 kg\n",
    "    - [x] 1.8 kg\n",
    "    - [ ] 5 kg\n",
    "    - [ ] 800 gr"
   ]
  },
  {
   "cell_type": "code",
   "execution_count": 15,
   "metadata": {},
   "outputs": [],
   "source": [
    "detergent = data[data['sub_category']=='detergent'].copy()"
   ]
  },
  {
   "cell_type": "code",
   "execution_count": 16,
   "metadata": {},
   "outputs": [
    {
     "data": {
      "text/html": [
       "<div>\n",
       "<style scoped>\n",
       "    .dataframe tbody tr th:only-of-type {\n",
       "        vertical-align: middle;\n",
       "    }\n",
       "\n",
       "    .dataframe tbody tr th {\n",
       "        vertical-align: top;\n",
       "    }\n",
       "\n",
       "    .dataframe thead th {\n",
       "        text-align: right;\n",
       "    }\n",
       "</style>\n",
       "<table border=\"1\" class=\"dataframe\">\n",
       "  <thead>\n",
       "    <tr style=\"text-align: right;\">\n",
       "      <th>scale</th>\n",
       "      <th>1.8 kg</th>\n",
       "      <th>800 gr</th>\n",
       "    </tr>\n",
       "    <tr>\n",
       "      <th>sub_category</th>\n",
       "      <th></th>\n",
       "      <th></th>\n",
       "    </tr>\n",
       "  </thead>\n",
       "  <tbody>\n",
       "    <tr>\n",
       "      <th>detergent</th>\n",
       "      <td>88</td>\n",
       "      <td>18</td>\n",
       "    </tr>\n",
       "  </tbody>\n",
       "</table>\n",
       "</div>"
      ],
      "text/plain": [
       "scale         1.8 kg  800 gr\n",
       "sub_category                \n",
       "detergent         88      18"
      ]
     },
     "execution_count": 16,
     "metadata": {},
     "output_type": "execute_result"
    }
   ],
   "source": [
    "pd.crosstab(index = detergent['sub_category'],\n",
    "            columns = detergent['scale'])"
   ]
  },
  {
   "cell_type": "markdown",
   "metadata": {},
   "source": [
    "3. Which month has the **lowest average price** (`mean` on `price_original`) for detergent products (1.8kg and 800gr respectively) listed for sale on Bukalapak? Are they the same month?\n",
    "\n",
    "    *Di bulan apakah produk deterjen dengan ukuran 1,8 kg dan 800 gram berada di harga terendah? Apakah keduanya berada di bulan yang sama?*\n",
    "\n",
    "    - [x] Both 1.8 kg and 800 gr detergents lowest price were in August\n",
    "    - [ ] Both 1.8 kg and 800 gr detergents lowest price were in October\n",
    "    - [ ] 1.8 kg detergents: Lowest in August, 800 gr: Lowest in October\n",
    "    - [ ] 1.8 kg detergents: Lowest in August, 800 gr: Lowest in July   "
   ]
  },
  {
   "cell_type": "code",
   "execution_count": 17,
   "metadata": {},
   "outputs": [],
   "source": [
    "detergent['month'] = detergent['time_update'].dt.month_name()"
   ]
  },
  {
   "cell_type": "code",
   "execution_count": 18,
   "metadata": {},
   "outputs": [
    {
     "data": {
      "text/html": [
       "<div>\n",
       "<style scoped>\n",
       "    .dataframe tbody tr th:only-of-type {\n",
       "        vertical-align: middle;\n",
       "    }\n",
       "\n",
       "    .dataframe tbody tr th {\n",
       "        vertical-align: top;\n",
       "    }\n",
       "\n",
       "    .dataframe thead th {\n",
       "        text-align: right;\n",
       "    }\n",
       "</style>\n",
       "<table border=\"1\" class=\"dataframe\">\n",
       "  <thead>\n",
       "    <tr style=\"text-align: right;\">\n",
       "      <th>scale</th>\n",
       "      <th>1.8 kg</th>\n",
       "      <th>800 gr</th>\n",
       "    </tr>\n",
       "    <tr>\n",
       "      <th>month</th>\n",
       "      <th></th>\n",
       "      <th></th>\n",
       "    </tr>\n",
       "  </thead>\n",
       "  <tbody>\n",
       "    <tr>\n",
       "      <th>August</th>\n",
       "      <td>31000.00</td>\n",
       "      <td>20000.00</td>\n",
       "    </tr>\n",
       "    <tr>\n",
       "      <th>July</th>\n",
       "      <td>40000.00</td>\n",
       "      <td>30000.00</td>\n",
       "    </tr>\n",
       "    <tr>\n",
       "      <th>October</th>\n",
       "      <td>41191.84</td>\n",
       "      <td>21945.45</td>\n",
       "    </tr>\n",
       "    <tr>\n",
       "      <th>September</th>\n",
       "      <td>42750.00</td>\n",
       "      <td>33475.00</td>\n",
       "    </tr>\n",
       "  </tbody>\n",
       "</table>\n",
       "</div>"
      ],
      "text/plain": [
       "scale        1.8 kg    800 gr\n",
       "month                        \n",
       "August     31000.00  20000.00\n",
       "July       40000.00  30000.00\n",
       "October    41191.84  21945.45\n",
       "September  42750.00  33475.00"
      ]
     },
     "execution_count": 18,
     "metadata": {},
     "output_type": "execute_result"
    }
   ],
   "source": [
    "detergent_price = pd.crosstab(index = detergent['month'],\n",
    "            columns = detergent['scale'],\n",
    "            values = detergent['price_original'],\n",
    "            aggfunc = 'mean').round(2)\n",
    "detergent_price"
   ]
  },
  {
   "cell_type": "code",
   "execution_count": 19,
   "metadata": {},
   "outputs": [
    {
     "data": {
      "text/plain": [
       "scale\n",
       "1.8 kg    August\n",
       "800 gr    August\n",
       "dtype: object"
      ]
     },
     "execution_count": 19,
     "metadata": {},
     "output_type": "execute_result"
    }
   ],
   "source": [
    "detergent_price.idxmin()"
   ]
  },
  {
   "cell_type": "markdown",
   "metadata": {},
   "source": [
    "---"
   ]
  },
  {
   "cell_type": "markdown",
   "metadata": {},
   "source": [
    "Read `techcrunch.csv` from `data_input` folder to aswer **question 4-6**, a dataset that stores fundraising rounds and amounts from startup companies of different categories around the US.\n",
    "\n",
    "*Gunakan data `techcrunch.csv` dari folder `data_input` untuk menjawab pertanyaan 4-6. Data tersebut menyimpan data fundraising yang diperoleh berbagai perusahaan startup dari berbagai bidang di Amerika.*"
   ]
  },
  {
   "cell_type": "code",
   "execution_count": 25,
   "metadata": {},
   "outputs": [
    {
     "data": {
      "text/html": [
       "<div>\n",
       "<style scoped>\n",
       "    .dataframe tbody tr th:only-of-type {\n",
       "        vertical-align: middle;\n",
       "    }\n",
       "\n",
       "    .dataframe tbody tr th {\n",
       "        vertical-align: top;\n",
       "    }\n",
       "\n",
       "    .dataframe thead th {\n",
       "        text-align: right;\n",
       "    }\n",
       "</style>\n",
       "<table border=\"1\" class=\"dataframe\">\n",
       "  <thead>\n",
       "    <tr style=\"text-align: right;\">\n",
       "      <th></th>\n",
       "      <th>permalink</th>\n",
       "      <th>company</th>\n",
       "      <th>numEmps</th>\n",
       "      <th>category</th>\n",
       "      <th>city</th>\n",
       "      <th>state</th>\n",
       "      <th>fundedDate</th>\n",
       "      <th>raisedAmt</th>\n",
       "      <th>raisedCurrency</th>\n",
       "      <th>round</th>\n",
       "    </tr>\n",
       "  </thead>\n",
       "  <tbody>\n",
       "    <tr>\n",
       "      <th>0</th>\n",
       "      <td>lifelock</td>\n",
       "      <td>LifeLock</td>\n",
       "      <td>NaN</td>\n",
       "      <td>web</td>\n",
       "      <td>Tempe</td>\n",
       "      <td>AZ</td>\n",
       "      <td>2007-05-01</td>\n",
       "      <td>6850000</td>\n",
       "      <td>USD</td>\n",
       "      <td>b</td>\n",
       "    </tr>\n",
       "    <tr>\n",
       "      <th>1</th>\n",
       "      <td>lifelock</td>\n",
       "      <td>LifeLock</td>\n",
       "      <td>NaN</td>\n",
       "      <td>web</td>\n",
       "      <td>Tempe</td>\n",
       "      <td>AZ</td>\n",
       "      <td>2006-10-01</td>\n",
       "      <td>6000000</td>\n",
       "      <td>USD</td>\n",
       "      <td>a</td>\n",
       "    </tr>\n",
       "    <tr>\n",
       "      <th>2</th>\n",
       "      <td>lifelock</td>\n",
       "      <td>LifeLock</td>\n",
       "      <td>NaN</td>\n",
       "      <td>web</td>\n",
       "      <td>Tempe</td>\n",
       "      <td>AZ</td>\n",
       "      <td>2008-01-01</td>\n",
       "      <td>25000000</td>\n",
       "      <td>USD</td>\n",
       "      <td>c</td>\n",
       "    </tr>\n",
       "    <tr>\n",
       "      <th>3</th>\n",
       "      <td>mycityfaces</td>\n",
       "      <td>MyCityFaces</td>\n",
       "      <td>7.0</td>\n",
       "      <td>web</td>\n",
       "      <td>Scottsdale</td>\n",
       "      <td>AZ</td>\n",
       "      <td>2008-01-01</td>\n",
       "      <td>50000</td>\n",
       "      <td>USD</td>\n",
       "      <td>seed</td>\n",
       "    </tr>\n",
       "    <tr>\n",
       "      <th>4</th>\n",
       "      <td>flypaper</td>\n",
       "      <td>Flypaper</td>\n",
       "      <td>NaN</td>\n",
       "      <td>web</td>\n",
       "      <td>Phoenix</td>\n",
       "      <td>AZ</td>\n",
       "      <td>2008-02-01</td>\n",
       "      <td>3000000</td>\n",
       "      <td>USD</td>\n",
       "      <td>a</td>\n",
       "    </tr>\n",
       "  </tbody>\n",
       "</table>\n",
       "</div>"
      ],
      "text/plain": [
       "     permalink      company  numEmps category        city state fundedDate  \\\n",
       "0     lifelock     LifeLock      NaN      web       Tempe    AZ 2007-05-01   \n",
       "1     lifelock     LifeLock      NaN      web       Tempe    AZ 2006-10-01   \n",
       "2     lifelock     LifeLock      NaN      web       Tempe    AZ 2008-01-01   \n",
       "3  mycityfaces  MyCityFaces      7.0      web  Scottsdale    AZ 2008-01-01   \n",
       "4     flypaper     Flypaper      NaN      web     Phoenix    AZ 2008-02-01   \n",
       "\n",
       "   raisedAmt raisedCurrency round  \n",
       "0    6850000            USD     b  \n",
       "1    6000000            USD     a  \n",
       "2   25000000            USD     c  \n",
       "3      50000            USD  seed  \n",
       "4    3000000            USD     a  "
      ]
     },
     "execution_count": 25,
     "metadata": {},
     "output_type": "execute_result"
    }
   ],
   "source": [
    "## Your code here\n",
    "tc = pd.read_csv('data_input/techcrunch.csv',parse_dates=['fundedDate'])\n",
    "tc.head()"
   ]
  },
  {
   "cell_type": "code",
   "execution_count": 26,
   "metadata": {},
   "outputs": [
    {
     "data": {
      "text/plain": [
       "permalink                 object\n",
       "company                   object\n",
       "numEmps                  float64\n",
       "category                  object\n",
       "city                      object\n",
       "state                     object\n",
       "fundedDate        datetime64[ns]\n",
       "raisedAmt                  int64\n",
       "raisedCurrency            object\n",
       "round                     object\n",
       "dtype: object"
      ]
     },
     "execution_count": 26,
     "metadata": {},
     "output_type": "execute_result"
    }
   ],
   "source": [
    "tc.dtypes"
   ]
  },
  {
   "cell_type": "code",
   "execution_count": 27,
   "metadata": {},
   "outputs": [
    {
     "data": {
      "text/plain": [
       "permalink                 object\n",
       "company                   object\n",
       "numEmps                  float64\n",
       "category                category\n",
       "city                    category\n",
       "state                   category\n",
       "fundedDate        datetime64[ns]\n",
       "raisedAmt                  int64\n",
       "raisedCurrency            object\n",
       "round                   category\n",
       "dtype: object"
      ]
     },
     "execution_count": 27,
     "metadata": {},
     "output_type": "execute_result"
    }
   ],
   "source": [
    "tc[['category','city','state','round']] = tc[['category','city','state','round']].astype('category')\n",
    "tc.dtypes"
   ]
  },
  {
   "cell_type": "markdown",
   "metadata": {},
   "source": [
    "4. Using `techcrunch.csv`, which `category` raised the most amount in funding (`raisedAmt`) on average (use the `median`)?\n",
    "\n",
    "    *Berdasarkan data `techcrunch`, kategori (`category`) startup manakah yang mendapatkan rata-rata (gunakan `median`) funding (`raisedAmt`) tertinggi?*\n",
    "    \n",
    "    - [ ] `mobile`\n",
    "    - [ ] `cleantech`\n",
    "    - [x] `biotech`\n",
    "    - [ ] `consulting`"
   ]
  },
  {
   "cell_type": "code",
   "execution_count": 52,
   "metadata": {},
   "outputs": [
    {
     "data": {
      "text/html": [
       "<div>\n",
       "<style scoped>\n",
       "    .dataframe tbody tr th:only-of-type {\n",
       "        vertical-align: middle;\n",
       "    }\n",
       "\n",
       "    .dataframe tbody tr th {\n",
       "        vertical-align: top;\n",
       "    }\n",
       "\n",
       "    .dataframe thead th {\n",
       "        text-align: right;\n",
       "    }\n",
       "</style>\n",
       "<table border=\"1\" class=\"dataframe\">\n",
       "  <thead>\n",
       "    <tr style=\"text-align: right;\">\n",
       "      <th></th>\n",
       "      <th>raisedAmt</th>\n",
       "    </tr>\n",
       "    <tr>\n",
       "      <th>category</th>\n",
       "      <th></th>\n",
       "    </tr>\n",
       "  </thead>\n",
       "  <tbody>\n",
       "    <tr>\n",
       "      <th>biotech</th>\n",
       "      <td>20000000</td>\n",
       "    </tr>\n",
       "    <tr>\n",
       "      <th>cleantech</th>\n",
       "      <td>15500000</td>\n",
       "    </tr>\n",
       "    <tr>\n",
       "      <th>hardware</th>\n",
       "      <td>13700000</td>\n",
       "    </tr>\n",
       "    <tr>\n",
       "      <th>other</th>\n",
       "      <td>7750000</td>\n",
       "    </tr>\n",
       "    <tr>\n",
       "      <th>software</th>\n",
       "      <td>7125000</td>\n",
       "    </tr>\n",
       "  </tbody>\n",
       "</table>\n",
       "</div>"
      ],
      "text/plain": [
       "           raisedAmt\n",
       "category            \n",
       "biotech     20000000\n",
       "cleantech   15500000\n",
       "hardware    13700000\n",
       "other        7750000\n",
       "software     7125000"
      ]
     },
     "execution_count": 52,
     "metadata": {},
     "output_type": "execute_result"
    }
   ],
   "source": [
    "tc.pivot_table(\n",
    "    index='category',\n",
    "    values='raisedAmt',\n",
    "    aggfunc='median'\n",
    ").round(2).sort_values(by='raisedAmt',ascending=False).head()"
   ]
  },
  {
   "cell_type": "markdown",
   "metadata": {},
   "source": [
    "5. In which period does Friendster gain their highest raised amount of funding?\n",
    "\n",
    "   *Pada periode manakah Friendster mendapatkan nilai funding tertinggi mereka?*\n",
    "   \n",
    "    - [x] 2008-08\n",
    "    - [ ] 2002-12\n",
    "    - [ ] 2006-08\n",
    "    - [ ] 2012-01"
   ]
  },
  {
   "cell_type": "code",
   "execution_count": 28,
   "metadata": {},
   "outputs": [],
   "source": [
    "friendster = tc[tc['company']=='Friendster'].copy()\n",
    "friendster['yearmonth'] = friendster['fundedDate'].dt.to_period('M')"
   ]
  },
  {
   "cell_type": "code",
   "execution_count": 29,
   "metadata": {},
   "outputs": [
    {
     "data": {
      "text/html": [
       "<div>\n",
       "<style scoped>\n",
       "    .dataframe tbody tr th:only-of-type {\n",
       "        vertical-align: middle;\n",
       "    }\n",
       "\n",
       "    .dataframe tbody tr th {\n",
       "        vertical-align: top;\n",
       "    }\n",
       "\n",
       "    .dataframe thead th {\n",
       "        text-align: right;\n",
       "    }\n",
       "</style>\n",
       "<table border=\"1\" class=\"dataframe\">\n",
       "  <thead>\n",
       "    <tr style=\"text-align: right;\">\n",
       "      <th></th>\n",
       "      <th>permalink</th>\n",
       "      <th>company</th>\n",
       "      <th>numEmps</th>\n",
       "      <th>category</th>\n",
       "      <th>city</th>\n",
       "      <th>state</th>\n",
       "      <th>fundedDate</th>\n",
       "      <th>raisedAmt</th>\n",
       "      <th>raisedCurrency</th>\n",
       "      <th>round</th>\n",
       "      <th>yearmonth</th>\n",
       "    </tr>\n",
       "  </thead>\n",
       "  <tbody>\n",
       "    <tr>\n",
       "      <th>318</th>\n",
       "      <td>friendster</td>\n",
       "      <td>Friendster</td>\n",
       "      <td>465.0</td>\n",
       "      <td>web</td>\n",
       "      <td>San Francisco</td>\n",
       "      <td>CA</td>\n",
       "      <td>2002-12-01</td>\n",
       "      <td>2400000</td>\n",
       "      <td>USD</td>\n",
       "      <td>a</td>\n",
       "      <td>2002-12</td>\n",
       "    </tr>\n",
       "    <tr>\n",
       "      <th>319</th>\n",
       "      <td>friendster</td>\n",
       "      <td>Friendster</td>\n",
       "      <td>465.0</td>\n",
       "      <td>web</td>\n",
       "      <td>San Francisco</td>\n",
       "      <td>CA</td>\n",
       "      <td>2003-10-01</td>\n",
       "      <td>13000000</td>\n",
       "      <td>USD</td>\n",
       "      <td>b</td>\n",
       "      <td>2003-10</td>\n",
       "    </tr>\n",
       "    <tr>\n",
       "      <th>320</th>\n",
       "      <td>friendster</td>\n",
       "      <td>Friendster</td>\n",
       "      <td>465.0</td>\n",
       "      <td>web</td>\n",
       "      <td>San Francisco</td>\n",
       "      <td>CA</td>\n",
       "      <td>2006-08-01</td>\n",
       "      <td>10000000</td>\n",
       "      <td>USD</td>\n",
       "      <td>c</td>\n",
       "      <td>2006-08</td>\n",
       "    </tr>\n",
       "    <tr>\n",
       "      <th>321</th>\n",
       "      <td>friendster</td>\n",
       "      <td>Friendster</td>\n",
       "      <td>465.0</td>\n",
       "      <td>web</td>\n",
       "      <td>San Francisco</td>\n",
       "      <td>CA</td>\n",
       "      <td>2008-08-05</td>\n",
       "      <td>20000000</td>\n",
       "      <td>USD</td>\n",
       "      <td>d</td>\n",
       "      <td>2008-08</td>\n",
       "    </tr>\n",
       "  </tbody>\n",
       "</table>\n",
       "</div>"
      ],
      "text/plain": [
       "      permalink     company  numEmps category           city state fundedDate  \\\n",
       "318  friendster  Friendster    465.0      web  San Francisco    CA 2002-12-01   \n",
       "319  friendster  Friendster    465.0      web  San Francisco    CA 2003-10-01   \n",
       "320  friendster  Friendster    465.0      web  San Francisco    CA 2006-08-01   \n",
       "321  friendster  Friendster    465.0      web  San Francisco    CA 2008-08-05   \n",
       "\n",
       "     raisedAmt raisedCurrency round yearmonth  \n",
       "318    2400000            USD     a   2002-12  \n",
       "319   13000000            USD     b   2003-10  \n",
       "320   10000000            USD     c   2006-08  \n",
       "321   20000000            USD     d   2008-08  "
      ]
     },
     "execution_count": 29,
     "metadata": {},
     "output_type": "execute_result"
    }
   ],
   "source": [
    "friendster"
   ]
  },
  {
   "cell_type": "code",
   "execution_count": 30,
   "metadata": {},
   "outputs": [
    {
     "data": {
      "text/html": [
       "<div>\n",
       "<style scoped>\n",
       "    .dataframe tbody tr th:only-of-type {\n",
       "        vertical-align: middle;\n",
       "    }\n",
       "\n",
       "    .dataframe tbody tr th {\n",
       "        vertical-align: top;\n",
       "    }\n",
       "\n",
       "    .dataframe thead th {\n",
       "        text-align: right;\n",
       "    }\n",
       "</style>\n",
       "<table border=\"1\" class=\"dataframe\">\n",
       "  <thead>\n",
       "    <tr style=\"text-align: right;\">\n",
       "      <th></th>\n",
       "      <th>yearmonth</th>\n",
       "      <th>raisedAmt</th>\n",
       "    </tr>\n",
       "  </thead>\n",
       "  <tbody>\n",
       "    <tr>\n",
       "      <th>321</th>\n",
       "      <td>2008-08</td>\n",
       "      <td>20000000</td>\n",
       "    </tr>\n",
       "  </tbody>\n",
       "</table>\n",
       "</div>"
      ],
      "text/plain": [
       "    yearmonth  raisedAmt\n",
       "321   2008-08   20000000"
      ]
     },
     "execution_count": 30,
     "metadata": {},
     "output_type": "execute_result"
    }
   ],
   "source": [
    "friendster[['yearmonth','raisedAmt']][friendster['raisedAmt'] == friendster['raisedAmt'].max()]"
   ]
  },
  {
   "cell_type": "markdown",
   "metadata": {},
   "source": [
    "6.  Among all companies in San Francisco, which of the following are **not** among the top 5 most funded ( has highest **total** `raisedAmt`) companies? \n",
    "\n",
    "    *Perusahaan apa yang **TIDAK** termasuk 5 perusahaan dengan total funding (`raisedAmt`) tertinggi di San Francisco?*\n",
    "    \n",
    "    - [ ] `OpenTable`\n",
    "    - [ ] `Friendster`\n",
    "    - [ ] `Facebook`\n",
    "    - [ ] `Snapfish`\n",
    "  "
   ]
  },
  {
   "cell_type": "code",
   "execution_count": 31,
   "metadata": {},
   "outputs": [],
   "source": [
    "sf = tc[tc['city']=='San Francisco'].copy()\n",
    "sf = sf[['company','raisedAmt']]"
   ]
  },
  {
   "cell_type": "markdown",
   "metadata": {},
   "source": [
    "pake groupby"
   ]
  },
  {
   "cell_type": "code",
   "execution_count": 32,
   "metadata": {},
   "outputs": [],
   "source": [
    "sf_total_fund_per_company = sf.groupby('company').sum()"
   ]
  },
  {
   "cell_type": "code",
   "execution_count": 35,
   "metadata": {},
   "outputs": [
    {
     "data": {
      "text/html": [
       "<div>\n",
       "<style scoped>\n",
       "    .dataframe tbody tr th:only-of-type {\n",
       "        vertical-align: middle;\n",
       "    }\n",
       "\n",
       "    .dataframe tbody tr th {\n",
       "        vertical-align: top;\n",
       "    }\n",
       "\n",
       "    .dataframe thead th {\n",
       "        text-align: right;\n",
       "    }\n",
       "</style>\n",
       "<table border=\"1\" class=\"dataframe\">\n",
       "  <thead>\n",
       "    <tr style=\"text-align: right;\">\n",
       "      <th></th>\n",
       "      <th>raisedAmt</th>\n",
       "    </tr>\n",
       "    <tr>\n",
       "      <th>company</th>\n",
       "      <th></th>\n",
       "    </tr>\n",
       "  </thead>\n",
       "  <tbody>\n",
       "    <tr>\n",
       "      <th>Slide</th>\n",
       "      <td>58000000</td>\n",
       "    </tr>\n",
       "    <tr>\n",
       "      <th>freebase</th>\n",
       "      <td>57500000</td>\n",
       "    </tr>\n",
       "    <tr>\n",
       "      <th>OpenTable</th>\n",
       "      <td>48000000</td>\n",
       "    </tr>\n",
       "    <tr>\n",
       "      <th>Friendster</th>\n",
       "      <td>45400000</td>\n",
       "    </tr>\n",
       "    <tr>\n",
       "      <th>Snapfish</th>\n",
       "      <td>43500000</td>\n",
       "    </tr>\n",
       "  </tbody>\n",
       "</table>\n",
       "</div>"
      ],
      "text/plain": [
       "            raisedAmt\n",
       "company              \n",
       "Slide        58000000\n",
       "freebase     57500000\n",
       "OpenTable    48000000\n",
       "Friendster   45400000\n",
       "Snapfish     43500000"
      ]
     },
     "execution_count": 35,
     "metadata": {},
     "output_type": "execute_result"
    }
   ],
   "source": [
    "sf_total_fund_per_company.sort_values(by=['raisedAmt'], ascending=False).head()"
   ]
  },
  {
   "cell_type": "markdown",
   "metadata": {},
   "source": [
    "pake pivot_table"
   ]
  },
  {
   "cell_type": "code",
   "execution_count": null,
   "metadata": {},
   "outputs": [],
   "source": [
    "sf = tc[tc['city']=='San Francisco'].copy()\n",
    "sf = sf[['company','raisedAmt']]"
   ]
  },
  {
   "cell_type": "code",
   "execution_count": 63,
   "metadata": {},
   "outputs": [
    {
     "data": {
      "text/html": [
       "<div>\n",
       "<style scoped>\n",
       "    .dataframe tbody tr th:only-of-type {\n",
       "        vertical-align: middle;\n",
       "    }\n",
       "\n",
       "    .dataframe tbody tr th {\n",
       "        vertical-align: top;\n",
       "    }\n",
       "\n",
       "    .dataframe thead th {\n",
       "        text-align: right;\n",
       "    }\n",
       "</style>\n",
       "<table border=\"1\" class=\"dataframe\">\n",
       "  <thead>\n",
       "    <tr style=\"text-align: right;\">\n",
       "      <th></th>\n",
       "      <th>raisedAmt</th>\n",
       "    </tr>\n",
       "    <tr>\n",
       "      <th>company</th>\n",
       "      <th></th>\n",
       "    </tr>\n",
       "  </thead>\n",
       "  <tbody>\n",
       "    <tr>\n",
       "      <th>Slide</th>\n",
       "      <td>58000000</td>\n",
       "    </tr>\n",
       "    <tr>\n",
       "      <th>freebase</th>\n",
       "      <td>57500000</td>\n",
       "    </tr>\n",
       "    <tr>\n",
       "      <th>OpenTable</th>\n",
       "      <td>48000000</td>\n",
       "    </tr>\n",
       "    <tr>\n",
       "      <th>Friendster</th>\n",
       "      <td>45400000</td>\n",
       "    </tr>\n",
       "    <tr>\n",
       "      <th>Snapfish</th>\n",
       "      <td>43500000</td>\n",
       "    </tr>\n",
       "  </tbody>\n",
       "</table>\n",
       "</div>"
      ],
      "text/plain": [
       "            raisedAmt\n",
       "company              \n",
       "Slide        58000000\n",
       "freebase     57500000\n",
       "OpenTable    48000000\n",
       "Friendster   45400000\n",
       "Snapfish     43500000"
      ]
     },
     "execution_count": 63,
     "metadata": {},
     "output_type": "execute_result"
    }
   ],
   "source": [
    "sf.pivot_table(\n",
    "    index='company',\n",
    "    values='raisedAmt',\n",
    "    aggfunc='sum'\n",
    ").round(2).sort_values('raisedAmt',ascending=False).head()"
   ]
  },
  {
   "cell_type": "code",
   "execution_count": 46,
   "metadata": {},
   "outputs": [
    {
     "data": {
      "text/plain": [
       "11    Palo Alto\n",
       "12    Palo Alto\n",
       "13    Palo Alto\n",
       "14    Palo Alto\n",
       "15    Palo Alto\n",
       "16    Palo Alto\n",
       "17    Palo Alto\n",
       "Name: city, dtype: category\n",
       "Categories (193, object): ['Acton', 'Agoura Hills', 'Alameda', 'Albuquerque', ..., 'Westwood', 'Winston-Salem', 'Woburn', 'Woodside']"
      ]
     },
     "execution_count": 46,
     "metadata": {},
     "output_type": "execute_result"
    }
   ],
   "source": [
    "tc[tc['company']=='Facebook']['city'] # Facebook berada di Palo Alto bukan San Fransisco"
   ]
  }
 ],
 "metadata": {
  "kernelspec": {
   "display_name": "da_newton",
   "language": "python",
   "name": "da_newton"
  },
  "language_info": {
   "codemirror_mode": {
    "name": "ipython",
    "version": 3
   },
   "file_extension": ".py",
   "mimetype": "text/x-python",
   "name": "python",
   "nbconvert_exporter": "python",
   "pygments_lexer": "ipython3",
   "version": "3.8.5"
  },
  "latex_envs": {
   "LaTeX_envs_menu_present": true,
   "autoclose": false,
   "autocomplete": true,
   "bibliofile": "biblio.bib",
   "cite_by": "apalike",
   "current_citInitial": 1,
   "eqLabelWithNumbers": true,
   "eqNumInitial": 1,
   "hotkeys": {
    "equation": "Ctrl-E",
    "itemize": "Ctrl-I"
   },
   "labels_anchors": false,
   "latex_user_defs": false,
   "report_style_numbering": false,
   "user_envs_cfg": false
  },
  "toc": {
   "base_numbering": 1,
   "nav_menu": {},
   "number_sections": true,
   "sideBar": true,
   "skip_h1_title": false,
   "title_cell": "Table of Contents",
   "title_sidebar": "Contents",
   "toc_cell": false,
   "toc_position": {},
   "toc_section_display": true,
   "toc_window_display": false
  }
 },
 "nbformat": 4,
 "nbformat_minor": 2
}
