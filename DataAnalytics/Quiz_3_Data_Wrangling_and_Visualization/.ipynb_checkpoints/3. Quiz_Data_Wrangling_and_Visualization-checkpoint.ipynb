{
 "cells": [
  {
   "cell_type": "code",
   "execution_count": 1,
   "metadata": {},
   "outputs": [],
   "source": [
    "import pandas as pd\n",
    "import matplotlib as plt"
   ]
  },
  {
   "cell_type": "markdown",
   "metadata": {},
   "source": [
    "# Graded Assignment\n",
    "\n",
    "## Data Preparation\n",
    "\n",
    "The data we're going to use is the invoice summary of a transaction data of an online retail shop provided from UCI Machine Learning [repository](https://archive.ics.uci.edu/ml/datasets/online+retail). All the transactions occurring between end of 2010 to end of 2011 for a UK-based and registered non-store online retail:\n",
    "\n",
    "- `InvoiceNo`: unique invoice ID\n",
    "- `UniqueItem`: number of unique item bought per transaction/invoice\n",
    "- `CustomerID`: customer identification\n",
    "- `Country`: customer's address country\n",
    "- `InvoiceDate`: date of transaction"
   ]
  },
  {
   "cell_type": "code",
   "execution_count": 2,
   "metadata": {
    "scrolled": true
   },
   "outputs": [
    {
     "data": {
      "text/html": [
       "<div>\n",
       "<style scoped>\n",
       "    .dataframe tbody tr th:only-of-type {\n",
       "        vertical-align: middle;\n",
       "    }\n",
       "\n",
       "    .dataframe tbody tr th {\n",
       "        vertical-align: top;\n",
       "    }\n",
       "\n",
       "    .dataframe thead th {\n",
       "        text-align: right;\n",
       "    }\n",
       "</style>\n",
       "<table border=\"1\" class=\"dataframe\">\n",
       "  <thead>\n",
       "    <tr style=\"text-align: right;\">\n",
       "      <th></th>\n",
       "      <th>UniqueItem</th>\n",
       "      <th>TotalPrice</th>\n",
       "      <th>CustomerID</th>\n",
       "      <th>Country</th>\n",
       "      <th>InvoiceDate</th>\n",
       "    </tr>\n",
       "    <tr>\n",
       "      <th>InvoiceNo</th>\n",
       "      <th></th>\n",
       "      <th></th>\n",
       "      <th></th>\n",
       "      <th></th>\n",
       "      <th></th>\n",
       "    </tr>\n",
       "  </thead>\n",
       "  <tbody>\n",
       "    <tr>\n",
       "      <th>536365</th>\n",
       "      <td>7</td>\n",
       "      <td>139.12</td>\n",
       "      <td>17850.0</td>\n",
       "      <td>United Kingdom</td>\n",
       "      <td>2010-12-01 08:26:00</td>\n",
       "    </tr>\n",
       "    <tr>\n",
       "      <th>536366</th>\n",
       "      <td>2</td>\n",
       "      <td>22.20</td>\n",
       "      <td>17850.0</td>\n",
       "      <td>United Kingdom</td>\n",
       "      <td>2010-12-01 08:28:00</td>\n",
       "    </tr>\n",
       "    <tr>\n",
       "      <th>536367</th>\n",
       "      <td>12</td>\n",
       "      <td>278.73</td>\n",
       "      <td>13047.0</td>\n",
       "      <td>United Kingdom</td>\n",
       "      <td>2010-12-01 08:34:00</td>\n",
       "    </tr>\n",
       "    <tr>\n",
       "      <th>536368</th>\n",
       "      <td>4</td>\n",
       "      <td>70.05</td>\n",
       "      <td>13047.0</td>\n",
       "      <td>United Kingdom</td>\n",
       "      <td>2010-12-01 08:34:00</td>\n",
       "    </tr>\n",
       "    <tr>\n",
       "      <th>536369</th>\n",
       "      <td>1</td>\n",
       "      <td>17.85</td>\n",
       "      <td>13047.0</td>\n",
       "      <td>United Kingdom</td>\n",
       "      <td>2010-12-01 08:35:00</td>\n",
       "    </tr>\n",
       "  </tbody>\n",
       "</table>\n",
       "</div>"
      ],
      "text/plain": [
       "           UniqueItem  TotalPrice  CustomerID         Country  \\\n",
       "InvoiceNo                                                       \n",
       "536365              7      139.12     17850.0  United Kingdom   \n",
       "536366              2       22.20     17850.0  United Kingdom   \n",
       "536367             12      278.73     13047.0  United Kingdom   \n",
       "536368              4       70.05     13047.0  United Kingdom   \n",
       "536369              1       17.85     13047.0  United Kingdom   \n",
       "\n",
       "                   InvoiceDate  \n",
       "InvoiceNo                       \n",
       "536365     2010-12-01 08:26:00  \n",
       "536366     2010-12-01 08:28:00  \n",
       "536367     2010-12-01 08:34:00  \n",
       "536368     2010-12-01 08:34:00  \n",
       "536369     2010-12-01 08:35:00  "
      ]
     },
     "execution_count": 2,
     "metadata": {},
     "output_type": "execute_result"
    }
   ],
   "source": [
    "invoice = pd.read_csv('data_input/retail_invoice.csv',index_col='InvoiceNo')\n",
    "invoice.head()"
   ]
  },
  {
   "cell_type": "markdown",
   "metadata": {},
   "source": [
    "Before you go any further, check the data `dtypes` and make sure all of our columns have stored in the correct data type!"
   ]
  },
  {
   "cell_type": "code",
   "execution_count": 3,
   "metadata": {},
   "outputs": [
    {
     "data": {
      "text/plain": [
       "UniqueItem       int64\n",
       "TotalPrice     float64\n",
       "CustomerID     float64\n",
       "Country         object\n",
       "InvoiceDate     object\n",
       "dtype: object"
      ]
     },
     "execution_count": 3,
     "metadata": {},
     "output_type": "execute_result"
    }
   ],
   "source": [
    "## Your code here\n",
    "invoice.dtypes"
   ]
  },
  {
   "cell_type": "code",
   "execution_count": 4,
   "metadata": {},
   "outputs": [
    {
     "data": {
      "text/plain": [
       "UniqueItem              int64\n",
       "TotalPrice            float64\n",
       "CustomerID            float64\n",
       "Country                object\n",
       "InvoiceDate    datetime64[ns]\n",
       "dtype: object"
      ]
     },
     "execution_count": 4,
     "metadata": {},
     "output_type": "execute_result"
    }
   ],
   "source": [
    "## Your code here\n",
    "invoice['InvoiceDate'] = invoice['InvoiceDate'].astype('datetime64')\n",
    "invoice.dtypes"
   ]
  },
  {
   "cell_type": "markdown",
   "metadata": {},
   "source": [
    "The company is planning for expansion and you were asked to observe their overseas market. Using any subsetting method you've learned, subset `invoice` by `Country` to get only **transactions from the countries outside the United Kingdom** and name it **`invoice_int`**!"
   ]
  },
  {
   "cell_type": "code",
   "execution_count": 6,
   "metadata": {},
   "outputs": [
    {
     "data": {
      "text/plain": [
       "array(['France', 'Australia', 'Netherlands', 'Germany', 'Norway', 'EIRE',\n",
       "       'Switzerland', 'Spain', 'Poland', 'Portugal', 'Italy', 'Belgium',\n",
       "       'Lithuania', 'Japan', 'Iceland', 'Channel Islands', 'Denmark',\n",
       "       'Cyprus', 'Sweden', 'Finland', 'Austria', 'Bahrain', 'Israel',\n",
       "       'Greece', 'Hong Kong', 'Singapore', 'Lebanon',\n",
       "       'United Arab Emirates', 'Saudi Arabia', 'Czech Republic', 'Canada',\n",
       "       'Unspecified', 'Brazil', 'USA', 'European Community', 'Malta'],\n",
       "      dtype=object)"
      ]
     },
     "execution_count": 6,
     "metadata": {},
     "output_type": "execute_result"
    }
   ],
   "source": [
    "## Your code here\n",
    "invoice_int = invoice[invoice['Country'] != 'United Kingdom']\n",
    "invoice_int['Country'].unique()"
   ]
  },
  {
   "cell_type": "markdown",
   "metadata": {},
   "source": [
    "## Data Wrangling & Visualization\n",
    "\n",
    "**Task 1**:  \n",
    "Using the `invoice_int` data, create a bar chart which shows the company **top 5** largest overseas market by **total** revenue (`TotalPrice`)!\n",
    "\n",
    "*Hint*:\n",
    "- Perform a group by aggregation to get the total (`sum`) revenue (`TotalPrice`) by each country and subset only top 5 countries with the highest value.\n",
    "- Pair the dataframe with `.plot()` to get the barchart."
   ]
  },
  {
   "cell_type": "code",
   "execution_count": 23,
   "metadata": {},
   "outputs": [
    {
     "data": {
      "text/plain": [
       "<AxesSubplot:xlabel='Country'>"
      ]
     },
     "execution_count": 23,
     "metadata": {},
     "output_type": "execute_result"
    },
    {
     "data": {
      "image/png": "[encoded data removed]",
      "text/plain": [
       "<Figure size 432x288 with 1 Axes>"
      ]
     },
     "metadata": {
      "needs_background": "light"
     },
     "output_type": "display_data"
    }
   ],
   "source": [
    "#1\n",
    "invoice_int.groupby('Country').sum()[['TotalPrice']].sort_values('TotalPrice', ascending=False).head(6).plot(kind='bar')"
   ]
  },
  {
   "cell_type": "markdown",
   "metadata": {},
   "source": [
    "1. When creating a bar chart, we should also consider what order in which we will plot the bars. Sorting the bars by the right order reduce the burden on the reader to make the comparisons. What ordering do you think the bars within the *Task 1* barchart should be presented?\n",
    "    - [ ] by Country: `sort_values('Country', ascending = False).plot(kind='bar')`\n",
    "    - [ ] by Country: `sort_values('Country').plot(kind='barh')`\n",
    "    - [X] **by Value: `sort_values('TotalPrice', ascending=False).plot(kind='bar')`**\n",
    "    - [ ] by Value: `sort_values('TotalPrice').plot()`\n",
    "\n",
    "2. From the chart you just created, which of the following is **not** among the top 5 largest market outside the United Kingdom?\n",
    "    - [ ] Netherland\n",
    "    - [ ] EIRE\n",
    "    - [ ] Germany\n",
    "    - [X] **Spain** "
   ]
  },
  {
   "cell_type": "markdown",
   "metadata": {},
   "source": [
    "**Task 2**:  \n",
    "A common way to inspecting data statistically is by using boxplot, a handy visualization tools that provide five number summary for your data. \n",
    "\n",
    "The boxplot below compares the monthly summary of each overseas market total revenue;\n",
    "- Each data point represents the country total revenue (`TotalPrice`)\n",
    "- The x and y axis represents the monthly period and total monthly revenue respectively.\n",
    "\n",
    "![](assets/task2.png)\n",
    "\n",
    "3. From the boxplot above, which of the following statements is **TRUE**?\n",
    "    - [ ] The highest market revenue in January 2011 was around 18,000 USD\n",
    "    - [ ] In 2011, the total monthly revenue in February was higher than March\n",
    "    - [ ] The median revenue appeared to be highest in May 2011.\n",
    "    - [X] **In 2011, there were more countries that happen to be outliers in April than June.**\n",
    "    \n",
    "    \n",
    "4. Try to recreate the boxplot above by fill in the blank codes:\n",
    "\n",
    "```\n",
    "invoice_int['InvoiceMonth'] = invoice_int['InvoiceDate'].dt.to_period('M')\n",
    "\n",
    "invoice_monthly = invoice_int.\\\n",
    "groupby(_______).\\\n",
    "agg({'TotalPrice': 'sum'})\n",
    "\n",
    "invoice_monthly.\\\n",
    "boxplot(column = _______, by=_______)\n",
    "```\n",
    "   - [ ] `['Country']`, `'TotalPrice'`, `'Country'`\n",
    "   - [ ] `['InvoiceMonth']`, `'TotalPrice'`, `'InvoiceMonth'`\n",
    "   - [X] **`['Country','InvoiceMonth']`, `'TotalPrice'`, `'InvoiceMonth'`**\n",
    "   - [ ] `['InvoiceMonth','Country']`, `'InvoiceMonth'`, `'TotalPrice'`"
   ]
  },
  {
   "cell_type": "code",
   "execution_count": 9,
   "metadata": {},
   "outputs": [
    {
     "name": "stderr",
     "output_type": "stream",
     "text": [
      "C:\\Users\\stefa\\anaconda3\\envs\\newton_dwv\\lib\\site-packages\\ipykernel_launcher.py:2: SettingWithCopyWarning: \n",
      "A value is trying to be set on a copy of a slice from a DataFrame.\n",
      "Try using .loc[row_indexer,col_indexer] = value instead\n",
      "\n",
      "See the caveats in the documentation: https://pandas.pydata.org/pandas-docs/stable/user_guide/indexing.html#returning-a-view-versus-a-copy\n",
      "  \n"
     ]
    },
    {
     "data": {
      "text/plain": [
       "<AxesSubplot:title={'center':'TotalPrice'}, xlabel='InvoiceMonth'>"
      ]
     },
     "execution_count": 9,
     "metadata": {},
     "output_type": "execute_result"
    },
    {
     "data": {
      "image/png": "[encoded data removed]",
      "text/plain": [
       "<Figure size 432x288 with 1 Axes>"
      ]
     },
     "metadata": {
      "needs_background": "light"
     },
     "output_type": "display_data"
    }
   ],
   "source": [
    "## Your code here\n",
    "invoice_int['InvoiceMonth'] = invoice_int['InvoiceDate'].dt.to_period('M')\n",
    "\n",
    "invoice_monthly = invoice_int.\\\n",
    "groupby(['Country','InvoiceMonth']).\\\n",
    "agg({'TotalPrice': 'sum'})\n",
    "\n",
    "invoice_monthly.\\\n",
    "boxplot(column = 'TotalPrice', by='InvoiceMonth')\n",
    "\n"
   ]
  },
  {
   "cell_type": "markdown",
   "metadata": {},
   "source": [
    "**Task 3**:\n",
    "\n",
    "Based on the previous boxplot, we found that in June 2011, there were 3 countries with unusually high `TotalPrice`. By fill in the blank codes below, you could identify those outliers by subsetting `invoice_monthly` with the maximum value/upper whisker of the boxplot:\n",
    "\n",
    "```\n",
    "june_invoice = invoice_monthly.xs(key = _______, level= _______)\n",
    "june_outliers = june_invoice[june_invoice['TotalPrice'] > 13000]\n",
    "\n",
    "june_outliers\n",
    "```\n",
    "\n",
    "5. Which countries are **NOT** included in `june_outliers` table/dataframe?\n",
    "   - [X] **Germany**\n",
    "   - [ ] France\n",
    "   - [ ] Australia\n",
    "   - [ ] EIRE"
   ]
  },
  {
   "cell_type": "code",
   "execution_count": 25,
   "metadata": {
    "scrolled": false
   },
   "outputs": [
    {
     "data": {
      "text/html": [
       "<div>\n",
       "<style scoped>\n",
       "    .dataframe tbody tr th:only-of-type {\n",
       "        vertical-align: middle;\n",
       "    }\n",
       "\n",
       "    .dataframe tbody tr th {\n",
       "        vertical-align: top;\n",
       "    }\n",
       "\n",
       "    .dataframe thead th {\n",
       "        text-align: right;\n",
       "    }\n",
       "</style>\n",
       "<table border=\"1\" class=\"dataframe\">\n",
       "  <thead>\n",
       "    <tr style=\"text-align: right;\">\n",
       "      <th></th>\n",
       "      <th>TotalPrice</th>\n",
       "    </tr>\n",
       "    <tr>\n",
       "      <th>Country</th>\n",
       "      <th></th>\n",
       "    </tr>\n",
       "  </thead>\n",
       "  <tbody>\n",
       "    <tr>\n",
       "      <th>Australia</th>\n",
       "      <td>23426.81</td>\n",
       "    </tr>\n",
       "    <tr>\n",
       "      <th>EIRE</th>\n",
       "      <td>19551.94</td>\n",
       "    </tr>\n",
       "    <tr>\n",
       "      <th>France</th>\n",
       "      <td>16012.89</td>\n",
       "    </tr>\n",
       "  </tbody>\n",
       "</table>\n",
       "</div>"
      ],
      "text/plain": [
       "           TotalPrice\n",
       "Country              \n",
       "Australia    23426.81\n",
       "EIRE         19551.94\n",
       "France       16012.89"
      ]
     },
     "execution_count": 25,
     "metadata": {},
     "output_type": "execute_result"
    }
   ],
   "source": [
    "## Your code here:\n",
    "june_invoice = invoice_monthly.xs(key = '2011-06', level='InvoiceMonth',axis=0)\n",
    "june_outliers = june_invoice[june_invoice['TotalPrice'] > 13000]\n",
    "\n",
    "june_outliers"
   ]
  },
  {
   "cell_type": "markdown",
   "metadata": {},
   "source": [
    "6. Copy down the code below to create a dataframe of quarterly summary of total revenue from the countries in `june_outliers`: \n",
    "```\n",
    "invoice_int['Quarter'] = invoice_int['InvoiceDate'].dt.to_period('Q')\n",
    "invoice_topq = invoice_int.groupby(['Country','Quarter']).\\\n",
    "                 agg({'TotalPrice' : 'sum'}).\\\n",
    "                 loc[june_outliers.axes[0],]\n",
    "invoice_topq\n",
    "```\n",
    "Which of the following code shows the *most efficient* **grouped bar chart** to compare **quarterly revenue growth** in `invoice_topq`?    \n",
    "    - [ ] `invoice_topq.plot(kind='bar')`\n",
    "    - [ ] `invoice_topq.unstack().plot(kind = 'bar',stacked=True)`\n",
    "    - [X] **`invoice_topq.unstack(level = 'Country').plot(kind='barh')`**\n",
    "    - [ ] `invoice_topq.unstack(level = 'Country').plot(kind='bar')`"
   ]
  },
  {
   "cell_type": "code",
   "execution_count": 22,
   "metadata": {},
   "outputs": [
    {
     "name": "stderr",
     "output_type": "stream",
     "text": [
      "C:\\Users\\stefa\\anaconda3\\envs\\newton_dwv\\lib\\site-packages\\ipykernel_launcher.py:2: SettingWithCopyWarning: \n",
      "A value is trying to be set on a copy of a slice from a DataFrame.\n",
      "Try using .loc[row_indexer,col_indexer] = value instead\n",
      "\n",
      "See the caveats in the documentation: https://pandas.pydata.org/pandas-docs/stable/user_guide/indexing.html#returning-a-view-versus-a-copy\n",
      "  \n"
     ]
    },
    {
     "data": {
      "text/html": [
       "<div>\n",
       "<style scoped>\n",
       "    .dataframe tbody tr th:only-of-type {\n",
       "        vertical-align: middle;\n",
       "    }\n",
       "\n",
       "    .dataframe tbody tr th {\n",
       "        vertical-align: top;\n",
       "    }\n",
       "\n",
       "    .dataframe thead th {\n",
       "        text-align: right;\n",
       "    }\n",
       "</style>\n",
       "<table border=\"1\" class=\"dataframe\">\n",
       "  <thead>\n",
       "    <tr style=\"text-align: right;\">\n",
       "      <th></th>\n",
       "      <th></th>\n",
       "      <th>TotalPrice</th>\n",
       "    </tr>\n",
       "    <tr>\n",
       "      <th>Country</th>\n",
       "      <th>Quarter</th>\n",
       "      <th></th>\n",
       "    </tr>\n",
       "  </thead>\n",
       "  <tbody>\n",
       "    <tr>\n",
       "      <th rowspan=\"3\" valign=\"top\">Australia</th>\n",
       "      <th>2010Q4</th>\n",
       "      <td>1032.85</td>\n",
       "    </tr>\n",
       "    <tr>\n",
       "      <th>2011Q1</th>\n",
       "      <td>40937.12</td>\n",
       "    </tr>\n",
       "    <tr>\n",
       "      <th>2011Q2</th>\n",
       "      <td>37836.82</td>\n",
       "    </tr>\n",
       "    <tr>\n",
       "      <th rowspan=\"3\" valign=\"top\">EIRE</th>\n",
       "      <th>2010Q4</th>\n",
       "      <td>10033.26</td>\n",
       "    </tr>\n",
       "    <tr>\n",
       "      <th>2011Q1</th>\n",
       "      <td>56350.44</td>\n",
       "    </tr>\n",
       "    <tr>\n",
       "      <th>2011Q2</th>\n",
       "      <td>45131.20</td>\n",
       "    </tr>\n",
       "    <tr>\n",
       "      <th rowspan=\"3\" valign=\"top\">France</th>\n",
       "      <th>2010Q4</th>\n",
       "      <td>9616.31</td>\n",
       "    </tr>\n",
       "    <tr>\n",
       "      <th>2011Q1</th>\n",
       "      <td>40845.63</td>\n",
       "    </tr>\n",
       "    <tr>\n",
       "      <th>2011Q2</th>\n",
       "      <td>39157.38</td>\n",
       "    </tr>\n",
       "  </tbody>\n",
       "</table>\n",
       "</div>"
      ],
      "text/plain": [
       "                   TotalPrice\n",
       "Country   Quarter            \n",
       "Australia 2010Q4      1032.85\n",
       "          2011Q1     40937.12\n",
       "          2011Q2     37836.82\n",
       "EIRE      2010Q4     10033.26\n",
       "          2011Q1     56350.44\n",
       "          2011Q2     45131.20\n",
       "France    2010Q4      9616.31\n",
       "          2011Q1     40845.63\n",
       "          2011Q2     39157.38"
      ]
     },
     "execution_count": 22,
     "metadata": {},
     "output_type": "execute_result"
    }
   ],
   "source": [
    "## Your code here:\n",
    "invoice_int['Quarter'] = invoice_int['InvoiceDate'].dt.to_period('Q')\n",
    "invoice_topq = invoice_int.groupby(['Country','Quarter']).\\\n",
    "              agg({'TotalPrice' : 'sum'}).\\\n",
    "              loc[june_outliers.axes[0],]\n",
    "invoice_topq"
   ]
  },
  {
   "cell_type": "code",
   "execution_count": 16,
   "metadata": {},
   "outputs": [
    {
     "data": {
      "text/plain": [
       "<AxesSubplot:xlabel='Country,Quarter'>"
      ]
     },
     "execution_count": 16,
     "metadata": {},
     "output_type": "execute_result"
    },
    {
     "data": {
      "image/png": "[encoded data removed]",
      "text/plain": [
       "<Figure size 432x288 with 1 Axes>"
      ]
     },
     "metadata": {
      "needs_background": "light"
     },
     "output_type": "display_data"
    }
   ],
   "source": [
    "# ga mungkin ini kan? bingung usernya liat per negara pisah2\n",
    "invoice_topq.plot(kind='bar')"
   ]
  },
  {
   "cell_type": "code",
   "execution_count": 18,
   "metadata": {},
   "outputs": [
    {
     "data": {
      "text/plain": [
       "<AxesSubplot:xlabel='Country'>"
      ]
     },
     "execution_count": 18,
     "metadata": {},
     "output_type": "execute_result"
    },
    {
     "data": {
      "image/png": "[encoded data removed]",
      "text/plain": [
       "<Figure size 432x288 with 1 Axes>"
      ]
     },
     "metadata": {
      "needs_background": "light"
     },
     "output_type": "display_data"
    }
   ],
   "source": [
    "# Yang ini oke sih, tapikan ketutup sama box keterangan?\n",
    "invoice_topq.unstack().plot(kind = 'bar',stacked=True)"
   ]
  },
  {
   "cell_type": "code",
   "execution_count": 20,
   "metadata": {},
   "outputs": [
    {
     "data": {
      "text/plain": [
       "<AxesSubplot:ylabel='Quarter'>"
      ]
     },
     "execution_count": 20,
     "metadata": {},
     "output_type": "execute_result"
    },
    {
     "data": {
      "image/png": "[encoded data removed]",
      "text/plain": [
       "<Figure size 432x288 with 1 Axes>"
      ]
     },
     "metadata": {
      "needs_background": "light"
     },
     "output_type": "display_data"
    }
   ],
   "source": [
    "# yang ini sih harusnya, lebih enak liat perbandingan secara horizontal daripada vertikal (*menurut mas TA David)\n",
    "invoice_topq.unstack(level = 'Country').plot(kind='barh')"
   ]
  },
  {
   "cell_type": "code",
   "execution_count": 21,
   "metadata": {},
   "outputs": [
    {
     "data": {
      "text/plain": [
       "<AxesSubplot:xlabel='Quarter'>"
      ]
     },
     "execution_count": 21,
     "metadata": {},
     "output_type": "execute_result"
    },
    {
     "data": {
      "image/png": "[encoded data removed]",
      "text/plain": [
       "<Figure size 432x288 with 1 Axes>"
      ]
     },
     "metadata": {
      "needs_background": "light"
     },
     "output_type": "display_data"
    }
   ],
   "source": [
    "# yang ini udah oke,tapi ketutup dikit box keterangan, susah baca nama quarter, trus susah bandingin kalo lurus keatas (*menurut mas TA David)\n",
    "invoice_topq.unstack(level = 'Country').plot(kind='bar')"
   ]
  },
  {
   "cell_type": "code",
   "execution_count": null,
   "metadata": {},
   "outputs": [],
   "source": []
  }
 ],
 "metadata": {
  "kernelspec": {
   "display_name": "newton_dwv",
   "language": "python",
   "name": "newton_dwv"
  },
  "language_info": {
   "codemirror_mode": {
    "name": "ipython",
    "version": 3
   },
   "file_extension": ".py",
   "mimetype": "text/x-python",
   "name": "python",
   "nbconvert_exporter": "python",
   "pygments_lexer": "ipython3",
   "version": "3.7.9"
  },
  "latex_envs": {
   "LaTeX_envs_menu_present": true,
   "autoclose": false,
   "autocomplete": true,
   "bibliofile": "biblio.bib",
   "cite_by": "apalike",
   "current_citInitial": 1,
   "eqLabelWithNumbers": true,
   "eqNumInitial": 1,
   "hotkeys": {
    "equation": "Ctrl-E",
    "itemize": "Ctrl-I"
   },
   "labels_anchors": false,
   "latex_user_defs": false,
   "report_style_numbering": false,
   "user_envs_cfg": false
  },
  "toc": {
   "base_numbering": 1,
   "nav_menu": {},
   "number_sections": true,
   "sideBar": true,
   "skip_h1_title": false,
   "title_cell": "Table of Contents",
   "title_sidebar": "Contents",
   "toc_cell": false,
   "toc_position": {},
   "toc_section_display": true,
   "toc_window_display": false
  }
 },
 "nbformat": 4,
 "nbformat_minor": 2
}
