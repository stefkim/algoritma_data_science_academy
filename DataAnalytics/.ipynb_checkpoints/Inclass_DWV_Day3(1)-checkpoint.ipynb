{
 "cells": [
  {
   "cell_type": "markdown",
   "metadata": {},
   "source": [
    "**Inclass material for Week 3: Data Wrangling and Visualization**\n",
    "\n",
    "This notebook was made based on main materials `3_Reshaping_Visualization.ipynb`\n",
    "\n",
    "Version: Newton - February 2021"
   ]
  },
  {
   "cell_type": "markdown",
   "metadata": {},
   "source": [
    "---\n",
    "**START OF DAY 1**"
   ]
  },
  {
   "cell_type": "markdown",
   "metadata": {},
   "source": [
    "# Data Wrangling and Visualization\n",
    "\n",
    "Berikut adalah method yang telah kita pelajari di dua course sebelumnya:\n",
    "\n",
    "**Data Inspection** (Course: Python for Data Analysts)\n",
    "- `.head()` and `.tail()`\n",
    "- `.describe()`\n",
    "- `.shape` and `.size`\n",
    "- `.axes`\n",
    "- `.dtypes`\n",
    "- Subsetting using `.loc`, `.iloc` and conditionals\n",
    "\n",
    "**Diagnostic and Exploratory** (Course: Exploratory Data Analysis)\n",
    "- Tables\n",
    "- Cross-Tables and Aggregates\n",
    "- Using `aggfunc` for aggregate functions\n",
    "- Pivot Tables\n",
    "- Working with DateTime\n",
    "- Working with Categorical Data\n",
    "- Duplicates and Missing Value Treatment\n",
    "\n",
    "---\n",
    "\n",
    "**Training Objectives for Course Data Wrangling and Visualization**\n",
    "\n",
    "- Working with MultiIndex DataFrames\n",
    "- Stacking and Unstacking\n",
    "- Reshaping your DataFrame with Melt\n",
    "- Using Group By Effectively\n",
    "- Visual Data Exploratory"
   ]
  },
  {
   "cell_type": "markdown",
   "metadata": {},
   "source": [
    "# Reproducible Environment\n",
    "\n",
    "Bayangkan Anda sedang mengerjakan suatu proyek yang membutuhkan kolaborasi dengan tim. Proyek tersebut diinisiasi oleh Anda, code dan packages pada komputer Anda berjalan dengan baik. Kemudian Anda ingin membagikan proyek tersebut kepada tim Anda. Apakah tim Anda harus melakukan instalasi package satu per satu secara manual? Tentu tidak, di sini Anda membuat suatu **environment** yang dapat di-reproducible (digandakan) dengan membuat suatu file `requirements.txt`.\n",
    "\n",
    "Lihat pada folder `/assets`, Anda akan menemukan file `requirements.txt` yang isinya seperti ini:\n",
    "```\n",
    "backcall==0.1.0\n",
    "certifi==2019.11.28\n",
    "chardet==3.0.4\n",
    "cycler==0.10.0\n",
    "decorator==4.4.0\n",
    "idna==2.9\n",
    "ipython==7.7.0\n",
    "...\n",
    "```\n",
    "\n",
    "File ini berisi daftar **packages beserta versinya** yang ada di environment dalam menjalankan proyek tertentu. File ini membantu tim Anda untuk mengembangkan suatu aplikasi dalam satu versi yang sama, sehingga mencegah terjadinya perubahan fungsi-fungsi yang tidak terduga."
   ]
  },
  {
   "cell_type": "markdown",
   "metadata": {},
   "source": [
    "## Importing Requirements\n",
    "\n",
    "Misal Anda yang meneruskan proyek dan telah menerima file `txt` dari tim Anda, maka lakukanlah langkah berikut:\n",
    "\n",
    "### File `txt`\n",
    "\n",
    "1. Siapkan environment yang kosong\n",
    "```\n",
    "conda create -n <ENV_NAME> python=<PYTHON_VERSION>\n",
    "```\n",
    "\n",
    "2. Aktifkan environment tersebut\n",
    "```\n",
    "conda activate <ENV_NAME>\n",
    "```\n",
    "\n",
    "3. Navigasikan path ke folder di mana file `requirements_dwv.txt` berada\n",
    "```\n",
    "cd <PATH_TO_REQUIREMENTS>\n",
    "```\n",
    "\n",
    "4. Instalasi packages dari file tersebut\n",
    "```\n",
    "pip install -r requirements_dwv.txt\n",
    "```\n",
    "\n",
    "### (Optional) File `yml`\n",
    "\n",
    "1. Navigasikan path ke folder di mana file `environment.yml` berada\n",
    "```\n",
    "cd <PATH_TO_ENVIRONMENT>\n",
    "```\n",
    "\n",
    "2. Ketikkan command berikut di base environment:\n",
    "```\n",
    "conda env create -f environment.yml\n",
    "```\n",
    "\n",
    "Reference: [Creating an environment from yml file](https://docs.conda.io/projects/conda/en/latest/user-guide/tasks/manage-environments.html#creating-an-environment-from-an-environment-yml-file)\n",
    "\n",
    "⚠️ Jangan lupa instalasi kernel di dalam environment tersebut apabila ingin dapat diakses menggunakan jupyter notebook:\n",
    "```\n",
    "pip install ipykernel\n",
    "python -m ipykernel install --user --name=<ENV_NAME>\n",
    "```"
   ]
  },
  {
   "cell_type": "markdown",
   "metadata": {},
   "source": [
    "## Exporting Requirements\n",
    "\n",
    "Misal Anda ingin membagikan daftar packages suatu environment kepada tim Anda, maka lakukanlah langkah berikut:\n",
    "\n",
    "1. Aktifkan environment\n",
    "```\n",
    "conda activate <ENV_NAME>\n",
    "```\n",
    "\n",
    "2. Navigasikan path ke folder tempat di mana file `requirements.txt` ingin disimpan\n",
    "```\n",
    "cd <PATH_TO_REQUIREMENTS_FOLDER>\n",
    "```\n",
    "\n",
    "3. Export environment\n",
    "\n",
    "    - File `txt`: Command `freeze` digunakan untuk export daftar packages beserta versinya dalam format tertentu.\n",
    "    ```\n",
    "    pip freeze > requirements.txt\n",
    "    ```\n",
    "\n",
    "    - (Optional) File `yml`:\n",
    "    ```\n",
    "    conda env export > environment.yml\n",
    "    ```\n",
    "\n",
    "💡 Anda dapat menyimpan file dengan nama lain, namun sebagai **konvensi** biasa digunakan penamaan `requirements.txt` ataupun `environment.yml`."
   ]
  },
  {
   "cell_type": "markdown",
   "metadata": {},
   "source": [
    "# Data Wrangling and Reshaping"
   ]
  },
  {
   "cell_type": "markdown",
   "metadata": {},
   "source": [
    "## Load Data\n",
    "\n",
    "### `pandas_datareader`\n",
    "\n",
    "Kita akan menggunakan library `pandas_datareader` untuk mengakses data saham yang tersedia pada [Yahoo! Finance](https://finance.yahoo.com/). Penarikan data menggunakan `pandas_datareader` membutuhkan koneksi internet.\n",
    "\n",
    "Dokumentasi: https://pydata.github.io/pandas-datareader/"
   ]
  },
  {
   "cell_type": "code",
   "execution_count": null,
   "metadata": {},
   "outputs": [],
   "source": [
    "from pandas_datareader import data\n",
    "import pandas as pd"
   ]
  },
  {
   "cell_type": "code",
   "execution_count": null,
   "metadata": {
    "scrolled": false
   },
   "outputs": [],
   "source": [
    "# symbol = ['BBCA.JK', 'UNVR.JK']\n",
    "# source = 'yahoo'\n",
    "# start_date = '2021-01-04'\n",
    "# end_date = '2021-02-19'\n",
    "# stock = data.DataReader(symbol, source, start_date, end_date)\n",
    "# stock.tail()"
   ]
  },
  {
   "cell_type": "markdown",
   "metadata": {},
   "source": [
    "Source:\n",
    "- `AAPL`: Apple Inc.\n",
    "- `FB`: Facebook, Inc.\n",
    "- `GOOGL`: Alphabet Inc. (Google)\n",
    "\n",
    "Data description:\n",
    "- `Date` - specifies trading date in `yyyy-mm-dd` format\n",
    "- `High` - maximum price of the day\n",
    "- `Low` - minimum price of the day\n",
    "- `Open` - opening price at the start of the day\n",
    "- `Close` - closing price at the end of the day\n",
    "- `Adj Close` - adjusted closing price for both dividends and splits\n",
    "- `Volume` - the number of shares that changed hands during a given day\n",
    "\n",
    "The trading hours of [different stock markets differ](https://www.maybank-ke.com.sg/markets/markets-listing/trading-hours/) (the NYSE for example open its market floor from 9.30am to 4pm five days a week)."
   ]
  },
  {
   "cell_type": "markdown",
   "metadata": {},
   "source": [
    "### File Pickle\n",
    "\n",
    "Pickling/Serializing: **menyimpan** suatu objek Python ke sebuah file binary (byte stream).\n",
    "- Gunakan method `.to_pickle()`\n",
    "- Contohnya objek DataFrame `stock` disimpan sebagai file `stock_2`:"
   ]
  },
  {
   "cell_type": "code",
   "execution_count": null,
   "metadata": {},
   "outputs": [],
   "source": [
    "# stock.to_pickle('data_cache/stock_2')\n",
    "# kemudian silahkan cek file pickle pada folder di mana file .ipynb ini berada"
   ]
  },
  {
   "cell_type": "markdown",
   "metadata": {},
   "source": [
    "Unpickling/De-serializing: **membaca** suatu objek Python dari sebuah file binary (byte stream). \n",
    "- Gunakan method `pd.read_pickle()`\n",
    "- Untuk selanjutnya, mari kita gunakan file pickle pada `data_cache/stock` yang untuk tanggal 2 Januari 2018 sampai 24 April 2019."
   ]
  },
  {
   "cell_type": "code",
   "execution_count": null,
   "metadata": {
    "scrolled": true
   },
   "outputs": [],
   "source": [
    "stock = pd.read_pickle('data_cache/stock')\n",
    "stock.head()"
   ]
  },
  {
   "cell_type": "markdown",
   "metadata": {},
   "source": [
    "💡 Tips: Dengan menggunakan file pickle kita \"mengawetkan\" struktur dari object Python, misal untuk DataFrame dapat terjaga tipe data dan indexnya."
   ]
  },
  {
   "cell_type": "code",
   "execution_count": null,
   "metadata": {
    "run_control": {
     "marked": false
    }
   },
   "outputs": [],
   "source": [
    "# membuat dummy data lalu konversi tipe data\n",
    "dummy = pd.DataFrame({\n",
    "    'id': [1, 2, 3, 4],\n",
    "    'gender': ['Male', 'Female', 'Male', 'Female'],\n",
    "    'join_date': ['22 Feb 2021', '23 Feb 2021', '24 Feb 2021', '25 Feb 2021']\n",
    "})\n",
    "dummy['gender'] = dummy['gender'].astype('category')\n",
    "dummy['join_date'] = dummy['join_date'].astype('datetime64')\n",
    "dummy.dtypes"
   ]
  },
  {
   "cell_type": "code",
   "execution_count": null,
   "metadata": {},
   "outputs": [],
   "source": [
    "dummy"
   ]
  },
  {
   "cell_type": "code",
   "execution_count": null,
   "metadata": {},
   "outputs": [],
   "source": [
    "# simpan ke pickle\n",
    "dummy.to_pickle('data_cache/dummy')\n",
    "\n",
    "# baca dari pickle dan cek tipe data\n",
    "pd.read_pickle('data_cache/dummy').dtypes"
   ]
  },
  {
   "cell_type": "markdown",
   "metadata": {},
   "source": [
    "Bandingkan dengan menyimpannya ke file text biasa, yaitu csv misalnya:"
   ]
  },
  {
   "cell_type": "code",
   "execution_count": null,
   "metadata": {},
   "outputs": [],
   "source": [
    "# simpan ke file csv\n",
    "dummy.to_csv('data_cache/dummy.csv', index=False)\n",
    "\n",
    "# baca dari csv dan cek tipe data\n",
    "pd.read_csv('data_cache/dummy.csv').dtypes"
   ]
  },
  {
   "cell_type": "markdown",
   "metadata": {},
   "source": [
    "Note:\n",
    "\n",
    "- file pickle cenderung lebih kecil file sizenya dibandingkan file csv (apabila data sudah cukup besar)\n",
    "- file pickle ini hanya dapat di load menggunakan bahasa Python"
   ]
  },
  {
   "cell_type": "markdown",
   "metadata": {},
   "source": [
    "## Slicing Multi-Index DataFrame\n",
    "Perhatikan bahwa `stock` adalah Multi-Index DataFrame, dimana level dari column-nya terdiri dari: `Attributes` dan `Symbols`:"
   ]
  },
  {
   "cell_type": "code",
   "execution_count": null,
   "metadata": {},
   "outputs": [],
   "source": [
    "stock.index"
   ]
  },
  {
   "cell_type": "code",
   "execution_count": null,
   "metadata": {
    "scrolled": false
   },
   "outputs": [],
   "source": [
    "stock.columns"
   ]
  },
  {
   "cell_type": "markdown",
   "metadata": {},
   "source": [
    "Ketika kita subset menggunakan `[]`, maka kita hanya bisa mengakses kolom dengan level teratas, yaitu untuk `Attributes`. Melakukan subset pada kolom `High` akan menghasilkan DataFrame single index dengan `Symbols` sebagai levelnya."
   ]
  },
  {
   "cell_type": "code",
   "execution_count": null,
   "metadata": {
    "scrolled": false
   },
   "outputs": [],
   "source": [
    "stock['High']"
   ]
  },
  {
   "cell_type": "markdown",
   "metadata": {},
   "source": [
    "**Masalah:** Bagaimana caranya apabila kita ingin mengambil semua nilai `Attributes` untuk saham `GOOGL` saja?"
   ]
  },
  {
   "cell_type": "code",
   "execution_count": null,
   "metadata": {},
   "outputs": [],
   "source": [
    "# stock['GOOGL']\n",
    "# KeyError: 'GOOGL'"
   ]
  },
  {
   "cell_type": "markdown",
   "metadata": {},
   "source": [
    "**Solusi:** Kita harus menggunakan method `.xs()` (cross-section) untuk mengambil kolom (`axis=1`) pada level dalam"
   ]
  },
  {
   "cell_type": "code",
   "execution_count": null,
   "metadata": {
    "scrolled": true
   },
   "outputs": [],
   "source": [
    "stock.head()"
   ]
  },
  {
   "cell_type": "markdown",
   "metadata": {},
   "source": [
    "- `key`: kolom yang kita ingin ambil\n",
    "- `level`: kolom tersebut ada di level apa?\n",
    "- `axis=1`: merujuk pada kolom"
   ]
  },
  {
   "cell_type": "code",
   "execution_count": null,
   "metadata": {},
   "outputs": [],
   "source": [
    "stock.xs(key = \"GOOGL\", level = \"Symbols\", axis = 1)"
   ]
  },
  {
   "cell_type": "markdown",
   "metadata": {},
   "source": [
    "### Dive Deeper\n",
    "\n",
    "1. Create a DataFrame by subsetting only the `Close` columns. Name it `closingprice`. \n",
    "2. Use `.isna().sum()` to count the number of missing values in each of the columns present in `closingprice`. Is there any missing values?"
   ]
  },
  {
   "cell_type": "code",
   "execution_count": null,
   "metadata": {
    "scrolled": false
   },
   "outputs": [],
   "source": [
    "# your code here\n",
    "closingprice = stock['Close']\n",
    "closingprice.isna().sum()"
   ]
  },
  {
   "cell_type": "markdown",
   "metadata": {},
   "source": [
    "Perhatikan index baris dari `stock`, terdapat beberapa hari yang terlewati dan tidak ada datanya seperti 2018-01-01, 2018-01-06, dan 2018-01-07. Pada akhir pekan serta hari libur nasional, semua pasar saham tutup."
   ]
  },
  {
   "cell_type": "code",
   "execution_count": null,
   "metadata": {
    "scrolled": true
   },
   "outputs": [],
   "source": [
    "stock.head()"
   ]
  },
  {
   "cell_type": "markdown",
   "metadata": {},
   "source": [
    "Ketika kita bekerja dengan data runtun waktu (time series), kita harus memastikan data lengkap pada setiap periode waktu. Untuk kasus di atas kita harus melakukan **padding**, yaitu menyelipkan tanggal yang terlewati. Kita dapat mengatur ulang index `Date` dengan method `reindex()` sehingga indexnya mengikuti rentang tanggal yang kita tentukan sendiri:"
   ]
  },
  {
   "cell_type": "code",
   "execution_count": null,
   "metadata": {
    "scrolled": true
   },
   "outputs": [],
   "source": [
    "# data tanggal per harian dari 1 Januari sampai 31 Maret 2019\n",
    "pd.date_range(start=\"2019-01-01\", end=\"2019-03-31\")"
   ]
  },
  {
   "cell_type": "code",
   "execution_count": null,
   "metadata": {
    "scrolled": true
   },
   "outputs": [],
   "source": [
    "closingprice = stock['Close']\n",
    "quarter1 = pd.date_range(start=\"2019-01-01\", end=\"2019-03-31\")\n",
    "closingprice = closingprice.reindex(quarter1)\n",
    "closingprice.head(8)"
   ]
  },
  {
   "cell_type": "markdown",
   "metadata": {},
   "source": [
    "Cek kembali missing value `NaN` yang terdapat pada `closingprice`:"
   ]
  },
  {
   "cell_type": "code",
   "execution_count": null,
   "metadata": {},
   "outputs": [],
   "source": [
    "# your code here\n",
    "closingprice.isna().sum()"
   ]
  },
  {
   "cell_type": "markdown",
   "metadata": {},
   "source": [
    "**Diskusi:** Bagaimana cara kita mengisi missing value tersebut?"
   ]
  },
  {
   "cell_type": "code",
   "execution_count": null,
   "metadata": {
    "scrolled": true
   },
   "outputs": [],
   "source": [
    "# your code here\n",
    "\n",
    "# ffill untuk mengisi NA dari atas ke bawah\n",
    "# bfill untuk mengisi NA dari bawah ke atas\n",
    "closingprice.fillna(method='ffill').fillna(method='bfill')"
   ]
  },
  {
   "cell_type": "markdown",
   "metadata": {},
   "source": [
    "## Reshaping: `stack()` and `unstack()`\n",
    "\n",
    "Method yang berguna saat kita ingin mengubah bentuk Multi-Index DataFrame:\n",
    "\n",
    "- `stack()`: mengubah level pada kolom menjadi pada baris\n",
    "- `unstack()`: mengubah level pada baris menjadi pada kolom\n",
    "\n",
    "<img src=\"assets/reshaping_stack.png\" width=\"600\"/>\n",
    "\n",
    "Untuk saat ini, `stock` memiliki 2-level kolom (`Attributes` dan `Symbols`) dan 1-level baris (`Date`)."
   ]
  },
  {
   "cell_type": "code",
   "execution_count": null,
   "metadata": {},
   "outputs": [],
   "source": [
    "stock.head()"
   ]
  },
  {
   "cell_type": "code",
   "execution_count": null,
   "metadata": {
    "scrolled": false
   },
   "outputs": [],
   "source": [
    "stock.stack()"
   ]
  },
  {
   "cell_type": "markdown",
   "metadata": {},
   "source": [
    "Setelah mengaplikasikan method `stack()`, `Symbols` pindah dari yang sebelumnya level pada kolom menjadi baris. Kenapa `Symbols`? Karena secara default parameter `level=-1`, sehingga kolom dengan level paling dalam yang pindah menjadi baris.\n",
    "\n",
    "Bagaimana cara kita memindahkan level `Attributes`nya menjadi baris?"
   ]
  },
  {
   "cell_type": "code",
   "execution_count": null,
   "metadata": {},
   "outputs": [],
   "source": [
    "# circular indexing\n",
    "\n",
    "contoh = ['Attributes', 'Symbols']\n",
    "contoh[-1]"
   ]
  },
  {
   "cell_type": "code",
   "execution_count": null,
   "metadata": {},
   "outputs": [],
   "source": [
    "contoh[0]"
   ]
  },
  {
   "cell_type": "code",
   "execution_count": null,
   "metadata": {},
   "outputs": [],
   "source": [
    "contoh[-2]"
   ]
  },
  {
   "cell_type": "code",
   "execution_count": null,
   "metadata": {},
   "outputs": [],
   "source": [
    "stock.stack(level=0) # ini boleh level=-2 juga"
   ]
  },
  {
   "cell_type": "code",
   "execution_count": null,
   "metadata": {},
   "outputs": [],
   "source": [
    "stock.stack(level='Attributes')"
   ]
  },
  {
   "cell_type": "markdown",
   "metadata": {},
   "source": [
    "Sedangkan `unstack()` adalah kebalikan dari `stack()`:\n",
    "\n",
    "<img src=\"assets/reshaping_unstack.png\" width=\"600\"/>\n",
    "\n",
    "Cobalah aplikasikan method `unstack()` pada dataframe `stock`:"
   ]
  },
  {
   "cell_type": "code",
   "execution_count": null,
   "metadata": {
    "scrolled": true
   },
   "outputs": [],
   "source": [
    "stock.unstack()"
   ]
  },
  {
   "cell_type": "markdown",
   "metadata": {},
   "source": [
    "Apa yang terjadi ketika method `stack()` dilanjutkan dengan method `unstack()` (asumsi menggunakan parameter `level` default)?"
   ]
  },
  {
   "cell_type": "code",
   "execution_count": null,
   "metadata": {
    "scrolled": false
   },
   "outputs": [],
   "source": [
    "# your code here\n",
    "stock.stack().unstack()\n",
    "# sama seperti data stock di awal"
   ]
  },
  {
   "cell_type": "markdown",
   "metadata": {},
   "source": [
    "**END OF DAY 1**\n",
    "\n",
    "---\n",
    "\n",
    "**START OF DAY 2**"
   ]
  },
  {
   "cell_type": "markdown",
   "metadata": {},
   "source": [
    "### Dive Deeper\n",
    "\n",
    "1. How to swap the position (`level`) of Symbols and Attributes?"
   ]
  },
  {
   "cell_type": "code",
   "execution_count": null,
   "metadata": {
    "scrolled": true
   },
   "outputs": [],
   "source": [
    "# your code here\n",
    "\n",
    "# Pak Calvin\n",
    "# stack: level kolom (level 0) -> index (level terdalam)\n",
    "# unstack: level index (level Attributes) -> kolom (level terdalam)\n",
    "stock.stack(level=0).unstack(level='Attributes')"
   ]
  },
  {
   "cell_type": "markdown",
   "metadata": {},
   "source": [
    "2. Based on your knowledge, what company (`Symbols`) worth invest on? (You may look on its fluctuations, means, etc)"
   ]
  },
  {
   "cell_type": "code",
   "execution_count": null,
   "metadata": {
    "scrolled": true
   },
   "outputs": [],
   "source": [
    "# your code here\n",
    "\n",
    "# Pak Lazuardi: melihat rata-rata paling besar\n",
    "stock['High'].mean()\n"
   ]
  },
  {
   "cell_type": "code",
   "execution_count": null,
   "metadata": {},
   "outputs": [],
   "source": [
    "# Bu Ani: melihat fluktuasi dari nilai standar deviasi\n",
    "stock['High'].std()\n",
    "\n",
    "# std yang besar -> sangat fluktuasi -> cocok untuk orang dengan high risk\n",
    "# std yang kecil -> tidak terlalu berfluktuasi -> cocok untuk orang dengan low risk"
   ]
  },
  {
   "cell_type": "code",
   "execution_count": null,
   "metadata": {},
   "outputs": [],
   "source": [
    "# Tambahan\n",
    "\n",
    "stock_diff_percentage = (stock['Close'] - stock['Open'])/stock['Open'] * 100\n",
    "stock_diff_percentage.mean()"
   ]
  },
  {
   "cell_type": "markdown",
   "metadata": {},
   "source": [
    "### Knowledge Check: Stack and Unstack\n",
    "\n",
    "Which of the following statement is correct?\n",
    "\n",
    "- [x] `stack()` changes the DataFrame from wide to long\n",
    "- [x] `unstack()` changes the DataFrame from long to wide\n",
    "- [ ] `unstack()` changes the DataFrame from wide to long"
   ]
  },
  {
   "cell_type": "markdown",
   "metadata": {},
   "source": [
    "### Reshaping: Melt\n",
    "\n",
    "Mirip dengan `stack()`, kita bisa menggunakan `melt()` untuk mengubah dataframe dari wide to long.\n",
    "\n",
    "<img src=\"assets/reshaping_melt.png\" width=\"600\"/>\n",
    "\n",
    "Dari data `stock` silahkan slicing untuk mendapatkan data saham `AAPL`, simpan pada objek `aapl`:"
   ]
  },
  {
   "cell_type": "code",
   "execution_count": null,
   "metadata": {},
   "outputs": [],
   "source": [
    "stock"
   ]
  },
  {
   "cell_type": "code",
   "execution_count": null,
   "metadata": {
    "scrolled": true
   },
   "outputs": [],
   "source": [
    "# your code here\n",
    "aapl = stock.xs(key = 'AAPL', level = 'Symbols', axis = 1)\n",
    "aapl"
   ]
  },
  {
   "cell_type": "markdown",
   "metadata": {},
   "source": [
    "Aplikasikan method `melt()` dan simpan pada objek `aapl_melted`"
   ]
  },
  {
   "cell_type": "code",
   "execution_count": null,
   "metadata": {
    "scrolled": true
   },
   "outputs": [],
   "source": [
    "aapl_melted = aapl.melt()\n",
    "aapl_melted"
   ]
  },
  {
   "cell_type": "markdown",
   "metadata": {},
   "source": [
    "Bandingkan ukuran `aapl` dan `aapl_melted`:\n",
    "\n",
    "- `aapl` (wide): 329 baris dan 6 kolom (329*6 = 1974 nilai)\n",
    "- `aapl_melted` (long): 1974 baris dan 2 kolom, kolom terdiri dari `Attributes` dan `value`"
   ]
  },
  {
   "cell_type": "code",
   "execution_count": null,
   "metadata": {},
   "outputs": [],
   "source": [
    "aapl.shape"
   ]
  },
  {
   "cell_type": "code",
   "execution_count": null,
   "metadata": {},
   "outputs": [],
   "source": [
    "aapl_melted.shape"
   ]
  },
  {
   "cell_type": "code",
   "execution_count": null,
   "metadata": {},
   "outputs": [],
   "source": [
    "stock.stack()"
   ]
  },
  {
   "cell_type": "markdown",
   "metadata": {},
   "source": [
    "### Knowledge Check: Melt vs Stack\n",
    "\n",
    "Apa perbedaan antara `melt()` dan `stack()` ?\n",
    "\n",
    "- `stack()` digunakan untuk memindahkan level pada kolom menjadi pada baris/index, biasanya kita gunakan untuk multiindex\n",
    "- `melt()` digunakan untuk meleburkan kolom menjadi 2 kolom terpisah: variable (nama kolom) dan value (nilai pada kolom tersebut), biasanya kita gunakan untuk single index"
   ]
  },
  {
   "cell_type": "markdown",
   "metadata": {},
   "source": [
    "### Identifier and Value\n",
    "\n",
    "Dalam method `melt()`, terdapat dua parameter yang sering digunakan:\n",
    "- `id_vars`: kolom yang menjadi identifier variables (kolom yang dipertahankan)\n",
    "- `value_vars`: kolom yang menjadi value variables\n",
    "\n",
    "Kita ingin kolom `Date` menjadi `id_vars`, namun belum bisa diakses sebagai kolom karena masih berupa index. Untuk itu kita menggunakan `reset_index()` sebelum `melt()`"
   ]
  },
  {
   "cell_type": "code",
   "execution_count": null,
   "metadata": {},
   "outputs": [],
   "source": [
    "# aapl.melt(id_vars='Date')\n",
    "# KeyError: 'Date'"
   ]
  },
  {
   "cell_type": "code",
   "execution_count": null,
   "metadata": {},
   "outputs": [],
   "source": [
    "# reset_index -> menjadikan nama index sebuah kolom\n",
    "aapl.reset_index().melt(id_vars='Date')"
   ]
  },
  {
   "cell_type": "markdown",
   "metadata": {},
   "source": [
    "Misal kita hanya ingin kolom `High` dan `Low` saja yang di-melt, tanpa menggunakan `id_vars`:"
   ]
  },
  {
   "cell_type": "code",
   "execution_count": null,
   "metadata": {
    "scrolled": false
   },
   "outputs": [],
   "source": [
    "aapl.reset_index().melt(value_vars=['High', 'Low'])"
   ]
  },
  {
   "cell_type": "markdown",
   "metadata": {},
   "source": [
    "**Latihan:** Saya ingin melakukan melt terhadap data `aapl` hanya pada kolom `Close` dan `Open`, serta setiap observasinya dibedakan berdasarkan `Date`. Simpan pada objek `aapl_close_open`:"
   ]
  },
  {
   "cell_type": "code",
   "execution_count": null,
   "metadata": {
    "scrolled": true
   },
   "outputs": [],
   "source": [
    "# your code here\n",
    "\n",
    "# Pak Calvin\n",
    "aapl_close_open = aapl.reset_index().melt(value_vars=['Close', 'Open'], id_vars=['Date'])\n",
    "aapl_close_open"
   ]
  },
  {
   "cell_type": "markdown",
   "metadata": {},
   "source": [
    "Tambahan parameter:\n",
    "\n",
    "- `var_name` untuk memberi nama terhadap kolom `variable`\n",
    "- `value_name` untuk memberi nama terhadap kolom `value`"
   ]
  },
  {
   "cell_type": "code",
   "execution_count": null,
   "metadata": {},
   "outputs": [],
   "source": [
    "# menuliskan nama parameter lebih baik eksplisit seperti ini:\n",
    "aapl.reset_index().melt(value_vars=['Close', 'Open'],\n",
    "                        id_vars=['Date'],\n",
    "                        var_name='Type',\n",
    "                        value_name='Price')"
   ]
  },
  {
   "cell_type": "code",
   "execution_count": null,
   "metadata": {},
   "outputs": [],
   "source": [
    "# tanpa nama parameter, tapi harus urutan berdasarkan dokumentasi\n",
    "aapl.reset_index().melt(['Date'],\n",
    "                        ['Close', 'Open'],\n",
    "                        'Type',\n",
    "                        'Price')"
   ]
  },
  {
   "cell_type": "markdown",
   "metadata": {},
   "source": [
    "### (Additional) Pivot: Inverse of Melt\n",
    "\n",
    "Kebalikan dari method `melt()` adalah `pivot()`, yaitu mengubah dataframe dari long ke wide.\n",
    "\n",
    "<img src=\"assets/reshaping_pivot.png\" width=\"600\"/>\n",
    "\n",
    "Silahkan coba mengaplikasikan method `pivot()` pada objek `aapl_close_open`, sehingga index-nya berupa `Date` serta terdapat dua kolom `Close` dan `Open` (dari `Attributes`):"
   ]
  },
  {
   "cell_type": "code",
   "execution_count": null,
   "metadata": {
    "scrolled": true
   },
   "outputs": [],
   "source": [
    "aapl_close_open.pivot(index='Date',\n",
    "                      columns='Attributes',\n",
    "                      values='value')"
   ]
  },
  {
   "cell_type": "markdown",
   "metadata": {},
   "source": [
    "**NOTES**\n",
    "\n",
    "- `pivot_table()` untuk membuat tabel agregasi (ada nilai yang dirangkum)\n",
    "- `pivot()` hanya untuk reshaping (tidak ada nilai yang dirangkum)"
   ]
  },
  {
   "cell_type": "markdown",
   "metadata": {},
   "source": [
    "# Visualization\n",
    "\n",
    "Tujuan Visualisasi:\n",
    "\n",
    "- Exploratory: proses untuk memfamiliarkan diri (berkenalan) dengan data melalui visualisasi, sehingga mendapatkan sebuah insight. Visualisasi yang ditampilkan biasanya sederhana. Analogi: mencari dan mendapatkan batu permata di antara ratusan batu biasa.\n",
    "- Explanatory: proses untuk menjelaskan atau menyajikan insight yang didapat dari hasil exploratory kepada user/audience. Visualisasi yang ditampilkan biasanya lebih menarik dan meng-highlight insight secara spesifik. Analogi: mempoles batu permata tersebut dan menawarkannya kepada pembeli.\n",
    "\n",
    "Pada course ini, dititikberatkan pada bagaimana cara kita menampilkan visualisasi data yang **informatif dan tepat**. Untuk memperindah tampilan visualisasi dapat di-eksplorasi secara mandiri melalui dokumentasi yang tersedia."
   ]
  },
  {
   "cell_type": "markdown",
   "metadata": {},
   "source": [
    "## Pandas and Matplotlib\n",
    "\n",
    "Sampai tahap ini mungkin Anda tidak sabar untuk melakukan visualisasi data di Python. Dengan cukup mudah, kita bisa membuat objek plot `matplotlib` dengan hanya menggunakan method `.plot()`. Kita dapat mengecek dependencies package `pandas` menggunakan `show_versions()`, dari situ kita bisa lihat bahwa `matplotlib` termasuk di dalamnya."
   ]
  },
  {
   "cell_type": "code",
   "execution_count": null,
   "metadata": {},
   "outputs": [],
   "source": [
    "pd.show_versions()"
   ]
  },
  {
   "cell_type": "markdown",
   "metadata": {},
   "source": [
    "Sekarang mari kita coba melakukan visualisasi untuk 10 observasi pertama `Volume` pada `stock`"
   ]
  },
  {
   "cell_type": "code",
   "execution_count": null,
   "metadata": {},
   "outputs": [],
   "source": [
    "stock['Volume'].head(10)"
   ]
  },
  {
   "cell_type": "code",
   "execution_count": null,
   "metadata": {},
   "outputs": [],
   "source": [
    "stock['Volume'].head(10).plot()\n",
    "# secara default akan memvisualisasikan line plot (garis)"
   ]
  },
  {
   "cell_type": "code",
   "execution_count": null,
   "metadata": {},
   "outputs": [],
   "source": [
    "type(stock['Volume'].head(10).plot())"
   ]
  },
  {
   "cell_type": "markdown",
   "metadata": {},
   "source": [
    "Insight:\n",
    "- Volume FB pada tanggal 12 Januari 2018 terjadi lonjakan\n",
    "- Volume FB memiliki fluktuasi yang tinggi"
   ]
  },
  {
   "cell_type": "markdown",
   "metadata": {},
   "source": [
    "Cukup mudah bukan? Method `plot()` sudah mempermudah kita dalam melakukan visualisasi langsung pada DataFrame, tanpa perlu mengerti cara penggunaan `matplotlib`. Kunjungi [dokumentasi matplotlib](https://matplotlib.org/tutorials/introductory/usage.html#sphx-glr-tutorials-introductory-usage-py) untuk detail mengenai `matplotlib`.\n",
    "\n",
    "Namun, keterbatasan dari penggunaan `plot()` adalah minim kustomisasi dari visualisasi yang ada. Hanya terbatas pada parameter yang ada di dalam method tersebut. Kunjungi [dokumentasi method plot](https://pandas.pydata.org/pandas-docs/stable/reference/api/pandas.DataFrame.plot.html)."
   ]
  },
  {
   "cell_type": "markdown",
   "metadata": {},
   "source": [
    "Salah satu kustomisasi yang dapat kita lakukan untuk memperindah visualisasi adalah melalui [matplotlib style sheet](https://matplotlib.org/tutorials/introductory/customizing.html). Kita dapat mengganti nilai 'default' pada method `plt.style.use()` dengan salah satu style yang tersedia, kemudian jalankan kembali code visualisasi untuk menerapkan style yang dipilih.\n",
    "\n",
    "💡 **Tips:** Meskipun kode kita tidak menggunakan `matplotlib` secara eksplisit namun bergantung pada implementasi `pandas`, alangkah lebih baik kita tetap melakukan import untuk berinteraksi dengan plot: `import matplotlib.pyplot as plt`."
   ]
  },
  {
   "cell_type": "code",
   "execution_count": null,
   "metadata": {
    "scrolled": true
   },
   "outputs": [],
   "source": [
    "import matplotlib.pyplot as plt\n",
    "print(plt.style.available)\n",
    "plt.style.use('seaborn')"
   ]
  },
  {
   "cell_type": "code",
   "execution_count": null,
   "metadata": {},
   "outputs": [],
   "source": [
    "stock['Volume'].head(10).plot()"
   ]
  },
  {
   "cell_type": "markdown",
   "metadata": {},
   "source": [
    "Sekarang kita coba visualisasi dari object `aapl` berikut:"
   ]
  },
  {
   "cell_type": "code",
   "execution_count": null,
   "metadata": {},
   "outputs": [],
   "source": [
    "march = pd.date_range(start=\"2018-03-01\", end=\"2019-03-31\")\n",
    "aapl = stock.xs('AAPL', level='Symbols', axis=1)\n",
    "aapl = aapl.reindex(march)\n",
    "aapl"
   ]
  },
  {
   "cell_type": "code",
   "execution_count": null,
   "metadata": {
    "scrolled": false
   },
   "outputs": [],
   "source": [
    "aapl.plot()\n",
    "# secara default: line plot"
   ]
  },
  {
   "cell_type": "markdown",
   "metadata": {},
   "source": [
    "Note:\n",
    "\n",
    "- Index (`Date`) akan menjadi sumbu horizontal pada plot\n",
    "- Nilai pada masing-masing kolom (`Attributes`) akan menjadi 1 komponen pada plot, dalam hal ini menjadi garis\n",
    "\n",
    "**Diskusi:** Apakah visualisasi tersebut sudah cukup informatif dan tepat? Apabila belum, hal apa saja yang bisa di-improve dari visualisasi tersebut?\n",
    "\n",
    "\n",
    "- Dipisah antara volume dengan price (OHLC)\n",
    "- Mengisi missing value pada data: ffill\n",
    "- Keterangan teks seperti judul, sumbu x, sumbu y"
   ]
  },
  {
   "cell_type": "code",
   "execution_count": null,
   "metadata": {},
   "outputs": [],
   "source": [
    "aapl[['Close', 'Open']].fillna(method='ffill').plot(\n",
    "    xlabel = \"Date\",\n",
    "    ylabel = \"Price (in USD)\",\n",
    "    title = \"AAPL Stock Opening and Closing Price\"\n",
    ")"
   ]
  },
  {
   "cell_type": "markdown",
   "metadata": {},
   "source": [
    "Komponen pada plot: https://matplotlib.org/stable/gallery/showcase/anatomy.html"
   ]
  },
  {
   "cell_type": "markdown",
   "metadata": {},
   "source": [
    "**END OF DAY 2**\n",
    "\n",
    "---\n",
    "\n",
    "**START OF DAY 3**"
   ]
  },
  {
   "cell_type": "markdown",
   "metadata": {},
   "source": [
    "## Types of Visualization\n",
    "\n",
    "Secara default, `plot()` menampilkan visualisasi **line chart**. Ada beberapa tipe visualisasi lain yang dapat kita buat menggunakan `.plot`:\n",
    "\n",
    "Visualisasi berikut hanya perlu menggunakan **satu** kolom:\n",
    "\n",
    "- Data kategorik:\n",
    "    - **`.plot.bar()` atau `.plot.barh()` untuk barplot (diagram batang)**\n",
    "    - **`.plot.box()` atau `.boxplot()` untuk boxplot (berhubungan dengan five number summary)**\n",
    "    - `.plot.pie()` untuk pie chart\n",
    "    \n",
    "\n",
    "- Data numerik:\n",
    "    - **`.plot.hist()` untuk histogram**\n",
    "    - `.plot.kde()` atau `.plot.density()` untuk density plot\n",
    "    - `.plot.area()` untuk area plot\n",
    "\n",
    "Visualisasi berikut perlu menggunakan **dua** kolom:\n",
    "\n",
    "- numerik vs numerik:\n",
    "    - `.plot.scatter()` untuk scatter plot\n",
    "    - `.plot.hexbin()` untuk hexagonal bin plot\n",
    "\n",
    "💡 Panduan untuk menentukan tipe visualisasi yang tepat:\n",
    "\n",
    "- Berdasarkan tujuan: https://askalgo-py.netlify.app/docs/dwv#bagaimana-cara-menentukan-jenis-visualisasi-yang-tepat\n",
    "- Berdasarkan tipe data: https://www.data-to-viz.com/\n",
    "\n",
    "**Silahkan mengacu referensi lengkapnya di [official documentation](https://pandas.pydata.org/pandas-docs/stable/reference/api/pandas.DataFrame.plot.html) untuk method `plot` apabila ingin eksplor visualisasi yang ada di luar lingkup course ini**"
   ]
  },
  {
   "cell_type": "markdown",
   "metadata": {},
   "source": [
    "### Bar plot\n",
    "\n",
    "Menggunakan data `stock`, tampilkan visualisasi untuk **membandingkan** fluktuasi nilai `Open` pada masing-masing `Symbols`."
   ]
  },
  {
   "cell_type": "code",
   "execution_count": null,
   "metadata": {},
   "outputs": [],
   "source": []
  },
  {
   "cell_type": "markdown",
   "metadata": {},
   "source": [
    "Gunakan parameter `kind='barh'` untuk menampilkan bar chart secara horizontal (mendatar)"
   ]
  },
  {
   "cell_type": "code",
   "execution_count": null,
   "metadata": {},
   "outputs": [],
   "source": []
  },
  {
   "cell_type": "markdown",
   "metadata": {},
   "source": [
    "Insight: Saham dengan nilai `Open` paling berfluktuasi adalah ..."
   ]
  },
  {
   "cell_type": "markdown",
   "metadata": {},
   "source": [
    "### Histogram\n",
    "\n",
    "Menggunakan data `stock`, tampilkan visualisasi histogram untuk mengetahui **persebaran** `Volume` pada saham `GOOGL`:"
   ]
  },
  {
   "cell_type": "code",
   "execution_count": null,
   "metadata": {},
   "outputs": [],
   "source": []
  },
  {
   "cell_type": "markdown",
   "metadata": {},
   "source": [
    "Insight: Volume `GOOGL` paling banyak berkisar di antara nilai ...\n",
    "\n",
    "Note: 1e6 adalah notasi scientific untuk 10 pangkat 6 artinya dalam satuan juta"
   ]
  },
  {
   "cell_type": "markdown",
   "metadata": {},
   "source": [
    "### Knowledge Check: Bar plot vs Histogram\n",
    "\n",
    "Setelah membuat kedua plot di atas, apa perbedaan antara bar plot dengan histogram?\n",
    "\n",
    "- Barplot digunakan untuk ...\n",
    "- Histogram digunakan untuk ..."
   ]
  },
  {
   "cell_type": "markdown",
   "metadata": {},
   "source": [
    "### Box plot\n",
    "\n",
    "Menggunakan data `stock`, tampilkan visualisasi box plot untuk membandingkan **persebaran** `Volume` untuk ketiga saham."
   ]
  },
  {
   "cell_type": "code",
   "execution_count": null,
   "metadata": {
    "scrolled": false
   },
   "outputs": [],
   "source": []
  },
  {
   "cell_type": "markdown",
   "metadata": {},
   "source": [
    "Box plot menggambarkan **five number summary** sebagai berikut: \n",
    "\n",
    "<img src=\"assets/boxplot.png\" width=\"600\"/>\n",
    "\n",
    "- min: minimum value (bedakan dengan pagar bawah / lower whisker)\n",
    "- 25%: kuartil 1\n",
    "- 50%: kuartil 2 atau median\n",
    "- 75%: kuartil 3\n",
    "- max: maximum value (bedakan dengan pagar atas / upper whisker)"
   ]
  },
  {
   "cell_type": "code",
   "execution_count": null,
   "metadata": {
    "scrolled": true
   },
   "outputs": [],
   "source": [
    "stock.describe()['Volume']"
   ]
  },
  {
   "cell_type": "markdown",
   "metadata": {},
   "source": [
    "Tambahkan parameter `vert=False` untuk melihat boxplot secara horizontal:"
   ]
  },
  {
   "cell_type": "code",
   "execution_count": null,
   "metadata": {},
   "outputs": [],
   "source": []
  },
  {
   "cell_type": "markdown",
   "metadata": {},
   "source": [
    "**Latihan**: Tampilkan persebaran Volume GOOGL untuk masing-masing periode bulannya (year-month)\n",
    "\n",
    "Note: Method `.boxplot()` akan mempermudah Anda ketika data sudah berupa long DataFrame"
   ]
  },
  {
   "cell_type": "code",
   "execution_count": null,
   "metadata": {
    "scrolled": true
   },
   "outputs": [],
   "source": []
  },
  {
   "cell_type": "markdown",
   "metadata": {},
   "source": [
    "Insight:\n",
    "\n",
    "- Dari median: Secara **overall**, volume GOOGL tertinggi terletak pada periode ..., sedangkan paling rendah pada ...\n",
    "- Dari lebar kotak (IQR atau selisih 75% dengan 25%): Volume GOOGL yang paling bervariasi adalah pada periode ..., sedangkan yang paling tidak bervariasi pada periode ...\n",
    "- Dari outlier: Volume GOOGL yang paling ekstrim terletak pada periode ..."
   ]
  },
  {
   "cell_type": "markdown",
   "metadata": {},
   "source": [
    "## (Additional) Other Python Libraries for Visualization\n",
    "\n",
    "Apabila Anda tertarik mengenai visualisasi di Python, silahkan eksplorasi lebih lanjut package-package berikut:\n",
    "\n",
    "- `matplotlib`: semua elemen pada visualisasi dapat dikustomisasi, namun membutuhkan code yang lebih panjang. [Dokumentasi Matplotlib](https://matplotlib.org/3.2.2/tutorials/index.html) \n",
    "- `seaborn`: dikembangkan dari `matplotlib`, lebih sedikit yang dapat dikustomisasi namun lebih mudah. [Dokumentasi Seaborn](https://seaborn.pydata.org/introduction.html)\n",
    "- `plotly`: plot interaktif serta kompatibilitas dengan bahasa lain yang tinggi. [Dokumentasi Plotly](https://plotly.com/python/)\n",
    "- `altair`: plot interaktif yang bersifat deklaratif, code relatif lebih mudah. [Dokumentasi Altair](https://altair-viz.github.io/index.html)\n",
    "\n",
    "Referensi perbandingan library: https://askalgo-py.netlify.app/docs/dwv#adakah-library-visualisasi-data-di-python-selain-matplotlib"
   ]
  },
  {
   "cell_type": "markdown",
   "metadata": {},
   "source": [
    "# Group By: Aggregation Table\n",
    "\n",
    "Reshaping data adalah salah satu komponen penting dalam tahap data wrangling, karena memungkinkan seorang analis untuk mempersiapkan data menjadi bentuk yang sesuai untuk tahap analisa data berikutnya.\n",
    "\n",
    "Teknik yang tak kalah penting adalah operasi **group by**. Mungkin untuk Anda yang sudah pernah menggunakan SQL atau tools lain seperti `tidyverse` pada bahasa R akan familiar dengan operasi group by ini.\n",
    "\n",
    "Misalkan kita punya dataframe `close_melted` yang ingin kita bandingkan nilai `Close` hariannya pada saham AAPL, FB, dan GOOGL:"
   ]
  },
  {
   "cell_type": "code",
   "execution_count": null,
   "metadata": {
    "scrolled": false
   },
   "outputs": [],
   "source": [
    "close = stock.xs('Close', level='Attributes', axis=1)\n",
    "close_melted = close.reset_index().melt(id_vars='Date', value_name='Close')\n",
    "close_melted"
   ]
  },
  {
   "cell_type": "markdown",
   "metadata": {},
   "source": [
    "**Pertanyaan**: Di antara AAPL, FB, GOOGL, manakah saham yang memiliki **rata-rata** `Close` harian tertinggi?\n",
    "\n",
    "Pertama, coba buatlah tabel agregasi dengan `crosstab()` dan juga `pivot_table()`:"
   ]
  },
  {
   "cell_type": "code",
   "execution_count": null,
   "metadata": {},
   "outputs": [],
   "source": [
    "pd.options.display.float_format = '{:.3f}'.format"
   ]
  },
  {
   "cell_type": "code",
   "execution_count": null,
   "metadata": {
    "scrolled": true
   },
   "outputs": [],
   "source": [
    "# versi crosstab\n"
   ]
  },
  {
   "cell_type": "code",
   "execution_count": null,
   "metadata": {
    "scrolled": true
   },
   "outputs": [],
   "source": [
    "# versi pivot_table\n"
   ]
  },
  {
   "cell_type": "markdown",
   "metadata": {},
   "source": [
    "**Ingat kembali:** \n",
    "\n",
    "Persamaan antara `crosstab` dan `pivot_table` yaitu keduanya dapat digunakan untuk menghasilkan tabel agregasi yang memiliki parameter `index`, `columns`, `values`, and `aggfunc`.\n",
    "\n",
    "Perbedaan antara `crosstab` dan `pivot_table` dapat dirangkum dalam tabel berikut:\n",
    "\n",
    "|                                                                                    | `pd.crosstab()` | `pd.pivot_table()` |\n",
    "|------------------------------------------------------------------------------------|-----------------|--------------------|\n",
    "|                                                                          **Input** | Array of values/Series |          DataFrame (parameter `data`)|\n",
    "|                                                              **Default `aggfunc`** |       `'count'` |           `'mean'` |\n",
    "|                                                          **Parameter `columns`** |       Mandatory |      Optional |\n",
    "|                                                          **Parameter `normalize`** |       Available |      Not Available |\n",
    "| [**Computation Time**](https://ramiro.org/notebook/pandas-crosstab-groupby-pivot/) | Relatively Slower |  Relatively Faster |"
   ]
  },
  {
   "cell_type": "markdown",
   "metadata": {},
   "source": [
    "Bandingkan dengan method `groupby()`:"
   ]
  },
  {
   "cell_type": "code",
   "execution_count": null,
   "metadata": {},
   "outputs": [],
   "source": [
    "# versi groupby\n"
   ]
  },
  {
   "cell_type": "markdown",
   "metadata": {},
   "source": [
    "Istilah **group by** merupakan gabungan dari proses:\n",
    "\n",
    "1. Split: mengelompokkan baris, co: dikelompokkan berdasarkan `Symbols`\n",
    "2. Apply: menerapkan fungsi untuk masing-masing kelompok, co: dihitung mean untuk masing-masing `Symbols`\n",
    "3. Combine: mengembalikan hasil dalam bentuk 1 tabel\n",
    "\n",
    "Ilustrasi proses **split-apply-combine** dapat dilihat pada [Google Sheet](https://docs.google.com/spreadsheets/d/1CZHW4W_Ps9ggB-S6r_9ueozib-laXbEs8XZ8vUcO8P8/edit?usp=sharing)"
   ]
  },
  {
   "cell_type": "markdown",
   "metadata": {},
   "source": [
    "## Visualizing Barchart for Comparison\n",
    "\n",
    "Sampai di sini kita tahu bahwa GOOGL memiliki rata-rata `Close` transaksi harian tertinggi dari visualisasi bar plot yang dihasilkan pada bagian sebelumnya. Untuk selanjutnya, mari kita menganalisa `Close` dari saham GOOGL. Kita bisa menggunakan method `day_name()` untuk mengekstrak nama hari dari `Date`:"
   ]
  },
  {
   "cell_type": "code",
   "execution_count": null,
   "metadata": {
    "scrolled": false
   },
   "outputs": [],
   "source": [
    "googl = stock.xs('GOOGL', level='Symbols', axis=1).copy()\n",
    "googl['Close_Diff'] = googl['Close'].diff()\n",
    "googl['Weekday'] = googl.index.day_name()\n",
    "googl"
   ]
  },
  {
   "cell_type": "markdown",
   "metadata": {},
   "source": [
    "Perhatikan kolom `Close_Diff` yang dibuat di atas, nilai ini merupakan perbedaan antara nilai `Close` pada hari tertentu dengan hari berikutnya.\n",
    "\n",
    "**Kasus:** Misalkan kita ingin membandingkan `Close_Diff` di setiap hari kerja. Untuk saham GOOGL, apakah secara rata-rata pada hari Kamis (Thursday) mencatat perbedaan yang lebih tinggi dibandingkan dengan hari Jumat (Friday)?"
   ]
  },
  {
   "cell_type": "code",
   "execution_count": null,
   "metadata": {},
   "outputs": [],
   "source": []
  },
  {
   "cell_type": "markdown",
   "metadata": {},
   "source": [
    "**Diskusi:** Apakah plot di atas sudah cukup efektif? Kalau belum, apa yang perlu diperbaiki dari plot di atas?\n",
    "\n",
    "<!--\n",
    "googl_wday = googl.groupby('Weekday').mean()['Close_Diff']\n",
    "googl_wday.index\n",
    "\n",
    "\n",
    "wday = [\"Monday\", \"Tuesday\", \"Wednesday\", \"Thursday\", \"Friday\"]\n",
    "googl_wday.index = pd.CategoricalIndex(data = googl_wday.index,\n",
    "                                       categories = wday,\n",
    "                                       ordered = True)\n",
    "googl_wday.index\n",
    "-->"
   ]
  },
  {
   "cell_type": "code",
   "execution_count": null,
   "metadata": {},
   "outputs": [],
   "source": []
  },
  {
   "cell_type": "code",
   "execution_count": null,
   "metadata": {},
   "outputs": [],
   "source": []
  },
  {
   "cell_type": "markdown",
   "metadata": {},
   "source": [
    "Insight: ..."
   ]
  },
  {
   "cell_type": "markdown",
   "metadata": {},
   "source": [
    "## Using Grouped Barchart\n",
    "\n",
    "Masih ingat dengan dataframe `closingprice`? Kita akan coba memvisualisasikan **grouped barchart** untuk membandingkan nilai `Close` untuk ketiga saham **setiap bulannya** pada kuartal pertama tahun 2019.\n",
    "\n",
    "- Pertama, kita memastikan `closingprice` tidak memiliki missing values dengan melakukan imputasi forward dan backward fill.\n",
    "- Selanjutnya, gunakan objek `closingprice` untuk menampilkan nilai **rata-rata** `Close` untuk setiap bulannya. Simpan tabel agregasi ke objek `average_closing`.\n",
    "\n",
    "Note: untuk mengambil nama bulan tidak perlu `.dt` lagi, karena sudah berupa objek DatetimeIndex."
   ]
  },
  {
   "cell_type": "code",
   "execution_count": null,
   "metadata": {
    "scrolled": false
   },
   "outputs": [],
   "source": [
    "closingprice = closingprice.ffill().bfill()\n",
    "closingprice['Month'] = closingprice.index.month_name()\n",
    "average_closing = closingprice.groupby('Month').mean()\n",
    "average_closing"
   ]
  },
  {
   "cell_type": "markdown",
   "metadata": {},
   "source": [
    "Visualisasi:\n",
    "\n",
    "- Index menjadi sumbu horizontal\n",
    "- Column menjadi grouping untuk bar chartnya"
   ]
  },
  {
   "cell_type": "code",
   "execution_count": null,
   "metadata": {},
   "outputs": [],
   "source": []
  },
  {
   "cell_type": "markdown",
   "metadata": {},
   "source": [
    "**Diskusi:** Apakah plot di atas sudah cukup efektif? Kalau belum, apa yang perlu diperbaiki dari plot di atas?\n",
    "\n",
    "<!--\n",
    "months = ['January', 'February', 'March', 'April', 'May', 'June', 'July', 'August', 'September', 'October', 'November', 'December']\n",
    "average_closing.index = pd.CategoricalIndex(data=...,\n",
    "                                            categories=...,\n",
    "                                            ordered=...)\n",
    "-->"
   ]
  },
  {
   "cell_type": "code",
   "execution_count": null,
   "metadata": {
    "scrolled": false
   },
   "outputs": [],
   "source": []
  },
  {
   "cell_type": "code",
   "execution_count": null,
   "metadata": {},
   "outputs": [],
   "source": []
  },
  {
   "cell_type": "markdown",
   "metadata": {},
   "source": [
    "Insight: ..."
   ]
  },
  {
   "cell_type": "markdown",
   "metadata": {},
   "source": [
    "## Knowledge Check: Group By + Reshaping\n",
    "\n",
    "Misal Anda dihadapkan dengan long DataFrame seperti pada `closingprice_melt` berikut:"
   ]
  },
  {
   "cell_type": "code",
   "execution_count": null,
   "metadata": {},
   "outputs": [],
   "source": [
    "closingprice_melt = closingprice.melt(id_vars='Month', value_name='Close')\n",
    "closingprice_melt"
   ]
  },
  {
   "cell_type": "markdown",
   "metadata": {},
   "source": [
    "Kira-kira bagaimana cara kita mengubah bentuk `closingprice_melt` menjadi `average_closing`?\n",
    "\n",
    "**Hint:** Gunakan teknik `groupby` dan juga reshaping"
   ]
  },
  {
   "cell_type": "code",
   "execution_count": null,
   "metadata": {},
   "outputs": [],
   "source": [
    "average_closing"
   ]
  },
  {
   "cell_type": "code",
   "execution_count": null,
   "metadata": {
    "scrolled": false
   },
   "outputs": [],
   "source": [
    "# your code here\n"
   ]
  },
  {
   "cell_type": "markdown",
   "metadata": {},
   "source": [
    "Ilustrasi group by pada kasus di atas dapat dilihat pada [Google Sheet](https://docs.google.com/spreadsheets/d/1CZHW4W_Ps9ggB-S6r_9ueozib-laXbEs8XZ8vUcO8P8/edit#gid=1358100451)"
   ]
  },
  {
   "cell_type": "markdown",
   "metadata": {},
   "source": [
    "## Combining `agg` and `groupby`\n",
    "\n",
    "Perhatikan group by operation di bawah ini yang di-chaining dengan aggregate method `mean()`:"
   ]
  },
  {
   "cell_type": "code",
   "execution_count": null,
   "metadata": {
    "scrolled": false
   },
   "outputs": [],
   "source": [
    "stock_long = stock.stack().reset_index()\n",
    "stock_long"
   ]
  },
  {
   "cell_type": "code",
   "execution_count": null,
   "metadata": {},
   "outputs": [],
   "source": [
    "stock_long.groupby('Symbols').mean()"
   ]
  },
  {
   "cell_type": "markdown",
   "metadata": {},
   "source": [
    "Misalkan kita ingin membuat tabel agregasi dengan `aggfunc` yang berbeda-beda untuk masing-masing `Symbols` berupa:\n",
    "- Maximum `stock` price (`max` dari `High`)\n",
    "- Minimum `stock` price (`min` dari `Low`)\n",
    "- Rata-rata closing price (`mean` dari `Close`)\n",
    "\n",
    "Untuk mendapat hasil tersebut, kita harus melakukan chaining `groupby` dengan method `agg`. Kita harus menyertakan mapping (**dictionary**) untuk setiap kolom dengan fungsi agregasinya seperti berikut ini:"
   ]
  },
  {
   "cell_type": "code",
   "execution_count": null,
   "metadata": {
    "scrolled": true
   },
   "outputs": [],
   "source": [
    "stock_summary = stock_long.groupby('Symbols').agg({\n",
    "    'Close': 'mean',\n",
    "    'High': 'max',\n",
    "    'Low': 'min'\n",
    "})\n",
    "stock_summary"
   ]
  },
  {
   "cell_type": "markdown",
   "metadata": {},
   "source": [
    "Visualisasikan tabel agregasi di atas untuk membandingkan nilai tersebut:"
   ]
  },
  {
   "cell_type": "code",
   "execution_count": null,
   "metadata": {},
   "outputs": [],
   "source": []
  },
  {
   "cell_type": "markdown",
   "metadata": {},
   "source": [
    "Insight: ..."
   ]
  },
  {
   "cell_type": "markdown",
   "metadata": {},
   "source": [
    "## Knowledge Check: Vizualization\n",
    "\n",
    "Perhatikan dataframe `monthly_closing` berikut:"
   ]
  },
  {
   "cell_type": "code",
   "execution_count": null,
   "metadata": {
    "scrolled": true
   },
   "outputs": [],
   "source": [
    "stock['YearMonth'] = stock.index.to_period('M')\n",
    "monthly_closing = stock.groupby('YearMonth').mean()['Close']\n",
    "monthly_closing.head()"
   ]
  },
  {
   "cell_type": "markdown",
   "metadata": {},
   "source": [
    "Tipe plot mana yang paling sesuai untuk data di atas, apabila kita ingin melihat pergerakan nilai `Close` dari hari ke hari?\n",
    "\n",
    "- [ ] Line plot `.plot()`\n",
    "- [ ] Scatter plot `.plot.scatter(x, y)`\n",
    "- [ ] Bar plot `.plot.bar()`\n",
    "- [ ] Box plot `.plot.box()`"
   ]
  },
  {
   "cell_type": "code",
   "execution_count": null,
   "metadata": {
    "scrolled": false
   },
   "outputs": [],
   "source": [
    "# your code here\n"
   ]
  }
 ],
 "metadata": {
  "kernelspec": {
   "display_name": "newton_dwv",
   "language": "python",
   "name": "newton_dwv"
  },
  "language_info": {
   "codemirror_mode": {
    "name": "ipython",
    "version": 3
   },
   "file_extension": ".py",
   "mimetype": "text/x-python",
   "name": "python",
   "nbconvert_exporter": "python",
   "pygments_lexer": "ipython3",
   "version": "3.7.9"
  },
  "toc": {
   "base_numbering": 1,
   "nav_menu": {},
   "number_sections": true,
   "sideBar": true,
   "skip_h1_title": false,
   "title_cell": "Table of Contents",
   "title_sidebar": "Contents",
   "toc_cell": false,
   "toc_position": {},
   "toc_section_display": true,
   "toc_window_display": true
  },
  "varInspector": {
   "cols": {
    "lenName": 16,
    "lenType": 16,
    "lenVar": 40
   },
   "kernels_config": {
    "python": {
     "delete_cmd_postfix": "",
     "delete_cmd_prefix": "del ",
     "library": "var_list.py",
     "varRefreshCmd": "print(var_dic_list())"
    },
    "r": {
     "delete_cmd_postfix": ") ",
     "delete_cmd_prefix": "rm(",
     "library": "var_list.r",
     "varRefreshCmd": "cat(var_dic_list()) "
    }
   },
   "types_to_exclude": [
    "module",
    "function",
    "builtin_function_or_method",
    "instance",
    "_Feature"
   ],
   "window_display": false
  }
 },
 "nbformat": 4,
 "nbformat_minor": 4
}
