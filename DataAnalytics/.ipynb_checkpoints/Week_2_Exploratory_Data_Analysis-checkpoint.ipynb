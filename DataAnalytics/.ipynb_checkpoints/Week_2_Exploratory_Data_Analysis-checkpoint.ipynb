{
 "cells": [
  {
   "cell_type": "markdown",
   "metadata": {},
   "source": [
    "# Background\n",
    "\n",
    "## Top-Down Approach \n",
    "\n",
    "The coursebook is part of the **Data Analytics Specialization** offered by [Algoritma](https://algorit.ma). It takes a more accessible approach compared to Algoritma's core educational products, by getting participants to overcome the \"how\" barrier first, rather than a detailed breakdown of the \"why\". \n",
    "\n",
    "This translates to an overall easier learning curve, one where the reader is prompted to write short snippets of code in frequent intervals, before being offered an explanation on the underlying theoretical frameworks. Instead of mastering the syntactic design of the Python programming language, then moving into data structures, and then the `pandas` library, and then the mathematical details in an imputation algorithm, and its code implementation; we would do the opposite: Implement the imputation, then a succinct explanation of why it works and applicational considerations (what to look out for, what are assumptions it made, when _not_ to use it etc).\n",
    "\n",
    "## Training Objectives\n",
    "\n",
    "This coursebook is intended for participants who have completed the preceding courses offered in the **Data Analytics Developer** Specialization. This is the second course, **Exploratory Data Analysis**\n",
    "\n",
    "The coursebook focuses on:\n",
    "- Why and What: Exploratory Data Analysis\n",
    "- Date Time objects\n",
    "- Categorical data types\n",
    "- Cross Tabulation and Pivot Table\n",
    "- Treating Duplicates and Missing Values \n",
    "\n",
    "At the end of this course is a Learn-by-Building section, where you are expected to apply all that you've learned on a new dataset, and attempt the given questions."
   ]
  },
  {
   "cell_type": "markdown",
   "metadata": {},
   "source": [
    "# Data Preparation and Exploration\n",
    "\n",
    "About 60 years ago, John Tukey defined data analysis as the \"procedures for analyzing data, techniques for interpreting the results of such procedures ... and all the machinery of mathematical statistics which apply to analyzing data\". His championing of EDA encouraged the development of statsitical computing packages, especially S at Bell Labs (which later inspired R).\n",
    "\n",
    "He wrote a book titled _Exploratory Data Analysis_ arguing that too much emphasis in statistics was placed on hypothesis testing (confirmatory data analysis) while not enough was placed on the discovery of the unexpected. \n",
    "\n",
    "> Exploratory data analysis isolates patterns and features of the data and reveals these forcefully to the analyst.\n",
    "\n",
    "This course aims to present a selection of EDA techniques -- some developed by John Tukey himself -- but with a special emphasis on its application to modern business analytics.\n",
    "\n",
    "In the previous course, we've got our hands on a few common techniques:\n",
    "\n",
    "- `.head()` and `.tail()`\n",
    "- `.describe()`\n",
    "- `.shape` and `.size`\n",
    "- `.axes`\n",
    "- `.dtypes`\n",
    "\n",
    "In the following chapters, we'll expand our EDA toolset with the following additions:  \n",
    "\n",
    "- Tables\n",
    "- Cross-Tables and Aggregates\n",
    "- Using `aggfunc` for aggregate functions\n",
    "- Pivot Tables"
   ]
  },
  {
   "cell_type": "code",
   "execution_count": 2,
   "metadata": {
    "scrolled": true
   },
   "outputs": [
    {
     "name": "stdout",
     "output_type": "stream",
     "text": [
      "1.0.5\n"
     ]
    }
   ],
   "source": [
    "import pandas as pd\n",
    "import numpy as np\n",
    "print(pd.__version__)\n",
    "\n",
    "# pandas output display setup\n",
    "pd.set_option('display.float_format', lambda x: '%.2f' % x) \n",
    "pd.options.display.float_format = '{:,}'.format"
   ]
  },
  {
   "cell_type": "markdown",
   "metadata": {},
   "source": [
    "## Working with Datetime\n",
    "\n",
    "Given the program's special emphasis on business-driven analytics, one data type of particular interest to us is the `datetime`. In the first part of this coursebook, we've seen an example of `datetime` in the section introducing data types (`employees.joined`).\n",
    "\n",
    "A large portion of data science work performed by business executives involve time series and/or dates (think about the kind of data science work done by computer vision researchers, and compare that to the work done by credit rating analysts or marketing executives and this special relationship between business and datetime data becomes apparent), so adding a level of familiarity with this format will serve you well in the long run. \n",
    "\n",
    "As a start, let's read our data,`household.csv`:"
   ]
  },
  {
   "cell_type": "code",
   "execution_count": 3,
   "metadata": {
    "scrolled": false
   },
   "outputs": [
    {
     "data": {
      "text/plain": [
       "receipt_id            int64\n",
       "receipts_item_id      int64\n",
       "purchase_time        object\n",
       "category             object\n",
       "sub_category         object\n",
       "format               object\n",
       "unit_price          float64\n",
       "discount              int64\n",
       "quantity              int64\n",
       "yearmonth            object\n",
       "dtype: object"
      ]
     },
     "execution_count": 3,
     "metadata": {},
     "output_type": "execute_result"
    }
   ],
   "source": [
    "# read `household.csv` in data_input folder\n",
    "household = pd.read_csv('data_input/household.csv')\n",
    "\n",
    "# check `household` data types\n",
    "household.dtypes"
   ]
  },
  {
   "cell_type": "code",
   "execution_count": 4,
   "metadata": {},
   "outputs": [],
   "source": [
    "# household['yearmonth'].astype('datetime64')"
   ]
  },
  {
   "cell_type": "markdown",
   "metadata": {},
   "source": [
    "Notice that all columns are in the right data types, except for `purchase_time`. The correct data type for this column would have to be a `datetime`. In previous module, you've learned how you can use `.astype()` to adjust a data type for a column. In fact, pandas has a function to work with datetime object in particular.\n",
    "\n",
    "To convert a column `x` to a datetime, we would use:\n",
    "\n",
    "    `x = pd.to_datetime(x)`\n",
    "    "
   ]
  },
  {
   "cell_type": "code",
   "execution_count": 5,
   "metadata": {},
   "outputs": [],
   "source": [
    "# household.purchase_time\n",
    "# household['purchase_time']"
   ]
  },
  {
   "cell_type": "code",
   "execution_count": 6,
   "metadata": {
    "run_control": {
     "marked": false
    },
    "scrolled": false
   },
   "outputs": [
    {
     "data": {
      "text/plain": [
       "receipt_id                   int64\n",
       "receipts_item_id             int64\n",
       "purchase_time       datetime64[ns]\n",
       "category                    object\n",
       "sub_category                object\n",
       "format                      object\n",
       "unit_price                 float64\n",
       "discount                     int64\n",
       "quantity                     int64\n",
       "yearmonth                   object\n",
       "dtype: object"
      ]
     },
     "execution_count": 6,
     "metadata": {},
     "output_type": "execute_result"
    }
   ],
   "source": [
    "# use pd.to_datetime() to convert `purchase_time`\n",
    "household['purchase_time'] = pd.to_datetime(household['purchase_time'])\n",
    "    \n",
    "# check dtypes\n",
    "household.dtypes"
   ]
  },
  {
   "cell_type": "markdown",
   "metadata": {},
   "source": [
    "Unlike using `astype()`, with `pd.to_datetime()` you are allowed to specify more arguments for the datetime conversion. Why it matters? Suppose we have a column which stores a daily sales data from end of January to the beginning of February:"
   ]
  },
  {
   "cell_type": "code",
   "execution_count": 7,
   "metadata": {
    "scrolled": true
   },
   "outputs": [
    {
     "data": {
      "text/plain": [
       "0    30-01-2020\n",
       "1    31-01-2020\n",
       "2    01-02-2020\n",
       "3    02-02-2020\n",
       "dtype: object"
      ]
     },
     "execution_count": 7,
     "metadata": {},
     "output_type": "execute_result"
    }
   ],
   "source": [
    "date = pd.Series(['30-01-2020', '31-01-2020', '01-02-2020','02-02-2020'])\n",
    "date"
   ]
  },
  {
   "cell_type": "markdown",
   "metadata": {},
   "source": [
    "The legal and cultural expectations for datetime format may vary between countries. In Indonesia for example, most people are used to storing dates in DMY order. Let's see what happen next when we convert our `date` to datetime object:"
   ]
  },
  {
   "cell_type": "code",
   "execution_count": 8,
   "metadata": {
    "scrolled": true
   },
   "outputs": [
    {
     "data": {
      "text/plain": [
       "0   2020-01-30\n",
       "1   2020-01-31\n",
       "2   2020-01-02\n",
       "3   2020-02-02\n",
       "dtype: datetime64[ns]"
      ]
     },
     "execution_count": 8,
     "metadata": {},
     "output_type": "execute_result"
    }
   ],
   "source": [
    "date.astype('datetime64')"
   ]
  },
  {
   "cell_type": "code",
   "execution_count": 9,
   "metadata": {},
   "outputs": [
    {
     "data": {
      "text/plain": [
       "0   2020-01-30\n",
       "1   2020-01-31\n",
       "2   2020-01-02\n",
       "3   2020-02-02\n",
       "4   2020-01-11\n",
       "5   2020-02-01\n",
       "dtype: datetime64[ns]"
      ]
     },
     "execution_count": 9,
     "metadata": {},
     "output_type": "execute_result"
    }
   ],
   "source": [
    "date = pd.Series(['01/30/2020', '31-01-2020', '01-02-2020','02/02/20', '01/11/20','Feb-01-2020'])\n",
    "\n",
    "date.astype('datetime64')"
   ]
  },
  {
   "cell_type": "markdown",
   "metadata": {},
   "source": [
    "Take a look on the third observation; rather than representing February 1st as it suppose, the data converted to January 2nd. Thing to note here, for dates with multiple representations, `pandas` will infer it as a month first order by default.\n",
    "\n",
    "Using `pd.to_datetime`, you can specify your date formatting with parameters such as `format`* or `dayfirst`:"
   ]
  },
  {
   "cell_type": "code",
   "execution_count": 10,
   "metadata": {
    "scrolled": false
   },
   "outputs": [
    {
     "data": {
      "text/plain": [
       "0   2020-01-30\n",
       "1   2020-01-31\n",
       "2   2020-02-01\n",
       "3   2020-02-02\n",
       "4   2020-11-01\n",
       "5   2020-02-01\n",
       "dtype: datetime64[ns]"
      ]
     },
     "execution_count": 10,
     "metadata": {},
     "output_type": "execute_result"
    }
   ],
   "source": [
    "# pd.to_datetime(date, format='%d-%m-%Y')\n",
    "\n",
    "pd.to_datetime(date, dayfirst=True)"
   ]
  },
  {
   "cell_type": "code",
   "execution_count": 11,
   "metadata": {},
   "outputs": [],
   "source": [
    "# pd.to_datetime(date, format='%d-%m-%Y')"
   ]
  },
  {
   "cell_type": "markdown",
   "metadata": {},
   "source": [
    "\\*_Using Python's `datetime` module, `pandas` pass the date string to `.strptime()` and follows by what's called Python's strptime directives. The full list of directives can be found in this [Documentation](https://strftime.org/)._"
   ]
  },
  {
   "cell_type": "markdown",
   "metadata": {},
   "source": [
    "---\n",
    "\n",
    "**Note** \n",
    "\n",
    "Beberapa metode untuk converting datetime:"
   ]
  },
  {
   "cell_type": "markdown",
   "metadata": {},
   "source": [
    "1. `data['column'].astype('datetime64')`: ketika tidak ada parameter tambahan yang ingin ditambahkan saat mengconvert informasi waktu.\n",
    "2. `pd.to_datetime(data['column'])`: digunakan ketika ingin menambahkan pangaturan tambahan pada data waktu yang ingin di convert. Contoh parameter yang bisa ditambahkan:\n",
    "    - `dayfirst=True`: digunakan ketika format tanggal dimulai dengan tanggal (e.g.: `[11-01-2020,12-01-2020,1-01-2020]`)\n",
    "3. `pd.read_csv('data.csv', parse_dates=['column'])`: digunakan ketika kita sudah mengetahui kolom-kolom bernilai waktu pada file yang ingin kita baca."
   ]
  },
  {
   "cell_type": "code",
   "execution_count": 12,
   "metadata": {
    "scrolled": true
   },
   "outputs": [
    {
     "data": {
      "text/plain": [
       "receipt_id                   int64\n",
       "receipts_item_id             int64\n",
       "purchase_time       datetime64[ns]\n",
       "category                    object\n",
       "sub_category                object\n",
       "format                      object\n",
       "unit_price                 float64\n",
       "discount                     int64\n",
       "quantity                     int64\n",
       "yearmonth                   object\n",
       "dtype: object"
      ]
     },
     "execution_count": 12,
     "metadata": {},
     "output_type": "execute_result"
    }
   ],
   "source": [
    "pd.read_csv('data_input/household.csv', parse_dates=['purchase_time']).dtypes"
   ]
  },
  {
   "cell_type": "code",
   "execution_count": 13,
   "metadata": {},
   "outputs": [
    {
     "data": {
      "text/html": [
       "<div>\n",
       "<style scoped>\n",
       "    .dataframe tbody tr th:only-of-type {\n",
       "        vertical-align: middle;\n",
       "    }\n",
       "\n",
       "    .dataframe tbody tr th {\n",
       "        vertical-align: top;\n",
       "    }\n",
       "\n",
       "    .dataframe thead th {\n",
       "        text-align: right;\n",
       "    }\n",
       "</style>\n",
       "<table border=\"1\" class=\"dataframe\">\n",
       "  <thead>\n",
       "    <tr style=\"text-align: right;\">\n",
       "      <th></th>\n",
       "      <th>receipt_id</th>\n",
       "      <th>receipts_item_id</th>\n",
       "      <th>purchase_time</th>\n",
       "      <th>category</th>\n",
       "      <th>sub_category</th>\n",
       "      <th>format</th>\n",
       "      <th>unit_price</th>\n",
       "      <th>discount</th>\n",
       "      <th>quantity</th>\n",
       "      <th>yearmonth</th>\n",
       "    </tr>\n",
       "  </thead>\n",
       "  <tbody>\n",
       "    <tr>\n",
       "      <th>0</th>\n",
       "      <td>9622257</td>\n",
       "      <td>32369294</td>\n",
       "      <td>2018-07-22 21:19:00</td>\n",
       "      <td>Rice</td>\n",
       "      <td>Rice</td>\n",
       "      <td>supermarket</td>\n",
       "      <td>128,000.0</td>\n",
       "      <td>0</td>\n",
       "      <td>1</td>\n",
       "      <td>2018-07</td>\n",
       "    </tr>\n",
       "    <tr>\n",
       "      <th>1</th>\n",
       "      <td>9446359</td>\n",
       "      <td>31885876</td>\n",
       "      <td>2018-07-15 16:17:00</td>\n",
       "      <td>Rice</td>\n",
       "      <td>Rice</td>\n",
       "      <td>minimarket</td>\n",
       "      <td>102,750.0</td>\n",
       "      <td>0</td>\n",
       "      <td>1</td>\n",
       "      <td>2018-07</td>\n",
       "    </tr>\n",
       "    <tr>\n",
       "      <th>2</th>\n",
       "      <td>9470290</td>\n",
       "      <td>31930241</td>\n",
       "      <td>2018-07-15 12:12:00</td>\n",
       "      <td>Rice</td>\n",
       "      <td>Rice</td>\n",
       "      <td>supermarket</td>\n",
       "      <td>64,000.0</td>\n",
       "      <td>0</td>\n",
       "      <td>3</td>\n",
       "      <td>2018-07</td>\n",
       "    </tr>\n",
       "    <tr>\n",
       "      <th>3</th>\n",
       "      <td>9643416</td>\n",
       "      <td>32418582</td>\n",
       "      <td>2018-07-24 08:27:00</td>\n",
       "      <td>Rice</td>\n",
       "      <td>Rice</td>\n",
       "      <td>minimarket</td>\n",
       "      <td>65,000.0</td>\n",
       "      <td>0</td>\n",
       "      <td>1</td>\n",
       "      <td>2018-07</td>\n",
       "    </tr>\n",
       "    <tr>\n",
       "      <th>4</th>\n",
       "      <td>9692093</td>\n",
       "      <td>32561236</td>\n",
       "      <td>2018-07-26 11:28:00</td>\n",
       "      <td>Rice</td>\n",
       "      <td>Rice</td>\n",
       "      <td>supermarket</td>\n",
       "      <td>124,500.0</td>\n",
       "      <td>0</td>\n",
       "      <td>1</td>\n",
       "      <td>2018-07</td>\n",
       "    </tr>\n",
       "  </tbody>\n",
       "</table>\n",
       "</div>"
      ],
      "text/plain": [
       "   receipt_id  receipts_item_id       purchase_time category sub_category  \\\n",
       "0     9622257          32369294 2018-07-22 21:19:00     Rice         Rice   \n",
       "1     9446359          31885876 2018-07-15 16:17:00     Rice         Rice   \n",
       "2     9470290          31930241 2018-07-15 12:12:00     Rice         Rice   \n",
       "3     9643416          32418582 2018-07-24 08:27:00     Rice         Rice   \n",
       "4     9692093          32561236 2018-07-26 11:28:00     Rice         Rice   \n",
       "\n",
       "        format  unit_price  discount  quantity yearmonth  \n",
       "0  supermarket   128,000.0         0         1   2018-07  \n",
       "1   minimarket   102,750.0         0         1   2018-07  \n",
       "2  supermarket    64,000.0         0         3   2018-07  \n",
       "3   minimarket    65,000.0         0         1   2018-07  \n",
       "4  supermarket   124,500.0         0         1   2018-07  "
      ]
     },
     "execution_count": 13,
     "metadata": {},
     "output_type": "execute_result"
    }
   ],
   "source": [
    "household.head()"
   ]
  },
  {
   "cell_type": "markdown",
   "metadata": {},
   "source": [
    "---"
   ]
  },
  {
   "cell_type": "markdown",
   "metadata": {},
   "source": [
    "Other than `to_datetime`, `pandas` has a number of machineries to work with `datetime` objects. These are convenient for when we need to extract the `month`, or `year`, or `weekday_name` from `datetime`. Some common applications in business analysis include:\n",
    "\n",
    "- `household['purchase_time'].dt.month`: bulan (dalam digit)\n",
    "- `household['purchase_time'].dt.month_name()`: bulan (karakter)\n",
    "- `household['purchase_time'].dt.year`: tahun\n",
    "- `household['purchase_time'].dt.day`: tanggal\n",
    "- `household['purchase_time'].dt.dayofweek`: hari dalam digit 1-7\n",
    "- `household['purchase_time'].dt.hour`: jam\n",
    "- `household['purchase_time'].dt.day_name()`: hari (nama)"
   ]
  },
  {
   "cell_type": "code",
   "execution_count": 14,
   "metadata": {},
   "outputs": [],
   "source": [
    "# household['purchase_time'].dt.day_name()\n",
    "# household['purchase_time'].dt.hour"
   ]
  },
  {
   "cell_type": "markdown",
   "metadata": {},
   "source": [
    "There are also other functions that can be helpful in certain situations. Supposed we want to transform the existing `datetime` column into values of periods we can use the `.to_period` method:\n",
    "\n",
    "- `household['purchase_time'].dt.to_period('D')`\n",
    "- `household['purchase_time'].dt.to_period('W')`\n",
    "- `household['purchase_time'].dt.to_period('M')`\n",
    "- `household['purchase_time'].dt.to_period('Q')`"
   ]
  },
  {
   "cell_type": "code",
   "execution_count": 15,
   "metadata": {},
   "outputs": [],
   "source": [
    "# household['purchase_time'].dt.to_period('M')"
   ]
  },
  {
   "cell_type": "markdown",
   "metadata": {},
   "source": [
    "**Knowledge Check:** Date time types  \n",
    "_Est. Time required: 10-15 min until 14.50~55\n",
    "\n",
    "1. In the following cell, start again by reading in the `household.csv` dataset. Drop `receipt_id` and `sub_category` columns as we won't use the columns for our analysis.  \n",
    "2. Make sure the `purchase_time` column has converted as a datetime object.\n",
    "3. Use `x.dt.day_name()`, assuming `x` is a datetime object to get the day of week. Assign this to a new column in your `household` Data Frame, name it `weekday`\n",
    "4. The `yearmonth` column stores the information of year and month of the `purchase_time`. Using `dt.to_period()`, how will you recreate the column if you needed the same information?\n",
    "5. Print the first 5 rows of your data to verify that your preprocessing steps are correct"
   ]
  },
  {
   "cell_type": "markdown",
   "metadata": {},
   "source": [
    "Tips: In the cell above, start from:\n",
    "\n",
    "`household = pd.read_csv(\"data_input/household.csv\")`\n",
    "\n",
    "Inspect the first 5 rows of your data and pay close attention to the `weekday` column. "
   ]
  },
  {
   "cell_type": "markdown",
   "metadata": {},
   "source": [
    "```\n",
    "# manipulasi kolom: mengubah value existing / membuat kolom baru:\n",
    "\n",
    "data['column'] = _________\n",
    "\n",
    "```"
   ]
  },
  {
   "cell_type": "code",
   "execution_count": 16,
   "metadata": {},
   "outputs": [
    {
     "data": {
      "text/html": [
       "<div>\n",
       "<style scoped>\n",
       "    .dataframe tbody tr th:only-of-type {\n",
       "        vertical-align: middle;\n",
       "    }\n",
       "\n",
       "    .dataframe tbody tr th {\n",
       "        vertical-align: top;\n",
       "    }\n",
       "\n",
       "    .dataframe thead th {\n",
       "        text-align: right;\n",
       "    }\n",
       "</style>\n",
       "<table border=\"1\" class=\"dataframe\">\n",
       "  <thead>\n",
       "    <tr style=\"text-align: right;\">\n",
       "      <th></th>\n",
       "      <th>receipts_item_id</th>\n",
       "      <th>purchase_time</th>\n",
       "      <th>category</th>\n",
       "      <th>format</th>\n",
       "      <th>unit_price</th>\n",
       "      <th>discount</th>\n",
       "      <th>quantity</th>\n",
       "      <th>yearmonth</th>\n",
       "      <th>weekday</th>\n",
       "    </tr>\n",
       "  </thead>\n",
       "  <tbody>\n",
       "    <tr>\n",
       "      <th>0</th>\n",
       "      <td>32369294</td>\n",
       "      <td>2018-07-22 21:19:00</td>\n",
       "      <td>Rice</td>\n",
       "      <td>supermarket</td>\n",
       "      <td>128,000.0</td>\n",
       "      <td>0</td>\n",
       "      <td>1</td>\n",
       "      <td>2018-07</td>\n",
       "      <td>Sunday</td>\n",
       "    </tr>\n",
       "    <tr>\n",
       "      <th>1</th>\n",
       "      <td>31885876</td>\n",
       "      <td>2018-07-15 16:17:00</td>\n",
       "      <td>Rice</td>\n",
       "      <td>minimarket</td>\n",
       "      <td>102,750.0</td>\n",
       "      <td>0</td>\n",
       "      <td>1</td>\n",
       "      <td>2018-07</td>\n",
       "      <td>Sunday</td>\n",
       "    </tr>\n",
       "    <tr>\n",
       "      <th>2</th>\n",
       "      <td>31930241</td>\n",
       "      <td>2018-07-15 12:12:00</td>\n",
       "      <td>Rice</td>\n",
       "      <td>supermarket</td>\n",
       "      <td>64,000.0</td>\n",
       "      <td>0</td>\n",
       "      <td>3</td>\n",
       "      <td>2018-07</td>\n",
       "      <td>Sunday</td>\n",
       "    </tr>\n",
       "    <tr>\n",
       "      <th>3</th>\n",
       "      <td>32418582</td>\n",
       "      <td>2018-07-24 08:27:00</td>\n",
       "      <td>Rice</td>\n",
       "      <td>minimarket</td>\n",
       "      <td>65,000.0</td>\n",
       "      <td>0</td>\n",
       "      <td>1</td>\n",
       "      <td>2018-07</td>\n",
       "      <td>Tuesday</td>\n",
       "    </tr>\n",
       "    <tr>\n",
       "      <th>4</th>\n",
       "      <td>32561236</td>\n",
       "      <td>2018-07-26 11:28:00</td>\n",
       "      <td>Rice</td>\n",
       "      <td>supermarket</td>\n",
       "      <td>124,500.0</td>\n",
       "      <td>0</td>\n",
       "      <td>1</td>\n",
       "      <td>2018-07</td>\n",
       "      <td>Thursday</td>\n",
       "    </tr>\n",
       "  </tbody>\n",
       "</table>\n",
       "</div>"
      ],
      "text/plain": [
       "   receipts_item_id       purchase_time category       format  unit_price  \\\n",
       "0          32369294 2018-07-22 21:19:00     Rice  supermarket   128,000.0   \n",
       "1          31885876 2018-07-15 16:17:00     Rice   minimarket   102,750.0   \n",
       "2          31930241 2018-07-15 12:12:00     Rice  supermarket    64,000.0   \n",
       "3          32418582 2018-07-24 08:27:00     Rice   minimarket    65,000.0   \n",
       "4          32561236 2018-07-26 11:28:00     Rice  supermarket   124,500.0   \n",
       "\n",
       "   discount  quantity yearmonth   weekday  \n",
       "0         0         1   2018-07    Sunday  \n",
       "1         0         1   2018-07    Sunday  \n",
       "2         0         3   2018-07    Sunday  \n",
       "3         0         1   2018-07   Tuesday  \n",
       "4         0         1   2018-07  Thursday  "
      ]
     },
     "execution_count": 16,
     "metadata": {},
     "output_type": "execute_result"
    }
   ],
   "source": [
    "household = pd.read_csv(\"data_input/household.csv\", parse_dates=['purchase_time'])\n",
    "household = household.drop(columns=['receipt_id','sub_category'])\n",
    "household['weekday'] = household['purchase_time'].dt.day_name()\n",
    "household['yearmonth'] = household['purchase_time'].dt.to_period('M')\n",
    "\n",
    "household.head()"
   ]
  },
  {
   "cell_type": "markdown",
   "metadata": {},
   "source": [
    "**Bonus challenge:**  \n",
    "\n",
    "Suppose that the estimated shipping time will take around 2 days after the products being purchased. Create a new column, name it `shipdate_est` which stores the estimated shipping time of each transaction!"
   ]
  },
  {
   "cell_type": "code",
   "execution_count": 17,
   "metadata": {
    "scrolled": true
   },
   "outputs": [
    {
     "data": {
      "text/html": [
       "<div>\n",
       "<style scoped>\n",
       "    .dataframe tbody tr th:only-of-type {\n",
       "        vertical-align: middle;\n",
       "    }\n",
       "\n",
       "    .dataframe tbody tr th {\n",
       "        vertical-align: top;\n",
       "    }\n",
       "\n",
       "    .dataframe thead th {\n",
       "        text-align: right;\n",
       "    }\n",
       "</style>\n",
       "<table border=\"1\" class=\"dataframe\">\n",
       "  <thead>\n",
       "    <tr style=\"text-align: right;\">\n",
       "      <th></th>\n",
       "      <th>receipts_item_id</th>\n",
       "      <th>purchase_time</th>\n",
       "      <th>category</th>\n",
       "      <th>format</th>\n",
       "      <th>unit_price</th>\n",
       "      <th>discount</th>\n",
       "      <th>quantity</th>\n",
       "      <th>yearmonth</th>\n",
       "      <th>weekday</th>\n",
       "      <th>shipdate_est</th>\n",
       "    </tr>\n",
       "  </thead>\n",
       "  <tbody>\n",
       "    <tr>\n",
       "      <th>0</th>\n",
       "      <td>32369294</td>\n",
       "      <td>2018-07-22 21:19:00</td>\n",
       "      <td>Rice</td>\n",
       "      <td>supermarket</td>\n",
       "      <td>128,000.0</td>\n",
       "      <td>0</td>\n",
       "      <td>1</td>\n",
       "      <td>2018-07</td>\n",
       "      <td>Sunday</td>\n",
       "      <td>2018-07-24 21:19:00</td>\n",
       "    </tr>\n",
       "    <tr>\n",
       "      <th>1</th>\n",
       "      <td>31885876</td>\n",
       "      <td>2018-07-15 16:17:00</td>\n",
       "      <td>Rice</td>\n",
       "      <td>minimarket</td>\n",
       "      <td>102,750.0</td>\n",
       "      <td>0</td>\n",
       "      <td>1</td>\n",
       "      <td>2018-07</td>\n",
       "      <td>Sunday</td>\n",
       "      <td>2018-07-17 16:17:00</td>\n",
       "    </tr>\n",
       "    <tr>\n",
       "      <th>2</th>\n",
       "      <td>31930241</td>\n",
       "      <td>2018-07-15 12:12:00</td>\n",
       "      <td>Rice</td>\n",
       "      <td>supermarket</td>\n",
       "      <td>64,000.0</td>\n",
       "      <td>0</td>\n",
       "      <td>3</td>\n",
       "      <td>2018-07</td>\n",
       "      <td>Sunday</td>\n",
       "      <td>2018-07-17 12:12:00</td>\n",
       "    </tr>\n",
       "    <tr>\n",
       "      <th>3</th>\n",
       "      <td>32418582</td>\n",
       "      <td>2018-07-24 08:27:00</td>\n",
       "      <td>Rice</td>\n",
       "      <td>minimarket</td>\n",
       "      <td>65,000.0</td>\n",
       "      <td>0</td>\n",
       "      <td>1</td>\n",
       "      <td>2018-07</td>\n",
       "      <td>Tuesday</td>\n",
       "      <td>2018-07-26 08:27:00</td>\n",
       "    </tr>\n",
       "    <tr>\n",
       "      <th>4</th>\n",
       "      <td>32561236</td>\n",
       "      <td>2018-07-26 11:28:00</td>\n",
       "      <td>Rice</td>\n",
       "      <td>supermarket</td>\n",
       "      <td>124,500.0</td>\n",
       "      <td>0</td>\n",
       "      <td>1</td>\n",
       "      <td>2018-07</td>\n",
       "      <td>Thursday</td>\n",
       "      <td>2018-07-28 11:28:00</td>\n",
       "    </tr>\n",
       "  </tbody>\n",
       "</table>\n",
       "</div>"
      ],
      "text/plain": [
       "   receipts_item_id       purchase_time category       format  unit_price  \\\n",
       "0          32369294 2018-07-22 21:19:00     Rice  supermarket   128,000.0   \n",
       "1          31885876 2018-07-15 16:17:00     Rice   minimarket   102,750.0   \n",
       "2          31930241 2018-07-15 12:12:00     Rice  supermarket    64,000.0   \n",
       "3          32418582 2018-07-24 08:27:00     Rice   minimarket    65,000.0   \n",
       "4          32561236 2018-07-26 11:28:00     Rice  supermarket   124,500.0   \n",
       "\n",
       "   discount  quantity yearmonth   weekday        shipdate_est  \n",
       "0         0         1   2018-07    Sunday 2018-07-24 21:19:00  \n",
       "1         0         1   2018-07    Sunday 2018-07-17 16:17:00  \n",
       "2         0         3   2018-07    Sunday 2018-07-17 12:12:00  \n",
       "3         0         1   2018-07   Tuesday 2018-07-26 08:27:00  \n",
       "4         0         1   2018-07  Thursday 2018-07-28 11:28:00  "
      ]
     },
     "execution_count": 17,
     "metadata": {},
     "output_type": "execute_result"
    }
   ],
   "source": [
    "household['shipdate_est'] = household['purchase_time'] + pd.Timedelta(days=2)\n",
    "household.head()"
   ]
  },
  {
   "cell_type": "markdown",
   "metadata": {},
   "source": [
    "Extra Note on timedelta:"
   ]
  },
  {
   "cell_type": "code",
   "execution_count": 18,
   "metadata": {},
   "outputs": [
    {
     "data": {
      "text/plain": [
       "Timedelta('0 days 02:00:00')"
      ]
     },
     "execution_count": 18,
     "metadata": {},
     "output_type": "execute_result"
    }
   ],
   "source": [
    "t1 = pd.to_datetime('1/1/2020 01:00')\n",
    "t2 = pd.to_datetime('1/1/2020 03:00')\n",
    "\n",
    "t2 - t1"
   ]
  },
  {
   "cell_type": "markdown",
   "metadata": {},
   "source": [
    "## Working with Categories"
   ]
  },
  {
   "cell_type": "markdown",
   "metadata": {},
   "source": [
    "From the output of `dtypes`, we see that there are three variables currently stored as `object` type where a `category` is more appropriate. This is a common diagnostic step, and one that you will employ in almost every data analysis project."
   ]
  },
  {
   "cell_type": "code",
   "execution_count": 19,
   "metadata": {
    "scrolled": false
   },
   "outputs": [
    {
     "data": {
      "text/plain": [
       "receipts_item_id             int64\n",
       "purchase_time       datetime64[ns]\n",
       "category                    object\n",
       "format                      object\n",
       "unit_price                 float64\n",
       "discount                     int64\n",
       "quantity                     int64\n",
       "yearmonth                period[M]\n",
       "weekday                     object\n",
       "shipdate_est        datetime64[ns]\n",
       "dtype: object"
      ]
     },
     "execution_count": 19,
     "metadata": {},
     "output_type": "execute_result"
    }
   ],
   "source": [
    "household.dtypes"
   ]
  },
  {
   "cell_type": "markdown",
   "metadata": {},
   "source": [
    "Recall what you have learned in the previous module about pandas data types, which columns do you think appropriate to be converted as `category`?"
   ]
  },
  {
   "cell_type": "code",
   "execution_count": 20,
   "metadata": {},
   "outputs": [
    {
     "data": {
      "text/plain": [
       "receipts_item_id             int64\n",
       "purchase_time       datetime64[ns]\n",
       "category                  category\n",
       "format                    category\n",
       "unit_price                 float64\n",
       "discount                     int64\n",
       "quantity                     int64\n",
       "yearmonth                period[M]\n",
       "weekday                   category\n",
       "shipdate_est        datetime64[ns]\n",
       "dtype: object"
      ]
     },
     "execution_count": 20,
     "metadata": {},
     "output_type": "execute_result"
    }
   ],
   "source": [
    "## Your code here\n",
    "\n",
    "#household['category'] = household['category'].astype('category')\n",
    "\n",
    "household[['category', 'format','weekday']] = household[['category', 'format','weekday']].astype('category')\n",
    "household.dtypes"
   ]
  },
  {
   "cell_type": "markdown",
   "metadata": {},
   "source": [
    "### [Optional]: Alternative Solutions"
   ]
  },
  {
   "cell_type": "code",
   "execution_count": 21,
   "metadata": {
    "scrolled": true
   },
   "outputs": [
    {
     "data": {
      "text/plain": [
       "receipt_id                   int64\n",
       "receipts_item_id             int64\n",
       "purchase_time       datetime64[ns]\n",
       "category                    object\n",
       "sub_category                object\n",
       "format                      object\n",
       "unit_price                 float64\n",
       "discount                     int64\n",
       "quantity                     int64\n",
       "yearmonth                   object\n",
       "dtype: object"
      ]
     },
     "execution_count": 21,
     "metadata": {},
     "output_type": "execute_result"
    }
   ],
   "source": [
    "household = pd.read_csv(\"data_input/household.csv\", parse_dates=['purchase_time'])\n",
    "household.dtypes"
   ]
  },
  {
   "cell_type": "markdown",
   "metadata": {},
   "source": [
    "#### Solution 1:"
   ]
  },
  {
   "cell_type": "code",
   "execution_count": 22,
   "metadata": {},
   "outputs": [
    {
     "data": {
      "text/plain": [
       "category        category\n",
       "sub_category    category\n",
       "format          category\n",
       "yearmonth       category\n",
       "dtype: object"
      ]
     },
     "execution_count": 22,
     "metadata": {},
     "output_type": "execute_result"
    }
   ],
   "source": [
    "data1 = household.select_dtypes(exclude='object')\n",
    "data2 = household.select_dtypes('object').astype('category')\n",
    "\n",
    "data2.dtypes"
   ]
  },
  {
   "cell_type": "code",
   "execution_count": 23,
   "metadata": {},
   "outputs": [
    {
     "data": {
      "text/plain": [
       "receipt_id                   int64\n",
       "receipts_item_id             int64\n",
       "purchase_time       datetime64[ns]\n",
       "unit_price                 float64\n",
       "discount                     int64\n",
       "quantity                     int64\n",
       "category                  category\n",
       "sub_category              category\n",
       "format                    category\n",
       "yearmonth                 category\n",
       "dtype: object"
      ]
     },
     "execution_count": 23,
     "metadata": {},
     "output_type": "execute_result"
    }
   ],
   "source": [
    "household_clean = pd.concat([data1, data2], axis=1)\n",
    "household_clean.dtypes"
   ]
  },
  {
   "cell_type": "markdown",
   "metadata": {},
   "source": [
    "#### Solution 2"
   ]
  },
  {
   "cell_type": "code",
   "execution_count": 24,
   "metadata": {
    "run_control": {
     "marked": false
    },
    "scrolled": false
   },
   "outputs": [
    {
     "data": {
      "text/plain": [
       "receipt_id                   int64\n",
       "receipts_item_id             int64\n",
       "purchase_time       datetime64[ns]\n",
       "category                  category\n",
       "sub_category              category\n",
       "format                    category\n",
       "unit_price                 float64\n",
       "discount                     int64\n",
       "quantity                     int64\n",
       "yearmonth                 category\n",
       "dtype: object"
      ]
     },
     "execution_count": 24,
     "metadata": {},
     "output_type": "execute_result"
    }
   ],
   "source": [
    "objectcols = household.select_dtypes(include='object')\n",
    "household[objectcols.columns] = objectcols.astype('category')\n",
    "household.dtypes"
   ]
  },
  {
   "cell_type": "markdown",
   "metadata": {},
   "source": [
    "### Extra notes on `category`: Why is it important?"
   ]
  },
  {
   "cell_type": "markdown",
   "metadata": {},
   "source": [
    "From [pandas documentation](https://pandas.pydata.org/pandas-docs/version/0.15.1/categorical.html), the categorical data type is useful in the following cases:\n",
    "\n",
    "- A string variable consisting of only a few different values. Converting such a string variable to a categorical variable will save some memory, see [here](https://pandas.pydata.org/pandas-docs/version/0.15.1/categorical.html#categorical-memory).\n",
    "- The lexical order of a variable is not the same as the logical order (“one”, “two”, “three”). By converting to a categorical and specifying an order on the categories, sorting and min/max will use the logical order instead of the lexical order.\n",
    "- As a signal to other python libraries that this column should be treated as a categorical variable (e.g. to use suitable statistical methods or plot types)."
   ]
  },
  {
   "cell_type": "markdown",
   "metadata": {},
   "source": [
    "Now, pay attention to `weekday`. The main different between `object` and `category` is that categorical object also storing information of how each observation should belong to certain group/categories. You can access the category by using `.cat.categories` as such: "
   ]
  },
  {
   "cell_type": "code",
   "execution_count": 25,
   "metadata": {},
   "outputs": [
    {
     "data": {
      "text/plain": [
       "0           Sunday\n",
       "1           Sunday\n",
       "2           Sunday\n",
       "3          Tuesday\n",
       "4         Thursday\n",
       "           ...    \n",
       "71995    Wednesday\n",
       "71996    Wednesday\n",
       "71997    Wednesday\n",
       "71998     Thursday\n",
       "71999      Tuesday\n",
       "Name: weekday, Length: 72000, dtype: category\n",
       "Categories (7, object): [Friday, Monday, Saturday, Sunday, Thursday, Tuesday, Wednesday]"
      ]
     },
     "execution_count": 25,
     "metadata": {},
     "output_type": "execute_result"
    }
   ],
   "source": [
    "household['weekday'] = household['purchase_time'].dt.day_name().astype('category')\n",
    "household['weekday']"
   ]
  },
  {
   "cell_type": "code",
   "execution_count": 26,
   "metadata": {},
   "outputs": [
    {
     "data": {
      "text/plain": [
       "Index(['Friday', 'Monday', 'Saturday', 'Sunday', 'Thursday', 'Tuesday',\n",
       "       'Wednesday'],\n",
       "      dtype='object')"
      ]
     },
     "execution_count": 26,
     "metadata": {},
     "output_type": "execute_result"
    }
   ],
   "source": [
    "# .cat.categories: access the categorical values\n",
    "\n",
    "household['weekday'].cat.categories"
   ]
  },
  {
   "cell_type": "markdown",
   "metadata": {},
   "source": [
    "We can reorder the categories to follow the true day order by using `.cat.reorder_categories`:"
   ]
  },
  {
   "cell_type": "code",
   "execution_count": 27,
   "metadata": {},
   "outputs": [],
   "source": [
    "day_order = ['Monday', 'Tuesday', 'Wednesday','Thursday','Friday','Saturday','Sunday']\n",
    "household['weekday'] = household['weekday'].cat.reorder_categories(day_order)"
   ]
  },
  {
   "cell_type": "code",
   "execution_count": 28,
   "metadata": {},
   "outputs": [
    {
     "data": {
      "text/plain": [
       "Index(['Monday', 'Tuesday', 'Wednesday', 'Thursday', 'Friday', 'Saturday',\n",
       "       'Sunday'],\n",
       "      dtype='object')"
      ]
     },
     "execution_count": 28,
     "metadata": {},
     "output_type": "execute_result"
    }
   ],
   "source": [
    "household['weekday'].cat.categories"
   ]
  },
  {
   "cell_type": "markdown",
   "metadata": {},
   "source": [
    "**Why the order is important?**\n",
    "\n",
    "You might now wonder why should we order the level of our categorical data? Note that all analysis you'll go through on the categorical column will always refer to its `categories`; e.g. if you want to present a plot or a table as a result of your analysis."
   ]
  },
  {
   "cell_type": "markdown",
   "metadata": {},
   "source": [
    "*End of Day 1*\n",
    "\n",
    "---\n",
    "\n",
    "## *Inclass Questions*  \n",
    "\n",
    "- **Q**: Handling tanggal bahasa indonesia?\n",
    "- **A**: Gunakan library `dateparser`\n",
    "\n",
    "```py\n",
    "import dateparser\n",
    "\n",
    "dateparser.parse('2015-Februari-09')\n",
    "pd.Series(['2015-Februari-09','05-Januari-2010']).apply(dateparser.parse)\n",
    "```\n",
    "\n",
    "- **Q**: Menambah 2 jam, 6 menit, 30 detik?  \n",
    "- **A**: `data['col'] + pd.Timedelta(days = 2, minutes = 6, seconds = 30)`\n",
    "\n",
    "\n",
    "- **Q**: Merubah nama kolom?\n",
    "- **A**: Gunakan `.replace()` untuk mengubah nama kolom maupun index:\n",
    "\n",
    "```py\n",
    "data.replace(columns={'existing_name' : 'new_name'})\n",
    "```\n",
    "\n",
    "- **Q**: Cara mengkategorikan waktu menjadi beberapa kelompok?\n",
    "- **A**: (Lebih detailnya dpt lihat di [Extra Material: Function & Conditional Value](https://drive.google.com/open?id=10YbEAQf2nLbF24r6vPHn2WyxbmvpeuNQ&authuser=0))\n",
    "\n",
    "```py\n",
    "# Solusi 1: menggunakan if-else condition\n",
    "\n",
    "## create fun\n",
    "def hour_grouping(x):\n",
    "    if x >= 6 and x <= 12:\n",
    "        return \"12am to 7am\"\n",
    "    elif x >= 8 and x <= 15:\n",
    "        return \"8am to 3pm\"\n",
    "    else:\n",
    "        return \"4pm and 11pm\"\n",
    "        \n",
    "## apply fun to column\n",
    "data['hour_group'] = data['hour'].apply(hour_grouping)\n",
    "```\n",
    "\n",
    "```py\n",
    "\n",
    "# Solusi 2: menggunakan fungsi `select` dari `numpy`\n",
    "import numpy as np\n",
    "\n",
    "cond1 = data['day'].isin([\"Saturday\",\"Sunday\"])\n",
    "choice1 = \"Weekend\"\n",
    "\n",
    "data['day_group']= np.select(condlist = [cond1], choicelist = [choice1], default = \"Weekday\")\n",
    "```"
   ]
  },
  {
   "cell_type": "markdown",
   "metadata": {},
   "source": [
    "# Contingency Tables\n",
    "\n",
    "One of the simplest EDA toolkit is the frequency table (contingency tables) and cross-tabulation tables. It is highly familiar, convenient, and practical for a wide array of statistical tasks. The simplest form of a table is to display counts of a `categorical` column."
   ]
  },
  {
   "cell_type": "markdown",
   "metadata": {},
   "source": [
    "In `pandas`, each column of a `DataFrame` is a `Series`. To get the counts of each unique levels in a categorical column, we can use `.value_counts()`. The resulting object is a `Series` and in descending order so that the most frequent element is on top. "
   ]
  },
  {
   "cell_type": "code",
   "execution_count": 29,
   "metadata": {},
   "outputs": [
    {
     "data": {
      "text/plain": [
       "Detergent    36000\n",
       "Sugar        24000\n",
       "Rice         12000\n",
       "Name: sub_category, dtype: int64"
      ]
     },
     "execution_count": 29,
     "metadata": {},
     "output_type": "execute_result"
    }
   ],
   "source": [
    "household['sub_category'].value_counts()"
   ]
  },
  {
   "cell_type": "markdown",
   "metadata": {},
   "source": [
    "Try and perform `.value_counts()` on the `format` column, adding either:\n",
    "\n",
    "- `sort=False` as a parameter to prevent any sorting of elements, or\n",
    "- `ascending=True` as a parameter to sort in ascending order instead\n",
    "\n",
    "How do you think each parameter works?"
   ]
  },
  {
   "cell_type": "code",
   "execution_count": 30,
   "metadata": {
    "run_control": {
     "marked": false
    }
   },
   "outputs": [
    {
     "data": {
      "text/plain": [
       "Detergent    36000\n",
       "Rice         12000\n",
       "Sugar        24000\n",
       "Name: sub_category, dtype: int64"
      ]
     },
     "execution_count": 30,
     "metadata": {},
     "output_type": "execute_result"
    }
   ],
   "source": [
    "# sort= True :(default): untuk yang freq-nya paling banyak ada di urutan pertma \n",
    "# sort= False: urutan berdasarkan order dari nilai kategori (.cat.categories)\n",
    "\n",
    "## Your code here\n",
    "household['sub_category'].value_counts(sort= False)\n"
   ]
  },
  {
   "cell_type": "code",
   "execution_count": 31,
   "metadata": {
    "scrolled": true
   },
   "outputs": [
    {
     "data": {
      "text/plain": [
       "Detergent    36000\n",
       "Sugar        24000\n",
       "Rice         12000\n",
       "Name: sub_category, dtype: int64"
      ]
     },
     "execution_count": 31,
     "metadata": {},
     "output_type": "execute_result"
    }
   ],
   "source": [
    "# ascending=True : urut dari value yg kecil\n",
    "# ascending=False:(default) : urut dari value yg besar\n",
    "\n",
    "## Your code here\n",
    "household['sub_category'].value_counts(sort=True, ascending= False)"
   ]
  },
  {
   "cell_type": "code",
   "execution_count": 32,
   "metadata": {},
   "outputs": [
    {
     "data": {
      "text/plain": [
       "pandas.core.series.Series"
      ]
     },
     "execution_count": 32,
     "metadata": {},
     "output_type": "execute_result"
    }
   ],
   "source": [
    "type(household['sub_category'].value_counts())"
   ]
  },
  {
   "cell_type": "markdown",
   "metadata": {},
   "source": [
    "`crosstab` is a very versatile solution to producing frequency tables on a `DataFrame` object. Its utility really goes further than that but we'll start with a simple use-case.\n",
    "\n",
    "Consider the following code: we use `pd.crosstab()` passing in the values to group by in the rows (`index`) and columns (`columns`) respectively. "
   ]
  },
  {
   "cell_type": "code",
   "execution_count": 33,
   "metadata": {},
   "outputs": [
    {
     "data": {
      "text/html": [
       "<div>\n",
       "<style scoped>\n",
       "    .dataframe tbody tr th:only-of-type {\n",
       "        vertical-align: middle;\n",
       "    }\n",
       "\n",
       "    .dataframe tbody tr th {\n",
       "        vertical-align: top;\n",
       "    }\n",
       "\n",
       "    .dataframe thead th {\n",
       "        text-align: right;\n",
       "    }\n",
       "</style>\n",
       "<table border=\"1\" class=\"dataframe\">\n",
       "  <thead>\n",
       "    <tr style=\"text-align: right;\">\n",
       "      <th></th>\n",
       "      <th>receipt_id</th>\n",
       "      <th>receipts_item_id</th>\n",
       "      <th>purchase_time</th>\n",
       "      <th>category</th>\n",
       "      <th>sub_category</th>\n",
       "      <th>format</th>\n",
       "      <th>unit_price</th>\n",
       "      <th>discount</th>\n",
       "      <th>quantity</th>\n",
       "      <th>yearmonth</th>\n",
       "      <th>weekday</th>\n",
       "    </tr>\n",
       "  </thead>\n",
       "  <tbody>\n",
       "    <tr>\n",
       "      <th>0</th>\n",
       "      <td>9622257</td>\n",
       "      <td>32369294</td>\n",
       "      <td>2018-07-22 21:19:00</td>\n",
       "      <td>Rice</td>\n",
       "      <td>Rice</td>\n",
       "      <td>supermarket</td>\n",
       "      <td>128,000.0</td>\n",
       "      <td>0</td>\n",
       "      <td>1</td>\n",
       "      <td>2018-07</td>\n",
       "      <td>Sunday</td>\n",
       "    </tr>\n",
       "    <tr>\n",
       "      <th>1</th>\n",
       "      <td>9446359</td>\n",
       "      <td>31885876</td>\n",
       "      <td>2018-07-15 16:17:00</td>\n",
       "      <td>Rice</td>\n",
       "      <td>Rice</td>\n",
       "      <td>minimarket</td>\n",
       "      <td>102,750.0</td>\n",
       "      <td>0</td>\n",
       "      <td>1</td>\n",
       "      <td>2018-07</td>\n",
       "      <td>Sunday</td>\n",
       "    </tr>\n",
       "    <tr>\n",
       "      <th>2</th>\n",
       "      <td>9470290</td>\n",
       "      <td>31930241</td>\n",
       "      <td>2018-07-15 12:12:00</td>\n",
       "      <td>Rice</td>\n",
       "      <td>Rice</td>\n",
       "      <td>supermarket</td>\n",
       "      <td>64,000.0</td>\n",
       "      <td>0</td>\n",
       "      <td>3</td>\n",
       "      <td>2018-07</td>\n",
       "      <td>Sunday</td>\n",
       "    </tr>\n",
       "  </tbody>\n",
       "</table>\n",
       "</div>"
      ],
      "text/plain": [
       "   receipt_id  receipts_item_id       purchase_time category sub_category  \\\n",
       "0     9622257          32369294 2018-07-22 21:19:00     Rice         Rice   \n",
       "1     9446359          31885876 2018-07-15 16:17:00     Rice         Rice   \n",
       "2     9470290          31930241 2018-07-15 12:12:00     Rice         Rice   \n",
       "\n",
       "        format  unit_price  discount  quantity yearmonth weekday  \n",
       "0  supermarket   128,000.0         0         1   2018-07  Sunday  \n",
       "1   minimarket   102,750.0         0         1   2018-07  Sunday  \n",
       "2  supermarket    64,000.0         0         3   2018-07  Sunday  "
      ]
     },
     "execution_count": 33,
     "metadata": {},
     "output_type": "execute_result"
    }
   ],
   "source": [
    "household.head(3)"
   ]
  },
  {
   "cell_type": "code",
   "execution_count": 34,
   "metadata": {
    "scrolled": true
   },
   "outputs": [
    {
     "data": {
      "text/html": [
       "<div>\n",
       "<style scoped>\n",
       "    .dataframe tbody tr th:only-of-type {\n",
       "        vertical-align: middle;\n",
       "    }\n",
       "\n",
       "    .dataframe tbody tr th {\n",
       "        vertical-align: top;\n",
       "    }\n",
       "\n",
       "    .dataframe thead th {\n",
       "        text-align: right;\n",
       "    }\n",
       "</style>\n",
       "<table border=\"1\" class=\"dataframe\">\n",
       "  <thead>\n",
       "    <tr style=\"text-align: right;\">\n",
       "      <th>col_0</th>\n",
       "      <th>jumlah_baris</th>\n",
       "    </tr>\n",
       "    <tr>\n",
       "      <th>sub_category</th>\n",
       "      <th></th>\n",
       "    </tr>\n",
       "  </thead>\n",
       "  <tbody>\n",
       "    <tr>\n",
       "      <th>Detergent</th>\n",
       "      <td>36000</td>\n",
       "    </tr>\n",
       "    <tr>\n",
       "      <th>Rice</th>\n",
       "      <td>12000</td>\n",
       "    </tr>\n",
       "    <tr>\n",
       "      <th>Sugar</th>\n",
       "      <td>24000</td>\n",
       "    </tr>\n",
       "  </tbody>\n",
       "</table>\n",
       "</div>"
      ],
      "text/plain": [
       "col_0         jumlah_baris\n",
       "sub_category              \n",
       "Detergent            36000\n",
       "Rice                 12000\n",
       "Sugar                24000"
      ]
     },
     "execution_count": 34,
     "metadata": {},
     "output_type": "execute_result"
    }
   ],
   "source": [
    "pd.crosstab(index = household['sub_category'], columns = \"jumlah_baris\")"
   ]
  },
  {
   "cell_type": "markdown",
   "metadata": {},
   "source": [
    "Realize that in the code above, we're setting the row (index) to be `sub_category` and the function will by default compute a frequency table. "
   ]
  },
  {
   "cell_type": "code",
   "execution_count": 35,
   "metadata": {},
   "outputs": [
    {
     "data": {
      "text/html": [
       "<div>\n",
       "<style scoped>\n",
       "    .dataframe tbody tr th:only-of-type {\n",
       "        vertical-align: middle;\n",
       "    }\n",
       "\n",
       "    .dataframe tbody tr th {\n",
       "        vertical-align: top;\n",
       "    }\n",
       "\n",
       "    .dataframe thead th {\n",
       "        text-align: right;\n",
       "    }\n",
       "</style>\n",
       "<table border=\"1\" class=\"dataframe\">\n",
       "  <thead>\n",
       "    <tr style=\"text-align: right;\">\n",
       "      <th>col_0</th>\n",
       "      <th>jumlah_baris</th>\n",
       "    </tr>\n",
       "    <tr>\n",
       "      <th>sub_category</th>\n",
       "      <th></th>\n",
       "    </tr>\n",
       "  </thead>\n",
       "  <tbody>\n",
       "    <tr>\n",
       "      <th>Detergent</th>\n",
       "      <td>0.5</td>\n",
       "    </tr>\n",
       "    <tr>\n",
       "      <th>Rice</th>\n",
       "      <td>0.16666666666666666</td>\n",
       "    </tr>\n",
       "    <tr>\n",
       "      <th>Sugar</th>\n",
       "      <td>0.3333333333333333</td>\n",
       "    </tr>\n",
       "  </tbody>\n",
       "</table>\n",
       "</div>"
      ],
      "text/plain": [
       "col_0               jumlah_baris\n",
       "sub_category                    \n",
       "Detergent                    0.5\n",
       "Rice         0.16666666666666666\n",
       "Sugar         0.3333333333333333"
      ]
     },
     "execution_count": 35,
     "metadata": {},
     "output_type": "execute_result"
    }
   ],
   "source": [
    "pd.crosstab(index = household['sub_category'],\n",
    "            columns = \"jumlah_baris\",\n",
    "           normalize=True) # mengubah frekuensi menjadi bentuk persentase"
   ]
  },
  {
   "cell_type": "markdown",
   "metadata": {},
   "source": [
    "In the cell above, we set the values to be normalized over each columns, and this will divide each values in place over the sum of all values. This is equivalent to a manual calculation:"
   ]
  },
  {
   "cell_type": "code",
   "execution_count": 36,
   "metadata": {},
   "outputs": [
    {
     "data": {
      "text/html": [
       "<div>\n",
       "<style scoped>\n",
       "    .dataframe tbody tr th:only-of-type {\n",
       "        vertical-align: middle;\n",
       "    }\n",
       "\n",
       "    .dataframe tbody tr th {\n",
       "        vertical-align: top;\n",
       "    }\n",
       "\n",
       "    .dataframe thead th {\n",
       "        text-align: right;\n",
       "    }\n",
       "</style>\n",
       "<table border=\"1\" class=\"dataframe\">\n",
       "  <thead>\n",
       "    <tr style=\"text-align: right;\">\n",
       "      <th>col_0</th>\n",
       "      <th>count</th>\n",
       "    </tr>\n",
       "    <tr>\n",
       "      <th>sub_category</th>\n",
       "      <th></th>\n",
       "    </tr>\n",
       "  </thead>\n",
       "  <tbody>\n",
       "    <tr>\n",
       "      <th>Detergent</th>\n",
       "      <td>0.5</td>\n",
       "    </tr>\n",
       "    <tr>\n",
       "      <th>Rice</th>\n",
       "      <td>0.16666666666666666</td>\n",
       "    </tr>\n",
       "    <tr>\n",
       "      <th>Sugar</th>\n",
       "      <td>0.3333333333333333</td>\n",
       "    </tr>\n",
       "  </tbody>\n",
       "</table>\n",
       "</div>"
      ],
      "text/plain": [
       "col_0                      count\n",
       "sub_category                    \n",
       "Detergent                    0.5\n",
       "Rice         0.16666666666666666\n",
       "Sugar         0.3333333333333333"
      ]
     },
     "execution_count": 36,
     "metadata": {},
     "output_type": "execute_result"
    }
   ],
   "source": [
    "catego = pd.crosstab(index=household['sub_category'], columns=\"count\")\n",
    "\n",
    "catego / catego.sum()"
   ]
  },
  {
   "cell_type": "markdown",
   "metadata": {},
   "source": [
    "We can also use the same `crosstab` method to compute a cross-tabulation of two factors. In the following cell, the `index` references the sub-category column while the `columns` references the format column:"
   ]
  },
  {
   "cell_type": "code",
   "execution_count": 37,
   "metadata": {
    "scrolled": true
   },
   "outputs": [
    {
     "data": {
      "text/html": [
       "<div>\n",
       "<style scoped>\n",
       "    .dataframe tbody tr th:only-of-type {\n",
       "        vertical-align: middle;\n",
       "    }\n",
       "\n",
       "    .dataframe tbody tr th {\n",
       "        vertical-align: top;\n",
       "    }\n",
       "\n",
       "    .dataframe thead th {\n",
       "        text-align: right;\n",
       "    }\n",
       "</style>\n",
       "<table border=\"1\" class=\"dataframe\">\n",
       "  <thead>\n",
       "    <tr style=\"text-align: right;\">\n",
       "      <th>format</th>\n",
       "      <th>hypermarket</th>\n",
       "      <th>minimarket</th>\n",
       "      <th>supermarket</th>\n",
       "    </tr>\n",
       "    <tr>\n",
       "      <th>sub_category</th>\n",
       "      <th></th>\n",
       "      <th></th>\n",
       "      <th></th>\n",
       "    </tr>\n",
       "  </thead>\n",
       "  <tbody>\n",
       "    <tr>\n",
       "      <th>Detergent</th>\n",
       "      <td>2611</td>\n",
       "      <td>24345</td>\n",
       "      <td>9044</td>\n",
       "    </tr>\n",
       "    <tr>\n",
       "      <th>Rice</th>\n",
       "      <td>999</td>\n",
       "      <td>7088</td>\n",
       "      <td>3913</td>\n",
       "    </tr>\n",
       "    <tr>\n",
       "      <th>Sugar</th>\n",
       "      <td>1761</td>\n",
       "      <td>15370</td>\n",
       "      <td>6869</td>\n",
       "    </tr>\n",
       "  </tbody>\n",
       "</table>\n",
       "</div>"
      ],
      "text/plain": [
       "format        hypermarket  minimarket  supermarket\n",
       "sub_category                                      \n",
       "Detergent            2611       24345         9044\n",
       "Rice                  999        7088         3913\n",
       "Sugar                1761       15370         6869"
      ]
     },
     "execution_count": 37,
     "metadata": {},
     "output_type": "execute_result"
    }
   ],
   "source": [
    "pd.crosstab(index = household['sub_category'],\n",
    "            columns = household['format'])"
   ]
  },
  {
   "cell_type": "code",
   "execution_count": 38,
   "metadata": {},
   "outputs": [
    {
     "data": {
      "text/html": [
       "<div>\n",
       "<style scoped>\n",
       "    .dataframe tbody tr th:only-of-type {\n",
       "        vertical-align: middle;\n",
       "    }\n",
       "\n",
       "    .dataframe tbody tr th {\n",
       "        vertical-align: top;\n",
       "    }\n",
       "\n",
       "    .dataframe thead th {\n",
       "        text-align: right;\n",
       "    }\n",
       "</style>\n",
       "<table border=\"1\" class=\"dataframe\">\n",
       "  <thead>\n",
       "    <tr style=\"text-align: right;\">\n",
       "      <th>format</th>\n",
       "      <th>hypermarket</th>\n",
       "      <th>minimarket</th>\n",
       "      <th>supermarket</th>\n",
       "    </tr>\n",
       "    <tr>\n",
       "      <th>sub_category</th>\n",
       "      <th></th>\n",
       "      <th></th>\n",
       "      <th></th>\n",
       "    </tr>\n",
       "  </thead>\n",
       "  <tbody>\n",
       "    <tr>\n",
       "      <th>Detergent</th>\n",
       "      <td>0.03626388888888889</td>\n",
       "      <td>0.338125</td>\n",
       "      <td>0.12561111111111112</td>\n",
       "    </tr>\n",
       "    <tr>\n",
       "      <th>Rice</th>\n",
       "      <td>0.013875</td>\n",
       "      <td>0.09844444444444445</td>\n",
       "      <td>0.05434722222222222</td>\n",
       "    </tr>\n",
       "    <tr>\n",
       "      <th>Sugar</th>\n",
       "      <td>0.024458333333333332</td>\n",
       "      <td>0.21347222222222223</td>\n",
       "      <td>0.09540277777777778</td>\n",
       "    </tr>\n",
       "  </tbody>\n",
       "</table>\n",
       "</div>"
      ],
      "text/plain": [
       "format                hypermarket          minimarket         supermarket\n",
       "sub_category                                                             \n",
       "Detergent     0.03626388888888889            0.338125 0.12561111111111112\n",
       "Rice                     0.013875 0.09844444444444445 0.05434722222222222\n",
       "Sugar        0.024458333333333332 0.21347222222222223 0.09540277777777778"
      ]
     },
     "execution_count": 38,
     "metadata": {},
     "output_type": "execute_result"
    }
   ],
   "source": [
    "pd.crosstab(index = household['sub_category'],\n",
    "            columns = household['format'],\n",
    "           normalize = True)"
   ]
  },
  {
   "cell_type": "markdown",
   "metadata": {},
   "source": [
    "**More on `normalize`:**\n"
   ]
  },
  {
   "cell_type": "code",
   "execution_count": 39,
   "metadata": {},
   "outputs": [
    {
     "data": {
      "text/html": [
       "<div>\n",
       "<style scoped>\n",
       "    .dataframe tbody tr th:only-of-type {\n",
       "        vertical-align: middle;\n",
       "    }\n",
       "\n",
       "    .dataframe tbody tr th {\n",
       "        vertical-align: top;\n",
       "    }\n",
       "\n",
       "    .dataframe thead th {\n",
       "        text-align: right;\n",
       "    }\n",
       "</style>\n",
       "<table border=\"1\" class=\"dataframe\">\n",
       "  <thead>\n",
       "    <tr style=\"text-align: right;\">\n",
       "      <th>format</th>\n",
       "      <th>hypermarket</th>\n",
       "      <th>minimarket</th>\n",
       "      <th>supermarket</th>\n",
       "    </tr>\n",
       "    <tr>\n",
       "      <th>sub_category</th>\n",
       "      <th></th>\n",
       "      <th></th>\n",
       "      <th></th>\n",
       "    </tr>\n",
       "  </thead>\n",
       "  <tbody>\n",
       "    <tr>\n",
       "      <th>Detergent</th>\n",
       "      <td>0.04</td>\n",
       "      <td>0.34</td>\n",
       "      <td>0.13</td>\n",
       "    </tr>\n",
       "    <tr>\n",
       "      <th>Rice</th>\n",
       "      <td>0.01</td>\n",
       "      <td>0.1</td>\n",
       "      <td>0.05</td>\n",
       "    </tr>\n",
       "    <tr>\n",
       "      <th>Sugar</th>\n",
       "      <td>0.02</td>\n",
       "      <td>0.21</td>\n",
       "      <td>0.1</td>\n",
       "    </tr>\n",
       "  </tbody>\n",
       "</table>\n",
       "</div>"
      ],
      "text/plain": [
       "format        hypermarket  minimarket  supermarket\n",
       "sub_category                                      \n",
       "Detergent            0.04        0.34         0.13\n",
       "Rice                 0.01         0.1         0.05\n",
       "Sugar                0.02        0.21          0.1"
      ]
     },
     "execution_count": 39,
     "metadata": {},
     "output_type": "execute_result"
    }
   ],
   "source": [
    "pd.crosstab(index = household['sub_category'],\n",
    "            columns = household['format'],\n",
    "           normalize = \"all\").round(2) # equivalent dengan `normalize=True` (proporsi berdasarkan keseluruhan nilai)"
   ]
  },
  {
   "cell_type": "code",
   "execution_count": 40,
   "metadata": {
    "run_control": {
     "marked": false
    },
    "scrolled": true
   },
   "outputs": [
    {
     "data": {
      "text/html": [
       "<div>\n",
       "<style scoped>\n",
       "    .dataframe tbody tr th:only-of-type {\n",
       "        vertical-align: middle;\n",
       "    }\n",
       "\n",
       "    .dataframe tbody tr th {\n",
       "        vertical-align: top;\n",
       "    }\n",
       "\n",
       "    .dataframe thead th {\n",
       "        text-align: right;\n",
       "    }\n",
       "</style>\n",
       "<table border=\"1\" class=\"dataframe\">\n",
       "  <thead>\n",
       "    <tr style=\"text-align: right;\">\n",
       "      <th>format</th>\n",
       "      <th>hypermarket</th>\n",
       "      <th>minimarket</th>\n",
       "      <th>supermarket</th>\n",
       "    </tr>\n",
       "    <tr>\n",
       "      <th>sub_category</th>\n",
       "      <th></th>\n",
       "      <th></th>\n",
       "      <th></th>\n",
       "    </tr>\n",
       "  </thead>\n",
       "  <tbody>\n",
       "    <tr>\n",
       "      <th>Detergent</th>\n",
       "      <td>0.07</td>\n",
       "      <td>0.68</td>\n",
       "      <td>0.25</td>\n",
       "    </tr>\n",
       "    <tr>\n",
       "      <th>Rice</th>\n",
       "      <td>0.08</td>\n",
       "      <td>0.59</td>\n",
       "      <td>0.33</td>\n",
       "    </tr>\n",
       "    <tr>\n",
       "      <th>Sugar</th>\n",
       "      <td>0.07</td>\n",
       "      <td>0.64</td>\n",
       "      <td>0.29</td>\n",
       "    </tr>\n",
       "  </tbody>\n",
       "</table>\n",
       "</div>"
      ],
      "text/plain": [
       "format        hypermarket  minimarket  supermarket\n",
       "sub_category                                      \n",
       "Detergent            0.07        0.68         0.25\n",
       "Rice                 0.08        0.59         0.33\n",
       "Sugar                0.07        0.64         0.29"
      ]
     },
     "execution_count": 40,
     "metadata": {},
     "output_type": "execute_result"
    }
   ],
   "source": [
    "# 100% nya adalah baris\n",
    "## contoh interpretasi: dari setiap penjualan produk, format penjualan manakah yang penjualannya terbanyak?\n",
    "## dari 100% transaksi deterjen, paling banyak transaksi terjadi di minimarket (68%)\n",
    "pd.crosstab(index = household['sub_category'],\n",
    "            columns = household['format'],\n",
    "           normalize = \"index\").round(2)"
   ]
  },
  {
   "cell_type": "code",
   "execution_count": 41,
   "metadata": {
    "scrolled": true
   },
   "outputs": [
    {
     "data": {
      "text/html": [
       "<div>\n",
       "<style scoped>\n",
       "    .dataframe tbody tr th:only-of-type {\n",
       "        vertical-align: middle;\n",
       "    }\n",
       "\n",
       "    .dataframe tbody tr th {\n",
       "        vertical-align: top;\n",
       "    }\n",
       "\n",
       "    .dataframe thead th {\n",
       "        text-align: right;\n",
       "    }\n",
       "</style>\n",
       "<table border=\"1\" class=\"dataframe\">\n",
       "  <thead>\n",
       "    <tr style=\"text-align: right;\">\n",
       "      <th>format</th>\n",
       "      <th>hypermarket</th>\n",
       "      <th>minimarket</th>\n",
       "      <th>supermarket</th>\n",
       "    </tr>\n",
       "    <tr>\n",
       "      <th>sub_category</th>\n",
       "      <th></th>\n",
       "      <th></th>\n",
       "      <th></th>\n",
       "    </tr>\n",
       "  </thead>\n",
       "  <tbody>\n",
       "    <tr>\n",
       "      <th>Detergent</th>\n",
       "      <td>0.49</td>\n",
       "      <td>0.52</td>\n",
       "      <td>0.46</td>\n",
       "    </tr>\n",
       "    <tr>\n",
       "      <th>Rice</th>\n",
       "      <td>0.19</td>\n",
       "      <td>0.15</td>\n",
       "      <td>0.2</td>\n",
       "    </tr>\n",
       "    <tr>\n",
       "      <th>Sugar</th>\n",
       "      <td>0.33</td>\n",
       "      <td>0.33</td>\n",
       "      <td>0.35</td>\n",
       "    </tr>\n",
       "  </tbody>\n",
       "</table>\n",
       "</div>"
      ],
      "text/plain": [
       "format        hypermarket  minimarket  supermarket\n",
       "sub_category                                      \n",
       "Detergent            0.49        0.52         0.46\n",
       "Rice                 0.19        0.15          0.2\n",
       "Sugar                0.33        0.33         0.35"
      ]
     },
     "execution_count": 41,
     "metadata": {},
     "output_type": "execute_result"
    }
   ],
   "source": [
    "# 100% nya adalah per kolom\n",
    "## contoh intepretasi: dari setiap format penjualan, produk mana yang paling banyak dibeli?\n",
    "pd.crosstab(index = household['sub_category'],\n",
    "            columns = household['format'],\n",
    "           normalize = \"columns\").round(2)"
   ]
  },
  {
   "cell_type": "markdown",
   "metadata": {},
   "source": [
    "This is intuitive in a way: We use `crosstab()` which, we recall, computes the count and we pass in `index` and `columns` which correspond to the row and column respectively.\n",
    "\n",
    "When we add `margins=True` to our method call, then an extra row and column of margins (subtotals) will be included in the output:"
   ]
  },
  {
   "cell_type": "code",
   "execution_count": 42,
   "metadata": {
    "scrolled": false
   },
   "outputs": [
    {
     "data": {
      "text/html": [
       "<div>\n",
       "<style scoped>\n",
       "    .dataframe tbody tr th:only-of-type {\n",
       "        vertical-align: middle;\n",
       "    }\n",
       "\n",
       "    .dataframe tbody tr th {\n",
       "        vertical-align: top;\n",
       "    }\n",
       "\n",
       "    .dataframe thead th {\n",
       "        text-align: right;\n",
       "    }\n",
       "</style>\n",
       "<table border=\"1\" class=\"dataframe\">\n",
       "  <thead>\n",
       "    <tr style=\"text-align: right;\">\n",
       "      <th>format</th>\n",
       "      <th>hypermarket</th>\n",
       "      <th>minimarket</th>\n",
       "      <th>supermarket</th>\n",
       "      <th>Grand Total</th>\n",
       "    </tr>\n",
       "    <tr>\n",
       "      <th>sub_category</th>\n",
       "      <th></th>\n",
       "      <th></th>\n",
       "      <th></th>\n",
       "      <th></th>\n",
       "    </tr>\n",
       "  </thead>\n",
       "  <tbody>\n",
       "    <tr>\n",
       "      <th>Detergent</th>\n",
       "      <td>2611</td>\n",
       "      <td>24345</td>\n",
       "      <td>9044</td>\n",
       "      <td>36000</td>\n",
       "    </tr>\n",
       "    <tr>\n",
       "      <th>Rice</th>\n",
       "      <td>999</td>\n",
       "      <td>7088</td>\n",
       "      <td>3913</td>\n",
       "      <td>12000</td>\n",
       "    </tr>\n",
       "    <tr>\n",
       "      <th>Sugar</th>\n",
       "      <td>1761</td>\n",
       "      <td>15370</td>\n",
       "      <td>6869</td>\n",
       "      <td>24000</td>\n",
       "    </tr>\n",
       "    <tr>\n",
       "      <th>Grand Total</th>\n",
       "      <td>5371</td>\n",
       "      <td>46803</td>\n",
       "      <td>19826</td>\n",
       "      <td>72000</td>\n",
       "    </tr>\n",
       "  </tbody>\n",
       "</table>\n",
       "</div>"
      ],
      "text/plain": [
       "format        hypermarket  minimarket  supermarket  Grand Total\n",
       "sub_category                                                   \n",
       "Detergent            2611       24345         9044        36000\n",
       "Rice                  999        7088         3913        12000\n",
       "Sugar                1761       15370         6869        24000\n",
       "Grand Total          5371       46803        19826        72000"
      ]
     },
     "execution_count": 42,
     "metadata": {},
     "output_type": "execute_result"
    }
   ],
   "source": [
    "pd.crosstab(index = household['sub_category'],\n",
    "            columns = household['format'],\n",
    "           margins=True, # margins=True, menampilkan kolom \"All\": total setiap index&kolom\n",
    "           margins_name=\"Grand Total\") # margins_name: rename \"All\" yang dihasilkan"
   ]
  },
  {
   "cell_type": "markdown",
   "metadata": {},
   "source": [
    "Parameter `margins=True` pada pd.crosstab():\n",
    "   - Untuk table frekuensi (`pd.crosstab(index,columns)`): me-return nilai `sum`\n",
    "   - Untuk table agregasi (`pd.crosstab(index,columns,aggfunc,value)`): me-return nilai `aggfunc`"
   ]
  },
  {
   "cell_type": "markdown",
   "metadata": {},
   "source": [
    "**Knowledge Check:**\n",
    "\n",
    "Use `pd.crosstab()` to answer following business question:\n",
    "\n",
    "- Cobalah untuk menganalisis jumlah transaksi perbulan di setiap `format` market penjualan. Di bulan berapakah jumlah transaksi terendah terjadi untuk setiap `format` market? \n",
    "\n",
    "*Tips:*\n",
    "\n",
    "- Anda dapat menggunakan `.idxmin()` pada tabel yang Anda menghasilkan untuk mendapatkan indeks terendahnya.\n",
    "\n",
    "---\n",
    "\n",
    "*Bonus Challenge*\n",
    "\n",
    "- Dalam rangka menaikkan jumlah transaksi di `minimarket`, perusahaan berencana untuk mengadakan *flash-sale* di jam dengan transaksi terendah. Gunakan data transaksi di `minimarket` pada bulan terendahnya (Recall conditional subsetting!), dan buatlah sebuah kolom baru yang menyimpan informasi jam terjadinya transaksi. Di jam berapakah *flash-sale* tersebut sebaiknya diadakan?"
   ]
  },
  {
   "cell_type": "code",
   "execution_count": 43,
   "metadata": {
    "run_control": {
     "marked": false
    }
   },
   "outputs": [
    {
     "data": {
      "text/plain": [
       "col_0\n",
       "Count    1\n",
       "dtype: int64"
      ]
     },
     "execution_count": 43,
     "metadata": {},
     "output_type": "execute_result"
    }
   ],
   "source": [
    "## Your code below\n",
    "\n",
    "# note: idxmin() --> mengembalikan index dari nilai min di setiap kolom\n",
    "pd.crosstab(index=household['yearmonth'],columns=household['format']).idxmin() \n",
    "\n",
    "# Bonus challenge\n",
    "flash_sale = household[(household['format'] == 'minimarket') & (household['yearmonth'] == '2018-03')].copy()\n",
    "flash_sale['purchase_hour'] = household['purchase_time'].dt.hour \n",
    "\n",
    "pd.crosstab(index = flash_sale['purchase_hour'], columns = 'Count').idxmin()\n",
    "\n"
   ]
  },
  {
   "cell_type": "markdown",
   "metadata": {},
   "source": [
    "## Aggregation Table\n",
    "\n",
    "In the following section, we will introduce another parameter to perform aggregation on our table. The `aggfunc` parameter when present, required the `values` parameter to be specified as well. `values` is the values to aggregate according to the factors in our index and columns:"
   ]
  },
  {
   "cell_type": "code",
   "execution_count": 44,
   "metadata": {
    "scrolled": false
   },
   "outputs": [
    {
     "data": {
      "text/html": [
       "<div>\n",
       "<style scoped>\n",
       "    .dataframe tbody tr th:only-of-type {\n",
       "        vertical-align: middle;\n",
       "    }\n",
       "\n",
       "    .dataframe tbody tr th {\n",
       "        vertical-align: top;\n",
       "    }\n",
       "\n",
       "    .dataframe thead th {\n",
       "        text-align: right;\n",
       "    }\n",
       "</style>\n",
       "<table border=\"1\" class=\"dataframe\">\n",
       "  <thead>\n",
       "    <tr style=\"text-align: right;\">\n",
       "      <th>format</th>\n",
       "      <th>hypermarket</th>\n",
       "      <th>minimarket</th>\n",
       "      <th>supermarket</th>\n",
       "    </tr>\n",
       "    <tr>\n",
       "      <th>yearmonth</th>\n",
       "      <th></th>\n",
       "      <th></th>\n",
       "      <th></th>\n",
       "    </tr>\n",
       "  </thead>\n",
       "  <tbody>\n",
       "    <tr>\n",
       "      <th>2017-10</th>\n",
       "      <td>27,999.69</td>\n",
       "      <td>23,515.6</td>\n",
       "      <td>28,357.9</td>\n",
       "    </tr>\n",
       "    <tr>\n",
       "      <th>2017-11</th>\n",
       "      <td>27,366.44</td>\n",
       "      <td>23,377.05</td>\n",
       "      <td>28,014.8</td>\n",
       "    </tr>\n",
       "    <tr>\n",
       "      <th>2017-12</th>\n",
       "      <td>26,140.6</td>\n",
       "      <td>22,633.66</td>\n",
       "      <td>28,794.75</td>\n",
       "    </tr>\n",
       "    <tr>\n",
       "      <th>2018-01</th>\n",
       "      <td>26,376.15</td>\n",
       "      <td>23,229.15</td>\n",
       "      <td>28,976.18</td>\n",
       "    </tr>\n",
       "    <tr>\n",
       "      <th>2018-02</th>\n",
       "      <td>29,083.82</td>\n",
       "      <td>23,441.28</td>\n",
       "      <td>27,142.76</td>\n",
       "    </tr>\n",
       "    <tr>\n",
       "      <th>2018-03</th>\n",
       "      <td>28,015.66</td>\n",
       "      <td>23,605.62</td>\n",
       "      <td>25,725.31</td>\n",
       "    </tr>\n",
       "    <tr>\n",
       "      <th>2018-04</th>\n",
       "      <td>28,742.96</td>\n",
       "      <td>23,303.87</td>\n",
       "      <td>27,629.84</td>\n",
       "    </tr>\n",
       "    <tr>\n",
       "      <th>2018-05</th>\n",
       "      <td>26,392.83</td>\n",
       "      <td>24,159.44</td>\n",
       "      <td>27,184.82</td>\n",
       "    </tr>\n",
       "    <tr>\n",
       "      <th>2018-06</th>\n",
       "      <td>26,334.65</td>\n",
       "      <td>23,960.48</td>\n",
       "      <td>27,152.3</td>\n",
       "    </tr>\n",
       "    <tr>\n",
       "      <th>2018-07</th>\n",
       "      <td>26,217.67</td>\n",
       "      <td>23,123.03</td>\n",
       "      <td>29,395.02</td>\n",
       "    </tr>\n",
       "    <tr>\n",
       "      <th>2018-08</th>\n",
       "      <td>25,188.61</td>\n",
       "      <td>23,776.41</td>\n",
       "      <td>26,093.49</td>\n",
       "    </tr>\n",
       "    <tr>\n",
       "      <th>2018-09</th>\n",
       "      <td>26,808.78</td>\n",
       "      <td>23,476.64</td>\n",
       "      <td>25,626.49</td>\n",
       "    </tr>\n",
       "  </tbody>\n",
       "</table>\n",
       "</div>"
      ],
      "text/plain": [
       "format     hypermarket  minimarket  supermarket\n",
       "yearmonth                                      \n",
       "2017-10      27,999.69    23,515.6     28,357.9\n",
       "2017-11      27,366.44   23,377.05     28,014.8\n",
       "2017-12       26,140.6   22,633.66    28,794.75\n",
       "2018-01      26,376.15   23,229.15    28,976.18\n",
       "2018-02      29,083.82   23,441.28    27,142.76\n",
       "2018-03      28,015.66   23,605.62    25,725.31\n",
       "2018-04      28,742.96   23,303.87    27,629.84\n",
       "2018-05      26,392.83   24,159.44    27,184.82\n",
       "2018-06      26,334.65   23,960.48     27,152.3\n",
       "2018-07      26,217.67   23,123.03    29,395.02\n",
       "2018-08      25,188.61   23,776.41    26,093.49\n",
       "2018-09      26,808.78   23,476.64    25,626.49"
      ]
     },
     "execution_count": 44,
     "metadata": {},
     "output_type": "execute_result"
    }
   ],
   "source": [
    "pd.crosstab(\n",
    "    index=household['yearmonth'],\n",
    "    columns=household['format'],\n",
    "    values = household['unit_price'],\n",
    "    aggfunc = 'mean'\n",
    ").round(2)"
   ]
  },
  {
   "cell_type": "markdown",
   "metadata": {},
   "source": [
    "**Knowledge Check**: Cross tabulation  \n",
    "\n",
    "Create a cross-tab using `sub_category` as the index (row) and `format` as the column. Fill the values with the median of `unit_price` across each row and column. Add a subtotal to both the row and column by setting `margins=True`.\n",
    "\n",
    "1. On average, Sugar is cheapest at...?\n",
    "2. On average, Detergent is most expensive at...?\n",
    "\n",
    "Create a new cell for your code and answer the questions above."
   ]
  },
  {
   "cell_type": "code",
   "execution_count": 45,
   "metadata": {},
   "outputs": [
    {
     "data": {
      "text/html": [
       "<div>\n",
       "<style scoped>\n",
       "    .dataframe tbody tr th:only-of-type {\n",
       "        vertical-align: middle;\n",
       "    }\n",
       "\n",
       "    .dataframe tbody tr th {\n",
       "        vertical-align: top;\n",
       "    }\n",
       "\n",
       "    .dataframe thead th {\n",
       "        text-align: right;\n",
       "    }\n",
       "</style>\n",
       "<table border=\"1\" class=\"dataframe\">\n",
       "  <thead>\n",
       "    <tr style=\"text-align: right;\">\n",
       "      <th>format</th>\n",
       "      <th>hypermarket</th>\n",
       "      <th>minimarket</th>\n",
       "      <th>supermarket</th>\n",
       "      <th>All</th>\n",
       "    </tr>\n",
       "    <tr>\n",
       "      <th>sub_category</th>\n",
       "      <th></th>\n",
       "      <th></th>\n",
       "      <th></th>\n",
       "      <th></th>\n",
       "    </tr>\n",
       "  </thead>\n",
       "  <tbody>\n",
       "    <tr>\n",
       "      <th>Detergent</th>\n",
       "      <td>16,900.0</td>\n",
       "      <td>16,800.0</td>\n",
       "      <td>16,500.0</td>\n",
       "      <td>16,800.0</td>\n",
       "    </tr>\n",
       "    <tr>\n",
       "      <th>Rice</th>\n",
       "      <td>64,000.0</td>\n",
       "      <td>62,900.0</td>\n",
       "      <td>64,000.0</td>\n",
       "      <td>63,500.0</td>\n",
       "    </tr>\n",
       "    <tr>\n",
       "      <th>Sugar</th>\n",
       "      <td>12,250.0</td>\n",
       "      <td>12,500.0</td>\n",
       "      <td>12,400.0</td>\n",
       "      <td>12,500.0</td>\n",
       "    </tr>\n",
       "    <tr>\n",
       "      <th>All</th>\n",
       "      <td>15,990.0</td>\n",
       "      <td>15,500.0</td>\n",
       "      <td>14,907.5</td>\n",
       "      <td>15,472.5</td>\n",
       "    </tr>\n",
       "  </tbody>\n",
       "</table>\n",
       "</div>"
      ],
      "text/plain": [
       "format        hypermarket  minimarket  supermarket      All\n",
       "sub_category                                               \n",
       "Detergent        16,900.0    16,800.0     16,500.0 16,800.0\n",
       "Rice             64,000.0    62,900.0     64,000.0 63,500.0\n",
       "Sugar            12,250.0    12,500.0     12,400.0 12,500.0\n",
       "All              15,990.0    15,500.0     14,907.5 15,472.5"
      ]
     },
     "execution_count": 45,
     "metadata": {},
     "output_type": "execute_result"
    }
   ],
   "source": [
    "## Your code below\n",
    "\n",
    "\n",
    "## -- Solution code\n",
    "pd.crosstab(index = household['sub_category'],\n",
    "            columns = household['format'],\n",
    "            values= household['unit_price'], \n",
    "            aggfunc= 'median',margins=True).round(2)"
   ]
  },
  {
   "cell_type": "code",
   "execution_count": 46,
   "metadata": {},
   "outputs": [
    {
     "data": {
      "text/plain": [
       "sub_category\n",
       "Detergent    supermarket\n",
       "Rice          minimarket\n",
       "Sugar        hypermarket\n",
       "dtype: object"
      ]
     },
     "execution_count": 46,
     "metadata": {},
     "output_type": "execute_result"
    }
   ],
   "source": [
    "pd.crosstab(index = household['sub_category'],\n",
    "            columns = household['format'],\n",
    "            values= household['unit_price'], \n",
    "            aggfunc= 'median').round(2).idxmin(axis=1)"
   ]
  },
  {
   "cell_type": "markdown",
   "metadata": {},
   "source": [
    "### Higher-dimensional Tables\n",
    "\n",
    "If we need to inspect our data in higher resolution, we can create cross-tabulation using more than one factor. This allows us to yield insights on a more granular level yet have our output remain relatively compact and structured:"
   ]
  },
  {
   "cell_type": "code",
   "execution_count": 47,
   "metadata": {
    "scrolled": false
   },
   "outputs": [
    {
     "data": {
      "text/html": [
       "<div>\n",
       "<style scoped>\n",
       "    .dataframe tbody tr th:only-of-type {\n",
       "        vertical-align: middle;\n",
       "    }\n",
       "\n",
       "    .dataframe tbody tr th {\n",
       "        vertical-align: top;\n",
       "    }\n",
       "\n",
       "    .dataframe thead tr th {\n",
       "        text-align: left;\n",
       "    }\n",
       "\n",
       "    .dataframe thead tr:last-of-type th {\n",
       "        text-align: right;\n",
       "    }\n",
       "</style>\n",
       "<table border=\"1\" class=\"dataframe\">\n",
       "  <thead>\n",
       "    <tr>\n",
       "      <th>format</th>\n",
       "      <th colspan=\"3\" halign=\"left\">hypermarket</th>\n",
       "      <th colspan=\"3\" halign=\"left\">minimarket</th>\n",
       "      <th colspan=\"3\" halign=\"left\">supermarket</th>\n",
       "    </tr>\n",
       "    <tr>\n",
       "      <th>sub_category</th>\n",
       "      <th>Detergent</th>\n",
       "      <th>Rice</th>\n",
       "      <th>Sugar</th>\n",
       "      <th>Detergent</th>\n",
       "      <th>Rice</th>\n",
       "      <th>Sugar</th>\n",
       "      <th>Detergent</th>\n",
       "      <th>Rice</th>\n",
       "      <th>Sugar</th>\n",
       "    </tr>\n",
       "    <tr>\n",
       "      <th>yearmonth</th>\n",
       "      <th></th>\n",
       "      <th></th>\n",
       "      <th></th>\n",
       "      <th></th>\n",
       "      <th></th>\n",
       "      <th></th>\n",
       "      <th></th>\n",
       "      <th></th>\n",
       "      <th></th>\n",
       "    </tr>\n",
       "  </thead>\n",
       "  <tbody>\n",
       "    <tr>\n",
       "      <th>2017-10</th>\n",
       "      <td>17,400.0</td>\n",
       "      <td>64,000.0</td>\n",
       "      <td>12,500.0</td>\n",
       "      <td>16,800.0</td>\n",
       "      <td>62,500.0</td>\n",
       "      <td>12,500.0</td>\n",
       "      <td>16,925.0</td>\n",
       "      <td>64,000.0</td>\n",
       "      <td>12,500.0</td>\n",
       "    </tr>\n",
       "    <tr>\n",
       "      <th>2017-11</th>\n",
       "      <td>16,770.0</td>\n",
       "      <td>64,000.0</td>\n",
       "      <td>12,400.0</td>\n",
       "      <td>16,800.0</td>\n",
       "      <td>62,500.0</td>\n",
       "      <td>12,500.0</td>\n",
       "      <td>16,500.0</td>\n",
       "      <td>64,000.0</td>\n",
       "      <td>12,400.0</td>\n",
       "    </tr>\n",
       "    <tr>\n",
       "      <th>2017-12</th>\n",
       "      <td>17,500.0</td>\n",
       "      <td>64,000.0</td>\n",
       "      <td>12,000.0</td>\n",
       "      <td>16,600.0</td>\n",
       "      <td>62,500.0</td>\n",
       "      <td>12,500.0</td>\n",
       "      <td>16,600.0</td>\n",
       "      <td>64,000.0</td>\n",
       "      <td>12,400.0</td>\n",
       "    </tr>\n",
       "    <tr>\n",
       "      <th>2018-01</th>\n",
       "      <td>16,800.0</td>\n",
       "      <td>64,000.0</td>\n",
       "      <td>12,275.0</td>\n",
       "      <td>16,200.0</td>\n",
       "      <td>62,500.0</td>\n",
       "      <td>12,500.0</td>\n",
       "      <td>16,700.0</td>\n",
       "      <td>64,000.0</td>\n",
       "      <td>12,400.0</td>\n",
       "    </tr>\n",
       "    <tr>\n",
       "      <th>2018-02</th>\n",
       "      <td>17,500.0</td>\n",
       "      <td>64,000.0</td>\n",
       "      <td>11,990.0</td>\n",
       "      <td>17,000.0</td>\n",
       "      <td>63,500.0</td>\n",
       "      <td>12,500.0</td>\n",
       "      <td>16,200.0</td>\n",
       "      <td>64,000.0</td>\n",
       "      <td>12,290.0</td>\n",
       "    </tr>\n",
       "    <tr>\n",
       "      <th>2018-03</th>\n",
       "      <td>16,900.0</td>\n",
       "      <td>64,000.0</td>\n",
       "      <td>12,000.0</td>\n",
       "      <td>16,300.0</td>\n",
       "      <td>63,500.0</td>\n",
       "      <td>12,500.0</td>\n",
       "      <td>15,680.0</td>\n",
       "      <td>64,000.0</td>\n",
       "      <td>12,400.0</td>\n",
       "    </tr>\n",
       "    <tr>\n",
       "      <th>2018-04</th>\n",
       "      <td>16,815.0</td>\n",
       "      <td>64,000.0</td>\n",
       "      <td>11,990.0</td>\n",
       "      <td>16,800.0</td>\n",
       "      <td>63,500.0</td>\n",
       "      <td>12,500.0</td>\n",
       "      <td>15,700.0</td>\n",
       "      <td>64,000.0</td>\n",
       "      <td>12,400.0</td>\n",
       "    </tr>\n",
       "    <tr>\n",
       "      <th>2018-05</th>\n",
       "      <td>16,950.0</td>\n",
       "      <td>64,000.0</td>\n",
       "      <td>12,000.0</td>\n",
       "      <td>16,800.0</td>\n",
       "      <td>63,000.0</td>\n",
       "      <td>12,500.0</td>\n",
       "      <td>16,700.0</td>\n",
       "      <td>64,000.0</td>\n",
       "      <td>12,400.0</td>\n",
       "    </tr>\n",
       "    <tr>\n",
       "      <th>2018-06</th>\n",
       "      <td>16,550.0</td>\n",
       "      <td>64,000.0</td>\n",
       "      <td>12,300.0</td>\n",
       "      <td>17,300.0</td>\n",
       "      <td>63,500.0</td>\n",
       "      <td>12,500.0</td>\n",
       "      <td>16,700.0</td>\n",
       "      <td>64,000.0</td>\n",
       "      <td>12,400.0</td>\n",
       "    </tr>\n",
       "    <tr>\n",
       "      <th>2018-07</th>\n",
       "      <td>16,550.0</td>\n",
       "      <td>64,000.0</td>\n",
       "      <td>12,325.0</td>\n",
       "      <td>16,800.0</td>\n",
       "      <td>63,500.0</td>\n",
       "      <td>12,500.0</td>\n",
       "      <td>16,600.0</td>\n",
       "      <td>64,000.0</td>\n",
       "      <td>12,300.0</td>\n",
       "    </tr>\n",
       "    <tr>\n",
       "      <th>2018-08</th>\n",
       "      <td>16,839.0</td>\n",
       "      <td>62,600.0</td>\n",
       "      <td>12,000.0</td>\n",
       "      <td>17,500.0</td>\n",
       "      <td>62,500.0</td>\n",
       "      <td>12,500.0</td>\n",
       "      <td>17,000.0</td>\n",
       "      <td>64,000.0</td>\n",
       "      <td>12,300.0</td>\n",
       "    </tr>\n",
       "    <tr>\n",
       "      <th>2018-09</th>\n",
       "      <td>16,720.0</td>\n",
       "      <td>60,000.0</td>\n",
       "      <td>11,900.0</td>\n",
       "      <td>16,900.0</td>\n",
       "      <td>62,500.0</td>\n",
       "      <td>12,500.0</td>\n",
       "      <td>16,990.0</td>\n",
       "      <td>62,550.0</td>\n",
       "      <td>12,300.0</td>\n",
       "    </tr>\n",
       "  </tbody>\n",
       "</table>\n",
       "</div>"
      ],
      "text/plain": [
       "format       hypermarket                   minimarket                    \\\n",
       "sub_category   Detergent     Rice    Sugar  Detergent     Rice    Sugar   \n",
       "yearmonth                                                                 \n",
       "2017-10         17,400.0 64,000.0 12,500.0   16,800.0 62,500.0 12,500.0   \n",
       "2017-11         16,770.0 64,000.0 12,400.0   16,800.0 62,500.0 12,500.0   \n",
       "2017-12         17,500.0 64,000.0 12,000.0   16,600.0 62,500.0 12,500.0   \n",
       "2018-01         16,800.0 64,000.0 12,275.0   16,200.0 62,500.0 12,500.0   \n",
       "2018-02         17,500.0 64,000.0 11,990.0   17,000.0 63,500.0 12,500.0   \n",
       "2018-03         16,900.0 64,000.0 12,000.0   16,300.0 63,500.0 12,500.0   \n",
       "2018-04         16,815.0 64,000.0 11,990.0   16,800.0 63,500.0 12,500.0   \n",
       "2018-05         16,950.0 64,000.0 12,000.0   16,800.0 63,000.0 12,500.0   \n",
       "2018-06         16,550.0 64,000.0 12,300.0   17,300.0 63,500.0 12,500.0   \n",
       "2018-07         16,550.0 64,000.0 12,325.0   16,800.0 63,500.0 12,500.0   \n",
       "2018-08         16,839.0 62,600.0 12,000.0   17,500.0 62,500.0 12,500.0   \n",
       "2018-09         16,720.0 60,000.0 11,900.0   16,900.0 62,500.0 12,500.0   \n",
       "\n",
       "format       supermarket                    \n",
       "sub_category   Detergent     Rice    Sugar  \n",
       "yearmonth                                   \n",
       "2017-10         16,925.0 64,000.0 12,500.0  \n",
       "2017-11         16,500.0 64,000.0 12,400.0  \n",
       "2017-12         16,600.0 64,000.0 12,400.0  \n",
       "2018-01         16,700.0 64,000.0 12,400.0  \n",
       "2018-02         16,200.0 64,000.0 12,290.0  \n",
       "2018-03         15,680.0 64,000.0 12,400.0  \n",
       "2018-04         15,700.0 64,000.0 12,400.0  \n",
       "2018-05         16,700.0 64,000.0 12,400.0  \n",
       "2018-06         16,700.0 64,000.0 12,400.0  \n",
       "2018-07         16,600.0 64,000.0 12,300.0  \n",
       "2018-08         17,000.0 64,000.0 12,300.0  \n",
       "2018-09         16,990.0 62,550.0 12,300.0  "
      ]
     },
     "execution_count": 47,
     "metadata": {},
     "output_type": "execute_result"
    }
   ],
   "source": [
    "pd.crosstab(index=household['yearmonth'], \n",
    "            columns= [household['format'], household['sub_category']], \n",
    "            values=household['unit_price'],\n",
    "            aggfunc='median')\n",
    "\n",
    "# pd.crosstab(index =household['yearmonth'], \n",
    "#             columns= household['format'], \n",
    "#             values=household['unit_price'],\n",
    "#             aggfunc=['median','sum'])\n"
   ]
  },
  {
   "cell_type": "markdown",
   "metadata": {},
   "source": [
    "In `pandas` we call a higher-dimensional tables as Multi-Index Dataframe. We are going to dive deeper into the structure of the object on the the next chapter."
   ]
  },
  {
   "cell_type": "markdown",
   "metadata": {},
   "source": [
    "## Pivot Tables\n",
    "\n",
    "If our data is already in a `DataFrame` format, using `pd.pivot_table` can sometimes be more convenient compared to a `pd.crosstab`. \n",
    "\n",
    "Fortunately, much of the parameters in a `pivot_table()` function is the same as `pd.crosstab()`. The noticable difference is the use of an additional `data` parameter, which allow us to specify the `DataFrame` that is used to construct the pivot table.\n",
    "\n",
    "We create a `pivot_table` by passing in the following:\n",
    "- `data`: our `DataFrame`\n",
    "- `index`: the column to be used as rows\n",
    "- `columns`: the column to be used as columns\n",
    "- `values`: the values used to fill in the table\n",
    "- `aggfunc`: the aggregation function"
   ]
  },
  {
   "cell_type": "code",
   "execution_count": 48,
   "metadata": {},
   "outputs": [
    {
     "data": {
      "text/html": [
       "<div>\n",
       "<style scoped>\n",
       "    .dataframe tbody tr th:only-of-type {\n",
       "        vertical-align: middle;\n",
       "    }\n",
       "\n",
       "    .dataframe tbody tr th {\n",
       "        vertical-align: top;\n",
       "    }\n",
       "\n",
       "    .dataframe thead th {\n",
       "        text-align: right;\n",
       "    }\n",
       "</style>\n",
       "<table border=\"1\" class=\"dataframe\">\n",
       "  <thead>\n",
       "    <tr style=\"text-align: right;\">\n",
       "      <th>format</th>\n",
       "      <th>hypermarket</th>\n",
       "      <th>minimarket</th>\n",
       "      <th>supermarket</th>\n",
       "    </tr>\n",
       "    <tr>\n",
       "      <th>sub_category</th>\n",
       "      <th></th>\n",
       "      <th></th>\n",
       "      <th></th>\n",
       "    </tr>\n",
       "  </thead>\n",
       "  <tbody>\n",
       "    <tr>\n",
       "      <th>Detergent</th>\n",
       "      <td>16,900.0</td>\n",
       "      <td>16,800.0</td>\n",
       "      <td>16,500.0</td>\n",
       "    </tr>\n",
       "    <tr>\n",
       "      <th>Rice</th>\n",
       "      <td>64,000.0</td>\n",
       "      <td>62,900.0</td>\n",
       "      <td>64,000.0</td>\n",
       "    </tr>\n",
       "    <tr>\n",
       "      <th>Sugar</th>\n",
       "      <td>12,250.0</td>\n",
       "      <td>12,500.0</td>\n",
       "      <td>12,400.0</td>\n",
       "    </tr>\n",
       "  </tbody>\n",
       "</table>\n",
       "</div>"
      ],
      "text/plain": [
       "format        hypermarket  minimarket  supermarket\n",
       "sub_category                                      \n",
       "Detergent        16,900.0    16,800.0     16,500.0\n",
       "Rice             64,000.0    62,900.0     64,000.0\n",
       "Sugar            12,250.0    12,500.0     12,400.0"
      ]
     },
     "execution_count": 48,
     "metadata": {},
     "output_type": "execute_result"
    }
   ],
   "source": [
    "pd.crosstab(index = household['sub_category'],\n",
    "            columns = household['format'],\n",
    "            values= household['unit_price'], \n",
    "            aggfunc= 'median')"
   ]
  },
  {
   "cell_type": "markdown",
   "metadata": {},
   "source": [
    "Perbedaan `crosstab` & `pivot_table`:\n",
    "\n",
    "   - paramater `data`: data tidak perlu di definisikan berulang saat mingin mengisi `index`/`columns`/dsb.\n",
    "   - parameter `index`/`columns`: tidak lagi bersifat wajib (jika hanya ingin menghitung satu kategori, cukup dipilih salah satu)\n",
    "   - parameter `values`: tidak lagi bersifat wajib, jika tidak diinput, akan memunculkan `aggfunc` adari setiap kolom numerik dari data.\n",
    "   - parameter `aggfunc`: tidak lagi bersifat wajib, secara default akan dihitung rata2 (`mean`)"
   ]
  },
  {
   "cell_type": "code",
   "execution_count": 49,
   "metadata": {},
   "outputs": [
    {
     "data": {
      "text/html": [
       "<div>\n",
       "<style scoped>\n",
       "    .dataframe tbody tr th:only-of-type {\n",
       "        vertical-align: middle;\n",
       "    }\n",
       "\n",
       "    .dataframe tbody tr th {\n",
       "        vertical-align: top;\n",
       "    }\n",
       "\n",
       "    .dataframe thead th {\n",
       "        text-align: right;\n",
       "    }\n",
       "</style>\n",
       "<table border=\"1\" class=\"dataframe\">\n",
       "  <thead>\n",
       "    <tr style=\"text-align: right;\">\n",
       "      <th>format</th>\n",
       "      <th>hypermarket</th>\n",
       "      <th>minimarket</th>\n",
       "      <th>supermarket</th>\n",
       "    </tr>\n",
       "    <tr>\n",
       "      <th>sub_category</th>\n",
       "      <th></th>\n",
       "      <th></th>\n",
       "      <th></th>\n",
       "    </tr>\n",
       "  </thead>\n",
       "  <tbody>\n",
       "    <tr>\n",
       "      <th>Detergent</th>\n",
       "      <td>15,444.75</td>\n",
       "      <td>14,900.0</td>\n",
       "      <td>14,500.0</td>\n",
       "    </tr>\n",
       "    <tr>\n",
       "      <th>Rice</th>\n",
       "      <td>60,000.0</td>\n",
       "      <td>59,500.0</td>\n",
       "      <td>60,000.0</td>\n",
       "    </tr>\n",
       "    <tr>\n",
       "      <th>Sugar</th>\n",
       "      <td>11,990.0</td>\n",
       "      <td>11,900.0</td>\n",
       "      <td>11,900.0</td>\n",
       "    </tr>\n",
       "  </tbody>\n",
       "</table>\n",
       "</div>"
      ],
      "text/plain": [
       "format        hypermarket  minimarket  supermarket\n",
       "sub_category                                      \n",
       "Detergent       15,444.75    14,900.0     14,500.0\n",
       "Rice             60,000.0    59,500.0     60,000.0\n",
       "Sugar            11,990.0    11,900.0     11,900.0"
      ]
     },
     "execution_count": 49,
     "metadata": {},
     "output_type": "execute_result"
    }
   ],
   "source": [
    "# data pada pivot_table = bisa diisi sebagai parameter / digunakan sebagai method\n",
    "pd.pivot_table(\n",
    "    data = household,\n",
    "    index = 'sub_category',\n",
    "    columns = 'format',\n",
    "    values = 'unit_price',\n",
    "    aggfunc = 'median'\n",
    ").round(2)\n",
    "\n",
    "household.pivot_table(\n",
    "    index = 'sub_category',\n",
    "    columns = 'format',\n",
    "    values = 'unit_price',\n",
    "    aggfunc = 'median'\n",
    ")\n",
    "\n",
    "household[household['discount'] != 0].pivot_table(\n",
    "    index = 'sub_category',\n",
    "    columns = 'format',\n",
    "    values = 'unit_price',\n",
    "    aggfunc = 'median'\n",
    ")\n",
    "\n"
   ]
  },
  {
   "cell_type": "code",
   "execution_count": 50,
   "metadata": {
    "scrolled": true
   },
   "outputs": [
    {
     "data": {
      "text/html": [
       "<div>\n",
       "<style scoped>\n",
       "    .dataframe tbody tr th:only-of-type {\n",
       "        vertical-align: middle;\n",
       "    }\n",
       "\n",
       "    .dataframe tbody tr th {\n",
       "        vertical-align: top;\n",
       "    }\n",
       "\n",
       "    .dataframe thead th {\n",
       "        text-align: right;\n",
       "    }\n",
       "</style>\n",
       "<table border=\"1\" class=\"dataframe\">\n",
       "  <thead>\n",
       "    <tr style=\"text-align: right;\">\n",
       "      <th></th>\n",
       "      <th>unit_price</th>\n",
       "    </tr>\n",
       "    <tr>\n",
       "      <th>sub_category</th>\n",
       "      <th></th>\n",
       "    </tr>\n",
       "  </thead>\n",
       "  <tbody>\n",
       "    <tr>\n",
       "      <th>Detergent</th>\n",
       "      <td>17,893.793213987225</td>\n",
       "    </tr>\n",
       "    <tr>\n",
       "      <th>Rice</th>\n",
       "      <td>70,013.14631275</td>\n",
       "    </tr>\n",
       "    <tr>\n",
       "      <th>Sugar</th>\n",
       "      <td>12,645.066023837502</td>\n",
       "    </tr>\n",
       "  </tbody>\n",
       "</table>\n",
       "</div>"
      ],
      "text/plain": [
       "                      unit_price\n",
       "sub_category                    \n",
       "Detergent    17,893.793213987225\n",
       "Rice             70,013.14631275\n",
       "Sugar        12,645.066023837502"
      ]
     },
     "execution_count": 50,
     "metadata": {},
     "output_type": "execute_result"
    }
   ],
   "source": [
    "# menampilkan rata2 per sub_category dari setiap kolom numerik \n",
    "household.pivot_table(\n",
    "    index='sub_category'\n",
    ")\n",
    "\n",
    "# menampilkan total per sub_category dari setiap kolom numerik\n",
    "household.pivot_table(\n",
    "    index='sub_category',\n",
    "    aggfunc='sum'\n",
    ")\n",
    "\n",
    "# menampilkan rata2 unit_price per sub_category\n",
    "household.pivot_table(\n",
    "    index = 'sub_category',\n",
    "    values = 'unit_price'\n",
    ")"
   ]
  },
  {
   "cell_type": "markdown",
   "metadata": {},
   "source": [
    "---\n",
    "\n",
    "*End of Day 2*"
   ]
  },
  {
   "cell_type": "markdown",
   "metadata": {},
   "source": [
    "## *Inclass Questions*"
   ]
  },
  {
   "cell_type": "markdown",
   "metadata": {},
   "source": [
    "- **Q**: Cara sort berdasarkan kolom tertentu?\n",
    "- **A**: Gunakan `.sort_values()`, defaultnya diurutkan secara *ascending* (kecil ke besar), jika ingin diurutkan besar ke kecil tambahkan parameter `ascending=False`"
   ]
  },
  {
   "cell_type": "code",
   "execution_count": 101,
   "metadata": {},
   "outputs": [],
   "source": [
    "# household.sort_values('unit_price', ascending=False)"
   ]
  },
  {
   "cell_type": "code",
   "execution_count": 184,
   "metadata": {
    "scrolled": true
   },
   "outputs": [],
   "source": [
    "# pd.crosstab(index = household['sub_category'],\n",
    "#             columns = household['format']).\\\n",
    "# sort_values('hypermarket', ascending=False)"
   ]
  },
  {
   "cell_type": "markdown",
   "metadata": {},
   "source": [
    "- **Q**: Bagaimana cara kerja `axis` pada `idxmin()`?\n",
    "- **A**: `idxmin()` secara defaultnya akan menampilkan index (`axis=0`) dari nilai terkecil di setiap kolom. Jika kita ingin mengetahui kolom dari nilai terkecil di setiap baris, gunakan (`axis=1`). "
   ]
  },
  {
   "cell_type": "markdown",
   "metadata": {},
   "source": [
    "**Group Discussion:**\n",
    "\n",
    "Gunakan `pd.crosstab()` maupun `pd.pivot_table()`:\n",
    "\n",
    "1. Berapa total `sales` (dibuat dengan mengalikan kolom `unit_price` dan `quantity`) dari setiap `sub_category` di setiap harinya? Apakah hari-hari biasa memberikan sales yang lebih tinggi atau di akhir pekan?\n",
    "\n",
    "2. Bagaimana dengan jumlah transaksinya? Apakah orang-orang cenderung berbelanja di hari biasa/akhir pekan?\n",
    "\n",
    "3. Buatlah pertanyaan bisnis berdasarkan data `household`, dan gunakan metode EDA apapun yang sudah Anda pelajari untuk menjawab pertanyaan tsb.\n",
    "\n"
   ]
  },
  {
   "cell_type": "code",
   "execution_count": 72,
   "metadata": {},
   "outputs": [
    {
     "data": {
      "text/html": [
       "<div>\n",
       "<style scoped>\n",
       "    .dataframe tbody tr th:only-of-type {\n",
       "        vertical-align: middle;\n",
       "    }\n",
       "\n",
       "    .dataframe tbody tr th {\n",
       "        vertical-align: top;\n",
       "    }\n",
       "\n",
       "    .dataframe thead th {\n",
       "        text-align: right;\n",
       "    }\n",
       "</style>\n",
       "<table border=\"1\" class=\"dataframe\">\n",
       "  <thead>\n",
       "    <tr style=\"text-align: right;\">\n",
       "      <th>sub_category</th>\n",
       "      <th>Detergent</th>\n",
       "      <th>Rice</th>\n",
       "      <th>Sugar</th>\n",
       "    </tr>\n",
       "    <tr>\n",
       "      <th>weekday</th>\n",
       "      <th></th>\n",
       "      <th></th>\n",
       "      <th></th>\n",
       "    </tr>\n",
       "  </thead>\n",
       "  <tbody>\n",
       "    <tr>\n",
       "      <th>Monday</th>\n",
       "      <td>100,995,078.0</td>\n",
       "      <td>137,929,347.0</td>\n",
       "      <td>67,143,016.02</td>\n",
       "    </tr>\n",
       "    <tr>\n",
       "      <th>Tuesday</th>\n",
       "      <td>108,658,575.0</td>\n",
       "      <td>140,816,556.0</td>\n",
       "      <td>69,532,466.0</td>\n",
       "    </tr>\n",
       "    <tr>\n",
       "      <th>Wednesday</th>\n",
       "      <td>107,096,163.0</td>\n",
       "      <td>128,134,360.0</td>\n",
       "      <td>68,943,214.0</td>\n",
       "    </tr>\n",
       "    <tr>\n",
       "      <th>Thursday</th>\n",
       "      <td>104,156,437.97</td>\n",
       "      <td>139,398,724.01</td>\n",
       "      <td>69,860,607.0</td>\n",
       "    </tr>\n",
       "    <tr>\n",
       "      <th>Friday</th>\n",
       "      <td>142,510,824.01</td>\n",
       "      <td>155,568,555.0</td>\n",
       "      <td>73,548,693.0</td>\n",
       "    </tr>\n",
       "    <tr>\n",
       "      <th>Saturday</th>\n",
       "      <td>150,598,718.01</td>\n",
       "      <td>176,018,203.0</td>\n",
       "      <td>81,418,475.01</td>\n",
       "    </tr>\n",
       "    <tr>\n",
       "      <th>Sunday</th>\n",
       "      <td>152,052,499.99</td>\n",
       "      <td>206,532,914.0</td>\n",
       "      <td>81,468,057.03</td>\n",
       "    </tr>\n",
       "  </tbody>\n",
       "</table>\n",
       "</div>"
      ],
      "text/plain": [
       "sub_category      Detergent           Rice         Sugar\n",
       "weekday                                                 \n",
       "Monday        100,995,078.0  137,929,347.0 67,143,016.02\n",
       "Tuesday       108,658,575.0  140,816,556.0  69,532,466.0\n",
       "Wednesday     107,096,163.0  128,134,360.0  68,943,214.0\n",
       "Thursday     104,156,437.97 139,398,724.01  69,860,607.0\n",
       "Friday       142,510,824.01  155,568,555.0  73,548,693.0\n",
       "Saturday     150,598,718.01  176,018,203.0 81,418,475.01\n",
       "Sunday       152,052,499.99  206,532,914.0 81,468,057.03"
      ]
     },
     "execution_count": 72,
     "metadata": {},
     "output_type": "execute_result"
    }
   ],
   "source": [
    "# 1.\n",
    "household['sales'] = household['unit_price'] * household['quantity'] \n",
    "\n",
    "# pd.crosstab(index, columns, values, aggfunc)\n",
    "pd.crosstab(\n",
    "    index = household['weekday'],\n",
    "    columns = household['sub_category'],\n",
    "    values = household['sales'],\n",
    "    aggfunc = 'sum'\n",
    ").round(2)\n",
    "\n",
    "# pd.pivot_table(data, index, column, values, aggfunc)\n",
    "# data.pivot_table(index, column, values, aggfunc)\n",
    "household.pivot_table(\n",
    "    index='weekday',\n",
    "    columns='sub_category',\n",
    "    values='sales',\n",
    "    aggfunc='sum'\n",
    ").round(2)"
   ]
  },
  {
   "cell_type": "code",
   "execution_count": 89,
   "metadata": {
    "run_control": {
     "marked": false
    }
   },
   "outputs": [
    {
     "data": {
      "text/html": [
       "<div>\n",
       "<style scoped>\n",
       "    .dataframe tbody tr th:only-of-type {\n",
       "        vertical-align: middle;\n",
       "    }\n",
       "\n",
       "    .dataframe tbody tr th {\n",
       "        vertical-align: top;\n",
       "    }\n",
       "\n",
       "    .dataframe thead th {\n",
       "        text-align: right;\n",
       "    }\n",
       "</style>\n",
       "<table border=\"1\" class=\"dataframe\">\n",
       "  <thead>\n",
       "    <tr style=\"text-align: right;\">\n",
       "      <th>sub_category</th>\n",
       "      <th>Detergent</th>\n",
       "      <th>Rice</th>\n",
       "      <th>Sugar</th>\n",
       "    </tr>\n",
       "    <tr>\n",
       "      <th>weekday</th>\n",
       "      <th></th>\n",
       "      <th></th>\n",
       "      <th></th>\n",
       "    </tr>\n",
       "  </thead>\n",
       "  <tbody>\n",
       "    <tr>\n",
       "      <th>Monday</th>\n",
       "      <td>4337</td>\n",
       "      <td>1551</td>\n",
       "      <td>3162</td>\n",
       "    </tr>\n",
       "    <tr>\n",
       "      <th>Tuesday</th>\n",
       "      <td>4522</td>\n",
       "      <td>1621</td>\n",
       "      <td>3284</td>\n",
       "    </tr>\n",
       "    <tr>\n",
       "      <th>Wednesday</th>\n",
       "      <td>4545</td>\n",
       "      <td>1481</td>\n",
       "      <td>3180</td>\n",
       "    </tr>\n",
       "    <tr>\n",
       "      <th>Thursday</th>\n",
       "      <td>4320</td>\n",
       "      <td>1552</td>\n",
       "      <td>3266</td>\n",
       "    </tr>\n",
       "    <tr>\n",
       "      <th>Friday</th>\n",
       "      <td>5748</td>\n",
       "      <td>1646</td>\n",
       "      <td>3384</td>\n",
       "    </tr>\n",
       "    <tr>\n",
       "      <th>Saturday</th>\n",
       "      <td>6147</td>\n",
       "      <td>1915</td>\n",
       "      <td>3766</td>\n",
       "    </tr>\n",
       "    <tr>\n",
       "      <th>Sunday</th>\n",
       "      <td>6381</td>\n",
       "      <td>2234</td>\n",
       "      <td>3958</td>\n",
       "    </tr>\n",
       "  </tbody>\n",
       "</table>\n",
       "</div>"
      ],
      "text/plain": [
       "sub_category  Detergent  Rice  Sugar\n",
       "weekday                             \n",
       "Monday             4337  1551   3162\n",
       "Tuesday            4522  1621   3284\n",
       "Wednesday          4545  1481   3180\n",
       "Thursday           4320  1552   3266\n",
       "Friday             5748  1646   3384\n",
       "Saturday           6147  1915   3766\n",
       "Sunday             6381  2234   3958"
      ]
     },
     "execution_count": 89,
     "metadata": {},
     "output_type": "execute_result"
    }
   ],
   "source": [
    "# 2\n",
    "\n",
    "# pd.crosstab(index, columns)\n",
    "pd.crosstab(\n",
    "    index = household['weekday'],\n",
    "    columns = household['sub_category'] \n",
    ")\n",
    "\n",
    "# # pd.pivot_table(data, index, column, values, aggfunc)\n",
    "# # data.pivot_table(index, column, values, aggfunc)\n",
    "\n",
    "household.pivot_table(\n",
    "    index = 'weekday',\n",
    "    columns = 'sub_category',\n",
    "    values = 'quantity', # ditambahkan sebagai \"syarat\", karena jika tidak, akan dihasilkan semua kolom numerik dengan nilai yang sama\n",
    "    aggfunc = 'count'\n",
    ")\n"
   ]
  },
  {
   "cell_type": "markdown",
   "metadata": {},
   "source": [
    "Soal 3:\n",
    "\n",
    "- di tahun 2018, produk mana yang paling banyak terjual? \n",
    "- total penjualan tiap bulan untuk setiap kategori untuk setiap format?"
   ]
  },
  {
   "cell_type": "code",
   "execution_count": 108,
   "metadata": {},
   "outputs": [
    {
     "data": {
      "text/html": [
       "<div>\n",
       "<style scoped>\n",
       "    .dataframe tbody tr th:only-of-type {\n",
       "        vertical-align: middle;\n",
       "    }\n",
       "\n",
       "    .dataframe tbody tr th {\n",
       "        vertical-align: top;\n",
       "    }\n",
       "\n",
       "    .dataframe thead th {\n",
       "        text-align: right;\n",
       "    }\n",
       "</style>\n",
       "<table border=\"1\" class=\"dataframe\">\n",
       "  <thead>\n",
       "    <tr style=\"text-align: right;\">\n",
       "      <th>year</th>\n",
       "      <th>2018</th>\n",
       "    </tr>\n",
       "    <tr>\n",
       "      <th>sub_category</th>\n",
       "      <th></th>\n",
       "    </tr>\n",
       "  </thead>\n",
       "  <tbody>\n",
       "    <tr>\n",
       "      <th>Detergent</th>\n",
       "      <td>37746</td>\n",
       "    </tr>\n",
       "    <tr>\n",
       "      <th>Rice</th>\n",
       "      <td>11998</td>\n",
       "    </tr>\n",
       "    <tr>\n",
       "      <th>Sugar</th>\n",
       "      <td>31459</td>\n",
       "    </tr>\n",
       "  </tbody>\n",
       "</table>\n",
       "</div>"
      ],
      "text/plain": [
       "year           2018\n",
       "sub_category       \n",
       "Detergent     37746\n",
       "Rice          11998\n",
       "Sugar         31459"
      ]
     },
     "execution_count": 108,
     "metadata": {},
     "output_type": "execute_result"
    }
   ],
   "source": [
    "#household['purchase_time'].dt.to_period('Y') \n",
    "household['year'] = household['purchase_time'].dt.year\n",
    "\n",
    "household_2018 = household[household['year']== 2018]\n",
    "\n",
    "pd.pivot_table(data = household_2018,\n",
    "               index=['sub_category','format'],\n",
    "               columns='year',\n",
    "               values='quantity',\n",
    "               aggfunc='sum').round(1) \n",
    "\n",
    "pd.pivot_table(data = household_2018,\n",
    "               index=['sub_category'],\n",
    "               columns='year',\n",
    "               values='quantity',\n",
    "               aggfunc='sum').round(1) \n"
   ]
  },
  {
   "cell_type": "markdown",
   "metadata": {},
   "source": [
    "total penjualan (sales) tiap bulan untuk setiap kategori untuk setiap format?"
   ]
  },
  {
   "cell_type": "code",
   "execution_count": 109,
   "metadata": {
    "run_control": {
     "marked": false
    }
   },
   "outputs": [
    {
     "data": {
      "text/html": [
       "<div>\n",
       "<style scoped>\n",
       "    .dataframe tbody tr th:only-of-type {\n",
       "        vertical-align: middle;\n",
       "    }\n",
       "\n",
       "    .dataframe tbody tr th {\n",
       "        vertical-align: top;\n",
       "    }\n",
       "\n",
       "    .dataframe thead th {\n",
       "        text-align: right;\n",
       "    }\n",
       "</style>\n",
       "<table border=\"1\" class=\"dataframe\">\n",
       "  <thead>\n",
       "    <tr style=\"text-align: right;\">\n",
       "      <th></th>\n",
       "      <th>category</th>\n",
       "      <th>Fabric Care</th>\n",
       "      <th>Rice</th>\n",
       "      <th>Sugar/Flavored Syrup</th>\n",
       "    </tr>\n",
       "    <tr>\n",
       "      <th>yearmonth</th>\n",
       "      <th>format</th>\n",
       "      <th></th>\n",
       "      <th></th>\n",
       "      <th></th>\n",
       "    </tr>\n",
       "  </thead>\n",
       "  <tbody>\n",
       "    <tr>\n",
       "      <th rowspan=\"3\" valign=\"top\">2017-10</th>\n",
       "      <th>hypermarket</th>\n",
       "      <td>6,483,419.0</td>\n",
       "      <td>9,331,140.0</td>\n",
       "      <td>3,287,353.0</td>\n",
       "    </tr>\n",
       "    <tr>\n",
       "      <th>minimarket</th>\n",
       "      <td>46,080,578.0</td>\n",
       "      <td>55,947,877.0</td>\n",
       "      <td>24,865,617.0</td>\n",
       "    </tr>\n",
       "    <tr>\n",
       "      <th>supermarket</th>\n",
       "      <td>18,155,406.0</td>\n",
       "      <td>33,725,506.0</td>\n",
       "      <td>12,149,049.0</td>\n",
       "    </tr>\n",
       "    <tr>\n",
       "      <th rowspan=\"3\" valign=\"top\">2017-11</th>\n",
       "      <th>hypermarket</th>\n",
       "      <td>5,599,532.0</td>\n",
       "      <td>7,527,791.0</td>\n",
       "      <td>3,810,533.0</td>\n",
       "    </tr>\n",
       "    <tr>\n",
       "      <th>minimarket</th>\n",
       "      <td>44,361,391.0</td>\n",
       "      <td>47,806,586.0</td>\n",
       "      <td>22,967,992.0</td>\n",
       "    </tr>\n",
       "    <tr>\n",
       "      <th>supermarket</th>\n",
       "      <td>17,748,393.0</td>\n",
       "      <td>34,871,443.0</td>\n",
       "      <td>13,125,778.0</td>\n",
       "    </tr>\n",
       "    <tr>\n",
       "      <th rowspan=\"3\" valign=\"top\">2017-12</th>\n",
       "      <th>hypermarket</th>\n",
       "      <td>5,585,529.0</td>\n",
       "      <td>6,477,770.0</td>\n",
       "      <td>3,421,054.0</td>\n",
       "    </tr>\n",
       "    <tr>\n",
       "      <th>minimarket</th>\n",
       "      <td>45,929,496.0</td>\n",
       "      <td>45,890,567.0</td>\n",
       "      <td>24,244,067.0</td>\n",
       "    </tr>\n",
       "    <tr>\n",
       "      <th>supermarket</th>\n",
       "      <td>17,152,668.0</td>\n",
       "      <td>34,339,046.0</td>\n",
       "      <td>13,602,873.0</td>\n",
       "    </tr>\n",
       "    <tr>\n",
       "      <th rowspan=\"3\" valign=\"top\">2018-01</th>\n",
       "      <th>hypermarket</th>\n",
       "      <td>6,654,482.98</td>\n",
       "      <td>6,837,230.0</td>\n",
       "      <td>3,137,665.0</td>\n",
       "    </tr>\n",
       "    <tr>\n",
       "      <th>minimarket</th>\n",
       "      <td>49,556,709.0</td>\n",
       "      <td>50,395,817.0</td>\n",
       "      <td>24,220,688.0</td>\n",
       "    </tr>\n",
       "    <tr>\n",
       "      <th>supermarket</th>\n",
       "      <td>16,679,291.99996</td>\n",
       "      <td>33,368,141.998999998</td>\n",
       "      <td>12,554,667.04</td>\n",
       "    </tr>\n",
       "    <tr>\n",
       "      <th rowspan=\"3\" valign=\"top\">2018-02</th>\n",
       "      <th>hypermarket</th>\n",
       "      <td>6,085,161.01</td>\n",
       "      <td>13,339,361.0</td>\n",
       "      <td>3,916,199.0</td>\n",
       "    </tr>\n",
       "    <tr>\n",
       "      <th>minimarket</th>\n",
       "      <td>49,874,901.0</td>\n",
       "      <td>45,994,643.0</td>\n",
       "      <td>24,771,126.0</td>\n",
       "    </tr>\n",
       "    <tr>\n",
       "      <th>supermarket</th>\n",
       "      <td>19,149,655.0</td>\n",
       "      <td>31,247,825.0</td>\n",
       "      <td>12,943,471.99</td>\n",
       "    </tr>\n",
       "    <tr>\n",
       "      <th rowspan=\"3\" valign=\"top\">2018-03</th>\n",
       "      <th>hypermarket</th>\n",
       "      <td>6,743,363.0</td>\n",
       "      <td>10,870,850.0</td>\n",
       "      <td>4,211,655.0</td>\n",
       "    </tr>\n",
       "    <tr>\n",
       "      <th>minimarket</th>\n",
       "      <td>52,396,808.0001</td>\n",
       "      <td>54,866,010.0</td>\n",
       "      <td>26,934,523.0</td>\n",
       "    </tr>\n",
       "    <tr>\n",
       "      <th>supermarket</th>\n",
       "      <td>20,902,175.97</td>\n",
       "      <td>31,924,885.009999998</td>\n",
       "      <td>14,654,355.0</td>\n",
       "    </tr>\n",
       "    <tr>\n",
       "      <th rowspan=\"3\" valign=\"top\">2018-04</th>\n",
       "      <th>hypermarket</th>\n",
       "      <td>5,286,403.0</td>\n",
       "      <td>8,454,420.0</td>\n",
       "      <td>3,008,298.02</td>\n",
       "    </tr>\n",
       "    <tr>\n",
       "      <th>minimarket</th>\n",
       "      <td>52,771,809.01</td>\n",
       "      <td>52,550,828.0</td>\n",
       "      <td>28,990,976.000299998</td>\n",
       "    </tr>\n",
       "    <tr>\n",
       "      <th>supermarket</th>\n",
       "      <td>18,075,643.990000002</td>\n",
       "      <td>32,302,604.0</td>\n",
       "      <td>12,463,226.996</td>\n",
       "    </tr>\n",
       "    <tr>\n",
       "      <th rowspan=\"3\" valign=\"top\">2018-05</th>\n",
       "      <th>hypermarket</th>\n",
       "      <td>7,534,114.0</td>\n",
       "      <td>9,454,087.0</td>\n",
       "      <td>5,068,571.0</td>\n",
       "    </tr>\n",
       "    <tr>\n",
       "      <th>minimarket</th>\n",
       "      <td>42,144,985.9999</td>\n",
       "      <td>53,225,744.0</td>\n",
       "      <td>27,417,759.01</td>\n",
       "    </tr>\n",
       "    <tr>\n",
       "      <th>supermarket</th>\n",
       "      <td>22,768,573.0</td>\n",
       "      <td>31,794,575.0</td>\n",
       "      <td>15,667,252.0</td>\n",
       "    </tr>\n",
       "    <tr>\n",
       "      <th rowspan=\"3\" valign=\"top\">2018-06</th>\n",
       "      <th>hypermarket</th>\n",
       "      <td>6,009,499.0</td>\n",
       "      <td>8,840,665.0</td>\n",
       "      <td>3,805,664.0002</td>\n",
       "    </tr>\n",
       "    <tr>\n",
       "      <th>minimarket</th>\n",
       "      <td>44,614,119.0</td>\n",
       "      <td>53,319,330.0</td>\n",
       "      <td>30,097,851.0001</td>\n",
       "    </tr>\n",
       "    <tr>\n",
       "      <th>supermarket</th>\n",
       "      <td>20,824,884.0</td>\n",
       "      <td>28,660,878.0</td>\n",
       "      <td>14,974,699.0</td>\n",
       "    </tr>\n",
       "    <tr>\n",
       "      <th rowspan=\"3\" valign=\"top\">2018-07</th>\n",
       "      <th>hypermarket</th>\n",
       "      <td>4,711,466.0</td>\n",
       "      <td>6,659,161.0</td>\n",
       "      <td>2,906,182.0</td>\n",
       "    </tr>\n",
       "    <tr>\n",
       "      <th>minimarket</th>\n",
       "      <td>47,269,349.989999995</td>\n",
       "      <td>51,882,428.0</td>\n",
       "      <td>25,997,927.0</td>\n",
       "    </tr>\n",
       "    <tr>\n",
       "      <th>supermarket</th>\n",
       "      <td>12,625,258.02</td>\n",
       "      <td>27,266,437.0</td>\n",
       "      <td>10,247,294.0</td>\n",
       "    </tr>\n",
       "    <tr>\n",
       "      <th rowspan=\"3\" valign=\"top\">2018-08</th>\n",
       "      <th>hypermarket</th>\n",
       "      <td>6,872,131.0</td>\n",
       "      <td>6,018,090.0</td>\n",
       "      <td>2,599,248.0</td>\n",
       "    </tr>\n",
       "    <tr>\n",
       "      <th>minimarket</th>\n",
       "      <td>46,680,942.0</td>\n",
       "      <td>50,892,775.0</td>\n",
       "      <td>26,457,351.0</td>\n",
       "    </tr>\n",
       "    <tr>\n",
       "      <th>supermarket</th>\n",
       "      <td>19,369,160.009999998</td>\n",
       "      <td>25,741,037.0</td>\n",
       "      <td>11,630,288.0</td>\n",
       "    </tr>\n",
       "    <tr>\n",
       "      <th rowspan=\"3\" valign=\"top\">2018-09</th>\n",
       "      <th>hypermarket</th>\n",
       "      <td>6,619,146.0</td>\n",
       "      <td>8,566,886.0</td>\n",
       "      <td>2,713,175.0</td>\n",
       "    </tr>\n",
       "    <tr>\n",
       "      <th>minimarket</th>\n",
       "      <td>46,464,761.0001</td>\n",
       "      <td>50,401,986.0</td>\n",
       "      <td>28,166,315.0</td>\n",
       "    </tr>\n",
       "    <tr>\n",
       "      <th>supermarket</th>\n",
       "      <td>20,287,091.0</td>\n",
       "      <td>23,604,239.0</td>\n",
       "      <td>10,883,784.9998</td>\n",
       "    </tr>\n",
       "  </tbody>\n",
       "</table>\n",
       "</div>"
      ],
      "text/plain": [
       "category                       Fabric Care                 Rice  \\\n",
       "yearmonth format                                                  \n",
       "2017-10   hypermarket          6,483,419.0          9,331,140.0   \n",
       "          minimarket          46,080,578.0         55,947,877.0   \n",
       "          supermarket         18,155,406.0         33,725,506.0   \n",
       "2017-11   hypermarket          5,599,532.0          7,527,791.0   \n",
       "          minimarket          44,361,391.0         47,806,586.0   \n",
       "          supermarket         17,748,393.0         34,871,443.0   \n",
       "2017-12   hypermarket          5,585,529.0          6,477,770.0   \n",
       "          minimarket          45,929,496.0         45,890,567.0   \n",
       "          supermarket         17,152,668.0         34,339,046.0   \n",
       "2018-01   hypermarket         6,654,482.98          6,837,230.0   \n",
       "          minimarket          49,556,709.0         50,395,817.0   \n",
       "          supermarket     16,679,291.99996 33,368,141.998999998   \n",
       "2018-02   hypermarket         6,085,161.01         13,339,361.0   \n",
       "          minimarket          49,874,901.0         45,994,643.0   \n",
       "          supermarket         19,149,655.0         31,247,825.0   \n",
       "2018-03   hypermarket          6,743,363.0         10,870,850.0   \n",
       "          minimarket       52,396,808.0001         54,866,010.0   \n",
       "          supermarket        20,902,175.97 31,924,885.009999998   \n",
       "2018-04   hypermarket          5,286,403.0          8,454,420.0   \n",
       "          minimarket         52,771,809.01         52,550,828.0   \n",
       "          supermarket 18,075,643.990000002         32,302,604.0   \n",
       "2018-05   hypermarket          7,534,114.0          9,454,087.0   \n",
       "          minimarket       42,144,985.9999         53,225,744.0   \n",
       "          supermarket         22,768,573.0         31,794,575.0   \n",
       "2018-06   hypermarket          6,009,499.0          8,840,665.0   \n",
       "          minimarket          44,614,119.0         53,319,330.0   \n",
       "          supermarket         20,824,884.0         28,660,878.0   \n",
       "2018-07   hypermarket          4,711,466.0          6,659,161.0   \n",
       "          minimarket  47,269,349.989999995         51,882,428.0   \n",
       "          supermarket        12,625,258.02         27,266,437.0   \n",
       "2018-08   hypermarket          6,872,131.0          6,018,090.0   \n",
       "          minimarket          46,680,942.0         50,892,775.0   \n",
       "          supermarket 19,369,160.009999998         25,741,037.0   \n",
       "2018-09   hypermarket          6,619,146.0          8,566,886.0   \n",
       "          minimarket       46,464,761.0001         50,401,986.0   \n",
       "          supermarket         20,287,091.0         23,604,239.0   \n",
       "\n",
       "category               Sugar/Flavored Syrup  \n",
       "yearmonth format                             \n",
       "2017-10   hypermarket           3,287,353.0  \n",
       "          minimarket           24,865,617.0  \n",
       "          supermarket          12,149,049.0  \n",
       "2017-11   hypermarket           3,810,533.0  \n",
       "          minimarket           22,967,992.0  \n",
       "          supermarket          13,125,778.0  \n",
       "2017-12   hypermarket           3,421,054.0  \n",
       "          minimarket           24,244,067.0  \n",
       "          supermarket          13,602,873.0  \n",
       "2018-01   hypermarket           3,137,665.0  \n",
       "          minimarket           24,220,688.0  \n",
       "          supermarket         12,554,667.04  \n",
       "2018-02   hypermarket           3,916,199.0  \n",
       "          minimarket           24,771,126.0  \n",
       "          supermarket         12,943,471.99  \n",
       "2018-03   hypermarket           4,211,655.0  \n",
       "          minimarket           26,934,523.0  \n",
       "          supermarket          14,654,355.0  \n",
       "2018-04   hypermarket          3,008,298.02  \n",
       "          minimarket   28,990,976.000299998  \n",
       "          supermarket        12,463,226.996  \n",
       "2018-05   hypermarket           5,068,571.0  \n",
       "          minimarket          27,417,759.01  \n",
       "          supermarket          15,667,252.0  \n",
       "2018-06   hypermarket        3,805,664.0002  \n",
       "          minimarket        30,097,851.0001  \n",
       "          supermarket          14,974,699.0  \n",
       "2018-07   hypermarket           2,906,182.0  \n",
       "          minimarket           25,997,927.0  \n",
       "          supermarket          10,247,294.0  \n",
       "2018-08   hypermarket           2,599,248.0  \n",
       "          minimarket           26,457,351.0  \n",
       "          supermarket          11,630,288.0  \n",
       "2018-09   hypermarket           2,713,175.0  \n",
       "          minimarket           28,166,315.0  \n",
       "          supermarket       10,883,784.9998  "
      ]
     },
     "execution_count": 109,
     "metadata": {},
     "output_type": "execute_result"
    }
   ],
   "source": [
    "household['month'] = household['purchase_time'].dt.month_name() \n",
    "\n",
    "pd.pivot_table(\n",
    "    data = household,\n",
    "    index = ['yearmonth','format'],\n",
    "    columns = 'category',\n",
    "    values = 'sales',\n",
    "    aggfunc = 'sum'\n",
    ")"
   ]
  },
  {
   "cell_type": "markdown",
   "metadata": {},
   "source": [
    "## Missing Values and Duplicates\n",
    "\n",
    "During the data exploration and preparation phase, it is likely we come across some problematic details in our data. This could be the value of _-1_ for the _age_ column, a value of _blank_ for the _customer segment_ column, or a value of _None_ for the _loan duration_ column. All of these are examples of \"untidy\" data, which is rather common depending on the data collection and recording process in a company.\n",
    "\n",
    "In `pandas`, we use `NaN` (not a number) to denote missing data; The equivalent for datetime is `NaT` but both are essentially compatible with each other. From the docs:\n",
    "> The choice of using `NaN` internally to denote missing data was largely for simplicity and performance reasons. We are hopeful that NumPy will soon be able to provide a native NA type solution (similar to R) performant enough to be used in pandas."
   ]
  },
  {
   "cell_type": "markdown",
   "metadata": {},
   "source": [
    "### Missing Values"
   ]
  },
  {
   "cell_type": "markdown",
   "metadata": {},
   "source": [
    "Saat membaca data, jika kolom tidak benar2 kosong, tapi diisi dgn nilai tertentu (Contoh: \"Missing\",\" \", \"-\"), gunakan parameter `na_values()` untuk mendefinisikannya:\n",
    "\n",
    "```\n",
    "data = pd.read_csv(\"data.csv\",na_values = [\"Missing\",\" \",\"-\"])\n",
    "```"
   ]
  },
  {
   "cell_type": "code",
   "execution_count": 78,
   "metadata": {},
   "outputs": [],
   "source": [
    "#pd.read_csv(\"na.csv\",na_values=[\"-\",\" \",\"Missing\"])"
   ]
  },
  {
   "cell_type": "code",
   "execution_count": 110,
   "metadata": {
    "scrolled": false
   },
   "outputs": [
    {
     "data": {
      "text/html": [
       "<div>\n",
       "<style scoped>\n",
       "    .dataframe tbody tr th:only-of-type {\n",
       "        vertical-align: middle;\n",
       "    }\n",
       "\n",
       "    .dataframe tbody tr th {\n",
       "        vertical-align: top;\n",
       "    }\n",
       "\n",
       "    .dataframe thead th {\n",
       "        text-align: right;\n",
       "    }\n",
       "</style>\n",
       "<table border=\"1\" class=\"dataframe\">\n",
       "  <thead>\n",
       "    <tr style=\"text-align: right;\">\n",
       "      <th></th>\n",
       "      <th>purchase_time</th>\n",
       "      <th>category</th>\n",
       "      <th>format</th>\n",
       "      <th>unit_price</th>\n",
       "      <th>discount</th>\n",
       "      <th>quantity</th>\n",
       "      <th>weekday</th>\n",
       "    </tr>\n",
       "    <tr>\n",
       "      <th>receipts_item_id</th>\n",
       "      <th></th>\n",
       "      <th></th>\n",
       "      <th></th>\n",
       "      <th></th>\n",
       "      <th></th>\n",
       "      <th></th>\n",
       "      <th></th>\n",
       "    </tr>\n",
       "  </thead>\n",
       "  <tbody>\n",
       "    <tr>\n",
       "      <th>32000000</th>\n",
       "      <td>NaT</td>\n",
       "      <td>NaN</td>\n",
       "      <td>NaN</td>\n",
       "      <td>nan</td>\n",
       "      <td>nan</td>\n",
       "      <td>nan</td>\n",
       "      <td>NaN</td>\n",
       "    </tr>\n",
       "    <tr>\n",
       "      <th>32000001</th>\n",
       "      <td>NaT</td>\n",
       "      <td>NaN</td>\n",
       "      <td>NaN</td>\n",
       "      <td>nan</td>\n",
       "      <td>nan</td>\n",
       "      <td>nan</td>\n",
       "      <td>NaN</td>\n",
       "    </tr>\n",
       "    <tr>\n",
       "      <th>32030785</th>\n",
       "      <td>2018-07-17 18:05:00</td>\n",
       "      <td>Rice</td>\n",
       "      <td>minimarket</td>\n",
       "      <td>63,500.0</td>\n",
       "      <td>0.0</td>\n",
       "      <td>1.0</td>\n",
       "      <td>Tuesday</td>\n",
       "    </tr>\n",
       "    <tr>\n",
       "      <th>32000002</th>\n",
       "      <td>NaT</td>\n",
       "      <td>NaN</td>\n",
       "      <td>NaN</td>\n",
       "      <td>nan</td>\n",
       "      <td>nan</td>\n",
       "      <td>nan</td>\n",
       "      <td>NaN</td>\n",
       "    </tr>\n",
       "    <tr>\n",
       "      <th>32000003</th>\n",
       "      <td>NaT</td>\n",
       "      <td>NaN</td>\n",
       "      <td>NaN</td>\n",
       "      <td>nan</td>\n",
       "      <td>nan</td>\n",
       "      <td>nan</td>\n",
       "      <td>NaN</td>\n",
       "    </tr>\n",
       "  </tbody>\n",
       "</table>\n",
       "</div>"
      ],
      "text/plain": [
       "                       purchase_time category      format  unit_price  \\\n",
       "receipts_item_id                                                        \n",
       "32000000                         NaT      NaN         NaN         nan   \n",
       "32000001                         NaT      NaN         NaN         nan   \n",
       "32030785         2018-07-17 18:05:00     Rice  minimarket    63,500.0   \n",
       "32000002                         NaT      NaN         NaN         nan   \n",
       "32000003                         NaT      NaN         NaN         nan   \n",
       "\n",
       "                  discount  quantity  weekday  \n",
       "receipts_item_id                               \n",
       "32000000               nan       nan      NaN  \n",
       "32000001               nan       nan      NaN  \n",
       "32030785               0.0       1.0  Tuesday  \n",
       "32000002               nan       nan      NaN  \n",
       "32000003               nan       nan      NaN  "
      ]
     },
     "execution_count": 110,
     "metadata": {},
     "output_type": "execute_result"
    }
   ],
   "source": [
    "household_NA = pd.read_csv(\"data_input/sample_household.csv\",\n",
    "                        index_col = 'receipts_item_id',\n",
    "                       parse_dates=['purchase_time'])\n",
    "household_NA.head()"
   ]
  },
  {
   "cell_type": "markdown",
   "metadata": {},
   "source": [
    "Notice from the output that between row 3 to 8 there are at least a few rows with missing data. We can use `isna()` and `notna()` to detect missing values. An example code is as below:"
   ]
  },
  {
   "cell_type": "code",
   "execution_count": 113,
   "metadata": {
    "scrolled": false
   },
   "outputs": [
    {
     "data": {
      "text/plain": [
       "purchase_time    5\n",
       "category         5\n",
       "format           5\n",
       "unit_price       5\n",
       "discount         5\n",
       "quantity         5\n",
       "weekday          6\n",
       "dtype: int64"
      ]
     },
     "execution_count": 113,
     "metadata": {},
     "output_type": "execute_result"
    }
   ],
   "source": [
    "# mengembalikan jumlah baris yang kosong\n",
    "\n",
    "household_NA.isna().sum()"
   ]
  },
  {
   "cell_type": "code",
   "execution_count": 115,
   "metadata": {},
   "outputs": [
    {
     "data": {
      "text/plain": [
       "purchase_time    15\n",
       "category         15\n",
       "format           15\n",
       "unit_price       15\n",
       "discount         15\n",
       "quantity         15\n",
       "weekday          14\n",
       "dtype: int64"
      ]
     },
     "execution_count": 115,
     "metadata": {},
     "output_type": "execute_result"
    }
   ],
   "source": [
    "# mengembalikan jumlah baris yang TIDAK kosong\n",
    "\n",
    "household_NA.notna().sum()"
   ]
  },
  {
   "cell_type": "markdown",
   "metadata": {},
   "source": [
    "A common way of using the `.isna()` method is to combine it with the subsetting methods we've learned in previous lessons:"
   ]
  },
  {
   "cell_type": "code",
   "execution_count": 119,
   "metadata": {
    "scrolled": true
   },
   "outputs": [
    {
     "data": {
      "text/html": [
       "<div>\n",
       "<style scoped>\n",
       "    .dataframe tbody tr th:only-of-type {\n",
       "        vertical-align: middle;\n",
       "    }\n",
       "\n",
       "    .dataframe tbody tr th {\n",
       "        vertical-align: top;\n",
       "    }\n",
       "\n",
       "    .dataframe thead th {\n",
       "        text-align: right;\n",
       "    }\n",
       "</style>\n",
       "<table border=\"1\" class=\"dataframe\">\n",
       "  <thead>\n",
       "    <tr style=\"text-align: right;\">\n",
       "      <th></th>\n",
       "      <th>purchase_time</th>\n",
       "      <th>category</th>\n",
       "      <th>format</th>\n",
       "      <th>unit_price</th>\n",
       "      <th>discount</th>\n",
       "      <th>quantity</th>\n",
       "      <th>weekday</th>\n",
       "    </tr>\n",
       "    <tr>\n",
       "      <th>receipts_item_id</th>\n",
       "      <th></th>\n",
       "      <th></th>\n",
       "      <th></th>\n",
       "      <th></th>\n",
       "      <th></th>\n",
       "      <th></th>\n",
       "      <th></th>\n",
       "    </tr>\n",
       "  </thead>\n",
       "  <tbody>\n",
       "    <tr>\n",
       "      <th>32000000</th>\n",
       "      <td>NaT</td>\n",
       "      <td>NaN</td>\n",
       "      <td>NaN</td>\n",
       "      <td>nan</td>\n",
       "      <td>nan</td>\n",
       "      <td>nan</td>\n",
       "      <td>NaN</td>\n",
       "    </tr>\n",
       "    <tr>\n",
       "      <th>32000001</th>\n",
       "      <td>NaT</td>\n",
       "      <td>NaN</td>\n",
       "      <td>NaN</td>\n",
       "      <td>nan</td>\n",
       "      <td>nan</td>\n",
       "      <td>nan</td>\n",
       "      <td>NaN</td>\n",
       "    </tr>\n",
       "    <tr>\n",
       "      <th>32030785</th>\n",
       "      <td>NaT</td>\n",
       "      <td>NaN</td>\n",
       "      <td>NaN</td>\n",
       "      <td>nan</td>\n",
       "      <td>nan</td>\n",
       "      <td>nan</td>\n",
       "      <td>NaN</td>\n",
       "    </tr>\n",
       "    <tr>\n",
       "      <th>32000002</th>\n",
       "      <td>NaT</td>\n",
       "      <td>NaN</td>\n",
       "      <td>NaN</td>\n",
       "      <td>nan</td>\n",
       "      <td>nan</td>\n",
       "      <td>nan</td>\n",
       "      <td>NaN</td>\n",
       "    </tr>\n",
       "    <tr>\n",
       "      <th>32000003</th>\n",
       "      <td>NaT</td>\n",
       "      <td>NaN</td>\n",
       "      <td>NaN</td>\n",
       "      <td>nan</td>\n",
       "      <td>nan</td>\n",
       "      <td>nan</td>\n",
       "      <td>NaN</td>\n",
       "    </tr>\n",
       "  </tbody>\n",
       "</table>\n",
       "</div>"
      ],
      "text/plain": [
       "                 purchase_time category format  unit_price  discount  \\\n",
       "receipts_item_id                                                       \n",
       "32000000                   NaT      NaN    NaN         nan       nan   \n",
       "32000001                   NaT      NaN    NaN         nan       nan   \n",
       "32030785                   NaT      NaN    NaN         nan       nan   \n",
       "32000002                   NaT      NaN    NaN         nan       nan   \n",
       "32000003                   NaT      NaN    NaN         nan       nan   \n",
       "\n",
       "                  quantity weekday  \n",
       "receipts_item_id                    \n",
       "32000000               nan     NaN  \n",
       "32000001               nan     NaN  \n",
       "32030785               nan     NaN  \n",
       "32000002               nan     NaN  \n",
       "32000003               nan     NaN  "
      ]
     },
     "execution_count": 119,
     "metadata": {},
     "output_type": "execute_result"
    }
   ],
   "source": [
    "# menghasilkan data yg memiliki nilai NA\n",
    "household_NA[household_NA.isna()].head()"
   ]
  },
  {
   "cell_type": "code",
   "execution_count": 122,
   "metadata": {
    "scrolled": true
   },
   "outputs": [
    {
     "data": {
      "text/html": [
       "<div>\n",
       "<style scoped>\n",
       "    .dataframe tbody tr th:only-of-type {\n",
       "        vertical-align: middle;\n",
       "    }\n",
       "\n",
       "    .dataframe tbody tr th {\n",
       "        vertical-align: top;\n",
       "    }\n",
       "\n",
       "    .dataframe thead th {\n",
       "        text-align: right;\n",
       "    }\n",
       "</style>\n",
       "<table border=\"1\" class=\"dataframe\">\n",
       "  <thead>\n",
       "    <tr style=\"text-align: right;\">\n",
       "      <th></th>\n",
       "      <th>purchase_time</th>\n",
       "      <th>category</th>\n",
       "      <th>format</th>\n",
       "      <th>unit_price</th>\n",
       "      <th>discount</th>\n",
       "      <th>quantity</th>\n",
       "      <th>weekday</th>\n",
       "    </tr>\n",
       "    <tr>\n",
       "      <th>receipts_item_id</th>\n",
       "      <th></th>\n",
       "      <th></th>\n",
       "      <th></th>\n",
       "      <th></th>\n",
       "      <th></th>\n",
       "      <th></th>\n",
       "      <th></th>\n",
       "    </tr>\n",
       "  </thead>\n",
       "  <tbody>\n",
       "    <tr>\n",
       "      <th>32000000</th>\n",
       "      <td>NaT</td>\n",
       "      <td>NaN</td>\n",
       "      <td>NaN</td>\n",
       "      <td>nan</td>\n",
       "      <td>nan</td>\n",
       "      <td>nan</td>\n",
       "      <td>NaN</td>\n",
       "    </tr>\n",
       "    <tr>\n",
       "      <th>32000001</th>\n",
       "      <td>NaT</td>\n",
       "      <td>NaN</td>\n",
       "      <td>NaN</td>\n",
       "      <td>nan</td>\n",
       "      <td>nan</td>\n",
       "      <td>nan</td>\n",
       "      <td>NaN</td>\n",
       "    </tr>\n",
       "    <tr>\n",
       "      <th>32000002</th>\n",
       "      <td>NaT</td>\n",
       "      <td>NaN</td>\n",
       "      <td>NaN</td>\n",
       "      <td>nan</td>\n",
       "      <td>nan</td>\n",
       "      <td>nan</td>\n",
       "      <td>NaN</td>\n",
       "    </tr>\n",
       "    <tr>\n",
       "      <th>32000003</th>\n",
       "      <td>NaT</td>\n",
       "      <td>NaN</td>\n",
       "      <td>NaN</td>\n",
       "      <td>nan</td>\n",
       "      <td>nan</td>\n",
       "      <td>nan</td>\n",
       "      <td>NaN</td>\n",
       "    </tr>\n",
       "    <tr>\n",
       "      <th>32000004</th>\n",
       "      <td>NaT</td>\n",
       "      <td>NaN</td>\n",
       "      <td>NaN</td>\n",
       "      <td>nan</td>\n",
       "      <td>nan</td>\n",
       "      <td>nan</td>\n",
       "      <td>NaN</td>\n",
       "    </tr>\n",
       "  </tbody>\n",
       "</table>\n",
       "</div>"
      ],
      "text/plain": [
       "                 purchase_time category format  unit_price  discount  \\\n",
       "receipts_item_id                                                       \n",
       "32000000                   NaT      NaN    NaN         nan       nan   \n",
       "32000001                   NaT      NaN    NaN         nan       nan   \n",
       "32000002                   NaT      NaN    NaN         nan       nan   \n",
       "32000003                   NaT      NaN    NaN         nan       nan   \n",
       "32000004                   NaT      NaN    NaN         nan       nan   \n",
       "\n",
       "                  quantity weekday  \n",
       "receipts_item_id                    \n",
       "32000000               nan     NaN  \n",
       "32000001               nan     NaN  \n",
       "32000002               nan     NaN  \n",
       "32000003               nan     NaN  \n",
       "32000004               nan     NaN  "
      ]
     },
     "execution_count": 122,
     "metadata": {},
     "output_type": "execute_result"
    }
   ],
   "source": [
    "# menghasilkan data yg memiliki nilai NA pada kolom weekday\n",
    "household_NA[household_NA['weekday'].isna()].head()"
   ]
  },
  {
   "cell_type": "markdown",
   "metadata": {},
   "source": [
    "Go ahead and use `notna()` to extract all the rows where `weekday` column is not missing:"
   ]
  },
  {
   "cell_type": "code",
   "execution_count": 124,
   "metadata": {
    "scrolled": true
   },
   "outputs": [
    {
     "data": {
      "text/html": [
       "<div>\n",
       "<style scoped>\n",
       "    .dataframe tbody tr th:only-of-type {\n",
       "        vertical-align: middle;\n",
       "    }\n",
       "\n",
       "    .dataframe tbody tr th {\n",
       "        vertical-align: top;\n",
       "    }\n",
       "\n",
       "    .dataframe thead th {\n",
       "        text-align: right;\n",
       "    }\n",
       "</style>\n",
       "<table border=\"1\" class=\"dataframe\">\n",
       "  <thead>\n",
       "    <tr style=\"text-align: right;\">\n",
       "      <th></th>\n",
       "      <th>purchase_time</th>\n",
       "      <th>category</th>\n",
       "      <th>format</th>\n",
       "      <th>unit_price</th>\n",
       "      <th>discount</th>\n",
       "      <th>quantity</th>\n",
       "      <th>weekday</th>\n",
       "    </tr>\n",
       "    <tr>\n",
       "      <th>receipts_item_id</th>\n",
       "      <th></th>\n",
       "      <th></th>\n",
       "      <th></th>\n",
       "      <th></th>\n",
       "      <th></th>\n",
       "      <th></th>\n",
       "      <th></th>\n",
       "    </tr>\n",
       "  </thead>\n",
       "  <tbody>\n",
       "    <tr>\n",
       "      <th>32030785</th>\n",
       "      <td>2018-07-17 18:05:00</td>\n",
       "      <td>Rice</td>\n",
       "      <td>minimarket</td>\n",
       "      <td>63,500.0</td>\n",
       "      <td>0.0</td>\n",
       "      <td>1.0</td>\n",
       "      <td>Tuesday</td>\n",
       "    </tr>\n",
       "    <tr>\n",
       "      <th>32369294</th>\n",
       "      <td>2018-07-22 21:19:00</td>\n",
       "      <td>Rice</td>\n",
       "      <td>supermarket</td>\n",
       "      <td>128,000.0</td>\n",
       "      <td>0.0</td>\n",
       "      <td>1.0</td>\n",
       "      <td>Sunday</td>\n",
       "    </tr>\n",
       "    <tr>\n",
       "      <th>31930241</th>\n",
       "      <td>2018-07-15 12:12:00</td>\n",
       "      <td>Rice</td>\n",
       "      <td>supermarket</td>\n",
       "      <td>64,000.0</td>\n",
       "      <td>0.0</td>\n",
       "      <td>3.0</td>\n",
       "      <td>Sunday</td>\n",
       "    </tr>\n",
       "    <tr>\n",
       "      <th>32418582</th>\n",
       "      <td>2018-07-24 08:27:00</td>\n",
       "      <td>Rice</td>\n",
       "      <td>minimarket</td>\n",
       "      <td>65,000.0</td>\n",
       "      <td>0.0</td>\n",
       "      <td>1.0</td>\n",
       "      <td>Tuesday</td>\n",
       "    </tr>\n",
       "    <tr>\n",
       "      <th>32561236</th>\n",
       "      <td>2018-07-26 11:28:00</td>\n",
       "      <td>Rice</td>\n",
       "      <td>supermarket</td>\n",
       "      <td>124,500.0</td>\n",
       "      <td>0.0</td>\n",
       "      <td>1.0</td>\n",
       "      <td>Thursday</td>\n",
       "    </tr>\n",
       "  </tbody>\n",
       "</table>\n",
       "</div>"
      ],
      "text/plain": [
       "                       purchase_time category       format  unit_price  \\\n",
       "receipts_item_id                                                         \n",
       "32030785         2018-07-17 18:05:00     Rice   minimarket    63,500.0   \n",
       "32369294         2018-07-22 21:19:00     Rice  supermarket   128,000.0   \n",
       "31930241         2018-07-15 12:12:00     Rice  supermarket    64,000.0   \n",
       "32418582         2018-07-24 08:27:00     Rice   minimarket    65,000.0   \n",
       "32561236         2018-07-26 11:28:00     Rice  supermarket   124,500.0   \n",
       "\n",
       "                  discount  quantity   weekday  \n",
       "receipts_item_id                                \n",
       "32030785               0.0       1.0   Tuesday  \n",
       "32369294               0.0       1.0    Sunday  \n",
       "31930241               0.0       3.0    Sunday  \n",
       "32418582               0.0       1.0   Tuesday  \n",
       "32561236               0.0       1.0  Thursday  "
      ]
     },
     "execution_count": 124,
     "metadata": {},
     "output_type": "execute_result"
    }
   ],
   "source": [
    "# menghasilkan data yg TIDAK memiliki nilai NA pada kolom weekday\n",
    "household_NA[household_NA['weekday'].notna()].head()"
   ]
  },
  {
   "cell_type": "markdown",
   "metadata": {},
   "source": [
    "### Missing Values Treatment\n",
    "\n",
    "Once you've identified the missing values, there are 3 common ways to deal with it:\n",
    "\n",
    "- Use `dropna` with a reasonable threshold to remove any rows that contain too little values rendering it unhelpful to your analysis\n",
    "- Replace the missing values with a central value (mean or median)\n",
    "- Imputation through a predictive model\n",
    "\n",
    "#### NA Deletion"
   ]
  },
  {
   "cell_type": "markdown",
   "metadata": {},
   "source": [
    "When we are certain that the rows with `NA`s can be safely dropped, we can use `dropna()`, optionally specifying a threshold. By default, this method drops the row if any NA value is present (`how='any'`), but it can be set to do this only when all values are NA in that row (`how='all'`).\n",
    "\n",
    "```\n",
    "    # drops row if all values are NA\n",
    "    household.dropna(how='all')\n",
    "    \n",
    "    # drops row if it doesn't have at least 5 non-NA values\n",
    "    household.dropna(thresh=5) \n",
    "```"
   ]
  },
  {
   "cell_type": "code",
   "execution_count": 138,
   "metadata": {
    "scrolled": false
   },
   "outputs": [
    {
     "data": {
      "text/html": [
       "<div>\n",
       "<style scoped>\n",
       "    .dataframe tbody tr th:only-of-type {\n",
       "        vertical-align: middle;\n",
       "    }\n",
       "\n",
       "    .dataframe tbody tr th {\n",
       "        vertical-align: top;\n",
       "    }\n",
       "\n",
       "    .dataframe thead th {\n",
       "        text-align: right;\n",
       "    }\n",
       "</style>\n",
       "<table border=\"1\" class=\"dataframe\">\n",
       "  <thead>\n",
       "    <tr style=\"text-align: right;\">\n",
       "      <th></th>\n",
       "      <th>purchase_time</th>\n",
       "      <th>category</th>\n",
       "      <th>format</th>\n",
       "      <th>unit_price</th>\n",
       "      <th>discount</th>\n",
       "      <th>quantity</th>\n",
       "      <th>weekday</th>\n",
       "    </tr>\n",
       "    <tr>\n",
       "      <th>receipts_item_id</th>\n",
       "      <th></th>\n",
       "      <th></th>\n",
       "      <th></th>\n",
       "      <th></th>\n",
       "      <th></th>\n",
       "      <th></th>\n",
       "      <th></th>\n",
       "    </tr>\n",
       "  </thead>\n",
       "  <tbody>\n",
       "    <tr>\n",
       "      <th>32030785</th>\n",
       "      <td>2018-07-17 18:05:00</td>\n",
       "      <td>Rice</td>\n",
       "      <td>minimarket</td>\n",
       "      <td>63,500.0</td>\n",
       "      <td>0.0</td>\n",
       "      <td>1.0</td>\n",
       "      <td>Tuesday</td>\n",
       "    </tr>\n",
       "    <tr>\n",
       "      <th>32369294</th>\n",
       "      <td>2018-07-22 21:19:00</td>\n",
       "      <td>Rice</td>\n",
       "      <td>supermarket</td>\n",
       "      <td>128,000.0</td>\n",
       "      <td>0.0</td>\n",
       "      <td>1.0</td>\n",
       "      <td>Sunday</td>\n",
       "    </tr>\n",
       "    <tr>\n",
       "      <th>31885876</th>\n",
       "      <td>2018-07-15 16:17:00</td>\n",
       "      <td>Rice</td>\n",
       "      <td>minimarket</td>\n",
       "      <td>102,750.0</td>\n",
       "      <td>0.0</td>\n",
       "      <td>1.0</td>\n",
       "      <td>NaN</td>\n",
       "    </tr>\n",
       "    <tr>\n",
       "      <th>31930241</th>\n",
       "      <td>2018-07-15 12:12:00</td>\n",
       "      <td>Rice</td>\n",
       "      <td>supermarket</td>\n",
       "      <td>64,000.0</td>\n",
       "      <td>0.0</td>\n",
       "      <td>3.0</td>\n",
       "      <td>Sunday</td>\n",
       "    </tr>\n",
       "    <tr>\n",
       "      <th>32418582</th>\n",
       "      <td>2018-07-24 08:27:00</td>\n",
       "      <td>Rice</td>\n",
       "      <td>minimarket</td>\n",
       "      <td>65,000.0</td>\n",
       "      <td>0.0</td>\n",
       "      <td>1.0</td>\n",
       "      <td>Tuesday</td>\n",
       "    </tr>\n",
       "    <tr>\n",
       "      <th>32561236</th>\n",
       "      <td>2018-07-26 11:28:00</td>\n",
       "      <td>Rice</td>\n",
       "      <td>supermarket</td>\n",
       "      <td>124,500.0</td>\n",
       "      <td>0.0</td>\n",
       "      <td>1.0</td>\n",
       "      <td>Thursday</td>\n",
       "    </tr>\n",
       "    <tr>\n",
       "      <th>32030785</th>\n",
       "      <td>2018-07-17 18:05:00</td>\n",
       "      <td>Rice</td>\n",
       "      <td>minimarket</td>\n",
       "      <td>63,500.0</td>\n",
       "      <td>0.0</td>\n",
       "      <td>1.0</td>\n",
       "      <td>Tuesday</td>\n",
       "    </tr>\n",
       "    <tr>\n",
       "      <th>32935097</th>\n",
       "      <td>2018-07-29 18:18:00</td>\n",
       "      <td>Rice</td>\n",
       "      <td>supermarket</td>\n",
       "      <td>66,500.0</td>\n",
       "      <td>0.0</td>\n",
       "      <td>1.0</td>\n",
       "      <td>Sunday</td>\n",
       "    </tr>\n",
       "    <tr>\n",
       "      <th>32593606</th>\n",
       "      <td>2018-07-25 12:48:00</td>\n",
       "      <td>Rice</td>\n",
       "      <td>minimarket</td>\n",
       "      <td>62,500.0</td>\n",
       "      <td>0.0</td>\n",
       "      <td>1.0</td>\n",
       "      <td>Wednesday</td>\n",
       "    </tr>\n",
       "    <tr>\n",
       "      <th>32573843</th>\n",
       "      <td>2018-07-26 16:41:00</td>\n",
       "      <td>Rice</td>\n",
       "      <td>minimarket</td>\n",
       "      <td>62,500.0</td>\n",
       "      <td>0.0</td>\n",
       "      <td>1.0</td>\n",
       "      <td>Thursday</td>\n",
       "    </tr>\n",
       "    <tr>\n",
       "      <th>31913062</th>\n",
       "      <td>2018-07-14 21:17:00</td>\n",
       "      <td>Rice</td>\n",
       "      <td>supermarket</td>\n",
       "      <td>64,000.0</td>\n",
       "      <td>0.0</td>\n",
       "      <td>3.0</td>\n",
       "      <td>Saturday</td>\n",
       "    </tr>\n",
       "    <tr>\n",
       "      <th>31125365</th>\n",
       "      <td>2018-07-02 15:39:00</td>\n",
       "      <td>Rice</td>\n",
       "      <td>minimarket</td>\n",
       "      <td>112,500.0</td>\n",
       "      <td>0.0</td>\n",
       "      <td>1.0</td>\n",
       "      <td>Monday</td>\n",
       "    </tr>\n",
       "    <tr>\n",
       "      <th>32856560</th>\n",
       "      <td>2018-07-31 05:51:00</td>\n",
       "      <td>Rice</td>\n",
       "      <td>hypermarket</td>\n",
       "      <td>77,750.0</td>\n",
       "      <td>0.0</td>\n",
       "      <td>1.0</td>\n",
       "      <td>Tuesday</td>\n",
       "    </tr>\n",
       "    <tr>\n",
       "      <th>32552145</th>\n",
       "      <td>2018-07-26 11:43:00</td>\n",
       "      <td>Rice</td>\n",
       "      <td>minimarket</td>\n",
       "      <td>66,500.0</td>\n",
       "      <td>0.0</td>\n",
       "      <td>1.0</td>\n",
       "      <td>Thursday</td>\n",
       "    </tr>\n",
       "    <tr>\n",
       "      <th>32369065</th>\n",
       "      <td>2018-07-23 14:22:00</td>\n",
       "      <td>Rice</td>\n",
       "      <td>minimarket</td>\n",
       "      <td>62,900.0</td>\n",
       "      <td>0.0</td>\n",
       "      <td>1.0</td>\n",
       "      <td>Monday</td>\n",
       "    </tr>\n",
       "  </tbody>\n",
       "</table>\n",
       "</div>"
      ],
      "text/plain": [
       "                       purchase_time category       format  unit_price  \\\n",
       "receipts_item_id                                                         \n",
       "32030785         2018-07-17 18:05:00     Rice   minimarket    63,500.0   \n",
       "32369294         2018-07-22 21:19:00     Rice  supermarket   128,000.0   \n",
       "31885876         2018-07-15 16:17:00     Rice   minimarket   102,750.0   \n",
       "31930241         2018-07-15 12:12:00     Rice  supermarket    64,000.0   \n",
       "32418582         2018-07-24 08:27:00     Rice   minimarket    65,000.0   \n",
       "32561236         2018-07-26 11:28:00     Rice  supermarket   124,500.0   \n",
       "32030785         2018-07-17 18:05:00     Rice   minimarket    63,500.0   \n",
       "32935097         2018-07-29 18:18:00     Rice  supermarket    66,500.0   \n",
       "32593606         2018-07-25 12:48:00     Rice   minimarket    62,500.0   \n",
       "32573843         2018-07-26 16:41:00     Rice   minimarket    62,500.0   \n",
       "31913062         2018-07-14 21:17:00     Rice  supermarket    64,000.0   \n",
       "31125365         2018-07-02 15:39:00     Rice   minimarket   112,500.0   \n",
       "32856560         2018-07-31 05:51:00     Rice  hypermarket    77,750.0   \n",
       "32552145         2018-07-26 11:43:00     Rice   minimarket    66,500.0   \n",
       "32369065         2018-07-23 14:22:00     Rice   minimarket    62,900.0   \n",
       "\n",
       "                  discount  quantity    weekday  \n",
       "receipts_item_id                                 \n",
       "32030785               0.0       1.0    Tuesday  \n",
       "32369294               0.0       1.0     Sunday  \n",
       "31885876               0.0       1.0        NaN  \n",
       "31930241               0.0       3.0     Sunday  \n",
       "32418582               0.0       1.0    Tuesday  \n",
       "32561236               0.0       1.0   Thursday  \n",
       "32030785               0.0       1.0    Tuesday  \n",
       "32935097               0.0       1.0     Sunday  \n",
       "32593606               0.0       1.0  Wednesday  \n",
       "32573843               0.0       1.0   Thursday  \n",
       "31913062               0.0       3.0   Saturday  \n",
       "31125365               0.0       1.0     Monday  \n",
       "32856560               0.0       1.0    Tuesday  \n",
       "32552145               0.0       1.0   Thursday  \n",
       "32369065               0.0       1.0     Monday  "
      ]
     },
     "execution_count": 138,
     "metadata": {},
     "output_type": "execute_result"
    }
   ],
   "source": [
    "# defaultnya: how='any': akan membuang baris dengan minimal 1 kolom yang kosong\n",
    "household_NA.dropna()\n",
    "household_NA.dropna(how = 'any')\n",
    "\n",
    "# how = 'all': akan membuang/ drop baris ketika SEMUA nilai di kolomnya kosong\n",
    "household_NA.dropna(how = 'all')"
   ]
  },
  {
   "cell_type": "code",
   "execution_count": 152,
   "metadata": {},
   "outputs": [
    {
     "data": {
      "text/html": [
       "<div>\n",
       "<style scoped>\n",
       "    .dataframe tbody tr th:only-of-type {\n",
       "        vertical-align: middle;\n",
       "    }\n",
       "\n",
       "    .dataframe tbody tr th {\n",
       "        vertical-align: top;\n",
       "    }\n",
       "\n",
       "    .dataframe thead th {\n",
       "        text-align: right;\n",
       "    }\n",
       "</style>\n",
       "<table border=\"1\" class=\"dataframe\">\n",
       "  <thead>\n",
       "    <tr style=\"text-align: right;\">\n",
       "      <th></th>\n",
       "      <th>purchase_time</th>\n",
       "      <th>category</th>\n",
       "      <th>format</th>\n",
       "      <th>unit_price</th>\n",
       "      <th>discount</th>\n",
       "      <th>quantity</th>\n",
       "      <th>weekday</th>\n",
       "    </tr>\n",
       "    <tr>\n",
       "      <th>receipts_item_id</th>\n",
       "      <th></th>\n",
       "      <th></th>\n",
       "      <th></th>\n",
       "      <th></th>\n",
       "      <th></th>\n",
       "      <th></th>\n",
       "      <th></th>\n",
       "    </tr>\n",
       "  </thead>\n",
       "  <tbody>\n",
       "    <tr>\n",
       "      <th>32030785</th>\n",
       "      <td>2018-07-17 18:05:00</td>\n",
       "      <td>Rice</td>\n",
       "      <td>minimarket</td>\n",
       "      <td>63,500.0</td>\n",
       "      <td>0.0</td>\n",
       "      <td>1.0</td>\n",
       "      <td>Tuesday</td>\n",
       "    </tr>\n",
       "    <tr>\n",
       "      <th>32369294</th>\n",
       "      <td>2018-07-22 21:19:00</td>\n",
       "      <td>Rice</td>\n",
       "      <td>supermarket</td>\n",
       "      <td>128,000.0</td>\n",
       "      <td>0.0</td>\n",
       "      <td>1.0</td>\n",
       "      <td>Sunday</td>\n",
       "    </tr>\n",
       "    <tr>\n",
       "      <th>31885876</th>\n",
       "      <td>2018-07-15 16:17:00</td>\n",
       "      <td>Rice</td>\n",
       "      <td>minimarket</td>\n",
       "      <td>102,750.0</td>\n",
       "      <td>0.0</td>\n",
       "      <td>1.0</td>\n",
       "      <td>NaN</td>\n",
       "    </tr>\n",
       "    <tr>\n",
       "      <th>31930241</th>\n",
       "      <td>2018-07-15 12:12:00</td>\n",
       "      <td>Rice</td>\n",
       "      <td>supermarket</td>\n",
       "      <td>64,000.0</td>\n",
       "      <td>0.0</td>\n",
       "      <td>3.0</td>\n",
       "      <td>Sunday</td>\n",
       "    </tr>\n",
       "    <tr>\n",
       "      <th>32418582</th>\n",
       "      <td>2018-07-24 08:27:00</td>\n",
       "      <td>Rice</td>\n",
       "      <td>minimarket</td>\n",
       "      <td>65,000.0</td>\n",
       "      <td>0.0</td>\n",
       "      <td>1.0</td>\n",
       "      <td>Tuesday</td>\n",
       "    </tr>\n",
       "  </tbody>\n",
       "</table>\n",
       "</div>"
      ],
      "text/plain": [
       "                       purchase_time category       format  unit_price  \\\n",
       "receipts_item_id                                                         \n",
       "32030785         2018-07-17 18:05:00     Rice   minimarket    63,500.0   \n",
       "32369294         2018-07-22 21:19:00     Rice  supermarket   128,000.0   \n",
       "31885876         2018-07-15 16:17:00     Rice   minimarket   102,750.0   \n",
       "31930241         2018-07-15 12:12:00     Rice  supermarket    64,000.0   \n",
       "32418582         2018-07-24 08:27:00     Rice   minimarket    65,000.0   \n",
       "\n",
       "                  discount  quantity  weekday  \n",
       "receipts_item_id                               \n",
       "32030785               0.0       1.0  Tuesday  \n",
       "32369294               0.0       1.0   Sunday  \n",
       "31885876               0.0       1.0      NaN  \n",
       "31930241               0.0       3.0   Sunday  \n",
       "32418582               0.0       1.0  Tuesday  "
      ]
     },
     "execution_count": 152,
     "metadata": {},
     "output_type": "execute_result"
    }
   ],
   "source": [
    "household_NA.dropna(thresh=5).head()"
   ]
  },
  {
   "cell_type": "code",
   "execution_count": 154,
   "metadata": {
    "scrolled": false
   },
   "outputs": [],
   "source": [
    "# kombinasi notna dgn subset: ketika ingin menspesifikan kolom mana yang TIDAK boleh kosong\n",
    "# contoh: drop baris dengan kolom weekday yang NA\n",
    "weekday_full = household_NA[household_NA['weekday'].notna()].copy()\n"
   ]
  },
  {
   "cell_type": "markdown",
   "metadata": {},
   "source": [
    "#### NA Imputation"
   ]
  },
  {
   "cell_type": "markdown",
   "metadata": {},
   "source": [
    "Another common methods when working with missing values are demonstrated in the following section. We make a copy of the NA-included DataFrame, and name it `household2`:"
   ]
  },
  {
   "cell_type": "code",
   "execution_count": 165,
   "metadata": {},
   "outputs": [
    {
     "data": {
      "text/html": [
       "<div>\n",
       "<style scoped>\n",
       "    .dataframe tbody tr th:only-of-type {\n",
       "        vertical-align: middle;\n",
       "    }\n",
       "\n",
       "    .dataframe tbody tr th {\n",
       "        vertical-align: top;\n",
       "    }\n",
       "\n",
       "    .dataframe thead th {\n",
       "        text-align: right;\n",
       "    }\n",
       "</style>\n",
       "<table border=\"1\" class=\"dataframe\">\n",
       "  <thead>\n",
       "    <tr style=\"text-align: right;\">\n",
       "      <th></th>\n",
       "      <th>purchase_time</th>\n",
       "      <th>category</th>\n",
       "      <th>format</th>\n",
       "      <th>unit_price</th>\n",
       "      <th>discount</th>\n",
       "      <th>quantity</th>\n",
       "      <th>weekday</th>\n",
       "    </tr>\n",
       "    <tr>\n",
       "      <th>receipts_item_id</th>\n",
       "      <th></th>\n",
       "      <th></th>\n",
       "      <th></th>\n",
       "      <th></th>\n",
       "      <th></th>\n",
       "      <th></th>\n",
       "      <th></th>\n",
       "    </tr>\n",
       "  </thead>\n",
       "  <tbody>\n",
       "    <tr>\n",
       "      <th>32000000</th>\n",
       "      <td>NaT</td>\n",
       "      <td>NaN</td>\n",
       "      <td>NaN</td>\n",
       "      <td>nan</td>\n",
       "      <td>nan</td>\n",
       "      <td>nan</td>\n",
       "      <td>NaN</td>\n",
       "    </tr>\n",
       "  </tbody>\n",
       "</table>\n",
       "</div>"
      ],
      "text/plain": [
       "                 purchase_time category format  unit_price  discount  \\\n",
       "receipts_item_id                                                       \n",
       "32000000                   NaT      NaN    NaN         nan       nan   \n",
       "\n",
       "                  quantity weekday  \n",
       "receipts_item_id                    \n",
       "32000000               nan     NaN  "
      ]
     },
     "execution_count": 165,
     "metadata": {},
     "output_type": "execute_result"
    }
   ],
   "source": [
    "household2 = household_NA.copy()\n",
    "household2.head(1)"
   ]
  },
  {
   "cell_type": "markdown",
   "metadata": {},
   "source": [
    "In the following cell, the technique is demonstrably repetitive or even verbose. This is done to give us an idea of all the different options we can pick from. \n",
    "\n",
    "You may observe, for example that the two lines of code are functionally identical:\n",
    "- `.fillna(0)`\n",
    "- `.replace(np.nan, 0)`"
   ]
  },
  {
   "cell_type": "code",
   "execution_count": 162,
   "metadata": {},
   "outputs": [],
   "source": [
    "# obj_cols = household2.select_dtypes('object').columns\n",
    "# household2[obj_cols] =household2[obj_cols].fillna('Missing')"
   ]
  },
  {
   "cell_type": "code",
   "execution_count": 170,
   "metadata": {
    "scrolled": false
   },
   "outputs": [],
   "source": [
    "#household2.fillna(method = 'bfill').fillna(method = 'ffill')"
   ]
  },
  {
   "cell_type": "code",
   "execution_count": 163,
   "metadata": {
    "scrolled": true
   },
   "outputs": [
    {
     "data": {
      "text/html": [
       "<div>\n",
       "<style scoped>\n",
       "    .dataframe tbody tr th:only-of-type {\n",
       "        vertical-align: middle;\n",
       "    }\n",
       "\n",
       "    .dataframe tbody tr th {\n",
       "        vertical-align: top;\n",
       "    }\n",
       "\n",
       "    .dataframe thead th {\n",
       "        text-align: right;\n",
       "    }\n",
       "</style>\n",
       "<table border=\"1\" class=\"dataframe\">\n",
       "  <thead>\n",
       "    <tr style=\"text-align: right;\">\n",
       "      <th></th>\n",
       "      <th>purchase_time</th>\n",
       "      <th>category</th>\n",
       "      <th>format</th>\n",
       "      <th>unit_price</th>\n",
       "      <th>discount</th>\n",
       "      <th>quantity</th>\n",
       "      <th>weekday</th>\n",
       "    </tr>\n",
       "    <tr>\n",
       "      <th>receipts_item_id</th>\n",
       "      <th></th>\n",
       "      <th></th>\n",
       "      <th></th>\n",
       "      <th></th>\n",
       "      <th></th>\n",
       "      <th></th>\n",
       "      <th></th>\n",
       "    </tr>\n",
       "  </thead>\n",
       "  <tbody>\n",
       "    <tr>\n",
       "      <th>32000000</th>\n",
       "      <td>NaT</td>\n",
       "      <td>Missing</td>\n",
       "      <td>Missing</td>\n",
       "      <td>0.0</td>\n",
       "      <td>Missing</td>\n",
       "      <td>-1.0</td>\n",
       "      <td>NaN</td>\n",
       "    </tr>\n",
       "    <tr>\n",
       "      <th>32000001</th>\n",
       "      <td>NaT</td>\n",
       "      <td>Missing</td>\n",
       "      <td>Missing</td>\n",
       "      <td>0.0</td>\n",
       "      <td>Missing</td>\n",
       "      <td>-1.0</td>\n",
       "      <td>NaN</td>\n",
       "    </tr>\n",
       "    <tr>\n",
       "      <th>32030785</th>\n",
       "      <td>2018-07-17 18:05:00</td>\n",
       "      <td>Rice</td>\n",
       "      <td>minimarket</td>\n",
       "      <td>63,500.0</td>\n",
       "      <td>0.0</td>\n",
       "      <td>1.0</td>\n",
       "      <td>Tuesday</td>\n",
       "    </tr>\n",
       "    <tr>\n",
       "      <th>32000002</th>\n",
       "      <td>NaT</td>\n",
       "      <td>Missing</td>\n",
       "      <td>Missing</td>\n",
       "      <td>0.0</td>\n",
       "      <td>Missing</td>\n",
       "      <td>-1.0</td>\n",
       "      <td>NaN</td>\n",
       "    </tr>\n",
       "    <tr>\n",
       "      <th>32000003</th>\n",
       "      <td>NaT</td>\n",
       "      <td>Missing</td>\n",
       "      <td>Missing</td>\n",
       "      <td>0.0</td>\n",
       "      <td>Missing</td>\n",
       "      <td>-1.0</td>\n",
       "      <td>NaN</td>\n",
       "    </tr>\n",
       "  </tbody>\n",
       "</table>\n",
       "</div>"
      ],
      "text/plain": [
       "                       purchase_time category      format  unit_price  \\\n",
       "receipts_item_id                                                        \n",
       "32000000                         NaT  Missing     Missing         0.0   \n",
       "32000001                         NaT  Missing     Missing         0.0   \n",
       "32030785         2018-07-17 18:05:00     Rice  minimarket    63,500.0   \n",
       "32000002                         NaT  Missing     Missing         0.0   \n",
       "32000003                         NaT  Missing     Missing         0.0   \n",
       "\n",
       "                 discount  quantity  weekday  \n",
       "receipts_item_id                              \n",
       "32000000          Missing      -1.0      NaN  \n",
       "32000001          Missing      -1.0      NaN  \n",
       "32030785              0.0       1.0  Tuesday  \n",
       "32000002          Missing      -1.0      NaN  \n",
       "32000003          Missing      -1.0      NaN  "
      ]
     },
     "execution_count": 163,
     "metadata": {},
     "output_type": "execute_result"
    }
   ],
   "source": [
    "# convert NA categories to 'Missing'\n",
    "household2[['category', 'format','discount']] = household2[['category', 'format','discount']].fillna('Missing')\n",
    "\n",
    "# convert NA unit_price to 0\n",
    "household2.unit_price = household2.unit_price.fillna(0)\n",
    "\n",
    "# convert NA quantity with -1\n",
    "household2.quantity = household2.quantity.fillna(-1)\n",
    "\n",
    "# convert NA purchase_time with 'bfill'\n",
    "household2.purchase_time = pd.to_datetime(household2.purchase_time)\n",
    "household2.purchase_time = household2.fillna(method='bfill')\n",
    "\n",
    "household2.head()"
   ]
  },
  {
   "cell_type": "markdown",
   "metadata": {},
   "source": [
    "---\n",
    "\n",
    "*End of Day 3*\n",
    "\n",
    "## *Inclass Questions*\n",
    "\n",
    "**Q**: Cara imputasi nilai yang kosong dengan mengisi dari rata2 tiga baris terakhir?  \n",
    "**A**: Tidak ada parameter khusus dari `fillna()` untuk melakukan task tersebut, namun, kita tetap dapat melakukannya dengan bantuan bantuan method lain, contohnya dgn `.rolling()` dan `.shift()`:"
   ]
  },
  {
   "cell_type": "code",
   "execution_count": 214,
   "metadata": {},
   "outputs": [
    {
     "data": {
      "text/html": [
       "<div>\n",
       "<style scoped>\n",
       "    .dataframe tbody tr th:only-of-type {\n",
       "        vertical-align: middle;\n",
       "    }\n",
       "\n",
       "    .dataframe tbody tr th {\n",
       "        vertical-align: top;\n",
       "    }\n",
       "\n",
       "    .dataframe thead th {\n",
       "        text-align: right;\n",
       "    }\n",
       "</style>\n",
       "<table border=\"1\" class=\"dataframe\">\n",
       "  <thead>\n",
       "    <tr style=\"text-align: right;\">\n",
       "      <th></th>\n",
       "      <th>unit_price</th>\n",
       "      <th>discount</th>\n",
       "      <th>quantity</th>\n",
       "    </tr>\n",
       "    <tr>\n",
       "      <th>receipts_item_id</th>\n",
       "      <th></th>\n",
       "      <th></th>\n",
       "      <th></th>\n",
       "    </tr>\n",
       "  </thead>\n",
       "  <tbody>\n",
       "    <tr>\n",
       "      <th>32030785</th>\n",
       "      <td>63,500.0</td>\n",
       "      <td>0.0</td>\n",
       "      <td>1.0</td>\n",
       "    </tr>\n",
       "    <tr>\n",
       "      <th>32935097</th>\n",
       "      <td>66,500.0</td>\n",
       "      <td>0.0</td>\n",
       "      <td>1.0</td>\n",
       "    </tr>\n",
       "    <tr>\n",
       "      <th>32000000</th>\n",
       "      <td>65,000.0</td>\n",
       "      <td>0.0</td>\n",
       "      <td>1.0</td>\n",
       "    </tr>\n",
       "    <tr>\n",
       "      <th>32000001</th>\n",
       "      <td>65,000.0</td>\n",
       "      <td>0.0</td>\n",
       "      <td>1.0</td>\n",
       "    </tr>\n",
       "    <tr>\n",
       "      <th>31930241</th>\n",
       "      <td>64,000.0</td>\n",
       "      <td>0.0</td>\n",
       "      <td>3.0</td>\n",
       "    </tr>\n",
       "    <tr>\n",
       "      <th>32000004</th>\n",
       "      <td>64,000.0</td>\n",
       "      <td>0.0</td>\n",
       "      <td>3.0</td>\n",
       "    </tr>\n",
       "  </tbody>\n",
       "</table>\n",
       "</div>"
      ],
      "text/plain": [
       "                  unit_price  discount  quantity\n",
       "receipts_item_id                                \n",
       "32030785            63,500.0       0.0       1.0\n",
       "32935097            66,500.0       0.0       1.0\n",
       "32000000            65,000.0       0.0       1.0\n",
       "32000001            65,000.0       0.0       1.0\n",
       "31930241            64,000.0       0.0       3.0\n",
       "32000004            64,000.0       0.0       3.0"
      ]
     },
     "execution_count": 214,
     "metadata": {},
     "output_type": "execute_result"
    }
   ],
   "source": [
    "# sample data\n",
    "df = household_NA.sample(6, random_state=13).select_dtypes('number').copy()\n",
    "\n",
    "# get moving average with a window length of 3 \n",
    "ma3 = df.rolling(3, min_periods=1).mean().shift()\n",
    "df.fillna(ma3)"
   ]
  },
  {
   "cell_type": "markdown",
   "metadata": {},
   "source": [
    "### Duplicates"
   ]
  },
  {
   "cell_type": "markdown",
   "metadata": {},
   "source": [
    "To check whether our data has any duplicates, we can use `.duplicated()` method:"
   ]
  },
  {
   "cell_type": "code",
   "execution_count": null,
   "metadata": {},
   "outputs": [],
   "source": []
  },
  {
   "cell_type": "code",
   "execution_count": null,
   "metadata": {
    "scrolled": true
   },
   "outputs": [],
   "source": []
  },
  {
   "cell_type": "markdown",
   "metadata": {},
   "source": [
    "When we have data where duplicated observations are recorded, we can use `.drop_duplicates()` specifying whether the first occurence or the last should be kept:"
   ]
  },
  {
   "cell_type": "code",
   "execution_count": null,
   "metadata": {},
   "outputs": [],
   "source": []
  },
  {
   "cell_type": "code",
   "execution_count": null,
   "metadata": {
    "scrolled": true
   },
   "outputs": [],
   "source": [
    "print(household2.shape)\n",
    "print(household2.drop_duplicates().shape)"
   ]
  },
  {
   "cell_type": "markdown",
   "metadata": {},
   "source": [
    "**Knowledge Check:**   \n",
    "\n",
    "Duplicates may mean a different thing from a data point-of-view and a business analyst's point-of-view. You want to be extra careful about whether the duplicates is an intended characteristic of your data, or whether it poses a violation to the business logic. \n",
    "\n",
    "Would you drop the \"duplicated\" values:\n",
    "\n",
    "   - a. A medical center collects anonymized heart rate monitoring data from patients. It has duplicate observations collected across a span of 3 months.\n",
    "   - b. An insurance company uses machine learning to deliver dynamic pricing to its customers. Each row contains the customer's name, occupation / profession and historical health data. It has duplicate observations collected across a span of 3 months\n"
   ]
  }
 ],
 "metadata": {
  "kernelspec": {
   "display_name": "da_newton",
   "language": "python",
   "name": "da_newton"
  },
  "language_info": {
   "codemirror_mode": {
    "name": "ipython",
    "version": 3
   },
   "file_extension": ".py",
   "mimetype": "text/x-python",
   "name": "python",
   "nbconvert_exporter": "python",
   "pygments_lexer": "ipython3",
   "version": "3.8.5"
  },
  "latex_envs": {
   "LaTeX_envs_menu_present": true,
   "autoclose": false,
   "autocomplete": true,
   "bibliofile": "biblio.bib",
   "cite_by": "apalike",
   "current_citInitial": 1,
   "eqLabelWithNumbers": true,
   "eqNumInitial": 1,
   "hotkeys": {
    "equation": "Ctrl-E",
    "itemize": "Ctrl-I"
   },
   "labels_anchors": false,
   "latex_user_defs": false,
   "report_style_numbering": false,
   "user_envs_cfg": false
  },
  "toc": {
   "base_numbering": 1,
   "nav_menu": {},
   "number_sections": true,
   "sideBar": true,
   "skip_h1_title": false,
   "title_cell": "Table of Contents",
   "title_sidebar": "Contents",
   "toc_cell": false,
   "toc_position": {
    "height": "787px",
    "left": "108px",
    "top": "59px",
    "width": "190.795px"
   },
   "toc_section_display": true,
   "toc_window_display": true
  }
 },
 "nbformat": 4,
 "nbformat_minor": 2
}
