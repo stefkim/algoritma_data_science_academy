{
 "cells": [
  {
   "cell_type": "markdown",
   "metadata": {},
   "source": [
    "# Graded Assignment 4\n",
    "## SQL and Exploratory Data Analysis\n",
    "\n",
    "The following learn-by-building exercise will guide you through the process of building out a simple analysis along with some accompanying charts. This module is considerably more difficult than similar exercise blocks in the past, but it sure is a lot more rewarding!"
   ]
  },
  {
   "cell_type": "code",
   "execution_count": 2,
   "metadata": {},
   "outputs": [],
   "source": [
    "import sqlite3\n",
    "import pandas as pd\n",
    "\n",
    "conn = sqlite3.connect(\"data_input/chinook.db\")"
   ]
  },
  {
   "cell_type": "markdown",
   "metadata": {},
   "source": [
    "![](assets/chinookschema2.png)"
   ]
  },
  {
   "cell_type": "markdown",
   "metadata": {},
   "source": [
    "Let's try by first constructing a DataFrame using the `read_sql_query()` method that we've grown familiar to. We want to develop a simple sales visualization report of our top 5 key markets (`Country` column in `customers`) ranked by Sales (`Total` column in `invoices`). \n",
    "\n",
    "We also want to identify our top 5 customers by name (`FirstName`, `LastName`) in the report.\n",
    "\n",
    "Last but not least, we want the report to include a day-of-week analysis on sales performance, and for that we will need the `InvoiceDate` column. \n",
    "\n",
    "> **Hint 1**: `pandas` has built-in methods of extracting the name of day in a week. We've seen this in Part 2 of this specialization (**Working with Datetime chapter**). An example usage is:\n",
    ">\n",
    "> `data['InvoiceDOW'] = data['InvoiceDate'].dt.day_name()`\n",
    ">\n",
    ">  **Hint 2**: In `read_sql_query`, you can use the `parse_dates='InvoiceDate'` argument to have the specified column parsed as date, saving you from a `to_datetime()` conversion"
   ]
  },
  {
   "cell_type": "code",
   "execution_count": 184,
   "metadata": {},
   "outputs": [],
   "source": [
    "## Your code here\n",
    "\n"
   ]
  },
  {
   "cell_type": "markdown",
   "metadata": {},
   "source": [
    "1. Which of the following customers are among the top 5 customers ranked by their respective total (`Total`)?\n",
    "    - [ ] Victor Stevens\n",
    "    - [ ] Hugh O'Reilly\n",
    "    - [ ] Puja Srivastava\n",
    "    - [ ] Astrid Gruber\t"
   ]
  },
  {
   "cell_type": "code",
   "execution_count": 185,
   "metadata": {},
   "outputs": [],
   "source": [
    "## Your code here\n",
    "\n"
   ]
  },
  {
   "cell_type": "markdown",
   "metadata": {},
   "source": [
    "2. Which of the following countries are among the top 5 grossing ranked by their respective total (`Total`)?\n",
    "    - [ ] United Kingdom\n",
    "    - [ ] Germany\n",
    "    - [ ] Portugal\n",
    "    - [ ] India"
   ]
  },
  {
   "cell_type": "code",
   "execution_count": 186,
   "metadata": {},
   "outputs": [],
   "source": [
    "## Your code here\n",
    "\n"
   ]
  },
  {
   "cell_type": "markdown",
   "metadata": {},
   "source": [
    "Use the code block below as reference to create a DataFrame containing records where the customers are from one of the top 5 countries. Notice that we have additionally converted our day-of-week column into a `Categorical` column:\n",
    "\n",
    "```\n",
    "top5 = ______.groupby('Country').Total.sum().sort_values(ascending=False).head().index.to_list()\n",
    "\n",
    "top5_data = ______[______['Country'].isin(top5)].copy()\n",
    "\n",
    "dayorder = ['Monday', 'Tuesday', 'Wednesday', 'Thursday', 'Friday', 'Saturday', 'Sunday']\n",
    "top5_data['InvoiceDOW'] = pd.Categorical(top5_data['InvoiceDOW'],\n",
    "                                         categories=dayorder,\n",
    "                                         ordered=True)\n",
    "top5_data\n",
    "```"
   ]
  },
  {
   "cell_type": "code",
   "execution_count": 187,
   "metadata": {
    "run_control": {
     "marked": false
    }
   },
   "outputs": [],
   "source": [
    "## Your code here\n",
    "\n"
   ]
  },
  {
   "cell_type": "markdown",
   "metadata": {},
   "source": [
    "3. How many sales transactions (or records, or rows) were from the top 5 countries?\n",
    "    - [ ] 7\n",
    "    - [ ] 245\n",
    "    - [ ] 412\n",
    "    - [ ] 1715"
   ]
  },
  {
   "cell_type": "code",
   "execution_count": 188,
   "metadata": {},
   "outputs": [],
   "source": [
    "## Your code here\n",
    "\n"
   ]
  },
  {
   "cell_type": "markdown",
   "metadata": {},
   "source": [
    "4. Using the `pd.pivot_table()` method, answer the next two questions: How much sales (`Total`) did we make in total (`sum`) from the France market on a Tuesday? How much sales did we make in total from all the top 5 markets combined on a Friday?\n",
    "    - [ ] 160.41 / 173.31  \n",
    "    - [ ] 160.41 / 326.77\n",
    "    - [ ] 1.98 / 173.31\n",
    "    - [ ] 1.98 / 326.77"
   ]
  },
  {
   "cell_type": "code",
   "execution_count": 189,
   "metadata": {
    "scrolled": true
   },
   "outputs": [],
   "source": [
    "## Your code here\n",
    "\n"
   ]
  },
  {
   "cell_type": "markdown",
   "metadata": {},
   "source": [
    "5. Give the `pivot_table` that you created a name. Remove the margins if they were included in the earlier step. Create a visualization by chaining the `.plot()` method on the pivot table. Set the `kind` parameter to be one of: `line`, `bar`, `scatter` & `box`. Which one is the **LEAST** appropriate plot type(s)?\n",
    "    - [ ] `line`\n",
    "    - [ ] `bar`\n",
    "    - [ ] `scatter`\n",
    "    - [ ] `box`"
   ]
  },
  {
   "cell_type": "code",
   "execution_count": 190,
   "metadata": {
    "scrolled": true
   },
   "outputs": [],
   "source": [
    "## Your code here\n",
    "\n"
   ]
  },
  {
   "cell_type": "markdown",
   "metadata": {},
   "source": [
    "6. Suppose we want to compare the best-selling music genres in the top 5 countries. Let's try by first filling in the blanks (______) in the query below:\n",
    "```\n",
    "genre = pd.read_sql_query(\n",
    "    '''\n",
    "    SELECT \n",
    "    BillingCountry AS Country, ______.Name AS Genre \n",
    "    FROM ______ \n",
    "    LEFT JOIN invoice_items ON invoices.______ = invoice_items.______\n",
    "    LEFT JOIN tracks ON invoice_items.______ = ______.______ \n",
    "    LEFT JOIN ______ ON tracks.______ = genres.______\n",
    "    WHERE BillingCountry IN ('USA', 'Canada', 'France', 'Brazil', 'Germany')\n",
    "    ''',conn)\n",
    "```\n"
   ]
  },
  {
   "cell_type": "code",
   "execution_count": 191,
   "metadata": {},
   "outputs": [],
   "source": [
    "## Your code here\n"
   ]
  },
  {
   "cell_type": "markdown",
   "metadata": {},
   "source": [
    "Once you've completed the query for `genre` dataframe above, copy and run the code below to create a bar chart which compares the best-selling song genres per country.\n",
    "```\n",
    "genre.\\\n",
    "groupby(['Country','Genre']).size().reset_index(name = 'Total Bought').\\\n",
    "sort_values(['Country','Total Bought'], ascending=False).\\\n",
    "groupby('Country').head(5).\\\n",
    "pivot(index = 'Country', columns = 'Genre').plot(kind='bar',stacked=True).\\\n",
    "legend(bbox_to_anchor=(1, 1), loc=2) \n",
    "```\n",
    "What genre is **not** among the top-selling genre in Germany:\n",
    "   - [ ] Blues\n",
    "   - [ ] Jazz\n",
    "   - [ ] Alternative & Punk\n",
    "   - [ ] Latin"
   ]
  }
 ],
 "metadata": {
  "kernelspec": {
   "display_name": "newton_dwv",
   "language": "python",
   "name": "newton_dwv"
  },
  "language_info": {
   "codemirror_mode": {
    "name": "ipython",
    "version": 3
   },
   "file_extension": ".py",
   "mimetype": "text/x-python",
   "name": "python",
   "nbconvert_exporter": "python",
   "pygments_lexer": "ipython3",
   "version": "3.7.9"
  },
  "latex_envs": {
   "LaTeX_envs_menu_present": true,
   "autoclose": false,
   "autocomplete": true,
   "bibliofile": "biblio.bib",
   "cite_by": "apalike",
   "current_citInitial": 1,
   "eqLabelWithNumbers": true,
   "eqNumInitial": 1,
   "hotkeys": {
    "equation": "Ctrl-E",
    "itemize": "Ctrl-I"
   },
   "labels_anchors": false,
   "latex_user_defs": false,
   "report_style_numbering": false,
   "user_envs_cfg": false
  },
  "toc": {
   "base_numbering": 1,
   "nav_menu": {},
   "number_sections": true,
   "sideBar": true,
   "skip_h1_title": false,
   "title_cell": "Table of Contents",
   "title_sidebar": "Contents",
   "toc_cell": false,
   "toc_position": {},
   "toc_section_display": true,
   "toc_window_display": false
  }
 },
 "nbformat": 4,
 "nbformat_minor": 2
}
