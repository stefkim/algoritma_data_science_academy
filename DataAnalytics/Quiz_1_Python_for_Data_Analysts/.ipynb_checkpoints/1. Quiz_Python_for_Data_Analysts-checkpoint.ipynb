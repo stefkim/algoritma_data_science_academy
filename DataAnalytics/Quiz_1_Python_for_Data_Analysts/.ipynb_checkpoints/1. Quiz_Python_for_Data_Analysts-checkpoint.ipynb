{
 "cells": [
  {
   "cell_type": "markdown",
   "metadata": {},
   "source": [
    "# Learn-by-Building"
   ]
  },
  {
   "cell_type": "code",
   "execution_count": 2,
   "metadata": {},
   "outputs": [],
   "source": [
    "import pandas as pd"
   ]
  },
  {
   "cell_type": "markdown",
   "metadata": {},
   "source": [
    "## Data Pre-Processing"
   ]
  },
  {
   "cell_type": "markdown",
   "metadata": {},
   "source": [
    "The data you will read in is `companies.csv`, a small sample of a a larger CRM (customer relationship management) dataset."
   ]
  },
  {
   "cell_type": "code",
   "execution_count": 3,
   "metadata": {
    "scrolled": false
   },
   "outputs": [
    {
     "data": {
      "text/html": [
       "<div>\n",
       "<style scoped>\n",
       "    .dataframe tbody tr th:only-of-type {\n",
       "        vertical-align: middle;\n",
       "    }\n",
       "\n",
       "    .dataframe tbody tr th {\n",
       "        vertical-align: top;\n",
       "    }\n",
       "\n",
       "    .dataframe thead th {\n",
       "        text-align: right;\n",
       "    }\n",
       "</style>\n",
       "<table border=\"1\" class=\"dataframe\">\n",
       "  <thead>\n",
       "    <tr style=\"text-align: right;\">\n",
       "      <th></th>\n",
       "      <th>Customer Name</th>\n",
       "      <th>Consulting Sales</th>\n",
       "      <th>Software Sales</th>\n",
       "      <th>Forecasted Growth</th>\n",
       "      <th>Returns</th>\n",
       "      <th>Month</th>\n",
       "      <th>Day</th>\n",
       "      <th>Year</th>\n",
       "      <th>Location</th>\n",
       "      <th>Account</th>\n",
       "    </tr>\n",
       "    <tr>\n",
       "      <th>ID</th>\n",
       "      <th></th>\n",
       "      <th></th>\n",
       "      <th></th>\n",
       "      <th></th>\n",
       "      <th></th>\n",
       "      <th></th>\n",
       "      <th></th>\n",
       "      <th></th>\n",
       "      <th></th>\n",
       "      <th></th>\n",
       "    </tr>\n",
       "  </thead>\n",
       "  <tbody>\n",
       "    <tr>\n",
       "      <th>30940</th>\n",
       "      <td>New Media Group</td>\n",
       "      <td>IDR7125000</td>\n",
       "      <td>IDR5500000</td>\n",
       "      <td>30.00%</td>\n",
       "      <td>IDR1,500,000</td>\n",
       "      <td>1</td>\n",
       "      <td>10</td>\n",
       "      <td>2017</td>\n",
       "      <td>Jakarta</td>\n",
       "      <td>Enterprise</td>\n",
       "    </tr>\n",
       "    <tr>\n",
       "      <th>82391</th>\n",
       "      <td>Li and Partners</td>\n",
       "      <td>IDR420000</td>\n",
       "      <td>IDR820000</td>\n",
       "      <td>10.00%</td>\n",
       "      <td>IDR400,000</td>\n",
       "      <td>6</td>\n",
       "      <td>15</td>\n",
       "      <td>2016</td>\n",
       "      <td>Jakarta</td>\n",
       "      <td>Startup</td>\n",
       "    </tr>\n",
       "    <tr>\n",
       "      <th>18374</th>\n",
       "      <td>PT. Kreasi Metrik Solusi</td>\n",
       "      <td>0</td>\n",
       "      <td>IDR550403</td>\n",
       "      <td>25.00%</td>\n",
       "      <td>0</td>\n",
       "      <td>3</td>\n",
       "      <td>29</td>\n",
       "      <td>2012</td>\n",
       "      <td>Surabaya</td>\n",
       "      <td>Enterprise</td>\n",
       "    </tr>\n",
       "    <tr>\n",
       "      <th>57531</th>\n",
       "      <td>PT. Algoritma Data Indonesia</td>\n",
       "      <td>IDR850000</td>\n",
       "      <td>IDR395500</td>\n",
       "      <td>4.00%</td>\n",
       "      <td>0</td>\n",
       "      <td>7</td>\n",
       "      <td>17</td>\n",
       "      <td>2017</td>\n",
       "      <td>Jakarta</td>\n",
       "      <td>Startup</td>\n",
       "    </tr>\n",
       "    <tr>\n",
       "      <th>19002</th>\n",
       "      <td>Palembang Konsultansi</td>\n",
       "      <td>IDR2115000</td>\n",
       "      <td>0</td>\n",
       "      <td>-15.00%</td>\n",
       "      <td>0</td>\n",
       "      <td>2</td>\n",
       "      <td>24</td>\n",
       "      <td>2018</td>\n",
       "      <td>Bandung</td>\n",
       "      <td>Startup</td>\n",
       "    </tr>\n",
       "  </tbody>\n",
       "</table>\n",
       "</div>"
      ],
      "text/plain": [
       "                      Customer Name Consulting Sales Software Sales  \\\n",
       "ID                                                                    \n",
       "30940               New Media Group       IDR7125000     IDR5500000   \n",
       "82391               Li and Partners        IDR420000      IDR820000   \n",
       "18374      PT. Kreasi Metrik Solusi                0      IDR550403   \n",
       "57531  PT. Algoritma Data Indonesia        IDR850000      IDR395500   \n",
       "19002         Palembang Konsultansi       IDR2115000              0   \n",
       "\n",
       "      Forecasted Growth       Returns  Month  Day  Year  Location     Account  \n",
       "ID                                                                             \n",
       "30940            30.00%  IDR1,500,000      1   10  2017   Jakarta  Enterprise  \n",
       "82391            10.00%    IDR400,000      6   15  2016   Jakarta     Startup  \n",
       "18374            25.00%             0      3   29  2012  Surabaya  Enterprise  \n",
       "57531             4.00%             0      7   17  2017   Jakarta     Startup  \n",
       "19002           -15.00%             0      2   24  2018   Bandung     Startup  "
      ]
     },
     "execution_count": 3,
     "metadata": {},
     "output_type": "execute_result"
    }
   ],
   "source": [
    "clients = pd.read_csv(\"data/companies.csv\", index_col=0)\n",
    "clients.head()"
   ]
  },
  {
   "cell_type": "markdown",
   "metadata": {},
   "source": [
    "Unlike our previous datasets, `clients` has some formatting inconsistencies by design: The `Returns` column has comma delimiter and the currency (`IDR`) whereas related columns use values that has omitted the separator.\n",
    "\n",
    "Now let's observe its data types:"
   ]
  },
  {
   "cell_type": "code",
   "execution_count": 6,
   "metadata": {},
   "outputs": [
    {
     "data": {
      "text/plain": [
       "Customer Name        object\n",
       "Consulting Sales     object\n",
       "Software Sales       object\n",
       "Forecasted Growth    object\n",
       "Returns              object\n",
       "Month                 int64\n",
       "Day                   int64\n",
       "Year                  int64\n",
       "Location             object\n",
       "Account              object\n",
       "dtype: object"
      ]
     },
     "execution_count": 6,
     "metadata": {},
     "output_type": "execute_result"
    }
   ],
   "source": [
    "clients.dtypes"
   ]
  },
  {
   "cell_type": "markdown",
   "metadata": {},
   "source": [
    "Do you think they have stored as the right types? Can you apply what you have learnt about specifying data type on this new data?"
   ]
  },
  {
   "cell_type": "code",
   "execution_count": null,
   "metadata": {},
   "outputs": [],
   "source": [
    "## Your Code Below:\n"
   ]
  },
  {
   "cell_type": "markdown",
   "metadata": {},
   "source": [
    "If you tried to directly use the `.astype` function on `Consulting Sales` and `Software Sales`, you will most likely get an error.  To perform arithmetic computations on the numeric columns, we have to drop the 'IDR' currency string and treat these columns as numbers. We'll use the built-in `.replace()` method for this.\n",
    "\n",
    "How do we apply that replace function? There are two ways of using this function that I'm going to show. If you're familiar with Regex syntax, the following method might be convenient for you:"
   ]
  },
  {
   "cell_type": "code",
   "execution_count": 11,
   "metadata": {
    "scrolled": false
   },
   "outputs": [
    {
     "data": {
      "text/html": [
       "<div>\n",
       "<style scoped>\n",
       "    .dataframe tbody tr th:only-of-type {\n",
       "        vertical-align: middle;\n",
       "    }\n",
       "\n",
       "    .dataframe tbody tr th {\n",
       "        vertical-align: top;\n",
       "    }\n",
       "\n",
       "    .dataframe thead th {\n",
       "        text-align: right;\n",
       "    }\n",
       "</style>\n",
       "<table border=\"1\" class=\"dataframe\">\n",
       "  <thead>\n",
       "    <tr style=\"text-align: right;\">\n",
       "      <th></th>\n",
       "      <th>Customer Name</th>\n",
       "      <th>Consulting Sales</th>\n",
       "      <th>Software Sales</th>\n",
       "      <th>Forecasted Growth</th>\n",
       "      <th>Returns</th>\n",
       "      <th>Month</th>\n",
       "      <th>Day</th>\n",
       "      <th>Year</th>\n",
       "      <th>Location</th>\n",
       "      <th>Account</th>\n",
       "    </tr>\n",
       "    <tr>\n",
       "      <th>ID</th>\n",
       "      <th></th>\n",
       "      <th></th>\n",
       "      <th></th>\n",
       "      <th></th>\n",
       "      <th></th>\n",
       "      <th></th>\n",
       "      <th></th>\n",
       "      <th></th>\n",
       "      <th></th>\n",
       "      <th></th>\n",
       "    </tr>\n",
       "  </thead>\n",
       "  <tbody>\n",
       "    <tr>\n",
       "      <th>30940</th>\n",
       "      <td>New Media Group</td>\n",
       "      <td>7125000</td>\n",
       "      <td>5500000</td>\n",
       "      <td>30.00%</td>\n",
       "      <td>1500000</td>\n",
       "      <td>1</td>\n",
       "      <td>10</td>\n",
       "      <td>2017</td>\n",
       "      <td>Jakarta</td>\n",
       "      <td>Enterprise</td>\n",
       "    </tr>\n",
       "    <tr>\n",
       "      <th>82391</th>\n",
       "      <td>Li and Partners</td>\n",
       "      <td>420000</td>\n",
       "      <td>820000</td>\n",
       "      <td>10.00%</td>\n",
       "      <td>400000</td>\n",
       "      <td>6</td>\n",
       "      <td>15</td>\n",
       "      <td>2016</td>\n",
       "      <td>Jakarta</td>\n",
       "      <td>Startup</td>\n",
       "    </tr>\n",
       "    <tr>\n",
       "      <th>18374</th>\n",
       "      <td>PT. Kreasi Metrik Solusi</td>\n",
       "      <td>0</td>\n",
       "      <td>550403</td>\n",
       "      <td>25.00%</td>\n",
       "      <td>0</td>\n",
       "      <td>3</td>\n",
       "      <td>29</td>\n",
       "      <td>2012</td>\n",
       "      <td>Surabaya</td>\n",
       "      <td>Enterprise</td>\n",
       "    </tr>\n",
       "    <tr>\n",
       "      <th>57531</th>\n",
       "      <td>PT. Algoritma Data Indonesia</td>\n",
       "      <td>850000</td>\n",
       "      <td>395500</td>\n",
       "      <td>4.00%</td>\n",
       "      <td>0</td>\n",
       "      <td>7</td>\n",
       "      <td>17</td>\n",
       "      <td>2017</td>\n",
       "      <td>Jakarta</td>\n",
       "      <td>Startup</td>\n",
       "    </tr>\n",
       "    <tr>\n",
       "      <th>19002</th>\n",
       "      <td>Palembang Konsultansi</td>\n",
       "      <td>2115000</td>\n",
       "      <td>0</td>\n",
       "      <td>-15.00%</td>\n",
       "      <td>0</td>\n",
       "      <td>2</td>\n",
       "      <td>24</td>\n",
       "      <td>2018</td>\n",
       "      <td>Bandung</td>\n",
       "      <td>Startup</td>\n",
       "    </tr>\n",
       "  </tbody>\n",
       "</table>\n",
       "</div>"
      ],
      "text/plain": [
       "                      Customer Name Consulting Sales Software Sales  \\\n",
       "ID                                                                    \n",
       "30940               New Media Group          7125000        5500000   \n",
       "82391               Li and Partners           420000         820000   \n",
       "18374      PT. Kreasi Metrik Solusi                0         550403   \n",
       "57531  PT. Algoritma Data Indonesia           850000         395500   \n",
       "19002         Palembang Konsultansi          2115000              0   \n",
       "\n",
       "      Forecasted Growth  Returns  Month  Day  Year  Location     Account  \n",
       "ID                                                                        \n",
       "30940            30.00%  1500000      1   10  2017   Jakarta  Enterprise  \n",
       "82391            10.00%   400000      6   15  2016   Jakarta     Startup  \n",
       "18374            25.00%        0      3   29  2012  Surabaya  Enterprise  \n",
       "57531             4.00%        0      7   17  2017   Jakarta     Startup  \n",
       "19002           -15.00%        0      2   24  2018   Bandung     Startup  "
      ]
     },
     "execution_count": 11,
     "metadata": {},
     "output_type": "execute_result"
    }
   ],
   "source": [
    "clients[['Consulting Sales','Software Sales','Returns']]=\\\n",
    "clients[['Consulting Sales','Software Sales','Returns']].replace(\n",
    "    '[^\\d]+', '', \n",
    "    regex=True)\n",
    "clients.head()"
   ]
  },
  {
   "cell_type": "markdown",
   "metadata": {},
   "source": [
    "Another way is to call `.apply(our_function)` on our `DataFrame`. What's interesting is that `our_function` could be any of `python` built-in functions, functions from third-party modules, or it could also be a list of functions. For example, if we want to get both maximum and minimum values of `Month`, `Day` and `Year`: \n"
   ]
  },
  {
   "cell_type": "code",
   "execution_count": 12,
   "metadata": {},
   "outputs": [
    {
     "data": {
      "text/html": [
       "<div>\n",
       "<style scoped>\n",
       "    .dataframe tbody tr th:only-of-type {\n",
       "        vertical-align: middle;\n",
       "    }\n",
       "\n",
       "    .dataframe tbody tr th {\n",
       "        vertical-align: top;\n",
       "    }\n",
       "\n",
       "    .dataframe thead th {\n",
       "        text-align: right;\n",
       "    }\n",
       "</style>\n",
       "<table border=\"1\" class=\"dataframe\">\n",
       "  <thead>\n",
       "    <tr style=\"text-align: right;\">\n",
       "      <th></th>\n",
       "      <th>Month</th>\n",
       "      <th>Day</th>\n",
       "      <th>Year</th>\n",
       "    </tr>\n",
       "  </thead>\n",
       "  <tbody>\n",
       "    <tr>\n",
       "      <th>max</th>\n",
       "      <td>7</td>\n",
       "      <td>29</td>\n",
       "      <td>2019</td>\n",
       "    </tr>\n",
       "    <tr>\n",
       "      <th>min</th>\n",
       "      <td>1</td>\n",
       "      <td>10</td>\n",
       "      <td>2012</td>\n",
       "    </tr>\n",
       "  </tbody>\n",
       "</table>\n",
       "</div>"
      ],
      "text/plain": [
       "     Month  Day  Year\n",
       "max      7   29  2019\n",
       "min      1   10  2012"
      ]
     },
     "execution_count": 12,
     "metadata": {},
     "output_type": "execute_result"
    }
   ],
   "source": [
    "clients[['Month', 'Day', 'Year']].apply([max, min])"
   ]
  },
  {
   "cell_type": "markdown",
   "metadata": {},
   "source": [
    "Back to removing the currency string from `Consulting Sales` and `Software Sales` using `.apply()` and `.replace()`. We could create our own function , name it `removeIDR` for example and then apply it the following way:\n",
    "\n",
    "`clients['Consulting Sales'].apply(removeIDR)`\n",
    "\n",
    "Writing functions is a topic that is more suited for a later time, and students new to the trade of programming in Python will be gradually introduced to this aspect of Python programming.\n",
    "\n",
    "However, given the task at hand, this seems like a reasonable time to introduce **Lambdas**."
   ]
  },
  {
   "cell_type": "code",
   "execution_count": 13,
   "metadata": {
    "run_control": {
     "marked": false
    },
    "scrolled": true
   },
   "outputs": [
    {
     "data": {
      "text/plain": [
       "ID\n",
       "30940    7125000\n",
       "82391     420000\n",
       "18374          0\n",
       "57531     850000\n",
       "19002    2115000\n",
       "31142     960000\n",
       "Name: Consulting Sales, dtype: object"
      ]
     },
     "execution_count": 13,
     "metadata": {},
     "output_type": "execute_result"
    }
   ],
   "source": [
    "clients['Consulting Sales'].replace('[^\\d.]+','',regex=True)"
   ]
  },
  {
   "cell_type": "code",
   "execution_count": 14,
   "metadata": {
    "scrolled": true
   },
   "outputs": [
    {
     "data": {
      "text/html": [
       "<div>\n",
       "<style scoped>\n",
       "    .dataframe tbody tr th:only-of-type {\n",
       "        vertical-align: middle;\n",
       "    }\n",
       "\n",
       "    .dataframe tbody tr th {\n",
       "        vertical-align: top;\n",
       "    }\n",
       "\n",
       "    .dataframe thead th {\n",
       "        text-align: right;\n",
       "    }\n",
       "</style>\n",
       "<table border=\"1\" class=\"dataframe\">\n",
       "  <thead>\n",
       "    <tr style=\"text-align: right;\">\n",
       "      <th></th>\n",
       "      <th>Customer Name</th>\n",
       "      <th>Consulting Sales</th>\n",
       "      <th>Software Sales</th>\n",
       "      <th>Forecasted Growth</th>\n",
       "      <th>Returns</th>\n",
       "      <th>Month</th>\n",
       "      <th>Day</th>\n",
       "      <th>Year</th>\n",
       "      <th>Location</th>\n",
       "      <th>Account</th>\n",
       "    </tr>\n",
       "    <tr>\n",
       "      <th>ID</th>\n",
       "      <th></th>\n",
       "      <th></th>\n",
       "      <th></th>\n",
       "      <th></th>\n",
       "      <th></th>\n",
       "      <th></th>\n",
       "      <th></th>\n",
       "      <th></th>\n",
       "      <th></th>\n",
       "      <th></th>\n",
       "    </tr>\n",
       "  </thead>\n",
       "  <tbody>\n",
       "    <tr>\n",
       "      <th>30940</th>\n",
       "      <td>New Media Group</td>\n",
       "      <td>7125000</td>\n",
       "      <td>5500000</td>\n",
       "      <td>30.00%</td>\n",
       "      <td>1500000</td>\n",
       "      <td>1</td>\n",
       "      <td>10</td>\n",
       "      <td>2017</td>\n",
       "      <td>Jakarta</td>\n",
       "      <td>Enterprise</td>\n",
       "    </tr>\n",
       "    <tr>\n",
       "      <th>82391</th>\n",
       "      <td>Li and Partners</td>\n",
       "      <td>420000</td>\n",
       "      <td>820000</td>\n",
       "      <td>10.00%</td>\n",
       "      <td>400000</td>\n",
       "      <td>6</td>\n",
       "      <td>15</td>\n",
       "      <td>2016</td>\n",
       "      <td>Jakarta</td>\n",
       "      <td>Startup</td>\n",
       "    </tr>\n",
       "    <tr>\n",
       "      <th>18374</th>\n",
       "      <td>PT. Kreasi Metrik Solusi</td>\n",
       "      <td>0</td>\n",
       "      <td>550403</td>\n",
       "      <td>25.00%</td>\n",
       "      <td>0</td>\n",
       "      <td>3</td>\n",
       "      <td>29</td>\n",
       "      <td>2012</td>\n",
       "      <td>Surabaya</td>\n",
       "      <td>Enterprise</td>\n",
       "    </tr>\n",
       "    <tr>\n",
       "      <th>57531</th>\n",
       "      <td>PT. Algoritma Data Indonesia</td>\n",
       "      <td>850000</td>\n",
       "      <td>395500</td>\n",
       "      <td>4.00%</td>\n",
       "      <td>0</td>\n",
       "      <td>7</td>\n",
       "      <td>17</td>\n",
       "      <td>2017</td>\n",
       "      <td>Jakarta</td>\n",
       "      <td>Startup</td>\n",
       "    </tr>\n",
       "    <tr>\n",
       "      <th>19002</th>\n",
       "      <td>Palembang Konsultansi</td>\n",
       "      <td>2115000</td>\n",
       "      <td>0</td>\n",
       "      <td>-15.00%</td>\n",
       "      <td>0</td>\n",
       "      <td>2</td>\n",
       "      <td>24</td>\n",
       "      <td>2018</td>\n",
       "      <td>Bandung</td>\n",
       "      <td>Startup</td>\n",
       "    </tr>\n",
       "  </tbody>\n",
       "</table>\n",
       "</div>"
      ],
      "text/plain": [
       "                      Customer Name Consulting Sales Software Sales  \\\n",
       "ID                                                                    \n",
       "30940               New Media Group          7125000        5500000   \n",
       "82391               Li and Partners           420000         820000   \n",
       "18374      PT. Kreasi Metrik Solusi                0         550403   \n",
       "57531  PT. Algoritma Data Indonesia           850000         395500   \n",
       "19002         Palembang Konsultansi          2115000              0   \n",
       "\n",
       "      Forecasted Growth  Returns  Month  Day  Year  Location     Account  \n",
       "ID                                                                        \n",
       "30940            30.00%  1500000      1   10  2017   Jakarta  Enterprise  \n",
       "82391            10.00%   400000      6   15  2016   Jakarta     Startup  \n",
       "18374            25.00%        0      3   29  2012  Surabaya  Enterprise  \n",
       "57531             4.00%        0      7   17  2017   Jakarta     Startup  \n",
       "19002           -15.00%        0      2   24  2018   Bandung     Startup  "
      ]
     },
     "execution_count": 14,
     "metadata": {},
     "output_type": "execute_result"
    }
   ],
   "source": [
    "clients['Consulting Sales'] = clients['Consulting Sales'].apply(lambda x: x.replace('IDR', ''))\n",
    "clients['Software Sales'] = clients['Software Sales'].apply(lambda x: x.replace('IDR', ''))\n",
    "clients.head()"
   ]
  },
  {
   "cell_type": "markdown",
   "metadata": {},
   "source": [
    "1. Create a new column in the DataFrame and name it `Total Sales`. This column is a sum of `Consulting Sales` and `Software Sales`. Use `head` or `tail` to peek at the resulting data frame to confirm that the output matches your expectation. What is the sum of the `Total Sales` column?\n",
    "    - [ ] 11,470,000\n",
    "    - [ ] 19,238,903\n",
    "    - [ ]  7,768,903\n",
    "\n",
    "\n",
    "2. Which company has the biggest `Total Sales` in 2017?\n",
    "    - [ ] New Media Group\n",
    "    - [ ] PT. Algoritma Data Indonesia\n",
    "    - [ ] Palembang Konsultansi\n",
    "    \n",
    "\n",
    "3. Which are the two companies that has sales exceeding 1,500,000 IDR in the sampled data frame?\n",
    "    - [ ] Palembang Konsultansi & PT. Surya Citra Manajemen\n",
    "    - [ ] PT. Surya Citra Manajemen & New Media Group\n",
    "    - [ ] Palembang Konsultansi & New Media Group\n",
    "    \n",
    "    \n",
    "4. The simplest way to ignore the outliers of sample data and find its central value is by using median instead of mean. By ignoring the outliers of `Total Sales`, what is its central value?\n",
    "    - [ ] 1,354,250\n",
    "    - [ ] 1,515,875\n",
    "    - [ ] 3,737,700\n",
    "    \n",
    "5. If we want to perform subsetting on `clients` by explicitly stating the `ID`, which subsetting method is more appropriate?\n",
    "    - [ ] `clients.loc[57531, ]`\n",
    "    - [ ] `clients.iloc[57531, ]`\n",
    "    - [ ] `clients[57531, ]` "
   ]
  }
 ],
 "metadata": {
  "kernelspec": {
   "display_name": "academy",
   "language": "python",
   "name": "academy"
  },
  "language_info": {
   "codemirror_mode": {
    "name": "ipython",
    "version": 3
   },
   "file_extension": ".py",
   "mimetype": "text/x-python",
   "name": "python",
   "nbconvert_exporter": "python",
   "pygments_lexer": "ipython3",
   "version": "3.7.5"
  },
  "latex_envs": {
   "LaTeX_envs_menu_present": true,
   "autoclose": false,
   "autocomplete": true,
   "bibliofile": "biblio.bib",
   "cite_by": "apalike",
   "current_citInitial": 1,
   "eqLabelWithNumbers": true,
   "eqNumInitial": 1,
   "hotkeys": {
    "equation": "Ctrl-E",
    "itemize": "Ctrl-I"
   },
   "labels_anchors": false,
   "latex_user_defs": false,
   "report_style_numbering": false,
   "user_envs_cfg": false
  },
  "toc": {
   "base_numbering": 1,
   "nav_menu": {},
   "number_sections": true,
   "sideBar": true,
   "skip_h1_title": false,
   "title_cell": "Table of Contents",
   "title_sidebar": "Contents",
   "toc_cell": false,
   "toc_position": {},
   "toc_section_display": true,
   "toc_window_display": false
  }
 },
 "nbformat": 4,
 "nbformat_minor": 2
}
